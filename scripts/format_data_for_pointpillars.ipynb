{
 "cells": [
  {
   "cell_type": "markdown",
   "id": "8bec4358-9013-4730-9e9f-270825cde695",
   "metadata": {},
   "source": [
    "# Format the ARCS data for PointPillars"
   ]
  },
  {
   "cell_type": "code",
   "execution_count": 35,
   "id": "61ca6346-acb9-4603-a988-1920d1b50ce7",
   "metadata": {},
   "outputs": [],
   "source": [
    "import os\n",
    "import random"
   ]
  },
  {
   "cell_type": "markdown",
   "id": "6c46dc32-ce78-43a3-ac11-21a2576b5a42",
   "metadata": {},
   "source": [
    "# Make a test/train/val split lists, save them in image sets"
   ]
  },
  {
   "cell_type": "code",
   "execution_count": 37,
   "id": "f93bce36-ed48-416b-9514-1a44edb083d1",
   "metadata": {},
   "outputs": [],
   "source": [
    "ARCS_LABEL_DIR = '..\\\\data\\\\corrected_labels'\n",
    "ARCS_VELODYNE_DIR = '..\\\\data\\\\velodyne_points'\n",
    "ARCS_IMAGE_DIR = '..\\\\data\\\\image'\n",
    "BASE_PATH = '..\\\\data'"
   ]
  },
  {
   "cell_type": "code",
   "execution_count": 38,
   "id": "69eda1f3-9d38-44c5-98da-38bb49d1b916",
   "metadata": {},
   "outputs": [],
   "source": [
    "def create_directory_tree():\n",
    "    # Define the structure of the directory tree\n",
    "    structure = {\n",
    "        'split_arcs': {\n",
    "            'ImageSets': {},\n",
    "            'testing': {\n",
    "                'calib': {},\n",
    "                'image_2': {},\n",
    "                'label_2': {},\n",
    "                'velodyne': {}\n",
    "            },\n",
    "            'training': {\n",
    "                'calib': {},\n",
    "                'image_2': {},\n",
    "                'label_2': {},\n",
    "                'velodyne': {}\n",
    "            }\n",
    "        }\n",
    "    }\n",
    "    \n",
    "    def create_subdirectories(parent_path, subdirs):\n",
    "        for subdir, children in subdirs.items():\n",
    "            path = os.path.join(parent_path, subdir)\n",
    "            os.makedirs(path, exist_ok=True)  # Create the directory if it doesn't exist\n",
    "            create_subdirectories(path, children)  # Recursively create child directories\n",
    "\n",
    "    # Start creating directories from the base path\n",
    "    create_subdirectories(BASE_PATH, structure)"
   ]
  },
  {
   "cell_type": "code",
   "execution_count": 39,
   "id": "ab9c023f-3fea-4403-a602-0587990da935",
   "metadata": {},
   "outputs": [],
   "source": [
    "# First get a list of file names from labels\n",
    "def get_labels(labels_path):\n",
    "    # List all files in the directory\n",
    "    file_list = [file for file in os.listdir(labels_path) if\n",
    "                 os.path.isfile(os.path.join(labels_path, file))]\n",
    "    return file_list"
   ]
  },
  {
   "cell_type": "code",
   "execution_count": 40,
   "id": "6542694b-f7b3-4df4-9ae3-5a62a68fefef",
   "metadata": {},
   "outputs": [],
   "source": [
    "# Function to save lists to files\n",
    "def save_list_to_file(list_of_files, file_name):\n",
    "    with open(file_name, 'w') as f:\n",
    "        total_items = len(list_of_files)\n",
    "        for index, item in enumerate(list_of_files):\n",
    "            # Split the file name at the dot and take the first part\n",
    "            numeric_part = item.split('.')[0]\n",
    "            if index == total_items - 1:\n",
    "                f.write(numeric_part)  # Write without newline\n",
    "            else:\n",
    "                f.write(\"%s\\n\" % numeric_part)  # Write with newline"
   ]
  },
  {
   "cell_type": "code",
   "execution_count": 41,
   "id": "0bcecd4e-25cb-4116-88d0-8faef6e821aa",
   "metadata": {},
   "outputs": [],
   "source": [
    "# Make a train, val, test split, save lists to arcs/ImageSets\n",
    "def save_train_val_test_splits(label_files_list):\n",
    "    # Shuffle the list to ensure randomness\n",
    "    random.shuffle(label_files_list)\n",
    "\n",
    "    # Define split proportions\n",
    "    train_split = 0.65  # 65% of the data\n",
    "    val_split = 0.2  # 20% of the data\n",
    "    test_split = 0.15  # 15% of the data\n",
    "\n",
    "    # Calculate split sizes\n",
    "    total_files = len(label_files_list)\n",
    "    train_size = int(total_files * train_split)\n",
    "    val_size = int(total_files * val_split)\n",
    "\n",
    "    # Split the dataset\n",
    "    train_files = label_files_list[:train_size]\n",
    "    val_files = label_files_list[train_size:train_size + val_size]\n",
    "    test_files = label_files_list[train_size + val_size:]\n",
    "\n",
    "    # Combine train and val for trainval\n",
    "    trainval_files = train_files + val_files\n",
    "\n",
    "    # Make\n",
    "    root = os.path.join(BASE_PATH, 'split_arcs', 'ImageSets')\n",
    "    os.makedirs(root, exist_ok=True)\n",
    "\n",
    "    # Save to files\n",
    "    save_list_to_file(train_files, os.path.join(root, 'train.txt'))\n",
    "    save_list_to_file(val_files, os.path.join(root, 'val.txt'))\n",
    "    save_list_to_file(test_files, os.path.join(root, 'test.txt'))\n",
    "    save_list_to_file(trainval_files, os.path.join(root, 'trainval.txt'))"
   ]
  },
  {
   "cell_type": "code",
   "execution_count": 42,
   "id": "2b3e35bb-755d-4c7e-93ff-a55e0afd5488",
   "metadata": {},
   "outputs": [],
   "source": [
    "create_directory_tree()\n",
    "label_files_list = get_labels(ARCS_LABEL_DIR)\n",
    "save_train_val_test_splits(label_files_list)"
   ]
  },
  {
   "cell_type": "markdown",
   "id": "5956b8db-dc0a-4e00-9703-fc7f747a71a0",
   "metadata": {},
   "source": [
    "# Using those lists, move/copy the .bin and .txt files to the appropriate folders"
   ]
  },
  {
   "cell_type": "code",
   "execution_count": 44,
   "id": "e6e15f82-a85c-4fb4-9ca1-75db7eca0c69",
   "metadata": {},
   "outputs": [],
   "source": [
    "import shutil"
   ]
  },
  {
   "cell_type": "code",
   "execution_count": 45,
   "id": "31ad5e81-75b6-4e19-9715-9d2a231b5059",
   "metadata": {},
   "outputs": [],
   "source": [
    "def copy_files(label_list_file, list_file_path, label_dest_path, bin_dest_path, image_path_dest, calib_path_dest):\n",
    "    # Image default file source\n",
    "    image_default_src = os.path.join('default_files', 'placeholder.png')\n",
    "    calib_default_src = os.path.join('default_files', 'placeholder_calib.txt')\n",
    "\n",
    "    # Open the file containing the list of files to copy\n",
    "    with open(list_file_path, 'r') as file_list:\n",
    "        for file_name in file_list:\n",
    "            file_name = file_name.strip()  # Remove any leading/trailing whitespace\n",
    "\n",
    "            # Copy labels\n",
    "            txt_file_name = file_name + '.txt'\n",
    "            txt_src_file_path = os.path.join(ARCS_LABEL_DIR, txt_file_name)\n",
    "            txt_dest_file_path = os.path.join(label_dest_path, txt_file_name)\n",
    "            shutil.copy2(txt_src_file_path, txt_dest_file_path)\n",
    "\n",
    "            # Copy velodyne points\n",
    "            bin_file_name = file_name + '.bin'\n",
    "            bin_src_file_path = os.path.join(ARCS_VELODYNE_DIR, bin_file_name)\n",
    "            bin_dest_file_path = os.path.join(bin_dest_path, bin_file_name)\n",
    "            shutil.copy2(bin_src_file_path, bin_dest_file_path)\n",
    "            \n",
    "            # # Then copy a placeholder image\n",
    "            # png_file_name = file_name + '.png'\n",
    "            # png_dest_file_path = os.path.join(image_path_dest, png_file_name)\n",
    "            # shutil.copy(image_default_src, png_dest_file_path)\n",
    "            \n",
    "            # Copy over images\n",
    "            png_file_name = file_name + '.png'\n",
    "            png_src_file_path = os.path.join(ARCS_IMAGE_DIR, png_file_name)\n",
    "            png_dest_file_path = os.path.join(image_path_dest, png_file_name)\n",
    "            shutil.copy(png_src_file_path, png_dest_file_path)\n",
    "\n",
    "            # Copy the calib files\n",
    "            calib_dest_file_path = os.path.join(calib_path_dest, txt_file_name)\n",
    "            shutil.copy(calib_default_src, calib_dest_file_path)"
   ]
  },
  {
   "cell_type": "code",
   "execution_count": 46,
   "id": "6e6fc1ef-24d8-461a-9279-f987cf26043d",
   "metadata": {},
   "outputs": [],
   "source": [
    "def copy_set_up(label_list_file, target_dir):\n",
    "    # Define the source and destination directories for trainval or test files\n",
    "    index_src_path = os.path.join(BASE_PATH, 'split_arcs', 'ImageSets', label_list_file)\n",
    "    label_dest_path = os.path.join(BASE_PATH, 'split_arcs', target_dir, 'label_2')\n",
    "    bin_dest_path = os.path.join(BASE_PATH, 'split_arcs', target_dir, 'velodyne')\n",
    "\n",
    "    image_dest_path = os.path.join(BASE_PATH, 'split_arcs', target_dir, 'image_2')\n",
    "    calib_dest_path = os.path.join(BASE_PATH, 'split_arcs', target_dir, 'calib')\n",
    "    # Make sure directory exists\n",
    "    os.makedirs(label_dest_path, exist_ok=True)\n",
    "    os.makedirs(bin_dest_path, exist_ok=True)\n",
    "    os.makedirs(image_dest_path, exist_ok=True)\n",
    "    os.makedirs(calib_dest_path, exist_ok=True)\n",
    "\n",
    "    # Copy files\n",
    "    copy_files(label_list_file, index_src_path, label_dest_path, bin_dest_path, image_dest_path, calib_dest_path)"
   ]
  },
  {
   "cell_type": "code",
   "execution_count": 47,
   "id": "2bf2dab5-3fc0-4dd3-9d23-623fb7186a0a",
   "metadata": {},
   "outputs": [],
   "source": [
    "def copy_files_to_split_directory():\n",
    "    copy_set_up('test.txt', 'testing')\n",
    "    copy_set_up('trainval.txt', 'training')"
   ]
  },
  {
   "cell_type": "code",
   "execution_count": 48,
   "id": "fd9a5024-f074-4a6a-ac97-b3e118a328c9",
   "metadata": {},
   "outputs": [],
   "source": [
    "copy_files_to_split_directory()"
   ]
  },
  {
   "cell_type": "markdown",
   "id": "8bdfc4e5-7b51-4d8a-afaa-8a1b64e70e47",
   "metadata": {},
   "source": [
    "# Reindex the lists? (May not be necessary)"
   ]
  },
  {
   "cell_type": "markdown",
   "id": "3788b1d9-692e-4c07-96f5-aa3ea562c58c",
   "metadata": {},
   "source": [
    "# Zip"
   ]
  },
  {
   "cell_type": "markdown",
   "id": "fa7e8187-c994-46ca-9937-a4d343d3b165",
   "metadata": {},
   "source": []
  },
  {
   "cell_type": "markdown",
   "id": "623ac5b5-67b2-4ac4-a079-e40e9e7e1a27",
   "metadata": {},
   "source": []
  },
  {
   "cell_type": "code",
   "execution_count": null,
   "id": "6f8cbfeb-0e4c-47ce-941e-426ea15d8613",
   "metadata": {},
   "outputs": [],
   "source": []
  },
  {
   "cell_type": "code",
   "execution_count": null,
   "id": "824620f6-2a9e-436c-9740-1ca27be419e4",
   "metadata": {},
   "outputs": [],
   "source": []
  }
 ],
 "metadata": {
  "kernelspec": {
   "display_name": "Python 3 (ipykernel)",
   "language": "python",
   "name": "python3"
  },
  "language_info": {
   "codemirror_mode": {
    "name": "ipython",
    "version": 3
   },
   "file_extension": ".py",
   "mimetype": "text/x-python",
   "name": "python",
   "nbconvert_exporter": "python",
   "pygments_lexer": "ipython3",
   "version": "3.8.18"
  }
 },
 "nbformat": 4,
 "nbformat_minor": 5
}
