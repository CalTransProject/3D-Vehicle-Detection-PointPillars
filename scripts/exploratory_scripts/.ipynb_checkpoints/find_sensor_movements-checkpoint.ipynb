{
 "cells": [
  {
   "cell_type": "markdown",
   "id": "c1758569-1b19-472b-b894-024120ac4016",
   "metadata": {},
   "source": [
    "# Does the sensor move over the course of the recording?\n",
    "There's sort of a smear, or a jump around the Z axis in the data. I'm going to look at difference parts of the session and see if I can work around the jumps. I think it's making my background filtering worse."
   ]
  },
  {
   "cell_type": "code",
   "execution_count": 29,
   "id": "d6bb67ae-90fe-43c6-8a7b-45468deaa8e1",
   "metadata": {},
   "outputs": [],
   "source": [
    "import os\n",
    "import random\n",
    "import matplotlib.pyplot as plt\n",
    "from mpl_toolkits.mplot3d import Axes3D\n",
    "import numpy as np\n",
    "import pandas as pd"
   ]
  },
  {
   "cell_type": "code",
   "execution_count": 30,
   "id": "b2210ebb-274d-4f2e-9306-a06aeaea87cd",
   "metadata": {},
   "outputs": [],
   "source": [
    "def set_axes_equal(ax):\n",
    "    '''Make axes of 3D plot have equal scale so that spheres appear as spheres,\n",
    "    cubes as cubes, etc..  This is one possible solution to Matplotlib's\n",
    "    ax.set_aspect('equal') and ax.axis('equal') not working for 3D.'''\n",
    "    \n",
    "    x_limits = ax.get_xlim3d()\n",
    "    y_limits = ax.get_ylim3d()\n",
    "    z_limits = ax.get_zlim3d()\n",
    "\n",
    "    x_range = abs(x_limits[1] - x_limits[0])\n",
    "    x_middle = np.mean(x_limits)\n",
    "    y_range = abs(y_limits[1] - y_limits[0])\n",
    "    y_middle = np.mean(y_limits)\n",
    "    z_range = abs(z_limits[1] - z_limits[0])\n",
    "    z_middle = np.mean(z_limits)\n",
    "\n",
    "    # The plot bounding box is a sphere in the sense of the infinity\n",
    "    # norm, hence I call half the max range the 'box size'.\n",
    "    box_size = max([x_range, y_range, z_range]) / 2.0\n",
    "\n",
    "    ax.set_xlim3d([x_middle - box_size, x_middle + box_size])\n",
    "    ax.set_ylim3d([y_middle - box_size, y_middle + box_size])\n",
    "    ax.set_zlim3d([z_middle - box_size, z_middle + box_size])"
   ]
  },
  {
   "cell_type": "markdown",
   "id": "c1e23ba3-1e3f-43e9-aa8b-eb2043b05b7c",
   "metadata": {},
   "source": [
    "## Look at all the frames superimposed on each other"
   ]
  },
  {
   "cell_type": "code",
   "execution_count": 32,
   "id": "e3cf262e-e9e5-4aa5-81fe-0f36a0e11747",
   "metadata": {},
   "outputs": [],
   "source": [
    "# Make a dataframe of all the points\n",
    "def layer_frames(path, start_frame, until_frame, sample_percentage=1.0):\n",
    "    # Initialize a list to store points\n",
    "    all_points = []\n",
    "    \n",
    "    # Generate a list of frame numbers in the given range\n",
    "    frame_numbers = list(range(start_frame, until_frame))\n",
    "    \n",
    "    # Sample the frame numbers based on the sample_percentage\n",
    "    if sample_percentage < 1.0:\n",
    "        # Shuffle the frame numbers\n",
    "        random.shuffle(frame_numbers)\n",
    "        num_samples = int(len(frame_numbers) * sample_percentage)\n",
    "        frame_numbers = frame_numbers[:num_samples]\n",
    "    \n",
    "    # Load data from the shuffled and sampled frames\n",
    "    for frame in frame_numbers:\n",
    "        # Make the frame path\n",
    "        frame_number = str(frame).zfill(6)\n",
    "        frame_path = os.path.join(path, f\"{frame_number}.bin\")\n",
    "        print('.', end='')\n",
    "\n",
    "        # If that frame exists\n",
    "        if os.path.exists(frame_path):\n",
    "            # Load the points\n",
    "            points = np.fromfile(frame_path, dtype=np.float32).reshape(-1, 4)\n",
    "\n",
    "            # Add them to the list\n",
    "            all_points.append(points)\n",
    "    \n",
    "    # Stack all points arrays into one numpy array\n",
    "    if all_points:\n",
    "        all_points = np.vstack(all_points)  # Combine the arrays\n",
    "\n",
    "        # Convert the numpy array to a pandas DataFrame\n",
    "        df = pd.DataFrame(all_points, columns=['X', 'Y', 'Z', 'Intensity'])  # Adjust column names if necessary\n",
    "\n",
    "        return df\n",
    "    else:\n",
    "        return pd.DataFrame()"
   ]
  },
  {
   "cell_type": "code",
   "execution_count": 33,
   "id": "0a7711ea-0b35-40d3-b327-e3c9c9d73424",
   "metadata": {},
   "outputs": [
    {
     "ename": "NameError",
     "evalue": "name 'random' is not defined",
     "output_type": "error",
     "traceback": [
      "\u001b[1;31m---------------------------------------------------------------------------\u001b[0m",
      "\u001b[1;31mNameError\u001b[0m                                 Traceback (most recent call last)",
      "Cell \u001b[1;32mIn[33], line 1\u001b[0m\n\u001b[1;32m----> 1\u001b[0m all_points \u001b[38;5;241m=\u001b[39m layer_frames(\u001b[38;5;124m'\u001b[39m\u001b[38;5;124m../../data/velodyne_points\u001b[39m\u001b[38;5;124m'\u001b[39m, \u001b[38;5;241m0\u001b[39m, \u001b[38;5;241m6500\u001b[39m, sample_percentage\u001b[38;5;241m=\u001b[39m\u001b[38;5;241m0.05\u001b[39m)\n",
      "Cell \u001b[1;32mIn[32], line 12\u001b[0m, in \u001b[0;36mlayer_frames\u001b[1;34m(path, start_frame, until_frame, sample_percentage)\u001b[0m\n\u001b[0;32m      9\u001b[0m \u001b[38;5;66;03m# Sample the frame numbers based on the sample_percentage\u001b[39;00m\n\u001b[0;32m     10\u001b[0m \u001b[38;5;28;01mif\u001b[39;00m sample_percentage \u001b[38;5;241m<\u001b[39m \u001b[38;5;241m1.0\u001b[39m:\n\u001b[0;32m     11\u001b[0m     \u001b[38;5;66;03m# Shuffle the frame numbers\u001b[39;00m\n\u001b[1;32m---> 12\u001b[0m     random\u001b[38;5;241m.\u001b[39mshuffle(frame_numbers)\n\u001b[0;32m     13\u001b[0m     num_samples \u001b[38;5;241m=\u001b[39m \u001b[38;5;28mint\u001b[39m(\u001b[38;5;28mlen\u001b[39m(frame_numbers) \u001b[38;5;241m*\u001b[39m sample_percentage)\n\u001b[0;32m     14\u001b[0m     frame_numbers \u001b[38;5;241m=\u001b[39m frame_numbers[:num_samples]\n",
      "\u001b[1;31mNameError\u001b[0m: name 'random' is not defined"
     ]
    }
   ],
   "source": [
    "all_points = layer_frames('../../data/velodyne_points', 0, 6500, sample_percentage=0.05)"
   ]
  },
  {
   "cell_type": "code",
   "execution_count": null,
   "id": "13965b17-7c26-49ac-90b0-c5b0a036feba",
   "metadata": {},
   "outputs": [],
   "source": [
    "print(all_points)"
   ]
  },
  {
   "cell_type": "code",
   "execution_count": null,
   "id": "e4bffa0b-6d3f-44f4-b436-ca5add30b1b7",
   "metadata": {},
   "outputs": [],
   "source": [
    "# Set up the plot\n",
    "fig = plt.figure(figsize=(40, 40))\n",
    "ax = fig.add_subplot(111, projection='3d')\n",
    "\n",
    "# Plot the point cloud\n",
    "ax.scatter(all_points['X'], all_points['Y'], all_points['Z'], s=0.1, c=all_points['Intensity'], cmap='viridis', marker=',')\n",
    "\n",
    "# Setting the axes properties\n",
    "ax.set_xlabel('X')\n",
    "ax.set_ylabel('Y')\n",
    "ax.set_zlabel('Z')\n",
    "\n",
    "# Adjust the view angle if needed\n",
    "ax.view_init(elev=90, azim=210) # You can change these angles to get a better view\n",
    "\n",
    "# Fix aspect ratio\n",
    "set_axes_equal(ax)\n",
    "\n",
    "plt.show()"
   ]
  },
  {
   "cell_type": "markdown",
   "id": "4b03857c-5d99-4c7d-8c78-aab1e508d9f2",
   "metadata": {},
   "source": [
    "## Look at a smaller number of frames\n",
    "I'll do a casual, visual binary search"
   ]
  },
  {
   "cell_type": "code",
   "execution_count": null,
   "id": "486b37ad-c6d9-475e-84f7-75ebfbad2b3a",
   "metadata": {},
   "outputs": [],
   "source": [
    "first_section = layer_frames('../../data/velodyne_points', 0, 3250, sample_percentage=0.05)"
   ]
  },
  {
   "cell_type": "code",
   "execution_count": null,
   "id": "d7b2a530-1fa5-4d31-a09c-a93ca5497e4e",
   "metadata": {},
   "outputs": [],
   "source": [
    "print(first_section)"
   ]
  },
  {
   "cell_type": "code",
   "execution_count": null,
   "id": "d96b0827-e5ab-403b-b083-defd726a300b",
   "metadata": {},
   "outputs": [],
   "source": [
    "# Set up the plot\n",
    "fig = plt.figure(figsize=(40, 40))\n",
    "ax = fig.add_subplot(111, projection='3d')\n",
    "\n",
    "# Plot the point cloud\n",
    "ax.scatter(first_section['X'], first_section['Y'], first_section['Z'], s=0.1, c=first_section['Intensity'], cmap='viridis', marker=',')\n",
    "\n",
    "# Setting the axes properties\n",
    "ax.set_xlabel('X')\n",
    "ax.set_ylabel('Y')\n",
    "ax.set_zlabel('Z')\n",
    "\n",
    "# Adjust the view angle if needed\n",
    "ax.view_init(elev=90, azim=210) # You can change these angles to get a better view\n",
    "\n",
    "# Fix aspect ratio\n",
    "set_axes_equal(ax)\n",
    "\n",
    "plt.show()"
   ]
  },
  {
   "cell_type": "code",
   "execution_count": null,
   "id": "355b038f-715a-4487-8e9f-3386aeb03eac",
   "metadata": {},
   "outputs": [],
   "source": []
  },
  {
   "cell_type": "code",
   "execution_count": null,
   "id": "d6297720-3bcd-4b9f-95a3-9e978559bcdb",
   "metadata": {},
   "outputs": [],
   "source": []
  },
  {
   "cell_type": "code",
   "execution_count": null,
   "id": "fde460ca-4ef1-4154-ac23-4088f3df9317",
   "metadata": {},
   "outputs": [],
   "source": []
  },
  {
   "cell_type": "code",
   "execution_count": null,
   "id": "59e00224-86ec-47bc-a6cb-a5226689d19e",
   "metadata": {},
   "outputs": [],
   "source": []
  },
  {
   "cell_type": "code",
   "execution_count": null,
   "id": "c0dbca72-0049-45f3-81c5-dfbdd6cd12e5",
   "metadata": {},
   "outputs": [],
   "source": []
  },
  {
   "cell_type": "code",
   "execution_count": null,
   "id": "f8acc869-080c-4a4c-af9c-948dee9e4c60",
   "metadata": {},
   "outputs": [],
   "source": []
  }
 ],
 "metadata": {
  "kernelspec": {
   "display_name": "Python 3 (ipykernel)",
   "language": "python",
   "name": "python3"
  },
  "language_info": {
   "codemirror_mode": {
    "name": "ipython",
    "version": 3
   },
   "file_extension": ".py",
   "mimetype": "text/x-python",
   "name": "python",
   "nbconvert_exporter": "python",
   "pygments_lexer": "ipython3",
   "version": "3.11.9"
  }
 },
 "nbformat": 4,
 "nbformat_minor": 5
}
