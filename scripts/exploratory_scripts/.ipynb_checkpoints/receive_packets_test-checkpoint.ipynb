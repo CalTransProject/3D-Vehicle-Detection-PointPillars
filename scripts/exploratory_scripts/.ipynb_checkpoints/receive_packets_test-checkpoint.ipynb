{
 "cells": [
  {
   "cell_type": "markdown",
   "id": "0aee662e-5c6a-44a3-8697-b5d6bcb7f8ba",
   "metadata": {},
   "source": [
    "# Test Receiving .pcap Playback"
   ]
  },
  {
   "cell_type": "code",
   "execution_count": 8,
   "id": "ee16a7ee-d649-4da2-855f-a082f5491093",
   "metadata": {},
   "outputs": [],
   "source": [
    "from scapy.all import sniff, get_if_list"
   ]
  },
  {
   "cell_type": "code",
   "execution_count": 10,
   "id": "032c7e33-63b3-46e1-b615-8e9e28a29726",
   "metadata": {},
   "outputs": [
    {
     "name": "stdout",
     "output_type": "stream",
     "text": [
      "[]\n"
     ]
    }
   ],
   "source": [
    "print(get_if_list())"
   ]
  },
  {
   "cell_type": "code",
   "execution_count": 20,
   "id": "b64db6f2-f124-4a6c-b42a-29752df66531",
   "metadata": {},
   "outputs": [],
   "source": [
    "def process_packet(packet):\n",
    "    # Replace this with your packet processing logic\n",
    "    print(packet.summary())"
   ]
  },
  {
   "cell_type": "code",
   "execution_count": 24,
   "id": "9d9062d6-e309-47f5-8190-ab8a3e43c0d1",
   "metadata": {},
   "outputs": [
    {
     "ename": "RuntimeError",
     "evalue": "Sniffing and sending packets is not available at layer 2: winpcap is not installed. You may use conf.L3socket orconf.L3socket6 to access layer 3",
     "output_type": "error",
     "traceback": [
      "\u001b[1;31m---------------------------------------------------------------------------\u001b[0m",
      "\u001b[1;31mRuntimeError\u001b[0m                              Traceback (most recent call last)",
      "Cell \u001b[1;32mIn[24], line 2\u001b[0m\n\u001b[0;32m      1\u001b[0m \u001b[38;5;66;03m# Start sniffing\u001b[39;00m\n\u001b[1;32m----> 2\u001b[0m sniff(\n\u001b[0;32m      3\u001b[0m     iface\u001b[38;5;241m=\u001b[39m\u001b[38;5;124m'\u001b[39m\u001b[38;5;124mWi-Fi\u001b[39m\u001b[38;5;124m'\u001b[39m,      \u001b[38;5;66;03m# Replace with your network interface\u001b[39;00m\n\u001b[0;32m      4\u001b[0m     prn\u001b[38;5;241m=\u001b[39mprocess_packet,\n\u001b[0;32m      5\u001b[0m     \u001b[38;5;28mfilter\u001b[39m\u001b[38;5;241m=\u001b[39m\u001b[38;5;124m'\u001b[39m\u001b[38;5;124mudp\u001b[39m\u001b[38;5;124m'\u001b[39m,      \u001b[38;5;66;03m# Adjust the filter as needed\u001b[39;00m\n\u001b[0;32m      6\u001b[0m     store\u001b[38;5;241m=\u001b[39m\u001b[38;5;241m0\u001b[39m            \u001b[38;5;66;03m# Do not store packets in memory\u001b[39;00m\n\u001b[0;32m      7\u001b[0m )\n",
      "File \u001b[1;32m~\\anaconda3\\Lib\\site-packages\\scapy\\sendrecv.py:972\u001b[0m, in \u001b[0;36msniff\u001b[1;34m(*args, **kwargs)\u001b[0m\n\u001b[0;32m    969\u001b[0m \u001b[38;5;129m@conf\u001b[39m\u001b[38;5;241m.\u001b[39mcommands\u001b[38;5;241m.\u001b[39mregister\n\u001b[0;32m    970\u001b[0m \u001b[38;5;28;01mdef\u001b[39;00m \u001b[38;5;21msniff\u001b[39m(\u001b[38;5;241m*\u001b[39margs, \u001b[38;5;241m*\u001b[39m\u001b[38;5;241m*\u001b[39mkwargs):\n\u001b[0;32m    971\u001b[0m     sniffer \u001b[38;5;241m=\u001b[39m AsyncSniffer()\n\u001b[1;32m--> 972\u001b[0m     sniffer\u001b[38;5;241m.\u001b[39m_run(\u001b[38;5;241m*\u001b[39margs, \u001b[38;5;241m*\u001b[39m\u001b[38;5;241m*\u001b[39mkwargs)\n\u001b[0;32m    973\u001b[0m     \u001b[38;5;28;01mreturn\u001b[39;00m sniffer\u001b[38;5;241m.\u001b[39mresults\n",
      "File \u001b[1;32m~\\anaconda3\\Lib\\site-packages\\scapy\\sendrecv.py:841\u001b[0m, in \u001b[0;36mAsyncSniffer._run\u001b[1;34m(self, count, store, offline, prn, lfilter, L2socket, timeout, opened_socket, stop_filter, iface, started_callback, session, session_args, session_kwargs, *arg, **karg)\u001b[0m\n\u001b[0;32m    835\u001b[0m         sniff_sockets\u001b[38;5;241m.\u001b[39mupdate(\n\u001b[0;32m    836\u001b[0m             (L2socket(\u001b[38;5;28mtype\u001b[39m\u001b[38;5;241m=\u001b[39mETH_P_ALL, iface\u001b[38;5;241m=\u001b[39mifname, \u001b[38;5;241m*\u001b[39marg, \u001b[38;5;241m*\u001b[39m\u001b[38;5;241m*\u001b[39mkarg),\n\u001b[0;32m    837\u001b[0m              iflabel)\n\u001b[0;32m    838\u001b[0m             \u001b[38;5;28;01mfor\u001b[39;00m ifname, iflabel \u001b[38;5;129;01min\u001b[39;00m six\u001b[38;5;241m.\u001b[39miteritems(iface)\n\u001b[0;32m    839\u001b[0m         )\n\u001b[0;32m    840\u001b[0m     \u001b[38;5;28;01melse\u001b[39;00m:\n\u001b[1;32m--> 841\u001b[0m         sniff_sockets[L2socket(\u001b[38;5;28mtype\u001b[39m\u001b[38;5;241m=\u001b[39mETH_P_ALL, iface\u001b[38;5;241m=\u001b[39miface,\n\u001b[0;32m    842\u001b[0m                                \u001b[38;5;241m*\u001b[39marg, \u001b[38;5;241m*\u001b[39m\u001b[38;5;241m*\u001b[39mkarg)] \u001b[38;5;241m=\u001b[39m iface\n\u001b[0;32m    844\u001b[0m \u001b[38;5;66;03m# Get select information from the sockets\u001b[39;00m\n\u001b[0;32m    845\u001b[0m _main_socket \u001b[38;5;241m=\u001b[39m \u001b[38;5;28mnext\u001b[39m(\u001b[38;5;28miter\u001b[39m(sniff_sockets))\n",
      "File \u001b[1;32m~\\anaconda3\\Lib\\site-packages\\scapy\\arch\\windows\\__init__.py:1068\u001b[0m, in \u001b[0;36m_NotAvailableSocket.__init__\u001b[1;34m(self, *args, **kargs)\u001b[0m\n\u001b[0;32m   1067\u001b[0m \u001b[38;5;28;01mdef\u001b[39;00m \u001b[38;5;21m__init__\u001b[39m(\u001b[38;5;28mself\u001b[39m, \u001b[38;5;241m*\u001b[39margs, \u001b[38;5;241m*\u001b[39m\u001b[38;5;241m*\u001b[39mkargs):\n\u001b[1;32m-> 1068\u001b[0m     \u001b[38;5;28;01mraise\u001b[39;00m \u001b[38;5;167;01mRuntimeError\u001b[39;00m(\n\u001b[0;32m   1069\u001b[0m         \u001b[38;5;124m\"\u001b[39m\u001b[38;5;124mSniffing and sending packets is not available at layer 2: \u001b[39m\u001b[38;5;124m\"\u001b[39m\n\u001b[0;32m   1070\u001b[0m         \u001b[38;5;124m\"\u001b[39m\u001b[38;5;124mwinpcap is not installed. You may use conf.L3socket or\u001b[39m\u001b[38;5;124m\"\u001b[39m\n\u001b[0;32m   1071\u001b[0m         \u001b[38;5;124m\"\u001b[39m\u001b[38;5;124mconf.L3socket6 to access layer 3\u001b[39m\u001b[38;5;124m\"\u001b[39m\n\u001b[0;32m   1072\u001b[0m     )\n",
      "\u001b[1;31mRuntimeError\u001b[0m: Sniffing and sending packets is not available at layer 2: winpcap is not installed. You may use conf.L3socket orconf.L3socket6 to access layer 3"
     ]
    }
   ],
   "source": [
    "# Start sniffing\n",
    "sniff(\n",
    "    iface='Wi-Fi',      # Replace with your network interface\n",
    "    prn=process_packet,\n",
    "    filter='udp',      # Adjust the filter as needed\n",
    "    store=0            # Do not store packets in memory\n",
    ")"
   ]
  },
  {
   "cell_type": "code",
   "execution_count": 26,
   "id": "83ce5c59-635a-4d73-a2f4-585e4167f626",
   "metadata": {},
   "outputs": [],
   "source": [
    "import socket"
   ]
  },
  {
   "cell_type": "code",
   "execution_count": 28,
   "id": "3a112539-ca5b-4607-9b50-4346dd0d7b0f",
   "metadata": {},
   "outputs": [],
   "source": [
    "def receive_packets():\n",
    "    UDP_IP = '0.0.0.0'        # Listen on all interfaces\n",
    "    UDP_PORT = 2368           # Replace with the port used by Velodyne sensors\n",
    "\n",
    "    sock = socket.socket(socket.AF_INET, socket.SOCK_DGRAM)\n",
    "    sock.bind((UDP_IP, UDP_PORT))\n",
    "\n",
    "    print(f\"Listening on UDP port {UDP_PORT}\")\n",
    "\n",
    "    while True:\n",
    "        data, addr = sock.recvfrom(65535)  # Buffer size is 65535 bytes\n",
    "        # Process the received data\n",
    "        print(f\"Received packet from {addr}: {len(data)} bytes\")\n",
    "        # Add your processing logic here"
   ]
  },
  {
   "cell_type": "code",
   "execution_count": null,
   "id": "64721a37-4a85-461f-89c0-295ae6603aa9",
   "metadata": {},
   "outputs": [
    {
     "name": "stdout",
     "output_type": "stream",
     "text": [
      "Listening on UDP port 2368\n"
     ]
    }
   ],
   "source": [
    "receive_packets()"
   ]
  },
  {
   "cell_type": "code",
   "execution_count": null,
   "id": "21a23ee1-afbc-4678-a2d4-1872cfb0cc25",
   "metadata": {},
   "outputs": [],
   "source": []
  },
  {
   "cell_type": "code",
   "execution_count": null,
   "id": "b27700e9-a771-40e8-980c-b3519603b43d",
   "metadata": {},
   "outputs": [],
   "source": []
  },
  {
   "cell_type": "code",
   "execution_count": null,
   "id": "ffac0cad-0337-43ee-8fa4-be266e0f09db",
   "metadata": {},
   "outputs": [],
   "source": []
  }
 ],
 "metadata": {
  "kernelspec": {
   "display_name": "Python 3 (ipykernel)",
   "language": "python",
   "name": "python3"
  },
  "language_info": {
   "codemirror_mode": {
    "name": "ipython",
    "version": 3
   },
   "file_extension": ".py",
   "mimetype": "text/x-python",
   "name": "python",
   "nbconvert_exporter": "python",
   "pygments_lexer": "ipython3",
   "version": "3.11.9"
  }
 },
 "nbformat": 4,
 "nbformat_minor": 5
}
