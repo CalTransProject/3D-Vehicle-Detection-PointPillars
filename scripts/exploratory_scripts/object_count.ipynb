{
 "cells": [
  {
   "cell_type": "code",
   "execution_count": 1,
   "id": "62b71909-67cc-4d72-8097-c8eb976c99a4",
   "metadata": {},
   "outputs": [],
   "source": [
    "import os\n",
    "import numpy as np\n",
    "from pathlib import Path"
   ]
  },
  {
   "cell_type": "code",
   "execution_count": 2,
   "id": "e7f13051-7ce0-4d37-9c41-c6f54630272c",
   "metadata": {},
   "outputs": [],
   "source": [
    "object_count = dict()"
   ]
  },
  {
   "cell_type": "code",
   "execution_count": 3,
   "id": "c280808c-fb92-475e-b9ca-0c0d88b24d4d",
   "metadata": {},
   "outputs": [],
   "source": [
    "DATA_DIR_ROOT = '../data'"
   ]
  },
  {
   "cell_type": "code",
   "execution_count": 4,
   "id": "b50de826-befe-42f8-a9a4-1c219bccf8cc",
   "metadata": {},
   "outputs": [],
   "source": [
    "def count_labels(label_path):\n",
    "    with open(label_path, 'r') as file:\n",
    "        for line in file:\n",
    "            parts = line.strip().split()\n",
    "            if parts[0] in object_count.keys():\n",
    "                object_count[parts[0]] += 1\n",
    "            else:\n",
    "                object_count[parts[0]] = 1"
   ]
  },
  {
   "cell_type": "code",
   "execution_count": 5,
   "id": "1952a3e6-737b-4a76-b649-e777f0d1128a",
   "metadata": {},
   "outputs": [],
   "source": [
    "# Go into the ARCS data folder\n",
    "labels_dir_path = Path(DATA_DIR_ROOT, 'labels')\n",
    "# For each .txt file\n",
    "for label_file in labels_dir_path.iterdir():\n",
    "    if str(label_file).endswith('.txt'):\n",
    "        # For each label in the file\n",
    "        labels = count_labels(label_file)\n",
    "    "
   ]
  },
  {
   "cell_type": "code",
   "execution_count": 6,
   "id": "e91322fc-ba35-455a-9e87-7f9274a5d7b7",
   "metadata": {},
   "outputs": [
    {
     "name": "stdout",
     "output_type": "stream",
     "text": [
      "{'Car': 6361, 'SUV': 2633, 'Motorcycle': 26, 'Truck': 1648, 'Van': 679}\n"
     ]
    }
   ],
   "source": [
    "print(object_count)"
   ]
  },
  {
   "cell_type": "code",
   "execution_count": null,
   "id": "0a5f48a9-0502-4421-84ba-0ac4acfb9ac1",
   "metadata": {},
   "outputs": [],
   "source": []
  }
 ],
 "metadata": {
  "kernelspec": {
   "display_name": "Python 3 (ipykernel)",
   "language": "python",
   "name": "python3"
  },
  "language_info": {
   "codemirror_mode": {
    "name": "ipython",
    "version": 3
   },
   "file_extension": ".py",
   "mimetype": "text/x-python",
   "name": "python",
   "nbconvert_exporter": "python",
   "pygments_lexer": "ipython3",
   "version": "3.11.9"
  }
 },
 "nbformat": 4,
 "nbformat_minor": 5
}
