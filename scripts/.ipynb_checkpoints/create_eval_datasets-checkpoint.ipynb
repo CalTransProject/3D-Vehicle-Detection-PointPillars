{
 "cells": [
  {
   "cell_type": "markdown",
   "id": "2004f76a-325d-4576-a3b7-c94dd7395e4c",
   "metadata": {},
   "source": [
    "# Make evaluation dataset from ARCS and two ARCS filtered datasets"
   ]
  },
  {
   "cell_type": "markdown",
   "id": "b393bc12-a781-4145-b82d-a73b6606b8b4",
   "metadata": {},
   "source": [
    "The label filtered ARCS dataset only has 1,145 frames. I'm going to take those same frames from each of the other dataset, and use those to compare the performance of pointpillars"
   ]
  },
  {
   "cell_type": "code",
   "execution_count": 16,
   "id": "acb704d3-6b28-4ef0-9c17-1eddba3e1464",
   "metadata": {},
   "outputs": [],
   "source": [
    "# Libraries\n",
    "import numpy as np\n",
    "import os\n",
    "import shutil\n",
    "from pathlib import Path"
   ]
  },
  {
   "cell_type": "code",
   "execution_count": 17,
   "id": "cee7830e-25d2-40cd-b139-f568d802cefc",
   "metadata": {},
   "outputs": [],
   "source": [
    "ARCS_LABEL_DIR = '..\\\\data\\\\pillar_pred_format_labels'\n",
    "ARCS_VELODYNE_DIR = '..\\\\data\\\\velodyne_points'\n",
    "ARCS_FILTERED_DIR = '..\\\\data\\\\filtered_points'\n",
    "ARCS_LABEL_FILTERED_DIR = '..\\\\data\\\\label_filtered_points'\n",
    "BASE_PATH = '..\\\\data'"
   ]
  },
  {
   "cell_type": "code",
   "execution_count": 18,
   "id": "8c23701c-eeea-41ea-8009-ab2581f8f8d2",
   "metadata": {},
   "outputs": [],
   "source": [
    "def create_directory_tree():\n",
    "    # Define the structure of the directory tree\n",
    "    structure = {\n",
    "        'eval_data': {\n",
    "            'arcs': {},\n",
    "            'arcs_azimuth_filtered': {},\n",
    "            'arcs_label_filtered': {},\n",
    "            'labels': {}\n",
    "        }\n",
    "    }\n",
    "    \n",
    "    def create_subdirectories(parent_path, subdirs):\n",
    "        for subdir, children in subdirs.items():\n",
    "            path = os.path.join(parent_path, subdir)\n",
    "            os.makedirs(path, exist_ok=True)  # Create the directory if it doesn't exist\n",
    "            create_subdirectories(path, children)  # Recursively create child directories\n",
    "\n",
    "    # Start creating directories from the base path\n",
    "    create_subdirectories(BASE_PATH, structure)"
   ]
  },
  {
   "cell_type": "code",
   "execution_count": 19,
   "id": "9f44b1ea-a698-4193-9865-4af7094d6c1b",
   "metadata": {},
   "outputs": [],
   "source": [
    "def copy_select_data(index_list, source_dir, target_dir, extension):\n",
    "    for index in index_list:\n",
    "        file_name = index + extension\n",
    "        source_file = Path(source_dir, file_name)\n",
    "        target_file = Path(target_dir, file_name)\n",
    "        shutil.copy2(source_file, target_file)"
   ]
  },
  {
   "cell_type": "code",
   "execution_count": 20,
   "id": "14223e78-6434-4950-be59-15b7c7e2afb9",
   "metadata": {},
   "outputs": [
    {
     "name": "stdout",
     "output_type": "stream",
     "text": [
      ".........................................................................................................................................................................................................................................................................................................................................................................................................................................................................................................................................................................................................................................................................................................................................................................................................................................................................................................................................................................................................................................................................................................................................................................................................................................................................................................................................................................................................................................................................................................................................................................................................................................................................................................................................................................................................................................................................................................................................................................................................................................................................................................................................................................................................................................................................................................................................................................................................................................................................................................................................................................................................................................................................................................................................................................................................................................................................................................................................................................................................................................................................................................................................................................................................................................................................................................................................................................................................................................................................................................................................................................................................................................................................................................................................................................................................................................................................................................................................................................................................................................................................................................................................................................................................................................................................................................................................................................................................................................................................................................................................................................................................................................................................................................................................................................................................................................................................Copying labels\n",
      "Copying unfiltered\n",
      "Copying filtered data\n",
      "Copying label filtered data\n"
     ]
    }
   ],
   "source": [
    "# Create folder for eval dataset\n",
    "create_directory_tree()\n",
    "# Go through each of the frames in the label filtered data, get the file ids we want for the dataset\n",
    "label_filtered_dir = Path(ARCS_LABEL_FILTERED_DIR)\n",
    "good_indices = []\n",
    "\n",
    "for label_file in label_filtered_dir.iterdir():\n",
    "    if str(label_file).endswith('.bin'):\n",
    "        print('.', end='')\n",
    "\n",
    "        filename = os.path.basename(label_file)\n",
    "        # Split the filename from the extension ('006428', '.txt')\n",
    "        file_id, extension = os.path.splitext(filename)\n",
    "        # Add the file id to the list\n",
    "        good_indices.append(file_id)\n",
    "\n",
    "# Copy the data over from larger dataset to the eval dataset\n",
    "print('Copying labels')\n",
    "copy_select_data(good_indices, Path(ARCS_LABEL_DIR), Path(BASE_PATH, 'eval_data', 'labels'), '.txt')\n",
    "print('Copying unfiltered')\n",
    "copy_select_data(good_indices, Path(ARCS_VELODYNE_DIR), Path(BASE_PATH, 'eval_data', 'arcs'), '.bin')\n",
    "print('Copying filtered data')\n",
    "copy_select_data(good_indices, Path(ARCS_FILTERED_DIR), Path(BASE_PATH, 'eval_data', 'arcs_azimuth_filtered'), '.bin')\n",
    "print('Copying label filtered data')\n",
    "copy_select_data(good_indices, Path(ARCS_LABEL_FILTERED_DIR), Path(BASE_PATH, 'eval_data', 'arcs_label_filtered'), '.bin')"
   ]
  }
 ],
 "metadata": {
  "kernelspec": {
   "display_name": "Python 3 (ipykernel)",
   "language": "python",
   "name": "python3"
  },
  "language_info": {
   "codemirror_mode": {
    "name": "ipython",
    "version": 3
   },
   "file_extension": ".py",
   "mimetype": "text/x-python",
   "name": "python",
   "nbconvert_exporter": "python",
   "pygments_lexer": "ipython3",
   "version": "3.11.9"
  }
 },
 "nbformat": 4,
 "nbformat_minor": 5
}
