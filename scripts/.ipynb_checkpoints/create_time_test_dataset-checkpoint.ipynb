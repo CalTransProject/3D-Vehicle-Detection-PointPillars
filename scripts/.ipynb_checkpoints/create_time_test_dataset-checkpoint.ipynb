{
 "cells": [
  {
   "cell_type": "markdown",
   "id": "82100d42-ef5c-464b-98a2-d65a4ace066f",
   "metadata": {},
   "source": [
    "# Make azimuth/height/distance bin files for filter time tests"
   ]
  },
  {
   "cell_type": "code",
   "execution_count": 69,
   "id": "d85252e6-e003-4598-af69-bacb319ae151",
   "metadata": {},
   "outputs": [],
   "source": [
    "import itertools\n",
    "import os\n",
    "from pathlib import Path\n",
    "import pandas as pd\n",
    "import numpy as np"
   ]
  },
  {
   "cell_type": "code",
   "execution_count": 70,
   "id": "5fee22be-e9a6-4a3d-843d-a2de5e424798",
   "metadata": {},
   "outputs": [],
   "source": [
    "def convert_to_dataframe(bin_path):\n",
    "    pre_filtered_data = np.fromfile(bin_path, dtype=np.float32).reshape(-1, 4) \n",
    "    columns = ['x', 'y', 'z', 'intensity']\n",
    "    df = pd.DataFrame(pre_filtered_data, columns=columns)\n",
    "    return df"
   ]
  },
  {
   "cell_type": "code",
   "execution_count": 71,
   "id": "3a0d52d0-71b5-488b-9ca7-3f708b3c184c",
   "metadata": {},
   "outputs": [],
   "source": [
    "def convert_result_to_dataframe(bin_path):\n",
    "    pre_filtered_data = np.fromfile(bin_path, dtype=np.float32).reshape(-1, 5) \n",
    "    columns = ['x', 'y', 'z', 'intensity', 'elevation']\n",
    "    df = pd.DataFrame(pre_filtered_data, columns=columns)\n",
    "    return df"
   ]
  },
  {
   "cell_type": "code",
   "execution_count": 72,
   "id": "b7173f83-7905-46e5-9131-5f64634bfa7f",
   "metadata": {},
   "outputs": [],
   "source": [
    "def add_elevation(file_path):\n",
    "    xyz_format_df = convert_to_dataframe(file_path)\n",
    "\n",
    "    # ahd_format_df = pd.DataFrame() \n",
    "\n",
    "    x, y, z, intensity = xyz_format_df['x'], xyz_format_df['y'], xyz_format_df['z'], xyz_format_df['intensity']\n",
    "\n",
    "    # Calculate distance, azimuth, and height\n",
    "    # distance = np.sqrt(x**2 + y**2 + z**2)\n",
    "    # azimuth = np.degrees(np.arctan2(y, x))\n",
    "    elevation = np.degrees(np.arctan2(z, np.sqrt(x**2 + y**2)))\n",
    "    \n",
    "    # xyz_format_df['distance'] = distance\n",
    "    # xyz_format_df['azimuth'] = azimuth\n",
    "    xyz_format_df['elevation'] = elevation\n",
    "    # xyz_format_df['intensity'] = intensity\n",
    "\n",
    "    return xyz_format_df"
   ]
  },
  {
   "cell_type": "code",
   "execution_count": 73,
   "id": "84ea628f-cd61-4c7a-b8b7-37fb75a7c9c8",
   "metadata": {},
   "outputs": [],
   "source": [
    "def save_as_binary(df, bin_path):\n",
    "    try:\n",
    "        # Ensure the DataFrame is in the correct order and data type\n",
    "        data = df[['x', 'y', 'z', 'intensity', 'elevation']].astype(np.float32).values\n",
    "        \n",
    "        # Write the data to a binary file\n",
    "        data.tofile(bin_path)\n",
    "    except:\n",
    "        print('could not save :' + str(bin_path))"
   ]
  },
  {
   "cell_type": "code",
   "execution_count": 74,
   "id": "6842cc08-e8f7-4d09-8c29-98a1d9e9ed95",
   "metadata": {},
   "outputs": [],
   "source": [
    "def get_azimuth_height_distance_format(xyz_dir, eh_dir):\n",
    "    xyz_dir_path = Path(xyz_dir)\n",
    "    \n",
    "    # Make sure taget destination exists\n",
    "    eh_dir_path = Path(eh_dir)\n",
    "    os.makedirs(eh_dir_path, exist_ok=True)\n",
    "\n",
    "    # For each file in source path\n",
    "    for label_file in xyz_dir_path.iterdir():\n",
    "    # for label_file in itertools.islice(xyz_dir_path.iterdir(), 1):\n",
    "        if str(label_file).endswith('.bin'):\n",
    "            print('.', end='')\n",
    "            # Convert the file to azimuth, height, distance format\n",
    "            eh_format_df = add_elevation(label_file)\n",
    "\n",
    "            # Create the target file name\n",
    "            filename = os.path.basename(label_file)\n",
    "            # Add the file id to the list\n",
    "            save_path = Path(eh_dir_path, filename)\n",
    "            # Save the file in the target directory\n",
    "            save_as_binary(eh_format_df, save_path)"
   ]
  },
  {
   "cell_type": "code",
   "execution_count": 75,
   "id": "d5dce952-21a8-4c42-982d-8c5f6f5ccd09",
   "metadata": {},
   "outputs": [],
   "source": [
    "xyz_dir_path = '../data/velodyne_points'\n",
    "eh_dir_path = '../data/elevation_height_points'"
   ]
  },
  {
   "cell_type": "code",
   "execution_count": 76,
   "id": "9abfc09a-3e4e-4872-b517-3ea892a783c0",
   "metadata": {},
   "outputs": [
    {
     "name": "stdout",
     "output_type": "stream",
     "text": [
      ".."
     ]
    }
   ],
   "source": [
    "# Convert data from x, y, z format to azimuth, height, distance format\n",
    "get_azimuth_height_distance_format(xyz_dir_path, eh_dir_path)"
   ]
  },
  {
   "cell_type": "code",
   "execution_count": 77,
   "id": "9ad5284d-9bda-4b11-ad86-5716d9008611",
   "metadata": {},
   "outputs": [
    {
     "name": "stdout",
     "output_type": "stream",
     "text": [
      "              x          y         z  intensity  elevation\n",
      "0      2.080619  74.024422  6.045381   0.109804   4.667000\n",
      "1      2.083527  75.060799  3.059234   0.149020   2.333000\n",
      "2     -7.004673  99.423363  2.900676   0.168627   1.667000\n",
      "3     -2.141032  98.122086  2.283789   0.109804   1.333000\n",
      "4      2.064527  75.324242  1.315283   0.152941   1.000000\n",
      "...         ...        ...       ...        ...        ...\n",
      "52508  0.399636  16.236044 -2.067264   0.031373  -7.254002\n",
      "52509 -0.318671  13.039204 -2.029202   0.043137  -8.842998\n",
      "52510  0.242740   9.932276 -1.987061   0.054902 -11.310002\n",
      "52511 -0.181606   7.378039 -2.066026   0.050980 -15.639001\n",
      "52512  0.100755   4.182303 -1.950806   0.152941 -25.000004\n",
      "\n",
      "[52513 rows x 5 columns]\n"
     ]
    }
   ],
   "source": [
    "# Read one file to test\n",
    "test_path = Path(eh_dir_path)\n",
    "test_file = list(test_path.iterdir())[0]\n",
    "test_df = convert_result_to_dataframe(test_file)\n",
    "print(test_df)"
   ]
  }
 ],
 "metadata": {
  "kernelspec": {
   "display_name": "Python 3 (ipykernel)",
   "language": "python",
   "name": "python3"
  },
  "language_info": {
   "codemirror_mode": {
    "name": "ipython",
    "version": 3
   },
   "file_extension": ".py",
   "mimetype": "text/x-python",
   "name": "python",
   "nbconvert_exporter": "python",
   "pygments_lexer": "ipython3",
   "version": "3.11.9"
  }
 },
 "nbformat": 4,
 "nbformat_minor": 5
}
