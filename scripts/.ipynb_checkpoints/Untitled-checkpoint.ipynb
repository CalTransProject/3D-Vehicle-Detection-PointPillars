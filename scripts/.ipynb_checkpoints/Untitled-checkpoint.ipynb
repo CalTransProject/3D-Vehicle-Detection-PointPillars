{
 "cells": [
  {
   "cell_type": "markdown",
   "id": "82100d42-ef5c-464b-98a2-d65a4ace066f",
   "metadata": {},
   "source": [
    "# Filter using one frame\n",
    "That doesn't have a lot of cars in it"
   ]
  },
  {
   "cell_type": "code",
   "execution_count": null,
   "id": "d85252e6-e003-4598-af69-bacb319ae151",
   "metadata": {},
   "outputs": [],
   "source": []
  },
  {
   "cell_type": "code",
   "execution_count": null,
   "id": "207959cd-988b-43ec-bee3-8fe37d0e22a1",
   "metadata": {},
   "outputs": [],
   "source": []
  },
  {
   "cell_type": "code",
   "execution_count": null,
   "id": "3a0d52d0-71b5-488b-9ca7-3f708b3c184c",
   "metadata": {},
   "outputs": [],
   "source": []
  },
  {
   "cell_type": "code",
   "execution_count": null,
   "id": "5fee22be-e9a6-4a3d-843d-a2de5e424798",
   "metadata": {},
   "outputs": [],
   "source": []
  },
  {
   "cell_type": "code",
   "execution_count": null,
   "id": "b7173f83-7905-46e5-9131-5f64634bfa7f",
   "metadata": {},
   "outputs": [],
   "source": []
  },
  {
   "cell_type": "code",
   "execution_count": null,
   "id": "84ea628f-cd61-4c7a-b8b7-37fb75a7c9c8",
   "metadata": {},
   "outputs": [],
   "source": []
  },
  {
   "cell_type": "code",
   "execution_count": null,
   "id": "6842cc08-e8f7-4d09-8c29-98a1d9e9ed95",
   "metadata": {},
   "outputs": [],
   "source": []
  },
  {
   "cell_type": "code",
   "execution_count": null,
   "id": "d5dce952-21a8-4c42-982d-8c5f6f5ccd09",
   "metadata": {},
   "outputs": [],
   "source": []
  },
  {
   "cell_type": "code",
   "execution_count": null,
   "id": "9abfc09a-3e4e-4872-b517-3ea892a783c0",
   "metadata": {},
   "outputs": [],
   "source": [
    "# Filter and save each filtered frame\n",
    "save_dir = Path(DATA_DIR_ROOT, 'single_frame_filtered_points')\n",
    "filter_frames(lidar_dir, save_dir, background_distance_lookup_table)"
   ]
  }
 ],
 "metadata": {
  "kernelspec": {
   "display_name": "Python 3 (ipykernel)",
   "language": "python",
   "name": "python3"
  },
  "language_info": {
   "codemirror_mode": {
    "name": "ipython",
    "version": 3
   },
   "file_extension": ".py",
   "mimetype": "text/x-python",
   "name": "python",
   "nbconvert_exporter": "python",
   "pygments_lexer": "ipython3",
   "version": "3.11.9"
  }
 },
 "nbformat": 4,
 "nbformat_minor": 5
}
