{
 "cells": [
  {
   "cell_type": "markdown",
   "id": "6b4776e9-4de5-4d6f-bed9-bf1d8d0c62f3",
   "metadata": {},
   "source": [
    "# Correct the ARCS labels"
   ]
  },
  {
   "cell_type": "markdown",
   "id": "5bdf0ae7-62c7-444e-8224-9c914eb4b444",
   "metadata": {},
   "source": [
    "The labels from the KITTI data I downloaded were in the format:<br>\n",
    "dz, dy, dx, x, y, z, yaw<br>\n",
    "The ARCS labels seemed to be in the order:<br>\n",
    "dz, dy, dx, x, z, y, yaw<br>\n",
    "And the x, z, y coordinates were rotated 90 degrees counterclockwise. I'm going to make a second set of labels that is in the same format as KITTI."
   ]
  },
  {
   "cell_type": "markdown",
   "id": "74ec9dc1-2574-4ec3-a7e2-228b3196a55e",
   "metadata": {},
   "source": [
    "Interesting. So right off the bat, my function is plotting the bounding boxes in a different spot that the point clouds (I'm working with lidar). I think this is because of how the previous person converted the data from the labeler. Will you be able to help me correct the labels?\r\n",
    "\r\n",
    "So I have a bunch of .txt files and each one corresponds to a lidar frame. They look like this:\r\n",
    "Car 0.00 0 -2.49 0.00 0.00 0.00 0.00 1.97 2.74 5.16 -29.63 -1.78 0.27 0.50\r\n",
    "Car 0.00 0 -2.66 0.00 0.00 0.00 0.00 2.02 2.71 4.95 -30.38 -0.21 26.84 5.20\r\n",
    "Car 0.00 0 -2.65 0.00 0.00 0.00 0.00 2.13 2.48 5.36 -28.66 -0.11 29.51 5.21\r\n",
    "Motorcycle 0.00 0 2.22 0.00 0.00 0.00 0.00 1.30 1.19 2.58 6.27 0.43 24.76 3.77\r\n",
    "\r\n",
    "So, I basically ignore the first 8 values (the type of car and the 7 numerical values) when I'm just drawing 3d bounding boxes."
   ]
  },
  {
   "cell_type": "markdown",
   "id": "70d3b484-e447-4721-aa2d-d21372f33259",
   "metadata": {},
   "source": [
    "## ACTUALLY- THE DIFFERENCE BETWEEN ARCS AND KITTI (not the raw data I was working with) IS A NEGATIVE YAW, so I'll just do that."
   ]
  },
  {
   "cell_type": "code",
   "execution_count": 21,
   "id": "910f8db8-9000-4429-9d3f-293fdfba7d81",
   "metadata": {},
   "outputs": [],
   "source": [
    "import os\n",
    "import numpy as np\n",
    "from pathlib import Path"
   ]
  },
  {
   "cell_type": "code",
   "execution_count": 22,
   "id": "478a69ec-13db-40b9-be2b-fa67cb2e9cf6",
   "metadata": {},
   "outputs": [],
   "source": [
    "DATA_DIR_ROOT = '../data'"
   ]
  },
  {
   "cell_type": "code",
   "execution_count": 23,
   "id": "1a106620-58ac-4feb-b3e1-f009659ac907",
   "metadata": {},
   "outputs": [],
   "source": [
    "def get_labels(label_path):\n",
    "    labels = []\n",
    "    with open(label_path, 'r') as file:\n",
    "        for line in file:\n",
    "            parts = line.strip().split()\n",
    "            bbox = []\n",
    "            bbox.append(parts[0])\n",
    "            bbox = bbox + [float(value) for value in parts[1:15]]  # Extract the bounding box dimensions and location\n",
    "            labels.append(bbox)\n",
    "    return np.array(labels)"
   ]
  },
  {
   "cell_type": "code",
   "execution_count": 24,
   "id": "4d68851f-31f7-483e-856f-f5d0a3b818e2",
   "metadata": {},
   "outputs": [],
   "source": [
    "def save_labels(label_path, labels):\n",
    "    with open(label_path, 'w') as file:\n",
    "        for label in labels:\n",
    "            # Join each element of the label list with a space and write to the file\n",
    "            file.write(' '.join(map(str, label)) + '\\n')"
   ]
  },
  {
   "cell_type": "code",
   "execution_count": 25,
   "id": "65a71abb-d742-4ba0-89e3-9ee34cb4d5eb",
   "metadata": {},
   "outputs": [
    {
     "name": "stdout",
     "output_type": "stream",
     "text": [
      "[]\n",
      "[]\n",
      "[]\n",
      "[]\n",
      "[]\n",
      "[]\n",
      "[]\n",
      "[]\n",
      "[['Car' '0.0' '0.0' '2.43' '0.0' '0.0' '0.0' '0.0' '1.94' '2.73' '4.49'\n",
      "  '-27.1' '-2.09' '-6.66' '0.55']]\n"
     ]
    },
    {
     "ename": "TypeError",
     "evalue": "bad operand type for unary -: 'numpy.str_'",
     "output_type": "error",
     "traceback": [
      "\u001b[1;31m---------------------------------------------------------------------------\u001b[0m",
      "\u001b[1;31mTypeError\u001b[0m                                 Traceback (most recent call last)",
      "Cell \u001b[1;32mIn[25], line 22\u001b[0m\n\u001b[0;32m     20\u001b[0m \u001b[38;5;28mprint\u001b[39m(labels)\n\u001b[0;32m     21\u001b[0m \u001b[38;5;28;01mfor\u001b[39;00m label \u001b[38;5;129;01min\u001b[39;00m labels:\n\u001b[1;32m---> 22\u001b[0m     label[\u001b[38;5;241m-\u001b[39m\u001b[38;5;241m1\u001b[39m] \u001b[38;5;241m=\u001b[39m \u001b[38;5;241m-\u001b[39mlabel[\u001b[38;5;241m-\u001b[39m\u001b[38;5;241m1\u001b[39m]\n\u001b[0;32m     23\u001b[0m \u001b[38;5;66;03m# Save the new labels to a new file in the corrected ARCS data folder\u001b[39;00m\n\u001b[0;32m     24\u001b[0m save_labels(new_file_location, labels)\n",
      "\u001b[1;31mTypeError\u001b[0m: bad operand type for unary -: 'numpy.str_'"
     ]
    }
   ],
   "source": [
    "# Go into the ARCS data folder\n",
    "labels_dir_path = Path(DATA_DIR_ROOT, 'labels')\n",
    "# Create correct ARCS data folder\n",
    "corrected_dir_labels_path = Path(DATA_DIR_ROOT, 'corrected_labels')\n",
    "corrected_dir_labels_path.mkdir(exist_ok=True)\n",
    "# For each .txt file\n",
    "for label_file in labels_dir_path.iterdir():\n",
    "    if str(label_file).endswith('.txt'):\n",
    "        # Get the names of the file\n",
    "        # Get the base filename ('006428.txt')\n",
    "        filename = os.path.basename(label_file)\n",
    "        # Split the filename from the extension ('006428', '.txt')\n",
    "        file_id, extension = os.path.splitext(filename)\n",
    "        new_file_location = Path(corrected_dir_labels_path, filename)\n",
    "        \n",
    "        # Make a list of corrected labels\n",
    "        corrected_labels_list = []\n",
    "        # For each label in the file\n",
    "        labels = get_labels(label_file)\n",
    "        print(labels)\n",
    "        for label in labels:\n",
    "            label[-1] = str(-float(label[-1]))\n",
    "        # Save the new labels to a new file in the corrected ARCS data folder\n",
    "        save_labels(new_file_location, labels)\n",
    "    "
   ]
  },
  {
   "cell_type": "code",
   "execution_count": null,
   "id": "49eb6ccd-ddc4-4551-9bad-7de84ba97a64",
   "metadata": {},
   "outputs": [],
   "source": []
  },
  {
   "cell_type": "code",
   "execution_count": null,
   "id": "1840a21a-9a03-435d-9eb2-f36eb473db1d",
   "metadata": {},
   "outputs": [],
   "source": []
  }
 ],
 "metadata": {
  "kernelspec": {
   "display_name": "Python 3 (ipykernel)",
   "language": "python",
   "name": "python3"
  },
  "language_info": {
   "codemirror_mode": {
    "name": "ipython",
    "version": 3
   },
   "file_extension": ".py",
   "mimetype": "text/x-python",
   "name": "python",
   "nbconvert_exporter": "python",
   "pygments_lexer": "ipython3",
   "version": "3.11.9"
  }
 },
 "nbformat": 4,
 "nbformat_minor": 5
}
