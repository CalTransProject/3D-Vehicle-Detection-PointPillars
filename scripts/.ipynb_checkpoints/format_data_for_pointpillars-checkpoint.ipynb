{
 "cells": [
  {
   "cell_type": "markdown",
   "id": "8bec4358-9013-4730-9e9f-270825cde695",
   "metadata": {},
   "source": [
    "# Format the ARCS data for PointPillars"
   ]
  },
  {
   "cell_type": "code",
   "execution_count": 88,
   "id": "61ca6346-acb9-4603-a988-1920d1b50ce7",
   "metadata": {},
   "outputs": [],
   "source": [
    "import os\n",
    "import random"
   ]
  },
  {
   "cell_type": "markdown",
   "id": "6c46dc32-ce78-43a3-ac11-21a2576b5a42",
   "metadata": {},
   "source": [
    "# Make a test/train/val split lists, save them in image sets"
   ]
  },
  {
   "cell_type": "code",
   "execution_count": 90,
   "id": "f93bce36-ed48-416b-9514-1a44edb083d1",
   "metadata": {},
   "outputs": [],
   "source": [
    "ARCS_LABEL_DIR = '..\\\\data\\\\corrected_labels'\n",
    "BASE_PATH = '..\\\\data'"
   ]
  },
  {
   "cell_type": "code",
   "execution_count": 91,
   "id": "69eda1f3-9d38-44c5-98da-38bb49d1b916",
   "metadata": {},
   "outputs": [],
   "source": [
    "def create_directory_tree():\n",
    "    # Define the structure of the directory tree\n",
    "    # structure = {\n",
    "    #     'ImageSets': {},\n",
    "    #     'testing': {\n",
    "    #         'calib': {},\n",
    "    #         'image_2': {},\n",
    "    #         'label_2': {},\n",
    "    #         'velodyne': {}\n",
    "    #     },\n",
    "    #     'training': {\n",
    "    #         'calib': {},\n",
    "    #         'image_2': {},\n",
    "    #         'label_2': {},\n",
    "    #         'velodyne': {}\n",
    "    #     }\n",
    "    # }\n",
    "\n",
    "    structure = {\n",
    "        'split_arcs': {\n",
    "            'ImageSets': {},\n",
    "            'testing': {\n",
    "                'calib': {},\n",
    "                'image_2': {},\n",
    "                'label_2': {},\n",
    "                'velodyne': {}\n",
    "            },\n",
    "            'training': {\n",
    "                'calib': {},\n",
    "                'image_2': {},\n",
    "                'label_2': {},\n",
    "                'velodyne': {}\n",
    "            }\n",
    "        }\n",
    "    }\n",
    "    \n",
    "    def create_subdirectories(parent_path, subdirs):\n",
    "        for subdir, children in subdirs.items():\n",
    "            path = os.path.join(parent_path, subdir)\n",
    "            os.makedirs(path, exist_ok=True)  # Create the directory if it doesn't exist\n",
    "            create_subdirectories(path, children)  # Recursively create child directories\n",
    "\n",
    "    # Start creating directories from the base path\n",
    "    create_subdirectories(BASE_PATH, structure)"
   ]
  },
  {
   "cell_type": "code",
   "execution_count": 92,
   "id": "ab9c023f-3fea-4403-a602-0587990da935",
   "metadata": {},
   "outputs": [],
   "source": [
    "# First get a list of file names from labels\n",
    "def get_labels(labels_path):\n",
    "    # List all files in the directory\n",
    "    file_list = [file for file in os.listdir(labels_path) if\n",
    "                 os.path.isfile(os.path.join(labels_path, file))]\n",
    "    return file_list"
   ]
  },
  {
   "cell_type": "code",
   "execution_count": 93,
   "id": "6542694b-f7b3-4df4-9ae3-5a62a68fefef",
   "metadata": {},
   "outputs": [],
   "source": [
    "# Function to save lists to files\n",
    "def save_list_to_file(list_of_files, file_name):\n",
    "    with open(file_name, 'w') as f:\n",
    "        total_items = len(list_of_files)\n",
    "        for index, item in enumerate(list_of_files):\n",
    "            # Split the file name at the dot and take the first part\n",
    "            numeric_part = item.split('.')[0]\n",
    "            if index == total_items - 1:\n",
    "                f.write(numeric_part)  # Write without newline\n",
    "            else:\n",
    "                f.write(\"%s\\n\" % numeric_part)  # Write with newline"
   ]
  },
  {
   "cell_type": "code",
   "execution_count": 94,
   "id": "0bcecd4e-25cb-4116-88d0-8faef6e821aa",
   "metadata": {},
   "outputs": [],
   "source": [
    "# Make a train, val, test split, save lists to arcs/ImageSets\n",
    "def save_train_val_test_splits(label_files_list):\n",
    "    # Shuffle the list to ensure randomness\n",
    "    random.shuffle(label_files_list)\n",
    "\n",
    "    # Define split proportions\n",
    "    train_split = 0.65  # 65% of the data\n",
    "    val_split = 0.2  # 20% of the data\n",
    "    test_split = 0.15  # 15% of the data\n",
    "\n",
    "    # Calculate split sizes\n",
    "    total_files = len(label_files_list)\n",
    "    train_size = int(total_files * train_split)\n",
    "    val_size = int(total_files * val_split)\n",
    "\n",
    "    # Split the dataset\n",
    "    train_files = label_files_list[:train_size]\n",
    "    val_files = label_files_list[train_size:train_size + val_size]\n",
    "    test_files = label_files_list[train_size + val_size:]\n",
    "\n",
    "    # Combine train and val for trainval\n",
    "    trainval_files = train_files + val_files\n",
    "\n",
    "    # Make\n",
    "    root = os.path.join(BASE_PATH, 'split_arcs', 'ImageSets')\n",
    "    os.makedirs(root, exist_ok=True)\n",
    "\n",
    "    # Save to files\n",
    "    save_list_to_file(train_files, os.path.join(root, 'train.txt'))\n",
    "    save_list_to_file(val_files, os.path.join(root, 'val.txt'))\n",
    "    save_list_to_file(test_files, os.path.join(root, 'test.txt'))\n",
    "    save_list_to_file(trainval_files, os.path.join(root, 'trainval.txt'))"
   ]
  },
  {
   "cell_type": "code",
   "execution_count": 95,
   "id": "2b3e35bb-755d-4c7e-93ff-a55e0afd5488",
   "metadata": {},
   "outputs": [
    {
     "ename": "NameError",
     "evalue": "name 'total_items' is not defined",
     "output_type": "error",
     "traceback": [
      "\u001b[1;31m---------------------------------------------------------------------------\u001b[0m",
      "\u001b[1;31mNameError\u001b[0m                                 Traceback (most recent call last)",
      "Cell \u001b[1;32mIn[95], line 3\u001b[0m\n\u001b[0;32m      1\u001b[0m create_directory_tree()\n\u001b[0;32m      2\u001b[0m label_files_list \u001b[38;5;241m=\u001b[39m get_labels(ARCS_LABEL_DIR)\n\u001b[1;32m----> 3\u001b[0m save_train_val_test_splits(label_files_list)\n",
      "Cell \u001b[1;32mIn[94], line 29\u001b[0m, in \u001b[0;36msave_train_val_test_splits\u001b[1;34m(label_files_list)\u001b[0m\n\u001b[0;32m     26\u001b[0m os\u001b[38;5;241m.\u001b[39mmakedirs(root, exist_ok\u001b[38;5;241m=\u001b[39m\u001b[38;5;28;01mTrue\u001b[39;00m)\n\u001b[0;32m     28\u001b[0m \u001b[38;5;66;03m# Save to files\u001b[39;00m\n\u001b[1;32m---> 29\u001b[0m save_list_to_file(train_files, os\u001b[38;5;241m.\u001b[39mpath\u001b[38;5;241m.\u001b[39mjoin(root, \u001b[38;5;124m'\u001b[39m\u001b[38;5;124mtrain.txt\u001b[39m\u001b[38;5;124m'\u001b[39m))\n\u001b[0;32m     30\u001b[0m save_list_to_file(val_files, os\u001b[38;5;241m.\u001b[39mpath\u001b[38;5;241m.\u001b[39mjoin(root, \u001b[38;5;124m'\u001b[39m\u001b[38;5;124mval.txt\u001b[39m\u001b[38;5;124m'\u001b[39m))\n\u001b[0;32m     31\u001b[0m save_list_to_file(test_files, os\u001b[38;5;241m.\u001b[39mpath\u001b[38;5;241m.\u001b[39mjoin(root, \u001b[38;5;124m'\u001b[39m\u001b[38;5;124mtest.txt\u001b[39m\u001b[38;5;124m'\u001b[39m))\n",
      "Cell \u001b[1;32mIn[93], line 7\u001b[0m, in \u001b[0;36msave_list_to_file\u001b[1;34m(list_of_files, file_name)\u001b[0m\n\u001b[0;32m      4\u001b[0m \u001b[38;5;28;01mfor\u001b[39;00m index, item \u001b[38;5;129;01min\u001b[39;00m \u001b[38;5;28menumerate\u001b[39m(list_of_files):\n\u001b[0;32m      5\u001b[0m     \u001b[38;5;66;03m# Split the file name at the dot and take the first part\u001b[39;00m\n\u001b[0;32m      6\u001b[0m     numeric_part \u001b[38;5;241m=\u001b[39m item\u001b[38;5;241m.\u001b[39msplit(\u001b[38;5;124m'\u001b[39m\u001b[38;5;124m.\u001b[39m\u001b[38;5;124m'\u001b[39m)[\u001b[38;5;241m0\u001b[39m]\n\u001b[1;32m----> 7\u001b[0m     \u001b[38;5;28;01mif\u001b[39;00m index \u001b[38;5;241m==\u001b[39m total_items \u001b[38;5;241m-\u001b[39m \u001b[38;5;241m1\u001b[39m:\n\u001b[0;32m      8\u001b[0m         f\u001b[38;5;241m.\u001b[39mwrite(numeric_part)  \u001b[38;5;66;03m# Write without newline\u001b[39;00m\n\u001b[0;32m      9\u001b[0m     \u001b[38;5;28;01melse\u001b[39;00m:\n",
      "\u001b[1;31mNameError\u001b[0m: name 'total_items' is not defined"
     ]
    }
   ],
   "source": [
    "create_directory_tree()\n",
    "label_files_list = get_labels(ARCS_LABEL_DIR)\n",
    "save_train_val_test_splits(label_files_list)"
   ]
  },
  {
   "cell_type": "markdown",
   "id": "5956b8db-dc0a-4e00-9703-fc7f747a71a0",
   "metadata": {},
   "source": [
    "# Using those lists, move/copy the bin and .txt files to the appropriate folders"
   ]
  },
  {
   "cell_type": "code",
   "execution_count": null,
   "id": "e6e15f82-a85c-4fb4-9ca1-75db7eca0c69",
   "metadata": {},
   "outputs": [],
   "source": [
    "import shutil"
   ]
  },
  {
   "cell_type": "code",
   "execution_count": null,
   "id": "31ad5e81-75b6-4e19-9715-9d2a231b5059",
   "metadata": {},
   "outputs": [],
   "source": [
    "def copy_files(list_file_path, src_dir, dest_dir, image_path_dest, calib_path_dest):\n",
    "    # Ensure the destination directory exists\n",
    "    os.makedirs(dest_dir, exist_ok=True)\n",
    "\n",
    "    # Image default file source\n",
    "    image_default_src = os.path.join('default_files', 'placeholder.png')\n",
    "    calib_default_src = os.path.join('default_files', 'placeholder_calib.txt')\n",
    "\n",
    "    # Open the file containing the list of files to copy\n",
    "    with open(list_file_path, 'r') as file_list:\n",
    "        for file_name in file_list:\n",
    "            file_name = file_name.strip()  # Remove any leading/trailing whitespace\n",
    "            file_name = file_name + '.txt'\n",
    "            src_file_path = os.path.join(src_dir, file_name)\n",
    "            dest_file_path = os.path.join(dest_dir, file_name)\n",
    "\n",
    "            # Copy the file from the source to the destination\n",
    "            shutil.copy2(src_file_path, dest_file_path)\n",
    "            \n",
    "            # Then copy a placeholder image\n",
    "            image_dest = os.path.join(image_path_dest, file_name)\n",
    "            shutil.copy(image_default_src, image_dest)\n",
    "\n",
    "            # Copy the calib files\n",
    "            calib_dest = os.path.join(calib_path_dest, file_name)\n",
    "            shutil.copy(calib_default_src, calib_dest)"
   ]
  },
  {
   "cell_type": "code",
   "execution_count": null,
   "id": "6e6fc1ef-24d8-461a-9279-f987cf26043d",
   "metadata": {},
   "outputs": [],
   "source": [
    "def copy_set_up(label_list_file, target_dir):\n",
    "    # Define the source and destination directories for trainval or test files\n",
    "    file_path = os.path.join(BASE_PATH, 'split_arcs', 'ImageSets', label_list_file)\n",
    "    dest_dir = os.path.join(BASE_PATH, 'split_arcs', target_dir, 'label_2')\n",
    "\n",
    "    image_path_dest = os.path.join(BASE_PATH, 'split_arcs', target_dir, 'image_2')\n",
    "    calib_path_dest = os.path.join(BASE_PATH, 'split_arcs', target_dir, 'calib')\n",
    "    # Make sure directory exists\n",
    "    os.makedirs(dest_dir, exist_ok=True)\n",
    "\n",
    "    # Copy files\n",
    "    copy_files(file_path, ARCS_LABEL_DIR, dest_dir, image_path_dest, calib_path_dest)"
   ]
  },
  {
   "cell_type": "code",
   "execution_count": null,
   "id": "2bf2dab5-3fc0-4dd3-9d23-623fb7186a0a",
   "metadata": {},
   "outputs": [],
   "source": [
    "def copy_files_to_split_directory():\n",
    "    copy_set_up('test.txt', 'testing')\n",
    "    copy_set_up('trainval.txt', 'training')"
   ]
  },
  {
   "cell_type": "code",
   "execution_count": null,
   "id": "fd9a5024-f074-4a6a-ac97-b3e118a328c9",
   "metadata": {},
   "outputs": [],
   "source": [
    "copy_files_to_split_directory()"
   ]
  },
  {
   "cell_type": "markdown",
   "id": "8bdfc4e5-7b51-4d8a-afaa-8a1b64e70e47",
   "metadata": {},
   "source": [
    "# Reindex the lists? (May not be necessary)"
   ]
  },
  {
   "cell_type": "markdown",
   "id": "3788b1d9-692e-4c07-96f5-aa3ea562c58c",
   "metadata": {},
   "source": [
    "# Make calibration and image files"
   ]
  },
  {
   "cell_type": "markdown",
   "id": "fa7e8187-c994-46ca-9937-a4d343d3b165",
   "metadata": {},
   "source": []
  },
  {
   "cell_type": "markdown",
   "id": "623ac5b5-67b2-4ac4-a079-e40e9e7e1a27",
   "metadata": {},
   "source": []
  },
  {
   "cell_type": "code",
   "execution_count": null,
   "id": "6f8cbfeb-0e4c-47ce-941e-426ea15d8613",
   "metadata": {},
   "outputs": [],
   "source": []
  },
  {
   "cell_type": "code",
   "execution_count": null,
   "id": "824620f6-2a9e-436c-9740-1ca27be419e4",
   "metadata": {},
   "outputs": [],
   "source": []
  }
 ],
 "metadata": {
  "kernelspec": {
   "display_name": "Python 3 (ipykernel)",
   "language": "python",
   "name": "python3"
  },
  "language_info": {
   "codemirror_mode": {
    "name": "ipython",
    "version": 3
   },
   "file_extension": ".py",
   "mimetype": "text/x-python",
   "name": "python",
   "nbconvert_exporter": "python",
   "pygments_lexer": "ipython3",
   "version": "3.11.9"
  }
 },
 "nbformat": 4,
 "nbformat_minor": 5
}
