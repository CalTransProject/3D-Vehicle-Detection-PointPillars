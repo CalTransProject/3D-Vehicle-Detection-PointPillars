{
 "cells": [
  {
   "cell_type": "markdown",
   "id": "76ec4fd8-010c-4e2a-b1da-67b435676c69",
   "metadata": {},
   "source": [
    "# Count the points and label points in each unfiltered frame\n",
    "So it's easier to evaluate filters"
   ]
  },
  {
   "cell_type": "code",
   "execution_count": 12,
   "id": "e1192e50-6eda-4c1b-9b83-15cbac89650f",
   "metadata": {},
   "outputs": [],
   "source": [
    "import os\n",
    "import pandas as pd\n",
    "from pathlib import Path\n",
    "from utils.filter_eval import convert_to_dataframe, is_label_point"
   ]
  },
  {
   "cell_type": "code",
   "execution_count": 13,
   "id": "52119add-4b49-4023-b019-0b0315ab0e44",
   "metadata": {},
   "outputs": [],
   "source": [
    "def get_frame_point_statistics(data_file_path, label_file_path):\n",
    "    # Running totals\n",
    "    total_points = 0\n",
    "    label_points = 0\n",
    "\n",
    "    # Count points for filtered data\n",
    "    points_df = convert_to_dataframe(data_file_path)\n",
    "    \n",
    "    # For each point in the data\n",
    "    for index, row in points_df.iterrows():\n",
    "    # for index, row in points_df.iloc[:100].iterrows():\n",
    "        # Increment the total\n",
    "        total_points += 1\n",
    "        point = (row['x'], row['y'], row['z'])\n",
    "        # If the point is a label point\n",
    "        if is_label_point(point, label_file_path):\n",
    "            # Increment the label total\n",
    "            label_points += 1\n",
    "\n",
    "    return total_points, label_points"
   ]
  },
  {
   "cell_type": "code",
   "execution_count": 14,
   "id": "34e7a81a-b760-4d40-afad-368aac0274bc",
   "metadata": {},
   "outputs": [],
   "source": [
    "lidar_dir = Path('../data/velodyne_points')\n",
    "label_dir = Path('../data/labels')"
   ]
  },
  {
   "cell_type": "code",
   "execution_count": 15,
   "id": "30071713-cb0e-44c4-8705-8285d8e1f501",
   "metadata": {},
   "outputs": [
    {
     "name": "stdout",
     "output_type": "stream",
     "text": [
      ".."
     ]
    }
   ],
   "source": [
    "# Dictionary of frames\n",
    "columns = ['file_id', 'total_points', 'label_points']\n",
    "frame_points = []\n",
    "\n",
    "# Get just the file names\n",
    "files = [f for f in os.listdir(lidar_dir) if f.endswith('.bin')]\n",
    "\n",
    "# For each file\n",
    "# for filename in files[:2]:\n",
    "for filename in files:\n",
    "    print('.', end='')\n",
    "\n",
    "    # Get file index\n",
    "    file_id, extension = os.path.splitext(filename)\n",
    "    \n",
    "    # Append file name to locations\n",
    "    data_file_path = Path(lidar_dir, filename)\n",
    "    label_filename = file_id + '.txt'\n",
    "    label_file_path = Path(label_dir, label_filename)\n",
    "\n",
    "    # Get the number of points, and the number of points inside the labels\n",
    "    num_frame_points, num_frame_label_points = get_frame_point_statistics(data_file_path, label_file_path)\n",
    "\n",
    "    row = {\n",
    "        'file_id': file_id,\n",
    "        'total_points': num_frame_points,\n",
    "        'label_points': num_frame_label_points\n",
    "    }\n",
    "\n",
    "    frame_points.append(row)\n",
    "\n",
    "# Turn into a dictionary\n",
    "arcs_point_count_df = pd.DataFrame(frame_points)\n",
    "# Save\n",
    "arcs_point_count_df.to_pickle('arcs_points_count.pkl')"
   ]
  },
  {
   "cell_type": "code",
   "execution_count": 26,
   "id": "b1735249-79f6-4f97-bfd2-a7e777abb3cc",
   "metadata": {},
   "outputs": [
    {
     "name": "stdout",
     "output_type": "stream",
     "text": [
      "  file_id  total_points  label_points\n",
      "0  006453         52513             0\n",
      "1  006447         52579          2451\n"
     ]
    }
   ],
   "source": [
    "# Load dataframe\n",
    "check_arcs_points_count_df = pd.read_pickle('arcs_points_count.pkl')\n",
    "print(check_arcs_points_count_df)"
   ]
  },
  {
   "cell_type": "code",
   "execution_count": 28,
   "id": "ebeaab05-554a-4afe-82cd-8a1b8ffd637f",
   "metadata": {},
   "outputs": [
    {
     "name": "stdout",
     "output_type": "stream",
     "text": [
      "         total_points  label_points\n",
      "file_id                            \n",
      "006453          52513             0\n",
      "006447          52579          2451\n"
     ]
    }
   ],
   "source": [
    "check_arcs_points_count_df.set_index('file_id', inplace=True)\n",
    "print(check_arcs_points_count_df)"
   ]
  },
  {
   "cell_type": "code",
   "execution_count": 34,
   "id": "28f78efc-c41f-462c-9ef8-de8d6ade9779",
   "metadata": {},
   "outputs": [
    {
     "name": "stdout",
     "output_type": "stream",
     "text": [
      "total_points    52579\n",
      "label_points     2451\n",
      "Name: 006447, dtype: int64\n",
      "2451\n"
     ]
    }
   ],
   "source": [
    "result = check_arcs_points_count_df.loc['006447']\n",
    "print(result)\n",
    "print(result['label_points'])"
   ]
  }
 ],
 "metadata": {
  "kernelspec": {
   "display_name": "Python 3 (ipykernel)",
   "language": "python",
   "name": "python3"
  },
  "language_info": {
   "codemirror_mode": {
    "name": "ipython",
    "version": 3
   },
   "file_extension": ".py",
   "mimetype": "text/x-python",
   "name": "python",
   "nbconvert_exporter": "python",
   "pygments_lexer": "ipython3",
   "version": "3.11.9"
  }
 },
 "nbformat": 4,
 "nbformat_minor": 5
}
