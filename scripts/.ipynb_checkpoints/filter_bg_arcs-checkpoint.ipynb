{
 "cells": [
  {
   "cell_type": "markdown",
   "id": "b6e7e623-3db1-47b0-a2a9-dd076b04be2b",
   "metadata": {},
   "source": [
    "# Filter each stationary frame"
   ]
  },
  {
   "cell_type": "code",
   "execution_count": 128,
   "id": "7a689bb4-b129-40f6-a07a-2c94e6604124",
   "metadata": {},
   "outputs": [],
   "source": [
    "import itertools\n",
    "import json\n",
    "import os\n",
    "import random\n",
    "import time\n",
    "import matplotlib.pyplot as plt\n",
    "import numpy as np\n",
    "import pandas as pd\n",
    "from mpl_toolkits.mplot3d import Axes3D\n",
    "from pathlib import Path\n",
    "from utils.filter_eval import evaluate_filter"
   ]
  },
  {
   "cell_type": "markdown",
   "id": "a0bd788e-d8f5-4621-84a5-764b6f1f59ff",
   "metadata": {},
   "source": [
    "## Constants and such"
   ]
  },
  {
   "cell_type": "code",
   "execution_count": 37,
   "id": "f77dba0c-506d-41f7-94e0-1f78bd80b165",
   "metadata": {},
   "outputs": [],
   "source": [
    "# Set background map resolutions\n",
    "azimuth_resolution = 1\n",
    "height_resolution = 0.5\n",
    "std_dev_cutoff = 1.5"
   ]
  },
  {
   "cell_type": "code",
   "execution_count": 38,
   "id": "73db7eb6-b3f9-4a18-b7bd-a7d6d7515511",
   "metadata": {},
   "outputs": [],
   "source": [
    "DATA_DIR_ROOT = '../data'"
   ]
  },
  {
   "cell_type": "code",
   "execution_count": 39,
   "id": "b776a837-da24-497c-ae95-997425d96683",
   "metadata": {},
   "outputs": [],
   "source": [
    "# Set to true if you want to make a new distances table, otherwise, will load previous map\n",
    "# Set everything to false if you just want to filter frames\n",
    "make_new_distances_df = False\n",
    "make_new_lookup_table = False\n",
    "new_grid_search = True"
   ]
  },
  {
   "cell_type": "markdown",
   "id": "af74dafa-7133-428b-8799-dbe0d7d67127",
   "metadata": {},
   "source": [
    "## First, functions for making background map"
   ]
  },
  {
   "cell_type": "code",
   "execution_count": 41,
   "id": "2b0b2769-48b9-4b86-a127-a6ac5089a830",
   "metadata": {
    "jupyter": {
     "source_hidden": true
    }
   },
   "outputs": [],
   "source": [
    "# Create mappings for azimuth and height using integers\n",
    "def create_mappings(azimuth_step=azimuth_resolution, height_step=height_resolution):\n",
    "    azimuth_range = np.arange(-180, 180 + azimuth_step, azimuth_step)\n",
    "    height_range = np.arange(-30, 10 + height_step, height_step)\n",
    "    azimuth_map = {int(az * 10): idx for idx, az in enumerate(azimuth_range)}\n",
    "    height_map = {int(ht * 10): idx for idx, ht in enumerate(height_range)}\n",
    "    return azimuth_map, height_map"
   ]
  },
  {
   "cell_type": "code",
   "execution_count": 42,
   "id": "39f724e2-15bf-4f35-b560-9d0d15606462",
   "metadata": {
    "jupyter": {
     "source_hidden": true
    }
   },
   "outputs": [],
   "source": [
    "# Create the grid DataFrames\n",
    "def create_grid_dataframes():\n",
    "    azimuth_map, height_map = create_mappings()\n",
    "    grid_shape = (len(height_map), len(azimuth_map))\n",
    "    df_distances = pd.DataFrame({key: [[] for _ in range(len(height_map))] \\\n",
    "                                 for key in azimuth_map.keys()}, index=height_map.keys())\n",
    "    df_intensities = pd.DataFrame({key: [[] for _ in range(len(height_map))] \\\n",
    "                                   for key in azimuth_map.keys()}, index=height_map.keys())\n",
    "    return df_distances, df_intensities, azimuth_map, height_map"
   ]
  },
  {
   "cell_type": "code",
   "execution_count": 43,
   "id": "87791ed8-709c-43ec-808f-a7f735d6cf9b",
   "metadata": {
    "jupyter": {
     "source_hidden": true
    }
   },
   "outputs": [],
   "source": [
    "# Process file into grid\n",
    "def process_files_to_grid(data_dir):\n",
    "    # Create empty grid\n",
    "    df_distances, df_intensities, azimuth_map, height_map = create_grid_dataframes()\n",
    "\n",
    "    lidar_dir = Path(data_dir, 'velodyne_points')\n",
    "    # For each file in the directory\n",
    "    for file_path in lidar_dir.iterdir():\n",
    "    # for file_path in itertools.islice(lidar_dir.iterdir(), 400):\n",
    "        print('-', end ='')\n",
    "        data = np.fromfile(file_path, dtype=np.float32).reshape(-1, 4)\n",
    "        for x, y, z, intensity in data:\n",
    "            # Convert to azimuth, height, distance format\n",
    "            distance = np.sqrt(x**2 + y**2 + z**2)\n",
    "            azimuth = np.degrees(np.arctan2(y, x))\n",
    "            height = np.degrees(np.arctan2(z, np.sqrt(x**2 + y**2)))\n",
    "            # Convert and scale\n",
    "            azimuth_idx = int(np.floor((azimuth + 180) / \\\n",
    "                                       azimuth_resolution) * azimuth_resolution * 10) - 1800\n",
    "            height_idx = int(np.floor((height + 30) / height_resolution)) - 300\n",
    "            # Update DataFrames directly using indices\n",
    "            if azimuth_idx in azimuth_map and height_idx in height_map:\n",
    "                df_distances.at[height_idx, azimuth_idx].append(distance)\n",
    "                # df_intensities.at[height_idx, azimuth_idx].append(intensity)\n",
    "    # return df_distances, df_intensities\n",
    "    return df_distances"
   ]
  },
  {
   "cell_type": "code",
   "execution_count": 44,
   "id": "f5a3047f-0ff9-48d2-b55d-32db785fa222",
   "metadata": {
    "jupyter": {
     "source_hidden": true
    }
   },
   "outputs": [],
   "source": [
    "def get_distances_dataframe(dir):\n",
    "    # Get the distances of the background map from the lidar files\n",
    "    # if make_new_map or not files_exist(\"df_distances.pkl\", \"df_intensities.pkl\"):\n",
    "    if make_new_distances_df:\n",
    "        df_distances = process_files_to_grid(dir)\n",
    "        \n",
    "        # Save the DataFrames\n",
    "        print('\\nSaving dataframe')\n",
    "        df_distances.to_pickle(\"new_df_distances.pkl\")\n",
    "    else:\n",
    "        # Load the DataFrames\n",
    "        print('\\nLoading dataframe')\n",
    "        df_distances = pd.read_pickle(\"df_distances.pkl\")\n",
    "    return df_distances"
   ]
  },
  {
   "cell_type": "code",
   "execution_count": 45,
   "id": "24d4269d-47cb-493e-b4ca-5b2d38c6f39f",
   "metadata": {
    "jupyter": {
     "source_hidden": true
    }
   },
   "outputs": [],
   "source": [
    "def files_exist(*files):\n",
    "    return all(os.path.exists(file) for file in files)"
   ]
  },
  {
   "cell_type": "code",
   "execution_count": 46,
   "id": "f812ab97-3276-4a0b-9753-f523a23cd5fa",
   "metadata": {
    "jupyter": {
     "source_hidden": true
    }
   },
   "outputs": [],
   "source": [
    "def get_cutoff_base(cutoff_base_param, distances):\n",
    "    if cutoff_base_param == 'average':\n",
    "        return np.mean(distances)\n",
    "    elif cutoff_base_param == 'first_quartile':\n",
    "        return np.percentile(distances, 25)\n",
    "    elif cutoff_base_param == 'median':\n",
    "        return np.median(distances)\n",
    "    elif cutoff_base_param == 'third_quartile':\n",
    "        return np.percentile(distances, 75)\n",
    "    elif cutoff_base_param == 'maximum':\n",
    "        return np.max(distances)\n",
    "    else:\n",
    "        print(cutoff_base_param + ' is not a valid cutoff_base value')\n",
    "    return 0"
   ]
  },
  {
   "cell_type": "code",
   "execution_count": 102,
   "id": "2a3cda83-3ac4-4936-8d53-9174fe6ffa75",
   "metadata": {},
   "outputs": [],
   "source": [
    "def get_adjustment_direction_param(adjustment_direction_param, distances):\n",
    "    if adjustment_direction_param == 'add':\n",
    "        return 1\n",
    "    elif adjustment_direction_param == 'subtract':\n",
    "        return -1\n",
    "    else:\n",
    "        print(adjustment_direction_param + ' is not a valid adjustment_direction_param value')\n",
    "    return 0 "
   ]
  },
  {
   "cell_type": "code",
   "execution_count": 100,
   "id": "e41fbb6f-1349-49b0-9fdd-3b50179bbd9e",
   "metadata": {},
   "outputs": [],
   "source": [
    "def get_adjustment_parameter_param(adjustment_param, distances):\n",
    "    if adjustment_param == 'constant':\n",
    "        return 1\n",
    "    elif adjustment_param == 'standard_deviation':\n",
    "        return np.std(distances)\n",
    "    else:\n",
    "        print(adjustment_param + ' is not a valid adjustment_param value')\n",
    "    return 0"
   ]
  },
  {
   "cell_type": "code",
   "execution_count": 98,
   "id": "2ad2f6f2-a42d-48c0-bbb8-b7bacb00fde2",
   "metadata": {},
   "outputs": [],
   "source": [
    "def get_adjustment_factor_param(adjustment_factor_param, distances):\n",
    "    if adjustment_factor_param == 'average':\n",
    "        return np.mean(distances)\n",
    "    elif adjustment_factor_param == 'first_quartile':\n",
    "        return np.percentile(distances, 25)\n",
    "    elif adjustment_factor_param == 'median':\n",
    "        return np.median(distances)\n",
    "    elif adjustment_factor_param == 'third_quartile':\n",
    "        return np.percentile(distances, 75)\n",
    "    elif adjustment_factor_param == 'maximum':\n",
    "        return np.max(distances)\n",
    "    else:\n",
    "        print(adjustment_factor_param + ' is not a valid cutoff_base value')\n",
    "    return 0"
   ]
  },
  {
   "cell_type": "code",
   "execution_count": 110,
   "id": "e27c9a29-1f32-447a-b08f-0dcf82274fcf",
   "metadata": {},
   "outputs": [],
   "source": [
    "def get_background_lookup_table(df_distances, cutoff_base_param='maximum', adjustment_direction_param='subtract', \n",
    "                                adjustment_param='standard_deviation', adjustment_factor=1):\n",
    "    if make_new_lookup_table or new_grid_search:\n",
    "        # CHANGE THIS TO USE DEFAULT OR GIVEN PARAMETERS\n",
    "        # Create a new DataFrame with the same index and columns as df_distances\n",
    "        lookup_table = pd.DataFrame(index=df_distances.index, columns=df_distances.columns)\n",
    "        # Iterate through each cell in df_distances\n",
    "        for (height, azimuth), distances in df_distances.stack().items():\n",
    "            # If the list is not empty\n",
    "            if distances:\n",
    "                # Get cutoff value\n",
    "                cutoff_base = get_cutoff_base(cutoff_base_param, distances)\n",
    "                adj_direction = get_adjustment_direction_param(adjustment_direction_param, distances)\n",
    "                adj = get_adjustment_parameter_param(adjustment_param, distances)\n",
    "                \n",
    "                value = adj_direction * (adj * adjustment_factor) + cutoff_base\n",
    "            else:\n",
    "                value = np.nan  # If the list is empty, set the cell to NaN\n",
    "    \n",
    "            # Set the value in the new DataFrame\n",
    "            lookup_table.at[height, azimuth] = value\n",
    "\n",
    "        if make_new_lookup_table: \n",
    "            # Save the DataFrames\n",
    "            print('\\nSaving lookup table')\n",
    "            lookup_table.to_pickle(\"new_lookup_table.pkl\")\n",
    "    else:\n",
    "        # Load the DataFrames\n",
    "        print('\\nLoading lookup table')\n",
    "        lookup_table = pd.read_pickle(\"dbscan_lookup_table.pkl\")\n",
    "\n",
    "    return lookup_table"
   ]
  },
  {
   "cell_type": "code",
   "execution_count": 51,
   "id": "c70de6db-794c-4f31-9d91-6619d206daf2",
   "metadata": {},
   "outputs": [
    {
     "name": "stdout",
     "output_type": "stream",
     "text": [
      "\n",
      "Loading dataframe\n"
     ]
    }
   ],
   "source": [
    "dir = Path(DATA_DIR_ROOT)\n",
    "\n",
    "df_distances = get_distances_dataframe(dir)"
   ]
  },
  {
   "cell_type": "markdown",
   "id": "6231c973-5d7e-476e-9fc5-44c09d4ef27c",
   "metadata": {},
   "source": [
    "## Filtering and saving functions"
   ]
  },
  {
   "cell_type": "code",
   "execution_count": 82,
   "id": "af930e13-e6a1-43ce-86e0-666e9f94801f",
   "metadata": {},
   "outputs": [],
   "source": [
    "def convert_to_dataframe(bin_path):\n",
    "    pre_filtered_data = np.fromfile(bin_path, dtype=np.float32).reshape(-1, 4) \n",
    "    columns = ['x', 'y', 'z', 'intensity']\n",
    "    df = pd.DataFrame(pre_filtered_data, columns=columns)\n",
    "    return df"
   ]
  },
  {
   "cell_type": "code",
   "execution_count": 83,
   "id": "b95c4d38-7e51-4d13-8b98-8c683e7ba7c2",
   "metadata": {
    "jupyter": {
     "source_hidden": true
    }
   },
   "outputs": [],
   "source": [
    "def add_lookup_coords_to_xyz(points_df):\n",
    "    # Calculate the distance, azimuth, and height using vectorized operations\n",
    "    x, y, z, intensity = points_df['x'], points_df['y'], points_df['z'], points_df['intensity']\n",
    "    distance = np.sqrt(x**2 + y**2 + z**2)\n",
    "    azimuth = np.degrees(np.arctan2(y, x))\n",
    "    height = np.degrees(np.arctan2(z, np.sqrt(x**2 + y**2)))\n",
    "    \n",
    "    # Convert and scale\n",
    "    azimuth_idx = np.floor((azimuth + 180) / azimuth_resolution).astype(int) \\\n",
    "        * azimuth_resolution * 10 - 1800\n",
    "    height_idx = np.floor((height + 30) / height_resolution).astype(int) - 300\n",
    "    \n",
    "    # Add new columns to dataframe\n",
    "    points_df['distance'] = distance\n",
    "    points_df['azimuth_idx'] = azimuth_idx\n",
    "    points_df['height_idx'] = height_idx\n",
    "    \n",
    "    return points_df"
   ]
  },
  {
   "cell_type": "code",
   "execution_count": 84,
   "id": "488d3c76-e60d-4011-9b58-ce05ec7aded6",
   "metadata": {
    "jupyter": {
     "source_hidden": true
    }
   },
   "outputs": [],
   "source": [
    "def filter_points(input_file, lookup_table):\n",
    "    # Get dataframe from file\n",
    "    pre_filtered_points = convert_to_dataframe(input_file)\n",
    "\n",
    "    # Add lookup table coordinates\n",
    "    pre_filtered_grid_lookup = add_lookup_coords_to_xyz(pre_filtered_points)\n",
    "    \n",
    "    # Initialize a list to store rows that meet the criteria\n",
    "    filtered_data = []\n",
    "\n",
    "    # Iterate through each row in the input DataFrame\n",
    "    for idx, row in pre_filtered_grid_lookup.iloc[:100].iterrows():\n",
    "    # for idx, row in pre_filtered_grid_lookup.iterrows():\n",
    "        azimuth_idx = int(row['azimuth_idx'])\n",
    "        height_idx = int(row['height_idx'])\n",
    "        \n",
    "        # Check if the indices exist in the lookup table and the value is not NaN\n",
    "        if azimuth_idx in lookup_table.columns and height_idx in lookup_table.index:\n",
    "            # print('.', end='')\n",
    "            lookup_value = lookup_table.at[height_idx, azimuth_idx]\n",
    "            \n",
    "            if not pd.isna(lookup_value) and row['distance'] < lookup_value:\n",
    "                # If criteria are met, add the row's x, y, z, and intensity to the filtered_data list\n",
    "                filtered_data.append({\n",
    "                    'x': row['x'],\n",
    "                    'y': row['y'],\n",
    "                    'z': row['z'],\n",
    "                    'intensity': row['intensity']\n",
    "                })\n",
    "\n",
    "    # Create a DataFrame from the filtered data\n",
    "    filtered_df = pd.DataFrame(filtered_data)\n",
    "    return filtered_df"
   ]
  },
  {
   "cell_type": "code",
   "execution_count": 85,
   "id": "e77a6403-4e34-45d3-8ae4-f3ca96710410",
   "metadata": {
    "jupyter": {
     "source_hidden": true
    }
   },
   "outputs": [],
   "source": [
    "def save_as_binary(df, bin_path):\n",
    "    # Ensure the DataFrame is in the correct order and data type\n",
    "    data = df[['x', 'y', 'z', 'intensity']].astype(np.float32).values\n",
    "    \n",
    "    # Write the data to a binary file\n",
    "    data.tofile(bin_path)"
   ]
  },
  {
   "cell_type": "code",
   "execution_count": 132,
   "id": "9f742807-8599-44f8-a52e-7b5b14f12cd3",
   "metadata": {},
   "outputs": [],
   "source": [
    "def filter_frames(source_dir, save_dir, background_lookup_table, subset_size=1):   \n",
    "    # Get just the file names\n",
    "    files = [f for f in os.listdir(source_dir) if f.endswith('.bin')]\n",
    "\n",
    "    if subset_size < 1:\n",
    "        # Get subset of files to check\n",
    "        random.shuffle(files)\n",
    "        total_files = len(files)\n",
    "        subset_num = int(total_files * subset_size)\n",
    "    else:\n",
    "        subset_sum = len(files)\n",
    "    \n",
    "    # For each file\n",
    "    for filename in files[:subset_num]:\n",
    "        # Append file name to location\n",
    "        print('.', end='')\n",
    "        from_file = Path(source_dir, filename)\n",
    "\n",
    "        # Filter file\n",
    "        filtered_df = filter_points(from_file, background_lookup_table)\n",
    "\n",
    "        # APPEND FILE NAME TO NEW LOCATION\n",
    "        to_file = Path(save_dir, filename)\n",
    "\n",
    "        # CONVERT BACK TO BINARY and save\n",
    "        save_as_binary(filtered_df, to_file)"
   ]
  },
  {
   "cell_type": "markdown",
   "id": "70999390-ce49-4fcf-b607-0f5424ca3fa8",
   "metadata": {},
   "source": [
    "## Grid search for lookup table"
   ]
  },
  {
   "cell_type": "code",
   "execution_count": 88,
   "id": "74a3f7bb-0681-4c61-8acd-a4bde7e7972f",
   "metadata": {},
   "outputs": [],
   "source": [
    "# Grid search parameters to find best lookup table\n",
    "parameters = {\n",
    "    'cutoff_base': ['average', 'second_quartile', 'median', 'third_quartile', 'maximum'],\n",
    "    'adjustment_direction': ['add', 'subtract'],\n",
    "    'adjustment_parameter': ['constant', 'standard_deviation'],\n",
    "    'adjustment_factor': [0, 0.5, 1, 1.5, 2]\n",
    "}\n",
    "\n",
    "parameters = {\n",
    "    'cutoff_base': ['average', 'maximum'],\n",
    "    'adjustment_direction': ['subtract'],\n",
    "    'adjustment_parameter': ['standard_deviation'],\n",
    "    'adjustment_factor': [0, 0.5]\n",
    "}"
   ]
  },
  {
   "cell_type": "code",
   "execution_count": 89,
   "id": "f10ae32c-df2e-4c2d-84bf-7418a1d8d939",
   "metadata": {},
   "outputs": [],
   "source": [
    "# Generate all combinations of parameters\n",
    "all_combinations = list(itertools.product(\n",
    "    parameters['cutoff_base'],\n",
    "    parameters['adjustment_direction'],\n",
    "    parameters['adjustment_parameter'],\n",
    "    parameters['adjustment_factor']\n",
    "))"
   ]
  },
  {
   "cell_type": "code",
   "execution_count": 90,
   "id": "fceb1738-359d-4015-ac2f-04a800ae9cab",
   "metadata": {},
   "outputs": [
    {
     "name": "stdout",
     "output_type": "stream",
     "text": [
      "('average', 'subtract', 'standard_deviation', 0)\n",
      "('average', 'subtract', 'standard_deviation', 0.5)\n",
      "('maximum', 'subtract', 'standard_deviation', 0)\n",
      "('maximum', 'subtract', 'standard_deviation', 0.5)\n"
     ]
    }
   ],
   "source": [
    "for combination in all_combinations:\n",
    "    print(combination)"
   ]
  },
  {
   "cell_type": "code",
   "execution_count": 91,
   "id": "42671bbb-a16c-423a-8885-2533a544b4c4",
   "metadata": {},
   "outputs": [],
   "source": [
    "def delete_contents(folder_path):\n",
    "    # Check if the folder exists\n",
    "    if not os.path.isdir(folder_path):\n",
    "        raise ValueError(f\"Folder does not exist: {folder_path}\")\n",
    "\n",
    "    # Iterate over all files in the folder and delete them\n",
    "    for filename in os.listdir(folder_path):\n",
    "        file_path = os.path.join(folder_path, filename)\n",
    "        try:\n",
    "            if os.path.isfile(file_path) or os.path.islink(file_path):\n",
    "                os.unlink(file_path)  # Removes the file or link\n",
    "        except Exception as e:\n",
    "            print(f\"Failed to delete {file_path}. Reason: {e}\")"
   ]
  },
  {
   "cell_type": "code",
   "execution_count": 92,
   "id": "9458b476-ed96-47c8-9aa6-80d588671002",
   "metadata": {},
   "outputs": [],
   "source": [
    "def get_best_params(grid_search_results):\n",
    "    highest_labels_points_retained = 0\n",
    "    best_key = ''\n",
    "    for param_combo_key in grid_search_results:\n",
    "        if grid_search_results[param_combo_key]['results']['avg_frame_label_pts'] > highest_labels_points_retained:\n",
    "            highest_labels_points_retained = grid_search_results[param_combo_key]['results']['avg_frame_label_pts']\n",
    "            best_key = param_combo_key\n",
    "    return grid_search_results[best_key]['parameters'], best_key"
   ]
  },
  {
   "cell_type": "code",
   "execution_count": 93,
   "id": "53c87729-e71f-4a51-8671-cc42e5bfcde0",
   "metadata": {},
   "outputs": [],
   "source": [
    "# Create a new folder for the filtered frames in the directory\n",
    "filter_save_dir = Path(DATA_DIR_ROOT, 'filtered_points')\n",
    "filter_save_dir.mkdir(exist_ok=True)\n",
    "\n",
    "lidar_dir = Path(DATA_DIR_ROOT, 'velodyne_points')\n",
    "temp_lidar_dir = Path('temp_lidar')\n",
    "temp_label_dir = Path('temp_label')\n",
    "label_dir = Path(DATA_DIR_ROOT, 'labels')"
   ]
  },
  {
   "cell_type": "code",
   "execution_count": 136,
   "id": "84932177-9fa7-4178-92c8-c912bb262fff",
   "metadata": {},
   "outputs": [],
   "source": [
    "grid_search_results = {}\n",
    "\n",
    "def find_best_lookup_table():\n",
    "    # For each combination of parameters\n",
    "    for params in all_combinations:\n",
    "        print('Checking parameters: ' + str(params))\n",
    "        # Make new lookup table\n",
    "        lookup_table = get_background_lookup_table(df_distances, \n",
    "                                                   cutoff_base_param=params[0], \n",
    "                                                   adjustment_direction_param=params[1], \n",
    "                                                   adjustment_param=params[2], \n",
    "                                                   adjustment_factor=params[3])\n",
    "        # Empty temp file\n",
    "        delete_contents('temp_lidar')\n",
    "        delete_contents('temp_labels')\n",
    "        time.sleep(3)\n",
    "        # Filter subset of data\n",
    "        filter_frames(lidar_dir, temp_lidar_dir, lookup_table, subset_size=.01)\n",
    "        # Evaluate filtered data\n",
    "        results = evaluate_filter(temp_lidar_dir, label_dir)\n",
    "        print(results)\n",
    "        print()\n",
    "\n",
    "        # Create parameter combination key\n",
    "        param_combo_key = params[0][0] + params[0][1] + '_' + params[1][0] + '_' + params[2][0] + '_' + str(params[3])\n",
    "        # Store results in results dictionary\n",
    "        grid_search_results[param_combo_key] = {'parameters': params,\n",
    "                                                'results': results}\n",
    "\n",
    "    best_params, best_params_key = get_best_params(grid_search_results)\n",
    "\n",
    "    return best_params, best_params_key"
   ]
  },
  {
   "cell_type": "code",
   "execution_count": 138,
   "id": "639cb573-5c95-4d31-aa22-862a1b2a4077",
   "metadata": {},
   "outputs": [
    {
     "name": "stdout",
     "output_type": "stream",
     "text": [
      "Checking parameters: ('average', 'subtract', 'standard_deviation', 0)\n",
      ".............................................."
     ]
    },
    {
     "ename": "NameError",
     "evalue": "name 'BASE_DIR' is not defined",
     "output_type": "error",
     "traceback": [
      "\u001b[1;31m---------------------------------------------------------------------------\u001b[0m",
      "\u001b[1;31mNameError\u001b[0m                                 Traceback (most recent call last)",
      "Cell \u001b[1;32mIn[138], line 4\u001b[0m\n\u001b[0;32m      2\u001b[0m \u001b[38;5;66;03m# Load, create, or use grid search to find best lookup table\u001b[39;00m\n\u001b[0;32m      3\u001b[0m \u001b[38;5;28;01mif\u001b[39;00m new_grid_search:\n\u001b[1;32m----> 4\u001b[0m     best_params, best_param_key \u001b[38;5;241m=\u001b[39m find_best_lookup_table()\n\u001b[0;32m      5\u001b[0m     background_distance_lookup_table  \u001b[38;5;241m=\u001b[39m get_background_lookup_table(df_distances, \n\u001b[0;32m      6\u001b[0m                                                    cutoff_base_param\u001b[38;5;241m=\u001b[39mbest_params[\u001b[38;5;241m0\u001b[39m], \n\u001b[0;32m      7\u001b[0m                                                    adjustment_direction_param\u001b[38;5;241m=\u001b[39mbest_params[\u001b[38;5;241m1\u001b[39m], \n\u001b[0;32m      8\u001b[0m                                                    adjustment_param\u001b[38;5;241m=\u001b[39mbest_params[\u001b[38;5;241m2\u001b[39m], \n\u001b[0;32m      9\u001b[0m                                                    adjustment_factor\u001b[38;5;241m=\u001b[39mbest_params[\u001b[38;5;241m3\u001b[39m])\n\u001b[0;32m     10\u001b[0m     \u001b[38;5;28mprint\u001b[39m(\u001b[38;5;124m'\u001b[39m\u001b[38;5;130;01m\\n\u001b[39;00m\u001b[38;5;124mSaving lookup table: \u001b[39m\u001b[38;5;124m'\u001b[39m \u001b[38;5;241m+\u001b[39m best_param_key)\n",
      "Cell \u001b[1;32mIn[136], line 20\u001b[0m, in \u001b[0;36mfind_best_lookup_table\u001b[1;34m()\u001b[0m\n\u001b[0;32m     18\u001b[0m filter_frames(lidar_dir, temp_lidar_dir, lookup_table, subset_size\u001b[38;5;241m=\u001b[39m\u001b[38;5;241m.01\u001b[39m)\n\u001b[0;32m     19\u001b[0m \u001b[38;5;66;03m# Evaluate filtered data\u001b[39;00m\n\u001b[1;32m---> 20\u001b[0m results \u001b[38;5;241m=\u001b[39m evaluate_filter(temp_lidar_dir, label_dir)\n\u001b[0;32m     21\u001b[0m \u001b[38;5;28mprint\u001b[39m(results)\n\u001b[0;32m     22\u001b[0m \u001b[38;5;28mprint\u001b[39m()\n",
      "File \u001b[1;32mD:\\arcs\\scripts\\utils\\filter_eval.py:129\u001b[0m, in \u001b[0;36mevaluate_filter\u001b[1;34m(dir, dataset_name, subset_size)\u001b[0m\n\u001b[0;32m      0\u001b[0m <Error retrieving source code with stack_data see ipython/ipython#13598>\n",
      "\u001b[1;31mNameError\u001b[0m: name 'BASE_DIR' is not defined"
     ]
    }
   ],
   "source": [
    "grid_search_results = {}\n",
    "# Load, create, or use grid search to find best lookup table\n",
    "if new_grid_search:\n",
    "    best_params, best_param_key = find_best_lookup_table()\n",
    "    background_distance_lookup_table  = get_background_lookup_table(df_distances, \n",
    "                                                   cutoff_base_param=best_params[0], \n",
    "                                                   adjustment_direction_param=best_params[1], \n",
    "                                                   adjustment_param=best_params[2], \n",
    "                                                   adjustment_factor=best_params[3])\n",
    "    print('\\nSaving lookup table: ' + best_param_key)\n",
    "    background_distance_lookup_table.to_pickle('lookup_table_' + best_param_key + '.pkl')\n",
    "else:\n",
    "    # Create background lookup table for distance cutoffs\n",
    "    background_distance_lookup_table = get_background_lookup_table(df_distances)"
   ]
  },
  {
   "cell_type": "code",
   "execution_count": null,
   "id": "760f81c7-a15d-4069-b1d2-edd637afe579",
   "metadata": {},
   "outputs": [],
   "source": [
    "print(grid_search_results)"
   ]
  },
  {
   "cell_type": "code",
   "execution_count": null,
   "id": "f7d44ac6-1229-4c91-862c-18a44cfccd62",
   "metadata": {},
   "outputs": [],
   "source": [
    "# Filter and save each filtered frame\n",
    "filter_frames(lidar_dir, 'filtered_points', background_distance_lookup_table)"
   ]
  }
 ],
 "metadata": {
  "kernelspec": {
   "display_name": "Python 3 (ipykernel)",
   "language": "python",
   "name": "python3"
  },
  "language_info": {
   "codemirror_mode": {
    "name": "ipython",
    "version": 3
   },
   "file_extension": ".py",
   "mimetype": "text/x-python",
   "name": "python",
   "nbconvert_exporter": "python",
   "pygments_lexer": "ipython3",
   "version": "3.11.9"
  }
 },
 "nbformat": 4,
 "nbformat_minor": 5
}
