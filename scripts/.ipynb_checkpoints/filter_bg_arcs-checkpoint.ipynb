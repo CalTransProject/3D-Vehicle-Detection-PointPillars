{
 "cells": [
  {
   "cell_type": "markdown",
   "id": "b6e7e623-3db1-47b0-a2a9-dd076b04be2b",
   "metadata": {},
   "source": [
    "# Filter each stationary frame"
   ]
  },
  {
   "cell_type": "code",
   "execution_count": 412,
   "id": "7a689bb4-b129-40f6-a07a-2c94e6604124",
   "metadata": {},
   "outputs": [],
   "source": [
    "import itertools\n",
    "import json\n",
    "import os\n",
    "import random\n",
    "import time\n",
    "import matplotlib.pyplot as plt\n",
    "import numpy as np\n",
    "import pandas as pd\n",
    "from mpl_toolkits.mplot3d import Axes3D\n",
    "from pathlib import Path\n",
    "from utils.filter_eval import evaluate_filter\n",
    "from collections import defaultdict"
   ]
  },
  {
   "cell_type": "markdown",
   "id": "a0bd788e-d8f5-4621-84a5-764b6f1f59ff",
   "metadata": {},
   "source": [
    "## Constants and such"
   ]
  },
  {
   "cell_type": "code",
   "execution_count": 414,
   "id": "f77dba0c-506d-41f7-94e0-1f78bd80b165",
   "metadata": {},
   "outputs": [],
   "source": [
    "# Set background map resolutions\n",
    "azimuth_resolution = 0.01\n",
    "height_resolution = 0.25\n",
    "std_dev_cutoff = 1.5"
   ]
  },
  {
   "cell_type": "code",
   "execution_count": 415,
   "id": "73db7eb6-b3f9-4a18-b7bd-a7d6d7515511",
   "metadata": {},
   "outputs": [],
   "source": [
    "DATA_DIR_ROOT = '../data'"
   ]
  },
  {
   "cell_type": "code",
   "execution_count": 416,
   "id": "b776a837-da24-497c-ae95-997425d96683",
   "metadata": {},
   "outputs": [],
   "source": [
    "# Set to true if you want to make a new distances table, otherwise, will load previous map\n",
    "# Set everything to false if you just want to filter frames\n",
    "make_new_distances_df = False\n",
    "make_new_lookup_table = False\n",
    "new_grid_search = False"
   ]
  },
  {
   "cell_type": "markdown",
   "id": "af74dafa-7133-428b-8799-dbe0d7d67127",
   "metadata": {},
   "source": [
    "## First, functions for making background map"
   ]
  },
  {
   "cell_type": "code",
   "execution_count": 418,
   "id": "2b0b2769-48b9-4b86-a127-a6ac5089a830",
   "metadata": {},
   "outputs": [],
   "source": [
    "# # Create mappings for azimuth and height using integers\n",
    "# def create_mappings(azimuth_step=azimuth_resolution, height_step=height_resolution):\n",
    "#     azimuth_range = np.arange(-180, 180 + azimuth_step, azimuth_step)\n",
    "#     # print(azimuth_range)\n",
    "#     height_range = np.arange(-30, 10 + height_step, height_step)\n",
    "#     azimuth_map = {int(az * 10): idx for idx, az in enumerate(azimuth_range)}\n",
    "#     height_map = {int(ht * 10): idx for idx, ht in enumerate(height_range)}\n",
    "#     return azimuth_map, height_map"
   ]
  },
  {
   "cell_type": "code",
   "execution_count": 419,
   "id": "8cc7a47d-0512-4f9f-b963-ac8c1fcb8a66",
   "metadata": {},
   "outputs": [],
   "source": [
    "# test, _ = create_mappings()"
   ]
  },
  {
   "cell_type": "code",
   "execution_count": 420,
   "id": "70288063-3d78-43f1-a555-1d38d09874e8",
   "metadata": {},
   "outputs": [],
   "source": [
    "# print(test)"
   ]
  },
  {
   "cell_type": "code",
   "execution_count": 421,
   "id": "66ecb337-107d-4cf3-8faf-be3dcd1ad7da",
   "metadata": {},
   "outputs": [],
   "source": [
    "# Create mappings for azimuth and height using integers\n",
    "def create_mappings(azimuth_step=azimuth_resolution, height_step=height_resolution):\n",
    "    # Create ranges and multiply by 10 to convert to integers\n",
    "    azimuth_range = np.arange(-180, 180 + azimuth_step, azimuth_step) * 100\n",
    "    print(azimuth_range)\n",
    "    \n",
    "    height_range = np.arange(-30, 10 + height_step, height_step) * 100\n",
    "    \n",
    "    # Convert to integers and create dictionaries to map azimuth/height to index\n",
    "    azimuth_map = {int(az): idx for idx, az in enumerate(azimuth_range)}\n",
    "    height_map = {int(ht): idx for idx, ht in enumerate(height_range)}\n",
    "    return azimuth_map, height_map"
   ]
  },
  {
   "cell_type": "code",
   "execution_count": 422,
   "id": "1929e0e2-c347-4d98-983f-58da77e6815e",
   "metadata": {},
   "outputs": [],
   "source": [
    "# test, _ = create_mappings()"
   ]
  },
  {
   "cell_type": "code",
   "execution_count": 423,
   "id": "39f724e2-15bf-4f35-b560-9d0d15606462",
   "metadata": {},
   "outputs": [],
   "source": [
    "# Create the grid DataFrames\n",
    "def create_grid_dataframes():\n",
    "    azimuth_map, height_map = create_mappings()\n",
    "    grid_shape = (len(height_map), len(azimuth_map))\n",
    "    df_distances = pd.DataFrame({key: [[] for _ in range(len(height_map))] \\\n",
    "                                 for key in azimuth_map.keys()}, index=height_map.keys())\n",
    "    df_intensities = pd.DataFrame({key: [[] for _ in range(len(height_map))] \\\n",
    "                                   for key in azimuth_map.keys()}, index=height_map.keys())\n",
    "    return df_distances, df_intensities, azimuth_map, height_map"
   ]
  },
  {
   "cell_type": "code",
   "execution_count": 424,
   "id": "e7bdd19f-2007-4f01-9aaa-bdeb654350a6",
   "metadata": {},
   "outputs": [],
   "source": [
    "# test_df, _, _, _ = create_grid_dataframes()"
   ]
  },
  {
   "cell_type": "code",
   "execution_count": 425,
   "id": "c8b98ecc-b432-492e-8376-2641a91e8489",
   "metadata": {},
   "outputs": [],
   "source": [
    "# test_df"
   ]
  },
  {
   "cell_type": "code",
   "execution_count": 426,
   "id": "87791ed8-709c-43ec-808f-a7f735d6cf9b",
   "metadata": {},
   "outputs": [],
   "source": [
    "# Process file into grid\n",
    "def process_files_to_grid(data_dir):\n",
    "    # Create empty grid\n",
    "    df_distances, df_intensities, azimuth_map, height_map = create_grid_dataframes()\n",
    "\n",
    "    lidar_dir = Path(data_dir, 'velodyne_points')\n",
    "\n",
    "    # Get a list of all the file paths\n",
    "    all_files = list(lidar_dir.iterdir())\n",
    "    \n",
    "    # Randomly select 100 files from the list\n",
    "    files_to_process = random.sample(all_files, 1000)\n",
    "    \n",
    "    # For each file in the random selection\n",
    "    for file_path in files_to_process:\n",
    "\n",
    "    # For each file in the directory\n",
    "    # for file_path in lidar_dir.iterdir():\n",
    "        print('.', end ='')\n",
    "        data = np.fromfile(file_path, dtype=np.float32).reshape(-1, 4)\n",
    "        for x, y, z, intensity in data:\n",
    "            # Convert to azimuth, height, distance format\n",
    "            distance = np.sqrt(x**2 + y**2 + z**2)\n",
    "            azimuth = np.degrees(np.arctan2(y, x))\n",
    "            height = np.degrees(np.arctan2(z, np.sqrt(x**2 + y**2)))\n",
    "            # Convert and scale\n",
    "\n",
    "            azimuth_idx = (np.floor((azimuth + 180) / azimuth_resolution) * azimuth_resolution * 100 - 18000).astype(int)\n",
    "            height_idx = (np.floor((height + 30) / height_resolution) * height_resolution * 100 - 3000).astype(int)\n",
    "\n",
    "            \n",
    "            # Update DataFrames directly using indices\n",
    "            if azimuth_idx in azimuth_map and height_idx in height_map:\n",
    "                df_distances.at[height_idx, azimuth_idx].append(distance)\n",
    "    return df_distances"
   ]
  },
  {
   "cell_type": "code",
   "execution_count": 427,
   "id": "f5a3047f-0ff9-48d2-b55d-32db785fa222",
   "metadata": {},
   "outputs": [],
   "source": [
    "def get_distances_dataframe(dir):\n",
    "    # Get the distances of the background map from the lidar files\n",
    "    # if make_new_map or not files_exist(\"df_distances.pkl\", \"df_intensities.pkl\"):\n",
    "    if make_new_distances_df:\n",
    "        df_distances = process_files_to_grid(dir)\n",
    "\n",
    "        return df_distances\n",
    "    if not make_new_lookup_table:\n",
    "        print('\\nSkip loading dataframe')\n",
    "        return pd.DataFrame()\n",
    "    else:\n",
    "        # Load the DataFrames\n",
    "        print('\\nLoading dataframe')\n",
    "        df_distances = pd.read_pickle(\"1000_frame_df_distances_01_25.pkl\")\n",
    "        return df_distances\n",
    "    "
   ]
  },
  {
   "cell_type": "code",
   "execution_count": 428,
   "id": "24d4269d-47cb-493e-b4ca-5b2d38c6f39f",
   "metadata": {},
   "outputs": [],
   "source": [
    "def files_exist(*files):\n",
    "    return all(os.path.exists(file) for file in files)"
   ]
  },
  {
   "cell_type": "code",
   "execution_count": 429,
   "id": "f812ab97-3276-4a0b-9753-f523a23cd5fa",
   "metadata": {},
   "outputs": [],
   "source": [
    "def get_cutoff_base(cutoff_base_param, distances):\n",
    "    if cutoff_base_param == 'average':\n",
    "        return np.mean(distances)\n",
    "    elif cutoff_base_param == 'first_quartile':\n",
    "        return np.percentile(distances, 25)\n",
    "    elif cutoff_base_param == 'median':\n",
    "        return np.median(distances)\n",
    "    elif cutoff_base_param == 'third_quartile':\n",
    "        return np.percentile(distances, 75)\n",
    "    elif cutoff_base_param == 'maximum':\n",
    "        return np.max(distances)\n",
    "    else:\n",
    "        print(cutoff_base_param + ' is not a valid cutoff_base value')\n",
    "    return 0"
   ]
  },
  {
   "cell_type": "code",
   "execution_count": 430,
   "id": "2a3cda83-3ac4-4936-8d53-9174fe6ffa75",
   "metadata": {},
   "outputs": [],
   "source": [
    "def get_adjustment_direction_param(adjustment_direction_param, distances):\n",
    "    if adjustment_direction_param == 'add':\n",
    "        return 1\n",
    "    elif adjustment_direction_param == 'subtract':\n",
    "        return -1\n",
    "    else:\n",
    "        print(adjustment_direction_param + ' is not a valid adjustment_direction_param value')\n",
    "    return 0 "
   ]
  },
  {
   "cell_type": "code",
   "execution_count": 431,
   "id": "e41fbb6f-1349-49b0-9fdd-3b50179bbd9e",
   "metadata": {},
   "outputs": [],
   "source": [
    "def get_adjustment_parameter_param(adjustment_param, distances):\n",
    "    if adjustment_param == 'constant':\n",
    "        return 1\n",
    "    elif adjustment_param == 'standard_deviation':\n",
    "        return np.std(distances)\n",
    "    else:\n",
    "        print(adjustment_param + ' is not a valid adjustment_param value')\n",
    "    return 0"
   ]
  },
  {
   "cell_type": "code",
   "execution_count": 432,
   "id": "2ad2f6f2-a42d-48c0-bbb8-b7bacb00fde2",
   "metadata": {},
   "outputs": [],
   "source": [
    "def get_adjustment_factor_param(adjustment_factor_param, distances):\n",
    "    if adjustment_factor_param == 'average':\n",
    "        return np.mean(distances)\n",
    "    elif adjustment_factor_param == 'first_quartile':\n",
    "        return np.percentile(distances, 25)\n",
    "    elif adjustment_factor_param == 'median':\n",
    "        return np.median(distances)\n",
    "    elif adjustment_factor_param == 'third_quartile':\n",
    "        return np.percentile(distances, 75)\n",
    "    elif adjustment_factor_param == 'maximum':\n",
    "        return np.max(distances)\n",
    "    else:\n",
    "        print(adjustment_factor_param + ' is not a valid cutoff_base value')\n",
    "    return 0"
   ]
  },
  {
   "cell_type": "code",
   "execution_count": 433,
   "id": "e27c9a29-1f32-447a-b08f-0dcf82274fcf",
   "metadata": {},
   "outputs": [],
   "source": [
    "def get_background_lookup_table(df_distances, cutoff_base_param='maximum', adjustment_direction_param='add', \n",
    "                                adjustment_param='standard_deviation', adjustment_factor=2):\n",
    "    if make_new_lookup_table or new_grid_search:\n",
    "        # CHANGE THIS TO USE DEFAULT OR GIVEN PARAMETERS\n",
    "        # Create a new DataFrame with the same index and columns as df_distances\n",
    "        lookup_table = pd.DataFrame(index=df_distances.index, columns=df_distances.columns)\n",
    "        # Iterate through each cell in df_distances\n",
    "        for (height, azimuth), distances in df_distances.stack().items():\n",
    "            # If the list is not empty\n",
    "            if distances:\n",
    "                # print(distances)\n",
    "                # Get cutoff value\n",
    "                # cutoff_base = get_cutoff_base(cutoff_base_param, distances)\n",
    "                # adj_direction = get_adjustment_direction_param(adjustment_direction_param, distances)\n",
    "                # adj = get_adjustment_parameter_param(adjustment_param, distances)\n",
    "                \n",
    "                # value = adj_direction * (adj * adjustment_factor) + cutoff_base\n",
    "                value = np.max(distances) - 0.5\n",
    "                # print(value)\n",
    "            else:\n",
    "                # print('empty', end=', ')\n",
    "                value = np.nan  # If the list is empty, set the cell to NaN\n",
    "    \n",
    "            # Set the value in the new DataFrame\n",
    "            lookup_table.at[height, azimuth] = value\n",
    "\n",
    "        if make_new_lookup_table: \n",
    "            # Save the DataFrames\n",
    "            print('\\nSaving lookup table')\n",
    "            lookup_table.to_pickle(\"sample_lookup_table.pkl\")\n",
    "    else:\n",
    "        # Load the DataFrames\n",
    "        print('\\nLoading lookup table')\n",
    "        lookup_table = pd.read_pickle(\"1000_frame_min_05_lookup_table_01_25.pkl\")\n",
    "\n",
    "    return lookup_table"
   ]
  },
  {
   "cell_type": "code",
   "execution_count": 434,
   "id": "c70de6db-794c-4f31-9d91-6619d206daf2",
   "metadata": {},
   "outputs": [
    {
     "name": "stdout",
     "output_type": "stream",
     "text": [
      "\n",
      "Skip loading dataframe\n"
     ]
    }
   ],
   "source": [
    "dir = Path(DATA_DIR_ROOT)\n",
    "\n",
    "df_distances = get_distances_dataframe(dir)"
   ]
  },
  {
   "cell_type": "code",
   "execution_count": 435,
   "id": "579c7127-746d-4ccf-b5aa-e5a2733c15f5",
   "metadata": {},
   "outputs": [],
   "source": [
    "if make_new_distances_df: \n",
    "    # Save the DataFrames\n",
    "    print('\\nSaving dataframe')\n",
    "    df_distances.to_pickle(\"new_df_distances.pkl\")"
   ]
  },
  {
   "cell_type": "code",
   "execution_count": null,
   "id": "ca61148d-ad7b-4c62-9ed0-7bd11f269b92",
   "metadata": {},
   "outputs": [],
   "source": []
  },
  {
   "cell_type": "markdown",
   "id": "6231c973-5d7e-476e-9fc5-44c09d4ef27c",
   "metadata": {},
   "source": [
    "## Filtering and saving functions"
   ]
  },
  {
   "cell_type": "code",
   "execution_count": 437,
   "id": "af930e13-e6a1-43ce-86e0-666e9f94801f",
   "metadata": {},
   "outputs": [],
   "source": [
    "def convert_to_dataframe(bin_path):\n",
    "    pre_filtered_data = np.fromfile(bin_path, dtype=np.float32).reshape(-1, 4) \n",
    "    columns = ['x', 'y', 'z', 'intensity']\n",
    "    df = pd.DataFrame(pre_filtered_data, columns=columns)\n",
    "    return df"
   ]
  },
  {
   "cell_type": "code",
   "execution_count": 438,
   "id": "b95c4d38-7e51-4d13-8b98-8c683e7ba7c2",
   "metadata": {},
   "outputs": [],
   "source": [
    "def add_lookup_coords_to_xyz(points_df):\n",
    "    # print(points_df)\n",
    "    # Calculate the distance, azimuth, and height using vectorized operations\n",
    "    x, y, z, intensity = points_df['x'], points_df['y'], points_df['z'], points_df['intensity']\n",
    "    distance = np.sqrt(x**2 + y**2 + z**2)\n",
    "    azimuth = np.degrees(np.arctan2(y, x))\n",
    "    # print(azimuth)\n",
    "    height = np.degrees(np.arctan2(z, np.sqrt(x**2 + y**2)))\n",
    "    \n",
    "    # Convert and scale\n",
    "    azimuth_idx = (np.floor((azimuth + 180) / azimuth_resolution) * azimuth_resolution * 100 - 18000).astype(int)\n",
    "    height_idx = (np.floor((height + 30) / height_resolution) * height_resolution * 100 - 3000).astype(int)\n",
    "    \n",
    "    # Add new columns to dataframe\n",
    "    points_df['distance'] = distance\n",
    "    points_df['azimuth_idx'] = azimuth_idx\n",
    "    points_df['height_idx'] = height_idx\n",
    "    \n",
    "    return points_df"
   ]
  },
  {
   "cell_type": "code",
   "execution_count": 439,
   "id": "991b67a9-ee7e-48c5-b741-9819e4ce580a",
   "metadata": {},
   "outputs": [],
   "source": [
    "def filter_points(frame_path, lookup_table):\n",
    "    pre_filtered_points = convert_to_dataframe(frame_path)\n",
    "    # Add lookup table coordinates\n",
    "    pre_filtered_grid_lookup = add_lookup_coords_to_xyz(pre_filtered_points)\n",
    "    \n",
    "    # Convert 'azimuth_idx' and 'height_idx' to integers\n",
    "    pre_filtered_grid_lookup['azimuth_idx'] = pre_filtered_grid_lookup['azimuth_idx'].astype(int)\n",
    "    pre_filtered_grid_lookup['height_idx'] = pre_filtered_grid_lookup['height_idx'].astype(int)\n",
    "    \n",
    "    # Set index to ['height_idx', 'azimuth_idx']\n",
    "    pre_filtered_grid_lookup_indexed = pre_filtered_grid_lookup.set_index(['height_idx', 'azimuth_idx'])\n",
    "    \n",
    "    # Create a Series from the lookup table with a MultiIndex\n",
    "    lookup_series = lookup_table.stack()\n",
    "    \n",
    "    # Reindex the lookup values to align with the DataFrame's index\n",
    "    lookup_values = lookup_series.reindex(pre_filtered_grid_lookup_indexed.index)\n",
    "    \n",
    "    # Create a mask for indices that exist in the lookup_table\n",
    "    indices_in_lookup = lookup_values.index.isin(lookup_series.index)\n",
    "    \n",
    "    # Create the condition based on your filtering criteria\n",
    "    condition = (\n",
    "        indices_in_lookup & (\n",
    "            lookup_values.isna() | \n",
    "            (pre_filtered_grid_lookup_indexed['distance'] < lookup_values)\n",
    "        )\n",
    "    )\n",
    "    \n",
    "    # Apply the condition to filter the DataFrame\n",
    "    filtered_df = pre_filtered_grid_lookup_indexed[condition].reset_index()\n",
    "    \n",
    "    return filtered_df\n"
   ]
  },
  {
   "cell_type": "code",
   "execution_count": 440,
   "id": "e77a6403-4e34-45d3-8ae4-f3ca96710410",
   "metadata": {},
   "outputs": [],
   "source": [
    "def save_as_binary(df, bin_path):\n",
    "    try:\n",
    "        # Ensure the DataFrame is in the correct order and data type\n",
    "        data = df[['x', 'y', 'z', 'intensity']].astype(np.float32).values\n",
    "        \n",
    "        # Write the data to a binary file\n",
    "        data.tofile(bin_path)\n",
    "    except:\n",
    "        print('could not save :' + str(bin_path))"
   ]
  },
  {
   "cell_type": "code",
   "execution_count": 441,
   "id": "9f742807-8599-44f8-a52e-7b5b14f12cd3",
   "metadata": {},
   "outputs": [],
   "source": [
    "def filter_frames(source_dir, save_dir, background_lookup_table, subset_size=1):   \n",
    "    # Get just the file names\n",
    "    files = [f for f in os.listdir(source_dir) if f.endswith('.bin')]\n",
    "\n",
    "    if subset_size < 1:\n",
    "        # Get subset of files to check\n",
    "        random.shuffle(files)\n",
    "        total_files = len(files)\n",
    "        subset_num = int(total_files * subset_size)\n",
    "    else:\n",
    "        subset_num = len(files)\n",
    "    print('Filtering frames ')\n",
    "    # For each file\n",
    "    for filename in files[:subset_num]:\n",
    "        # Append file name to location\n",
    "        print(filename, end=', ')\n",
    "        from_file = Path(source_dir, filename)\n",
    "\n",
    "        # Filter file\n",
    "        filtered_df = filter_points(from_file, background_lookup_table)\n",
    "\n",
    "        # APPEND FILE NAME TO NEW LOCATION\n",
    "        to_file = Path(save_dir, filename)\n",
    "\n",
    "        # CONVERT BACK TO BINARY and save\n",
    "        save_as_binary(filtered_df, to_file)"
   ]
  },
  {
   "cell_type": "markdown",
   "id": "70999390-ce49-4fcf-b607-0f5424ca3fa8",
   "metadata": {},
   "source": [
    "## Grid search for lookup table"
   ]
  },
  {
   "cell_type": "code",
   "execution_count": 443,
   "id": "74a3f7bb-0681-4c61-8acd-a4bde7e7972f",
   "metadata": {},
   "outputs": [],
   "source": [
    "# Grid search parameters to find best lookup table\n",
    "# parameters = {\n",
    "#     'cutoff_base': ['average', 'first_quartile', 'median', 'third_quartile', 'maximum'],\n",
    "#     'adjustment_direction': ['add', 'subtract'],\n",
    "#     'adjustment_parameter': ['constant', 'standard_deviation'],\n",
    "#     'adjustment_factor': [0, 0.5, 1, 1.5, 2]\n",
    "# }\n",
    "\n",
    "parameters = {\n",
    "    'cutoff_base': ['average', 'median', 'third_quartile', 'maximum'],\n",
    "    'adjustment_direction': ['add', 'subtract'],\n",
    "    'adjustment_parameter': ['standard_deviation'],\n",
    "    'adjustment_factor': [0, 0.5, 1, 1.5, 2]\n",
    "}\n",
    "\n",
    "parameters = {\n",
    "    'cutoff_base': ['average', 'median', 'third_quartile', 'maximum'],\n",
    "    'adjustment_direction': ['add', 'subtract'],\n",
    "    'adjustment_parameter': ['standard_deviation'],\n",
    "    'adjustment_factor': [0, 0.5, 1, 1.5, 2]\n",
    "}"
   ]
  },
  {
   "cell_type": "code",
   "execution_count": 444,
   "id": "f10ae32c-df2e-4c2d-84bf-7418a1d8d939",
   "metadata": {},
   "outputs": [],
   "source": [
    "# Generate all combinations of parameters\n",
    "all_combinations = list(itertools.product(\n",
    "    parameters['cutoff_base'],\n",
    "    parameters['adjustment_direction'],\n",
    "    parameters['adjustment_parameter'],\n",
    "    parameters['adjustment_factor']\n",
    "))"
   ]
  },
  {
   "cell_type": "code",
   "execution_count": 445,
   "id": "fceb1738-359d-4015-ac2f-04a800ae9cab",
   "metadata": {},
   "outputs": [
    {
     "name": "stdout",
     "output_type": "stream",
     "text": [
      "('average', 'add', 'standard_deviation', 0)\n",
      "('average', 'add', 'standard_deviation', 0.5)\n",
      "('average', 'add', 'standard_deviation', 1)\n",
      "('average', 'add', 'standard_deviation', 1.5)\n",
      "('average', 'add', 'standard_deviation', 2)\n",
      "('average', 'subtract', 'standard_deviation', 0)\n",
      "('average', 'subtract', 'standard_deviation', 0.5)\n",
      "('average', 'subtract', 'standard_deviation', 1)\n",
      "('average', 'subtract', 'standard_deviation', 1.5)\n",
      "('average', 'subtract', 'standard_deviation', 2)\n",
      "('median', 'add', 'standard_deviation', 0)\n",
      "('median', 'add', 'standard_deviation', 0.5)\n",
      "('median', 'add', 'standard_deviation', 1)\n",
      "('median', 'add', 'standard_deviation', 1.5)\n",
      "('median', 'add', 'standard_deviation', 2)\n",
      "('median', 'subtract', 'standard_deviation', 0)\n",
      "('median', 'subtract', 'standard_deviation', 0.5)\n",
      "('median', 'subtract', 'standard_deviation', 1)\n",
      "('median', 'subtract', 'standard_deviation', 1.5)\n",
      "('median', 'subtract', 'standard_deviation', 2)\n",
      "('third_quartile', 'add', 'standard_deviation', 0)\n",
      "('third_quartile', 'add', 'standard_deviation', 0.5)\n",
      "('third_quartile', 'add', 'standard_deviation', 1)\n",
      "('third_quartile', 'add', 'standard_deviation', 1.5)\n",
      "('third_quartile', 'add', 'standard_deviation', 2)\n",
      "('third_quartile', 'subtract', 'standard_deviation', 0)\n",
      "('third_quartile', 'subtract', 'standard_deviation', 0.5)\n",
      "('third_quartile', 'subtract', 'standard_deviation', 1)\n",
      "('third_quartile', 'subtract', 'standard_deviation', 1.5)\n",
      "('third_quartile', 'subtract', 'standard_deviation', 2)\n",
      "('maximum', 'add', 'standard_deviation', 0)\n",
      "('maximum', 'add', 'standard_deviation', 0.5)\n",
      "('maximum', 'add', 'standard_deviation', 1)\n",
      "('maximum', 'add', 'standard_deviation', 1.5)\n",
      "('maximum', 'add', 'standard_deviation', 2)\n",
      "('maximum', 'subtract', 'standard_deviation', 0)\n",
      "('maximum', 'subtract', 'standard_deviation', 0.5)\n",
      "('maximum', 'subtract', 'standard_deviation', 1)\n",
      "('maximum', 'subtract', 'standard_deviation', 1.5)\n",
      "('maximum', 'subtract', 'standard_deviation', 2)\n"
     ]
    }
   ],
   "source": [
    "for combination in all_combinations:\n",
    "    print(combination)"
   ]
  },
  {
   "cell_type": "code",
   "execution_count": 446,
   "id": "42671bbb-a16c-423a-8885-2533a544b4c4",
   "metadata": {},
   "outputs": [],
   "source": [
    "def delete_contents(folder_path):\n",
    "    # Check if the folder exists\n",
    "    if not os.path.isdir(folder_path):\n",
    "        raise ValueError(f\"Folder does not exist: {folder_path}\")\n",
    "\n",
    "    # Iterate over all files in the folder and delete them\n",
    "    for filename in os.listdir(folder_path):\n",
    "        file_path = os.path.join(folder_path, filename)\n",
    "        try:\n",
    "            if os.path.isfile(file_path) or os.path.islink(file_path):\n",
    "                os.unlink(file_path)  # Removes the file or link\n",
    "        except Exception as e:\n",
    "            print(f\"Failed to delete {file_path}. Reason: {e}\")"
   ]
  },
  {
   "cell_type": "code",
   "execution_count": 447,
   "id": "9458b476-ed96-47c8-9aa6-80d588671002",
   "metadata": {},
   "outputs": [],
   "source": [
    "def get_best_params(grid_search_results):\n",
    "    high_score = 0\n",
    "    best_key = ''\n",
    "    for param_combo_key in grid_search_results:\n",
    "        score = 2.5 * grid_search_results[param_combo_key]['results']['percent_retained_label_points'] - \\\n",
    "                                        grid_search_results[param_combo_key]['results']['percent_retained_non_label_points']\n",
    "        if score > high_score:\n",
    "            high_score = score\n",
    "            best_key = param_combo_key\n",
    "    return grid_search_results[best_key]['parameters'], best_key"
   ]
  },
  {
   "cell_type": "code",
   "execution_count": 448,
   "id": "53c87729-e71f-4a51-8671-cc42e5bfcde0",
   "metadata": {},
   "outputs": [
    {
     "name": "stdout",
     "output_type": "stream",
     "text": [
      "..\\data\\velodyne_points\n"
     ]
    }
   ],
   "source": [
    "# Create a new folder for the filtered frames in the directory\n",
    "filter_save_dir = Path(DATA_DIR_ROOT, 'sample_filtered_points')\n",
    "filter_save_dir.mkdir(exist_ok=True)\n",
    "\n",
    "lidar_dir = Path(DATA_DIR_ROOT, 'velodyne_points')\n",
    "temp_lidar_dir = Path('temp_lidar')\n",
    "temp_label_dir = Path('temp_label')\n",
    "label_dir = Path(DATA_DIR_ROOT, 'labels')\n",
    "print(lidar_dir)"
   ]
  },
  {
   "cell_type": "code",
   "execution_count": 449,
   "id": "84932177-9fa7-4178-92c8-c912bb262fff",
   "metadata": {
    "jupyter": {
     "source_hidden": true
    }
   },
   "outputs": [],
   "source": [
    "grid_search_results = {}\n",
    "\n",
    "def find_best_lookup_table():\n",
    "    # For each combination of parameters\n",
    "    for params in all_combinations:\n",
    "        print('Checking parameters: ' + str(params))\n",
    "        # Make new lookup table\n",
    "        lookup_table = get_background_lookup_table(df_distances, \n",
    "                                                   cutoff_base_param=params[0], \n",
    "                                                   adjustment_direction_param=params[1], \n",
    "                                                   adjustment_param=params[2], \n",
    "                                                   adjustment_factor=params[3])\n",
    "        # Empty temp file\n",
    "        delete_contents('temp_lidar')\n",
    "        # delete_contents('temp_labels')\n",
    "        time.sleep(3)\n",
    "        # Filter subset of data\n",
    "        filter_frames(lidar_dir, temp_lidar_dir, lookup_table, subset_size=.01)\n",
    "        # Evaluate filtered data\n",
    "        print('\\nEvaluating results ')\n",
    "        results = evaluate_filter(temp_lidar_dir, label_dir, 'arcs_filtered')\n",
    "        print()\n",
    "        for key in results:\n",
    "            print(key + ': ' + str(results[key]))\n",
    "        print()\n",
    "\n",
    "        # Create parameter combination key\n",
    "        param_combo_key = params[0][0] + params[0][1] + '_' + params[1][0] + '_' + params[2][0] + '_' + str(params[3])\n",
    "        # Store results in results dictionary\n",
    "        grid_search_results[param_combo_key] = {'parameters': params,\n",
    "                                                'results': results}\n",
    "\n",
    "    best_params, best_params_key = get_best_params(grid_search_results)\n",
    "\n",
    "    return best_params, best_params_key"
   ]
  },
  {
   "cell_type": "code",
   "execution_count": 450,
   "id": "639cb573-5c95-4d31-aa22-862a1b2a4077",
   "metadata": {},
   "outputs": [
    {
     "name": "stdout",
     "output_type": "stream",
     "text": [
      "\n",
      "Loading lookup table\n"
     ]
    },
    {
     "ename": "FileNotFoundError",
     "evalue": "[Errno 2] No such file or directory: '1000_frame_min_05_lookup_table_01_25.pkl.pkl'",
     "output_type": "error",
     "traceback": [
      "\u001b[1;31m---------------------------------------------------------------------------\u001b[0m",
      "\u001b[1;31mFileNotFoundError\u001b[0m                         Traceback (most recent call last)",
      "Cell \u001b[1;32mIn[450], line 14\u001b[0m\n\u001b[0;32m     11\u001b[0m     background_distance_lookup_table\u001b[38;5;241m.\u001b[39mto_pickle(\u001b[38;5;124m'\u001b[39m\u001b[38;5;124mlookup_table_\u001b[39m\u001b[38;5;124m'\u001b[39m \u001b[38;5;241m+\u001b[39m best_param_key \u001b[38;5;241m+\u001b[39m \u001b[38;5;124m'\u001b[39m\u001b[38;5;124m.pkl\u001b[39m\u001b[38;5;124m'\u001b[39m)\n\u001b[0;32m     12\u001b[0m \u001b[38;5;28;01melse\u001b[39;00m:\n\u001b[0;32m     13\u001b[0m     \u001b[38;5;66;03m# Create background lookup table for distance cutoffs\u001b[39;00m\n\u001b[1;32m---> 14\u001b[0m     background_distance_lookup_table \u001b[38;5;241m=\u001b[39m get_background_lookup_table(df_distances)\n",
      "Cell \u001b[1;32mIn[433], line 34\u001b[0m, in \u001b[0;36mget_background_lookup_table\u001b[1;34m(df_distances, cutoff_base_param, adjustment_direction_param, adjustment_param, adjustment_factor)\u001b[0m\n\u001b[0;32m     31\u001b[0m \u001b[38;5;28;01melse\u001b[39;00m:\n\u001b[0;32m     32\u001b[0m     \u001b[38;5;66;03m# Load the DataFrames\u001b[39;00m\n\u001b[0;32m     33\u001b[0m     \u001b[38;5;28mprint\u001b[39m(\u001b[38;5;124m'\u001b[39m\u001b[38;5;130;01m\\n\u001b[39;00m\u001b[38;5;124mLoading lookup table\u001b[39m\u001b[38;5;124m'\u001b[39m)\n\u001b[1;32m---> 34\u001b[0m     lookup_table \u001b[38;5;241m=\u001b[39m pd\u001b[38;5;241m.\u001b[39mread_pickle(\u001b[38;5;124m\"\u001b[39m\u001b[38;5;124m1000_frame_min_05_lookup_table_01_25.pkl.pkl\u001b[39m\u001b[38;5;124m\"\u001b[39m)\n\u001b[0;32m     36\u001b[0m \u001b[38;5;28;01mreturn\u001b[39;00m lookup_table\n",
      "File \u001b[1;32m~\\anaconda3\\Lib\\site-packages\\pandas\\io\\pickle.py:185\u001b[0m, in \u001b[0;36mread_pickle\u001b[1;34m(filepath_or_buffer, compression, storage_options)\u001b[0m\n\u001b[0;32m    123\u001b[0m \u001b[38;5;250m\u001b[39m\u001b[38;5;124;03m\"\"\"\u001b[39;00m\n\u001b[0;32m    124\u001b[0m \u001b[38;5;124;03mLoad pickled pandas object (or any object) from file.\u001b[39;00m\n\u001b[0;32m    125\u001b[0m \n\u001b[1;32m   (...)\u001b[0m\n\u001b[0;32m    182\u001b[0m \u001b[38;5;124;03m4    4    9\u001b[39;00m\n\u001b[0;32m    183\u001b[0m \u001b[38;5;124;03m\"\"\"\u001b[39;00m\n\u001b[0;32m    184\u001b[0m excs_to_catch \u001b[38;5;241m=\u001b[39m (\u001b[38;5;167;01mAttributeError\u001b[39;00m, \u001b[38;5;167;01mImportError\u001b[39;00m, \u001b[38;5;167;01mModuleNotFoundError\u001b[39;00m, \u001b[38;5;167;01mTypeError\u001b[39;00m)\n\u001b[1;32m--> 185\u001b[0m \u001b[38;5;28;01mwith\u001b[39;00m get_handle(\n\u001b[0;32m    186\u001b[0m     filepath_or_buffer,\n\u001b[0;32m    187\u001b[0m     \u001b[38;5;124m\"\u001b[39m\u001b[38;5;124mrb\u001b[39m\u001b[38;5;124m\"\u001b[39m,\n\u001b[0;32m    188\u001b[0m     compression\u001b[38;5;241m=\u001b[39mcompression,\n\u001b[0;32m    189\u001b[0m     is_text\u001b[38;5;241m=\u001b[39m\u001b[38;5;28;01mFalse\u001b[39;00m,\n\u001b[0;32m    190\u001b[0m     storage_options\u001b[38;5;241m=\u001b[39mstorage_options,\n\u001b[0;32m    191\u001b[0m ) \u001b[38;5;28;01mas\u001b[39;00m handles:\n\u001b[0;32m    192\u001b[0m     \u001b[38;5;66;03m# 1) try standard library Pickle\u001b[39;00m\n\u001b[0;32m    193\u001b[0m     \u001b[38;5;66;03m# 2) try pickle_compat (older pandas version) to handle subclass changes\u001b[39;00m\n\u001b[0;32m    194\u001b[0m     \u001b[38;5;66;03m# 3) try pickle_compat with latin-1 encoding upon a UnicodeDecodeError\u001b[39;00m\n\u001b[0;32m    196\u001b[0m     \u001b[38;5;28;01mtry\u001b[39;00m:\n\u001b[0;32m    197\u001b[0m         \u001b[38;5;66;03m# TypeError for Cython complaints about object.__new__ vs Tick.__new__\u001b[39;00m\n\u001b[0;32m    198\u001b[0m         \u001b[38;5;28;01mtry\u001b[39;00m:\n",
      "File \u001b[1;32m~\\anaconda3\\Lib\\site-packages\\pandas\\io\\common.py:882\u001b[0m, in \u001b[0;36mget_handle\u001b[1;34m(path_or_buf, mode, encoding, compression, memory_map, is_text, errors, storage_options)\u001b[0m\n\u001b[0;32m    873\u001b[0m         handle \u001b[38;5;241m=\u001b[39m \u001b[38;5;28mopen\u001b[39m(\n\u001b[0;32m    874\u001b[0m             handle,\n\u001b[0;32m    875\u001b[0m             ioargs\u001b[38;5;241m.\u001b[39mmode,\n\u001b[1;32m   (...)\u001b[0m\n\u001b[0;32m    878\u001b[0m             newline\u001b[38;5;241m=\u001b[39m\u001b[38;5;124m\"\u001b[39m\u001b[38;5;124m\"\u001b[39m,\n\u001b[0;32m    879\u001b[0m         )\n\u001b[0;32m    880\u001b[0m     \u001b[38;5;28;01melse\u001b[39;00m:\n\u001b[0;32m    881\u001b[0m         \u001b[38;5;66;03m# Binary mode\u001b[39;00m\n\u001b[1;32m--> 882\u001b[0m         handle \u001b[38;5;241m=\u001b[39m \u001b[38;5;28mopen\u001b[39m(handle, ioargs\u001b[38;5;241m.\u001b[39mmode)\n\u001b[0;32m    883\u001b[0m     handles\u001b[38;5;241m.\u001b[39mappend(handle)\n\u001b[0;32m    885\u001b[0m \u001b[38;5;66;03m# Convert BytesIO or file objects passed with an encoding\u001b[39;00m\n",
      "\u001b[1;31mFileNotFoundError\u001b[0m: [Errno 2] No such file or directory: '1000_frame_min_05_lookup_table_01_25.pkl.pkl'"
     ]
    }
   ],
   "source": [
    "grid_search_results = {}\n",
    "# Load, create, or use grid search to find best lookup table\n",
    "if new_grid_search:\n",
    "    best_params, best_param_key = find_best_lookup_table()\n",
    "    background_distance_lookup_table  = get_background_lookup_table(df_distances, \n",
    "                                                   cutoff_base_param=best_params[0], \n",
    "                                                   adjustment_direction_param=best_params[1], \n",
    "                                                   adjustment_param=best_params[2], \n",
    "                                                   adjustment_factor=best_params[3])\n",
    "    print('\\nSaving lookup table: ' + best_param_key)\n",
    "    background_distance_lookup_table.to_pickle('lookup_table_' + best_param_key + '.pkl')\n",
    "else:\n",
    "    # Create background lookup table for distance cutoffs\n",
    "    background_distance_lookup_table = get_background_lookup_table(df_distances)"
   ]
  },
  {
   "cell_type": "code",
   "execution_count": null,
   "id": "760f81c7-a15d-4069-b1d2-edd637afe579",
   "metadata": {
    "jupyter": {
     "source_hidden": true
    }
   },
   "outputs": [],
   "source": [
    "print(grid_search_results)"
   ]
  },
  {
   "cell_type": "code",
   "execution_count": null,
   "id": "f7eb4a5f-b320-4b35-bbb8-cc57f6bc955b",
   "metadata": {},
   "outputs": [],
   "source": [
    "background_distance_lookup_table"
   ]
  },
  {
   "cell_type": "code",
   "execution_count": null,
   "id": "3f4c1335-10b0-4824-b94e-9f34903f604c",
   "metadata": {},
   "outputs": [],
   "source": [
    "# filled_lookup_table = background_distance_lookup_table.fillna(method='ffill', axis=0).fillna(method='bfill', axis=0)  # Fill along rows\n",
    "# filled_lookup_table = filled_lookup_table.fillna(method='ffill', axis=1).fillna(method='bfill', axis=1) \n",
    "filled_lookup_table = background_distance_lookup_table.ffill(axis=0).bfill(axis=0)  # Fill along rows\n",
    "filled_lookup_table = filled_lookup_table.ffill(axis=1).bfill(axis=1)"
   ]
  },
  {
   "cell_type": "code",
   "execution_count": null,
   "id": "d4783372-4e8c-4bd6-bbba-7d40b1c98adf",
   "metadata": {},
   "outputs": [],
   "source": [
    "filled_lookup_table"
   ]
  },
  {
   "cell_type": "code",
   "execution_count": null,
   "id": "f7d44ac6-1229-4c91-862c-18a44cfccd62",
   "metadata": {},
   "outputs": [],
   "source": [
    "# Filter and save each filtered frame\n",
    "# save_dir = Path(DATA_DIR_ROOT, 'test_folder')\n",
    "save_dir = Path(DATA_DIR_ROOT, 'filtered_points')\n",
    "# filter_frames(lidar_dir, save_dir, filled_lookup_table, subset_size=0.01)\n",
    "filter_frames(lidar_dir, save_dir, filled_lookup_table)"
   ]
  }
 ],
 "metadata": {
  "kernelspec": {
   "display_name": "Python 3 (ipykernel)",
   "language": "python",
   "name": "python3"
  },
  "language_info": {
   "codemirror_mode": {
    "name": "ipython",
    "version": 3
   },
   "file_extension": ".py",
   "mimetype": "text/x-python",
   "name": "python",
   "nbconvert_exporter": "python",
   "pygments_lexer": "ipython3",
   "version": "3.11.9"
  }
 },
 "nbformat": 4,
 "nbformat_minor": 5
}
