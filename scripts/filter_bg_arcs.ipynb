{
 "cells": [
  {
   "cell_type": "markdown",
   "id": "b6e7e623-3db1-47b0-a2a9-dd076b04be2b",
   "metadata": {},
   "source": [
    "# Filter each stationary frame"
   ]
  },
  {
   "cell_type": "code",
   "execution_count": 247,
   "id": "7a689bb4-b129-40f6-a07a-2c94e6604124",
   "metadata": {},
   "outputs": [],
   "source": [
    "import matplotlib.pyplot as plt\n",
    "import pandas as pd\n",
    "import numpy as np\n",
    "import json\n",
    "import os\n",
    "import itertools\n",
    "from mpl_toolkits.mplot3d import Axes3D\n",
    "from pathlib import Path"
   ]
  },
  {
   "cell_type": "markdown",
   "id": "a0bd788e-d8f5-4621-84a5-764b6f1f59ff",
   "metadata": {},
   "source": [
    "## Constants and such"
   ]
  },
  {
   "cell_type": "code",
   "execution_count": 249,
   "id": "f77dba0c-506d-41f7-94e0-1f78bd80b165",
   "metadata": {},
   "outputs": [],
   "source": [
    "# Set background map resolutions\n",
    "azimuth_resolution = 1\n",
    "height_resolution = 0.5\n",
    "std_dev_cutoff = 1.5"
   ]
  },
  {
   "cell_type": "code",
   "execution_count": 250,
   "id": "73db7eb6-b3f9-4a18-b7bd-a7d6d7515511",
   "metadata": {},
   "outputs": [],
   "source": [
    "DATA_DIR_ROOT = '../data'"
   ]
  },
  {
   "cell_type": "code",
   "execution_count": 251,
   "id": "b776a837-da24-497c-ae95-997425d96683",
   "metadata": {},
   "outputs": [],
   "source": [
    "# Set to true if you want to make a new map, otherwise, will load previous map\n",
    "make_new_map = True"
   ]
  },
  {
   "cell_type": "markdown",
   "id": "9373699a-6432-447a-9181-6f778fc03001",
   "metadata": {},
   "source": []
  },
  {
   "cell_type": "markdown",
   "id": "af74dafa-7133-428b-8799-dbe0d7d67127",
   "metadata": {},
   "source": [
    "## First, functions for making background map"
   ]
  },
  {
   "cell_type": "code",
   "execution_count": 254,
   "id": "2b0b2769-48b9-4b86-a127-a6ac5089a830",
   "metadata": {},
   "outputs": [],
   "source": [
    "# Create mappings for azimuth and height using integers\n",
    "def create_mappings(azimuth_step=azimuth_resolution, height_step=height_resolution):\n",
    "    azimuth_range = np.arange(-180, 180 + azimuth_step, azimuth_step)\n",
    "    height_range = np.arange(-30, 10 + height_step, height_step)\n",
    "    azimuth_map = {int(az * 10): idx for idx, az in enumerate(azimuth_range)}\n",
    "    height_map = {int(ht * 10): idx for idx, ht in enumerate(height_range)}\n",
    "    return azimuth_map, height_map"
   ]
  },
  {
   "cell_type": "code",
   "execution_count": 255,
   "id": "39f724e2-15bf-4f35-b560-9d0d15606462",
   "metadata": {},
   "outputs": [],
   "source": [
    "# Create the grid DataFrames\n",
    "def create_grid_dataframes():\n",
    "    azimuth_map, height_map = create_mappings()\n",
    "    grid_shape = (len(height_map), len(azimuth_map))\n",
    "    df_distances = pd.DataFrame({key: [[] for _ in range(len(height_map))] \\\n",
    "                                 for key in azimuth_map.keys()}, index=height_map.keys())\n",
    "    df_intensities = pd.DataFrame({key: [[] for _ in range(len(height_map))] \\\n",
    "                                   for key in azimuth_map.keys()}, index=height_map.keys())\n",
    "    return df_distances, df_intensities, azimuth_map, height_map"
   ]
  },
  {
   "cell_type": "code",
   "execution_count": 256,
   "id": "87791ed8-709c-43ec-808f-a7f735d6cf9b",
   "metadata": {},
   "outputs": [],
   "source": [
    "# Process file into grid\n",
    "def process_files_to_grid(data_dir):\n",
    "    # Create empty grid\n",
    "    df_distances, df_intensities, azimuth_map, height_map = create_grid_dataframes()\n",
    "\n",
    "    lidar_dir = Path(data_dir, 'velodyne_points')\n",
    "    # For each file in the directory\n",
    "    for file_path in lidar_dir.iterdir():\n",
    "    # for file_path in itertools.islice(lidar_dir.iterdir(), 400):\n",
    "        print('-', end ='')\n",
    "        data = np.fromfile(file_path, dtype=np.float32).reshape(-1, 4)\n",
    "        for x, y, z, intensity in data:\n",
    "            # Convert to azimuth, height, distance format\n",
    "            distance = np.sqrt(x**2 + y**2 + z**2)\n",
    "            azimuth = np.degrees(np.arctan2(y, x))\n",
    "            height = np.degrees(np.arctan2(z, np.sqrt(x**2 + y**2)))\n",
    "            # Convert and scale\n",
    "            azimuth_idx = int(np.floor((azimuth + 180) / \\\n",
    "                                       azimuth_resolution) * azimuth_resolution * 10) - 1800\n",
    "            height_idx = int(np.floor((height + 30) / height_resolution)) - 300\n",
    "            # Update DataFrames directly using indices\n",
    "            if azimuth_idx in azimuth_map and height_idx in height_map:\n",
    "                df_distances.at[height_idx, azimuth_idx].append(distance)\n",
    "                df_intensities.at[height_idx, azimuth_idx].append(intensity)\n",
    "    return df_distances, df_intensities"
   ]
  },
  {
   "cell_type": "code",
   "execution_count": 257,
   "id": "e27c9a29-1f32-447a-b08f-0dcf82274fcf",
   "metadata": {},
   "outputs": [],
   "source": [
    "def create_background_lookup_table(dir):\n",
    "    # Get the distances of the background map from the lidar files\n",
    "    df_distances, df_intensities = process_files_to_grid(dir)\n",
    "\n",
    "    # Create a new DataFrame with the same index and columns as df_distances\n",
    "    lookup_table = pd.DataFrame(index=df_distances.index, columns=df_distances.columns)\n",
    "    # Iterate through each cell in df_distances\n",
    "    for (height, azimuth), distances in df_distances.stack().items():\n",
    "        if distances:  # If the list is not empty\n",
    "            sorted_distances = np.sort(distances)\n",
    "\n",
    "            # Drop the nearest half\n",
    "            # remaining_distances = sorted_distances[len(sorted_distances) // 2:]\n",
    "            if len(distances) >= 10:\n",
    "                remaining_distances = sorted_distances[:-10]\n",
    "            else:\n",
    "                remaining_distances = sorted_distances\n",
    "           \n",
    "            # Calculate the value as the largest distance minus the standard deviation\n",
    "            # value = np.max(distances) - (2 * np.std(distances))\n",
    "            cutoff = np.median(remaining_distances)\n",
    "            standard_deviation = np.std(remaining_distances)\n",
    "            adjustment = standard_deviation / 2\n",
    "            \n",
    "            # If the points are tightly packed, this is probably a background area, set really close\n",
    "            if standard_deviation < std_dev_cutoff:\n",
    "                cutoff = 1\n",
    "            # If they are not, then be stricter (farther away) with the background\n",
    "            else:\n",
    "                cutoff = cutoff - adjustment\n",
    "                \n",
    "            value = cutoff\n",
    "        else:\n",
    "            value = np.nan  # If the list is empty, set the cell to NaN\n",
    "\n",
    "        # Set the value in the new DataFrame\n",
    "        lookup_table.at[height, azimuth] = value\n",
    "\n",
    "    return lookup_table"
   ]
  },
  {
   "cell_type": "code",
   "execution_count": 258,
   "id": "9526bf84-f8ab-4584-89db-a61e08a1bdc9",
   "metadata": {},
   "outputs": [],
   "source": [
    "def load_map(map_file):\n",
    "    pass"
   ]
  },
  {
   "cell_type": "markdown",
   "id": "6231c973-5d7e-476e-9fc5-44c09d4ef27c",
   "metadata": {},
   "source": [
    "## Filtering and saving functions"
   ]
  },
  {
   "cell_type": "code",
   "execution_count": 260,
   "id": "af930e13-e6a1-43ce-86e0-666e9f94801f",
   "metadata": {},
   "outputs": [],
   "source": [
    "def convert_to_dataframe(bin_path):\n",
    "    pre_filtered_data = np.fromfile(bin_path, dtype=np.float32).reshape(-1, 4) \n",
    "    columns = ['x', 'y', 'z', 'intensity']\n",
    "    df = pd.DataFrame(pre_filtered_data, columns=columns)\n",
    "    return df"
   ]
  },
  {
   "cell_type": "code",
   "execution_count": 261,
   "id": "b95c4d38-7e51-4d13-8b98-8c683e7ba7c2",
   "metadata": {},
   "outputs": [],
   "source": [
    "def add_lookup_coords_to_xyz(points_df):\n",
    "    # Calculate the distance, azimuth, and height using vectorized operations\n",
    "    x, y, z, intensity = points_df['x'], points_df['y'], points_df['z'], points_df['intensity']\n",
    "    distance = np.sqrt(x**2 + y**2 + z**2)\n",
    "    azimuth = np.degrees(np.arctan2(y, x))\n",
    "    height = np.degrees(np.arctan2(z, np.sqrt(x**2 + y**2)))\n",
    "    \n",
    "    # Convert and scale\n",
    "    azimuth_idx = np.floor((azimuth + 180) / azimuth_resolution).astype(int) \\\n",
    "        * azimuth_resolution * 10 - 1800\n",
    "    height_idx = np.floor((height + 30) / height_resolution).astype(int) - 300\n",
    "    \n",
    "    # Add new columns to dataframe\n",
    "    points_df['distance'] = distance\n",
    "    points_df['azimuth_idx'] = azimuth_idx\n",
    "    points_df['height_idx'] = height_idx\n",
    "    \n",
    "    return points_df"
   ]
  },
  {
   "cell_type": "code",
   "execution_count": 262,
   "id": "488d3c76-e60d-4011-9b58-ce05ec7aded6",
   "metadata": {},
   "outputs": [],
   "source": [
    "def filter_points(input_file, lookup_table):\n",
    "    # Get dataframe from file\n",
    "    pre_filtered_points = convert_to_dataframe(input_file)\n",
    "\n",
    "    # Add lookup table coordinates\n",
    "    pre_filtered_grid_lookup = add_lookup_coords_to_xyz(pre_filtered_points)\n",
    "    \n",
    "    # Initialize a list to store rows that meet the criteria\n",
    "    filtered_data = []\n",
    "\n",
    "    # Iterate through each row in the input DataFrame\n",
    "    # for idx, row in pre_filtered_grid_lookup.iloc[:10].iterrows():\n",
    "    for idx, row in pre_filtered_grid_lookup.iterrows():\n",
    "        azimuth_idx = int(row['azimuth_idx'])\n",
    "        height_idx = int(row['height_idx'])\n",
    "        \n",
    "        # Check if the indices exist in the lookup table and the value is not NaN\n",
    "        if azimuth_idx in lookup_table.columns and height_idx in lookup_table.index:\n",
    "            # print('.', end='')\n",
    "            lookup_value = lookup_table.at[height_idx, azimuth_idx]\n",
    "            \n",
    "            if not pd.isna(lookup_value) and row['distance'] < lookup_value:\n",
    "                # If criteria are met, add the row's x, y, z, and intensity to the filtered_data list\n",
    "                filtered_data.append({\n",
    "                    'x': row['x'],\n",
    "                    'y': row['y'],\n",
    "                    'z': row['z'],\n",
    "                    'intensity': row['intensity']\n",
    "                })\n",
    "\n",
    "    # Create a DataFrame from the filtered data\n",
    "    filtered_df = pd.DataFrame(filtered_data)\n",
    "    return filtered_df"
   ]
  },
  {
   "cell_type": "code",
   "execution_count": 263,
   "id": "e77a6403-4e34-45d3-8ae4-f3ca96710410",
   "metadata": {},
   "outputs": [],
   "source": [
    "def save_as_binary(df, bin_path):\n",
    "    # Ensure the DataFrame is in the correct order and data type\n",
    "    data = df[['x', 'y', 'z', 'intensity']].astype(np.float32).values\n",
    "    \n",
    "    # Write the data to a binary file\n",
    "    data.tofile(bin_path)"
   ]
  },
  {
   "cell_type": "code",
   "execution_count": 264,
   "id": "9f742807-8599-44f8-a52e-7b5b14f12cd3",
   "metadata": {},
   "outputs": [],
   "source": [
    "def filter_frames(dir, background_lookup_table):\n",
    "    # Create a new folder for the filtered frames in the directory\n",
    "    new_save_location = Path(dir, 'filtered_points')\n",
    "    new_save_location.mkdir(exist_ok=True)\n",
    "    \n",
    "    lidar_dir = Path(dir, 'velodyne_points')\n",
    "    \n",
    "    # Get just the file names\n",
    "    files = [f for f in os.listdir(lidar_dir) if f.endswith('.bin')]\n",
    "    # For each file\n",
    "    # for filename in files[:30]:\n",
    "    for filename in files:\n",
    "        # Append file name to location\n",
    "        print('.', end='')\n",
    "        from_file = Path(lidar_dir, filename)\n",
    "\n",
    "        # Filter file\n",
    "        filtered_df = filter_points(from_file, background_lookup_table)\n",
    "\n",
    "        # APPEND FILE NAME TO NEW LOCATION\n",
    "        to_file = Path(new_save_location, filename)\n",
    "\n",
    "        # CONVERT BACK TO BINARY and save\n",
    "        save_as_binary(filtered_df, to_file)\n"
   ]
  },
  {
   "cell_type": "code",
   "execution_count": 265,
   "id": "639cb573-5c95-4d31-aa22-862a1b2a4077",
   "metadata": {},
   "outputs": [
    {
     "name": "stdout",
     "output_type": "stream",
     "text": [
      "-------------------------------------------------------------------------------------------------------------------------------------------------------------------------------------------------------------------------------------------------------------------------------------------------------------------------------------------------------------------------------------------------------------------------------------------------------------------------------------------------------------------------------------------------------------------------------------------------------------------------------------------------------------------------------------------------------------------------------------------------------------------------------------------------------------------------------------------------------------------------------------------------------------------------------------------------------------------------------------------------------------------------------------------------------------------------------------------------------------------------------------------------------------------------------------------------------------------------------------------------------------------------------------------------------------------------------------------------------------------------------------------------------------------------------------------------------------------------------------------------------------------------------------------------------------------------------------------------------------------------------------------------------------------------------------------------------------------------------------------------------------------------------------------------------------------------------------------------------------------------------------------------------------------------------------------------------------------------------------------------------------------------------------------------------------------------------------------------------------------------------------------------------------------------------------------------------------------------------------------------------------------------------------------------------------------------------------------------------------------------------------------------------------------------------------------------------------------------------------------------------------------------------------------------------------------------------------------------------------------------------------------------------------------------------------------------------------------------------------------------------------------------------------------------------------------------------------------------------------------------------------------------------------------------------------------------------------------------------------------------------------------------------------------------------------------------------------------------------------------------------------------------------------------------------------------------------------------------------------------------------------------------------------------------------------------------------------------------------------------------------------------------------------------------------------------------------------------------------------------------------------------------------------------------------------------------------------------------------------------------------------------------------------------------------------------------------------------------------------------------------------------------------------------------------------------------------------------------------------------------------------------------------------------------------------------------------------------------------------------------------------------------------------------------------------------------------------------------------------------------------------------------------------------------------------------------------------------------------------------------------------------------------------------------------------------------------------------------------------------------------------------------------------------------------------------------------------------------------------------------------------------------------------------------------------------------------------------------------------------------------------------------------------------------------------------------------------------------------------------------------------------------------------------------------------------------------------------------------------------------"
     ]
    },
    {
     "name": "stderr",
     "output_type": "stream",
     "text": [
      "C:\\Users\\gilya\\anaconda3\\Lib\\site-packages\\numpy\\core\\fromnumeric.py:3504: RuntimeWarning: Mean of empty slice.\n",
      "  return _methods._mean(a, axis=axis, dtype=dtype,\n",
      "C:\\Users\\gilya\\anaconda3\\Lib\\site-packages\\numpy\\core\\_methods.py:129: RuntimeWarning: invalid value encountered in scalar divide\n",
      "  ret = ret.dtype.type(ret / rcount)\n",
      "C:\\Users\\gilya\\anaconda3\\Lib\\site-packages\\numpy\\core\\_methods.py:206: RuntimeWarning: Degrees of freedom <= 0 for slice\n",
      "  ret = _var(a, axis=axis, dtype=dtype, out=out, ddof=ddof,\n",
      "C:\\Users\\gilya\\anaconda3\\Lib\\site-packages\\numpy\\core\\_methods.py:163: RuntimeWarning: invalid value encountered in divide\n",
      "  arrmean = um.true_divide(arrmean, div, out=arrmean,\n",
      "C:\\Users\\gilya\\anaconda3\\Lib\\site-packages\\numpy\\core\\_methods.py:198: RuntimeWarning: invalid value encountered in scalar divide\n",
      "  ret = ret.dtype.type(ret / rcount)\n"
     ]
    }
   ],
   "source": [
    "dir = Path(DATA_DIR_ROOT)\n",
    "map_save_name = 'test_map'\n",
    "\n",
    "# Create background lookup table for distance cutoffs\n",
    "if make_new_map:\n",
    "    background_distance_lookup_table = create_background_lookup_table(dir)\n",
    "else:\n",
    "    background_distance_lookup_table = load_map(map_save_name)"
   ]
  },
  {
   "cell_type": "code",
   "execution_count": null,
   "id": "f7d44ac6-1229-4c91-862c-18a44cfccd62",
   "metadata": {},
   "outputs": [
    {
     "name": "stdout",
     "output_type": "stream",
     "text": [
      "........................................................................................................................................................................................................................................................................................................................................................................................................................................................................................................................................................................................................................................................................................................................................................................................................................................................................................................................................................................................................................................................................................................................................................................................................................................................................................................................................................................................................................................................................................................................................................................................................................................................................................................................................................................................................................................................................................................................................................................................................................................................................................................................................................................................................................................................................................................................................................................................................................................................................................................................................................................................................................................................................................................................................................................................................................................................................................................................................................................................................................................................................................................................................................................................................................"
     ]
    }
   ],
   "source": [
    "# Filter and save each filtered frame\n",
    "filter_frames(dir, background_distance_lookup_table)"
   ]
  }
 ],
 "metadata": {
  "kernelspec": {
   "display_name": "Python 3 (ipykernel)",
   "language": "python",
   "name": "python3"
  },
  "language_info": {
   "codemirror_mode": {
    "name": "ipython",
    "version": 3
   },
   "file_extension": ".py",
   "mimetype": "text/x-python",
   "name": "python",
   "nbconvert_exporter": "python",
   "pygments_lexer": "ipython3",
   "version": "3.11.9"
  }
 },
 "nbformat": 4,
 "nbformat_minor": 5
}
