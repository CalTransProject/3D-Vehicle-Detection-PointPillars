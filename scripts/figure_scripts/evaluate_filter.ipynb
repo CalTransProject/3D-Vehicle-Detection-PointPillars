{
 "cells": [
  {
   "cell_type": "markdown",
   "id": "ab610c9f-e9dd-4b37-802c-d23856c11999",
   "metadata": {},
   "source": [
    "# See how many points are inside and outside of the labels, before and after filtering"
   ]
  },
  {
   "cell_type": "code",
   "execution_count": 1048,
   "id": "d9b26f9d-86fc-4aa8-b802-47f0fb6f95b5",
   "metadata": {},
   "outputs": [],
   "source": [
    "# Libraries\n",
    "import os\n",
    "import random\n",
    "import numpy as np\n",
    "import pandas as pd\n",
    "from pathlib import Path"
   ]
  },
  {
   "cell_type": "code",
   "execution_count": 1049,
   "id": "aad3d564-08a7-45e9-ae01-f206c06624f6",
   "metadata": {},
   "outputs": [],
   "source": [
    "# List of paths to dataset\n",
    "BASE_DIR = '../../data/eval_data'\n",
    "ARCS_DIR = 'arcs'\n",
    "ARCS_FILTERED_DIR = 'arcs_azimuth_filtered'\n",
    "ARCS_LABEL_FILTERED_DIR = 'arcs_label_filtered'\n",
    "ARCS_LABEL_DIR = 'labels'"
   ]
  },
  {
   "cell_type": "code",
   "execution_count": 1050,
   "id": "e3f70b32-0704-4168-bec4-34268dcf7c6f",
   "metadata": {},
   "outputs": [],
   "source": [
    "# Evaluate filter (before eval script)\n",
    "BASE_DIR = '../../data'\n",
    "ARCS_DIR = 'velodyne_points'\n",
    "ARCS_FILTERED_DIR = 'filtered_points'\n",
    "ARCS_LABEL_FILTERED_DIR = 'label_filtered_points'\n",
    "ARCS_LABEL_DIR = 'pillar_pred_format_labels'"
   ]
  },
  {
   "cell_type": "code",
   "execution_count": 1051,
   "id": "51a508bd-b185-467d-94d6-9cada0fff9c4",
   "metadata": {},
   "outputs": [],
   "source": [
    "# test_dir = 'test_folder'"
   ]
  },
  {
   "cell_type": "code",
   "execution_count": 1052,
   "id": "09a98260-b6f4-4d33-86dc-bf8e1687cbe7",
   "metadata": {},
   "outputs": [],
   "source": [
    "def point_is_in_an_roi_box(point, roi_box_list):\n",
    "    # Extract the point coordinates\n",
    "    x, y, z = point\n",
    "    \n",
    "    for bbox in roi_box_list:\n",
    "        # Extract the box parameters\n",
    "        # dz, dy, dx, cx, cy, cz, yaw = bbox\n",
    "        cx, cy, cz, dx, dy, dz, yaw = bbox\n",
    "        \n",
    "        # Create the rotation matrix for the yaw angle\n",
    "        cos_yaw = np.cos(-yaw)  # Negative for the inverse rotation\n",
    "        sin_yaw = np.sin(-yaw)\n",
    "        \n",
    "        rotation_matrix = np.array([\n",
    "            [cos_yaw, -sin_yaw, 0],\n",
    "            [sin_yaw,  cos_yaw, 0],\n",
    "            [0,       0,       1]\n",
    "        ])\n",
    "        \n",
    "        # Translate the point to the box's coordinate frame\n",
    "        translated_point = np.array([x - cx, y - cy, z - cz])\n",
    "        \n",
    "        # Rotate the point to align with the box\n",
    "        rotated_point = rotation_matrix.dot(translated_point)\n",
    "        \n",
    "        # Check if the point is within the box dimensions\n",
    "        half_lengths = [dz / 2, dy / 2, dx / 2]\n",
    "        in_box = all([\n",
    "            -half_lengths[i] <= rotated_point[i] <= half_lengths[i] for i in range(3)\n",
    "        ])\n",
    "    \n",
    "        if in_box:\n",
    "            return True\n",
    "    \n",
    "    return False"
   ]
  },
  {
   "cell_type": "code",
   "execution_count": 1053,
   "id": "fdfca667-33cf-4967-95c5-82f144a32633",
   "metadata": {},
   "outputs": [],
   "source": [
    "def get_roi_boxes(label_file):\n",
    "    bboxes = []\n",
    "    with open(label_file, 'r') as file:\n",
    "        for line in file:\n",
    "            parts = line.strip().split()\n",
    "            bbox = [float(value) for value in parts[8:15]]  # Extract the bounding box dimensions and location            \n",
    "            bboxes.append(bbox)\n",
    "    return np.array(bboxes)"
   ]
  },
  {
   "cell_type": "code",
   "execution_count": 1054,
   "id": "69be1f69-1f93-406c-8c07-6e145c7e0cb3",
   "metadata": {},
   "outputs": [],
   "source": [
    "def is_label_point(point, label_file_path):\n",
    "    list_roi_boxes = get_roi_boxes(label_file_path)\n",
    "    if point_is_in_an_roi_box(point, list_roi_boxes):\n",
    "        return True\n",
    "    return False"
   ]
  },
  {
   "cell_type": "code",
   "execution_count": 1055,
   "id": "adb86b46-c879-4fa0-bb5d-92caf53b67b0",
   "metadata": {},
   "outputs": [],
   "source": [
    "def convert_to_dataframe(bin_path):\n",
    "    pre_filtered_data = np.fromfile(bin_path, dtype=np.float32).reshape(-1, 4) \n",
    "    columns = ['x', 'y', 'z', 'intensity']\n",
    "    df = pd.DataFrame(pre_filtered_data, columns=columns)\n",
    "    return df"
   ]
  },
  {
   "cell_type": "code",
   "execution_count": 1056,
   "id": "d812aba3-64d8-4b10-9d9c-e3c39d797125",
   "metadata": {},
   "outputs": [],
   "source": [
    "def get_frame_point_statistics(data_file_path, label_file_path):\n",
    "    # Running totals\n",
    "    total_points = 0\n",
    "    label_points = 0\n",
    "\n",
    "    points_df = convert_to_dataframe(data_file_path)\n",
    "    \n",
    "    # For each point in the data\n",
    "    for index, row in points_df.iterrows():\n",
    "    # for index, row in points_df.iloc[:100].iterrows():\n",
    "        # Increment the total\n",
    "        total_points += 1\n",
    "        point = (row['x'], row['y'], row['z'])\n",
    "        # If the point is a label point\n",
    "        if is_label_point(point, label_file_path):\n",
    "            # Increment the label total\n",
    "            label_points += 1\n",
    "\n",
    "    return total_points, label_points"
   ]
  },
  {
   "cell_type": "code",
   "execution_count": 1057,
   "id": "e8934fa5-721f-4553-9200-8ad934e1454e",
   "metadata": {},
   "outputs": [
    {
     "name": "stdout",
     "output_type": "stream",
     "text": [
      "['002975.bin', '005248.bin', '000719.bin', '005838.bin', '003671.bin', '001141.bin', '000711.bin', '006105.bin', '000238.bin', '002529.bin', '000144.bin', '004685.bin', '004960.bin', '004437.bin', '002234.bin', '006224.bin', '002589.bin', '001380.bin', '002920.bin', '002961.bin', '004056.bin', '002047.bin', '001902.bin', '005599.bin', '002763.bin', '001022.bin', '004996.bin', '002946.bin', '000532.bin', '001839.bin', '001361.bin', '003754.bin', '002654.bin', '000867.bin', '005508.bin', '004586.bin', '002823.bin', '000138.bin', '006438.bin', '006291.bin', '004033.bin', '001656.bin', '004233.bin', '001284.bin', '002356.bin', '002503.bin', '001486.bin', '000367.bin', '003812.bin', '001252.bin', '003213.bin', '002732.bin', '000536.bin', '002070.bin', '006107.bin', '002407.bin', '001020.bin', '004121.bin', '002693.bin', '004122.bin', '002598.bin', '000691.bin', '003711.bin', '005845.bin', '005415.bin', '005741.bin', '002874.bin', '005605.bin', '002566.bin', '001017.bin', '000237.bin', '006008.bin', '003689.bin', '000122.bin', '003466.bin', '000788.bin', '002454.bin', '003870.bin', '005769.bin', '000833.bin', '003846.bin', '002511.bin', '004136.bin', '000242.bin', '002522.bin', '000265.bin', '005419.bin', '000530.bin', '004738.bin', '002101.bin', '004818.bin', '002788.bin', '001417.bin', '000728.bin', '006075.bin', '000136.bin', '004656.bin', '004799.bin', '006299.bin', '002773.bin', '006172.bin', '001576.bin', '004728.bin', '001879.bin', '002130.bin', '004625.bin', '001672.bin', '002726.bin', '003863.bin', '004011.bin', '001169.bin', '001903.bin', '000772.bin', '002923.bin', '001818.bin', '005474.bin', '001744.bin', '005276.bin', '001498.bin', '005960.bin', '002341.bin', '000018.bin', '004719.bin', '005819.bin', '005515.bin', '004402.bin', '005681.bin', '000017.bin', '000026.bin', '000447.bin', '004439.bin', '005463.bin', '000795.bin', '003177.bin', '002546.bin', '002109.bin', '003073.bin', '001114.bin', '005835.bin', '006051.bin', '004499.bin', '001772.bin', '005751.bin', '005731.bin', '000304.bin', '006037.bin', '004449.bin', '005927.bin', '002143.bin', '006250.bin', '001188.bin', '000460.bin', '002559.bin', '004026.bin', '000770.bin', '005481.bin', '006344.bin', '006243.bin', '002890.bin', '006123.bin', '005524.bin', '004022.bin', '005951.bin', '001696.bin', '002144.bin', '001822.bin', '000330.bin', '006387.bin', '001547.bin', '001564.bin', '002518.bin', '001482.bin', '005262.bin', '003798.bin', '005699.bin', '003720.bin', '003463.bin', '006257.bin', '002359.bin', '002908.bin', '000686.bin', '001298.bin', '001601.bin', '001257.bin', '004990.bin', '006158.bin', '001855.bin', '006128.bin', '005348.bin', '005750.bin', '001572.bin', '000319.bin', '002402.bin', '000053.bin', '005768.bin', '004261.bin', '002701.bin', '004313.bin', '001930.bin', '003799.bin', '004729.bin', '001850.bin', '000673.bin', '000388.bin', '000847.bin', '005472.bin', '005473.bin', '002094.bin', '001233.bin', '002458.bin', '005997.bin', '001840.bin', '002806.bin', '001234.bin', '002506.bin', '004112.bin', '003403.bin', '003813.bin', '001629.bin', '000239.bin', '005609.bin', '001888.bin', '005634.bin', '006049.bin', '001402.bin', '001475.bin', '004134.bin', '003172.bin', '004596.bin', '002422.bin', '004138.bin', '004929.bin', '002180.bin', '000722.bin', '004593.bin', '004093.bin', '000131.bin', '001347.bin', '001502.bin', '003606.bin', '004568.bin', '005246.bin', '002162.bin', '003459.bin', '006277.bin', '002668.bin', '005633.bin', '001524.bin', '000032.bin', '004092.bin', '005614.bin', '000281.bin', '005627.bin', '002657.bin', '004038.bin', '005361.bin', '001551.bin', '000052.bin', '001538.bin', '001950.bin', '001824.bin', '002926.bin', '006272.bin', '002428.bin', '003421.bin', '000272.bin', '001449.bin', '001248.bin', '000124.bin', '002201.bin', '000836.bin', '001008.bin', '001533.bin', '000251.bin', '006267.bin', '001396.bin', '004059.bin', '001801.bin', '004346.bin', '000454.bin', '004409.bin', '003842.bin', '002118.bin', '004027.bin', '000313.bin', '002721.bin', '000089.bin', '006436.bin', '002807.bin', '004676.bin', '001084.bin', '002567.bin', '000827.bin', '006102.bin', '003810.bin', '002839.bin', '002029.bin', '006187.bin', '001874.bin', '001485.bin', '000110.bin', '003814.bin', '005496.bin', '000206.bin', '001970.bin', '001109.bin', '001901.bin', '004999.bin', '001740.bin', '003418.bin', '002830.bin', '003713.bin', '006021.bin', '001539.bin', '000881.bin', '005715.bin', '001743.bin', '002519.bin', '005395.bin', '004110.bin', '004490.bin', '000724.bin', '005827.bin', '003760.bin', '005833.bin', '002969.bin', '000250.bin', '000526.bin', '001135.bin', '003184.bin', '001929.bin', '001785.bin', '006125.bin', '005949.bin', '005898.bin', '005796.bin', '005789.bin', '003586.bin', '006233.bin', '001807.bin', '001477.bin', '004381.bin', '001886.bin', '000318.bin', '004379.bin', '002322.bin', '003828.bin', '001662.bin', '001057.bin', '002579.bin', '001784.bin', '000331.bin', '002104.bin', '005529.bin', '000057.bin', '006178.bin', '002858.bin', '006334.bin', '004829.bin', '000884.bin', '000063.bin', '006113.bin', '000777.bin', '001254.bin', '005760.bin', '002571.bin', '004579.bin', '000445.bin', '002525.bin', '003667.bin', '000166.bin', '001592.bin', '006295.bin', '002327.bin', '005808.bin', '003698.bin', '000887.bin', '001091.bin', '001757.bin', '000718.bin', '002746.bin', '002588.bin', '001627.bin', '002661.bin', '003185.bin', '001714.bin', '001812.bin', '001194.bin', '001327.bin', '005158.bin', '003252.bin', '002835.bin', '004998.bin', '002698.bin', '002132.bin', '005809.bin', '001794.bin', '005979.bin', '002539.bin', '005879.bin', '003085.bin', '006025.bin', '000246.bin', '005802.bin', '003151.bin', '001735.bin', '000383.bin', '004662.bin', '002307.bin', '005168.bin', '005712.bin', '000792.bin', '003232.bin', '001790.bin', '001173.bin', '001028.bin', '002061.bin', '004559.bin', '001075.bin', '002608.bin', '000270.bin', '004085.bin', '002026.bin', '005465.bin', '001915.bin', '003683.bin', '004415.bin', '004254.bin', '002494.bin', '000706.bin', '000208.bin', '002473.bin', '002102.bin', '003066.bin', '005773.bin', '002938.bin', '004106.bin', '003161.bin', '003593.bin', '000335.bin', '003836.bin', '005865.bin', '003805.bin', '004456.bin', '002167.bin', '005729.bin', '003445.bin', '001481.bin', '002444.bin', '000141.bin', '000359.bin', '001727.bin', '002849.bin', '002363.bin', '002394.bin', '004494.bin', '004471.bin', '003465.bin', '003159.bin', '000259.bin', '000842.bin', '002361.bin', '003075.bin', '004470.bin', '000060.bin', '002397.bin', '003587.bin', '000338.bin', '004356.bin', '004991.bin', '000803.bin', '003449.bin', '004102.bin', '005923.bin', '002651.bin', '003721.bin', '001455.bin', '006194.bin', '000078.bin', '000703.bin', '004653.bin', '005511.bin', '002066.bin', '002672.bin', '001836.bin', '005461.bin', '003796.bin', '003580.bin', '001088.bin', '005373.bin', '002261.bin', '001470.bin', '005726.bin', '001641.bin', '006177.bin', '005294.bin', '002178.bin', '006122.bin', '004016.bin', '004944.bin', '004069.bin', '004399.bin', '004614.bin', '000684.bin', '002674.bin', '000289.bin', '002278.bin', '000154.bin', '001897.bin', '005366.bin', '001219.bin', '002545.bin', '004359.bin', '003694.bin', '001769.bin', '002380.bin', '005817.bin', '006035.bin', '002354.bin', '002875.bin', '002487.bin', '004617.bin', '001250.bin', '002871.bin', '002707.bin', '004802.bin', '006356.bin', '001718.bin', '001060.bin', '006064.bin', '001956.bin', '004347.bin', '000449.bin', '001642.bin', '004400.bin', '004824.bin', '006448.bin', '000855.bin', '001245.bin', '001704.bin', '002030.bin', '005514.bin', '002151.bin', '002597.bin', '002838.bin', '002758.bin', '000556.bin', '003583.bin', '006063.bin', '005779.bin', '000101.bin', '004703.bin', '006126.bin', '005234.bin', '000041.bin', '001593.bin', '005346.bin', '001152.bin', '001766.bin', '004077.bin', '000161.bin', '004713.bin', '004304.bin', '002570.bin', '003192.bin', '001206.bin', '000064.bin', '004411.bin', '005468.bin', '001625.bin', '006332.bin', '006074.bin', '004730.bin', '001706.bin', '001921.bin', '005824.bin', '003829.bin', '005872.bin', '000852.bin', '002931.bin', '002231.bin', '000671.bin', '002065.bin', '006242.bin', '000670.bin', '000334.bin', '004114.bin', '002091.bin', '002607.bin', '006149.bin', '001263.bin', '005799.bin', '000243.bin', '004072.bin', '005528.bin', '003595.bin', '005825.bin', '002125.bin', '001110.bin', '002831.bin', '000472.bin', '002466.bin', '001492.bin', '000333.bin', '006326.bin', '004044.bin', '004620.bin', '002605.bin', '003443.bin', '005266.bin', '000539.bin', '005870.bin', '001108.bin', '000047.bin', '000376.bin', '004734.bin', '004018.bin', '005684.bin', '005012.bin', '003258.bin', '002624.bin', '000669.bin', '004562.bin', '000789.bin', '004954.bin', '004095.bin', '005783.bin', '003186.bin', '005362.bin', '000683.bin', '003236.bin', '002771.bin', '005423.bin', '005871.bin', '002474.bin', '003848.bin', '004739.bin', '005698.bin', '001798.bin', '001368.bin', '001186.bin', '002555.bin', '002074.bin', '001311.bin', '001804.bin', '004357.bin', '002818.bin', '005925.bin', '000831.bin', '002936.bin', '005244.bin', '005734.bin', '003712.bin', '001129.bin', '004461.bin', '004445.bin', '006010.bin', '004585.bin', '002667.bin', '006047.bin', '002895.bin', '003672.bin', '004401.bin', '004671.bin', '001848.bin', '000228.bin', '001688.bin', '004958.bin', '001326.bin', '000674.bin', '005764.bin', '006026.bin', '005356.bin', '000314.bin', '000097.bin', '000809.bin', '001207.bin', '004500.bin', '005857.bin', '001258.bin', '001608.bin', '003204.bin', '001345.bin', '002655.bin', '002600.bin', '005640.bin', '004460.bin', '001431.bin', '003468.bin', '005335.bin', '001071.bin', '006055.bin', '004452.bin', '005988.bin', '002375.bin', '005622.bin', '004659.bin', '005686.bin', '001707.bin', '002948.bin', '001844.bin', '003756.bin', '002877.bin', '002615.bin', '003218.bin', '006255.bin', '000379.bin', '002832.bin', '004462.bin', '003808.bin', '004226.bin', '003794.bin', '005458.bin', '004410.bin', '002660.bin', '005386.bin', '002360.bin', '001356.bin', '004360.bin', '006015.bin', '002240.bin', '006033.bin', '006160.bin', '002676.bin', '000682.bin', '001720.bin', '001726.bin', '005351.bin', '001860.bin', '005517.bin', '002471.bin', '002170.bin', '004127.bin', '001227.bin', '000189.bin', '004632.bin', '003823.bin', '005976.bin', '003404.bin', '002964.bin', '006270.bin', '001811.bin', '002416.bin', '004361.bin', '004997.bin', '005459.bin', '001013.bin', '006281.bin', '004459.bin', '003753.bin', '000797.bin', '002199.bin', '003148.bin', '000885.bin', '005723.bin', '006014.bin', '001142.bin', '002229.bin', '002821.bin', '001609.bin', '002564.bin', '000385.bin', '003727.bin', '001216.bin', '002343.bin', '004569.bin', '001352.bin', '002050.bin', '001350.bin', '000823.bin', '000845.bin', '006274.bin', '005722.bin', '000209.bin', '001653.bin', '002366.bin', '005928.bin', '002860.bin', '002767.bin', '002573.bin', '003871.bin', '000182.bin', '006109.bin', '004031.bin', '001894.bin', '000106.bin', '005279.bin', '004715.bin', '001832.bin', '000469.bin', '000832.bin', '005166.bin', '001395.bin', '000450.bin', '000204.bin', '002724.bin', '002716.bin', '001951.bin', '000219.bin', '006016.bin', '001965.bin', '005483.bin', '002468.bin', '000004.bin', '000891.bin', '001365.bin', '001972.bin', '004232.bin', '005010.bin', '004350.bin', '006228.bin', '005987.bin', '005746.bin', '002077.bin', '002814.bin', '004078.bin', '006220.bin', '002878.bin', '003245.bin', '002325.bin', '000461.bin', '002377.bin', '004582.bin', '003714.bin', '001495.bin', '001543.bin', '001917.bin', '001051.bin', '005936.bin', '000889.bin', '004949.bin', '001931.bin', '006273.bin', '002173.bin', '002857.bin', '002042.bin', '006293.bin', '005853.bin', '000525.bin', '004708.bin', '002804.bin', '002538.bin', '002060.bin', '002401.bin', '001509.bin', '000153.bin', '003697.bin', '005836.bin', '001589.bin', '002329.bin', '006046.bin', '005610.bin', '003182.bin', '001522.bin', '005823.bin', '000019.bin', '002915.bin', '006173.bin', '006143.bin', '002722.bin', '001700.bin', '006036.bin', '002276.bin', '003079.bin', '004071.bin', '002720.bin', '003856.bin', '001630.bin', '006103.bin', '006369.bin', '001954.bin', '002159.bin', '002451.bin', '004934.bin', '004658.bin', '002267.bin', '001866.bin', '005282.bin', '001606.bin', '004481.bin', '004224.bin', '002523.bin', '004557.bin', '001613.bin', '001204.bin', '002656.bin', '001201.bin', '000069.bin', '001781.bin', '004681.bin', '005730.bin', '002346.bin', '001872.bin', '004055.bin', '002828.bin', '002691.bin', '002864.bin', '002949.bin', '001753.bin', '000799.bin', '000886.bin', '001863.bin', '000337.bin', '000764.bin', '005624.bin', '004721.bin', '002910.bin', '003861.bin', '005890.bin', '001966.bin', '000033.bin', '000093.bin', '006343.bin', '002352.bin', '003244.bin', '002709.bin', '004119.bin', '006139.bin', '005957.bin', '002509.bin', '001101.bin', '006199.bin', '000147.bin', '000406.bin', '002510.bin', '006053.bin', '000352.bin', '004377.bin', '003229.bin', '006069.bin', '001916.bin', '003226.bin', '001514.bin', '004442.bin', '002498.bin', '003733.bin', '000693.bin', '001906.bin', '000522.bin', '006119.bin', '002663.bin', '002105.bin', '000088.bin', '002825.bin', '002271.bin', '000850.bin', '001322.bin', '002480.bin', '003238.bin', '006237.bin', '004505.bin', '000086.bin', '004383.bin', '002643.bin', '005816.bin', '004804.bin', '002810.bin', '001353.bin', '002483.bin', '002757.bin', '005916.bin', '002892.bin', '006283.bin', '000708.bin', '005811.bin', '001484.bin', '003162.bin', '005278.bin', '005418.bin', '001183.bin', '000340.bin', '002766.bin', '005697.bin', '005392.bin', '005996.bin', '005604.bin', '000868.bin', '002826.bin', '006066.bin', '001366.bin', '000170.bin', '002762.bin', '001439.bin', '001618.bin', '001405.bin', '004995.bin', '003194.bin', '001820.bin', '005776.bin', '002928.bin', '005752.bin', '002696.bin', '000373.bin', '004674.bin', '005804.bin', '002616.bin', '006179.bin', '006127.bin', '006186.bin', '001604.bin']\n"
     ]
    }
   ],
   "source": [
    "# test_files = Path(BASE_DIR, test_dir)\n",
    "test_dir = Path(BASE_DIR, ARCS_FILTERED_DIR)\n",
    "files = [f for f in os.listdir(test_dir) if f.endswith('.bin')]\n",
    "random.shuffle(files)\n",
    "files = files[:1000]\n",
    "print(files)"
   ]
  },
  {
   "cell_type": "code",
   "execution_count": 1058,
   "id": "9118ac78-ac27-4ac5-8779-ae97a07f7f9f",
   "metadata": {},
   "outputs": [],
   "source": [
    "def get_dataset_point_statistics(data_path, label_path):\n",
    "    # Running totals\n",
    "    num_frames = 0\n",
    "    total_num_points = 0\n",
    "    total_num_label_points = 0\n",
    "    total_file_size = 0\n",
    "    \n",
    "    for filename in files:\n",
    "        # Get file index\n",
    "        file_id, extension = os.path.splitext(filename)\n",
    "        print(file_id, end=' ')\n",
    "        \n",
    "        # Append file name to locations\n",
    "        data_file_path = Path(data_path, filename)\n",
    "        label_filename = file_id + '.txt'\n",
    "        label_file_path = Path(label_path, label_filename)\n",
    "\n",
    "        # Get the number of points, and the number of points inside the labels\n",
    "        num_frame_points, num_frame_label_points = get_frame_point_statistics(data_file_path, label_file_path)\n",
    "\n",
    "        # Get the file size\n",
    "        size = os.path.getsize(data_file_path)\n",
    "        \n",
    "        # Add to running total\n",
    "        num_frames += 1\n",
    "        total_num_points += num_frame_points\n",
    "        total_num_label_points += num_frame_label_points\n",
    "        total_file_size += size\n",
    "\n",
    "    # return total_num_points / num_frames, total_num_label_points / num_frames\n",
    "    return num_frames, total_num_points, total_num_label_points, total_file_size"
   ]
  },
  {
   "cell_type": "code",
   "execution_count": 1059,
   "id": "9210ea51-7cc0-4c17-bb98-7bb94c1f5382",
   "metadata": {},
   "outputs": [],
   "source": [
    "def evaluate_filter(dir, dataset_name):\n",
    "    # Create directory path\n",
    "    data_path = Path(BASE_DIR, dir)\n",
    "    label_path = Path(BASE_DIR, ARCS_LABEL_DIR)\n",
    "    print(data_path)\n",
    "\n",
    "    # Get the dataset statistics\n",
    "    num_frames, total_num_points, total_num_label_points, total_file_size = get_dataset_point_statistics(data_path, label_path)\n",
    "\n",
    "    results = {\n",
    "        'dataset_name': dataset_name,\n",
    "        'num_frames': num_frames,\n",
    "        'total_num_points': total_num_points,\n",
    "        'total_num_label_points': total_num_label_points,\n",
    "        'total_num_non_label_points': total_num_points - total_num_label_points,\n",
    "        'avg_frame_pts': total_num_points / num_frames,\n",
    "        'avg_frame_label_pts': total_num_label_points / num_frames,\n",
    "        'avg_frame_non_label_pts': (total_num_points - total_num_label_points) / num_frames,\n",
    "        'total_files_size': total_file_size\n",
    "    }\n",
    "\n",
    "    return results"
   ]
  },
  {
   "cell_type": "markdown",
   "id": "88e8c946-5977-4cdb-82b5-a9cd2811d227",
   "metadata": {},
   "source": [
    "### Run datasets through filter evaluator, print results"
   ]
  },
  {
   "cell_type": "code",
   "execution_count": null,
   "id": "8dc95bb7-463b-4d72-8327-61b06b765e2d",
   "metadata": {},
   "outputs": [
    {
     "name": "stdout",
     "output_type": "stream",
     "text": [
      "..\\..\\data\\velodyne_points\n",
      "002975 005248 000719 005838 003671 001141 000711 006105 000238 002529 000144 004685 004960 004437 002234 006224 002589 001380 002920 002961 004056 002047 001902 005599 002763 001022 004996 002946 000532 001839 001361 003754 002654 000867 005508 004586 002823 000138 006438 006291 004033 001656 004233 001284 002356 002503 001486 000367 003812 001252 003213 002732 000536 002070 006107 002407 001020 004121 002693 004122 002598 000691 003711 005845 005415 005741 002874 005605 002566 001017 000237 006008 003689 000122 003466 000788 002454 003870 005769 000833 003846 002511 004136 000242 002522 000265 005419 000530 004738 002101 004818 002788 001417 000728 006075 000136 004656 004799 006299 002773 006172 001576 004728 001879 002130 004625 001672 002726 003863 004011 001169 001903 000772 002923 001818 005474 001744 005276 001498 005960 002341 000018 004719 005819 005515 004402 005681 000017 000026 000447 004439 005463 000795 003177 002546 002109 003073 001114 005835 006051 004499 001772 005751 005731 000304 006037 004449 005927 002143 006250 001188 000460 002559 004026 000770 005481 006344 006243 002890 006123 005524 004022 005951 001696 002144 001822 000330 006387 001547 001564 002518 001482 005262 003798 005699 003720 003463 006257 002359 002908 000686 001298 001601 001257 004990 006158 001855 006128 005348 005750 001572 000319 002402 000053 005768 004261 002701 004313 001930 003799 004729 001850 000673 000388 000847 005472 005473 002094 001233 002458 005997 001840 002806 001234 002506 004112 003403 003813 001629 000239 005609 001888 005634 006049 001402 001475 004134 003172 004596 002422 004138 004929 002180 000722 004593 004093 000131 001347 001502 003606 004568 005246 002162 003459 006277 002668 005633 001524 000032 004092 005614 000281 005627 002657 004038 005361 001551 000052 001538 001950 001824 002926 006272 002428 003421 000272 001449 001248 000124 002201 000836 001008 001533 000251 006267 001396 004059 001801 004346 000454 004409 003842 002118 004027 000313 002721 000089 006436 002807 004676 001084 002567 000827 006102 003810 002839 002029 006187 001874 001485 000110 003814 005496 000206 001970 001109 001901 004999 001740 003418 002830 003713 006021 001539 000881 005715 001743 002519 005395 004110 004490 000724 005827 003760 005833 002969 000250 000526 001135 003184 001929 001785 006125 005949 005898 005796 005789 003586 006233 001807 001477 004381 001886 000318 004379 002322 003828 001662 001057 002579 001784 000331 002104 005529 000057 006178 002858 006334 004829 000884 000063 006113 000777 001254 005760 002571 004579 000445 002525 003667 000166 001592 006295 002327 005808 003698 000887 001091 001757 000718 002746 002588 001627 002661 003185 001714 001812 001194 001327 005158 003252 002835 004998 002698 002132 005809 001794 005979 002539 005879 003085 006025 000246 005802 003151 001735 000383 004662 002307 005168 005712 000792 003232 001790 001173 001028 002061 004559 001075 002608 000270 004085 002026 005465 001915 003683 004415 004254 002494 000706 000208 002473 002102 003066 005773 002938 004106 003161 003593 000335 003836 005865 003805 004456 002167 005729 003445 001481 002444 000141 000359 001727 002849 002363 002394 004494 004471 003465 003159 000259 000842 002361 003075 004470 000060 002397 003587 000338 004356 004991 000803 003449 004102 005923 002651 003721 001455 006194 000078 000703 004653 005511 002066 002672 001836 005461 003796 003580 001088 005373 002261 001470 005726 001641 006177 005294 002178 006122 004016 004944 004069 004399 004614 000684 002674 000289 002278 000154 001897 005366 001219 002545 004359 003694 001769 002380 005817 006035 002354 002875 002487 004617 001250 002871 002707 004802 006356 001718 001060 006064 001956 004347 000449 001642 004400 004824 006448 000855 001245 001704 002030 005514 002151 002597 002838 002758 000556 003583 006063 005779 000101 004703 006126 005234 000041 001593 005346 001152 001766 004077 000161 004713 004304 002570 003192 001206 000064 004411 005468 001625 006332 006074 004730 001706 001921 005824 003829 005872 000852 002931 002231 000671 002065 006242 000670 000334 004114 002091 002607 006149 001263 005799 000243 004072 005528 003595 005825 002125 001110 002831 000472 002466 001492 000333 006326 004044 004620 002605 003443 005266 000539 005870 001108 000047 000376 004734 004018 005684 005012 003258 002624 000669 004562 000789 004954 004095 005783 003186 005362 000683 003236 002771 005423 005871 002474 003848 004739 005698 001798 001368 001186 002555 002074 001311 001804 004357 002818 005925 000831 002936 005244 005734 003712 001129 004461 004445 006010 004585 002667 006047 002895 003672 004401 004671 001848 000228 001688 004958 001326 000674 005764 006026 005356 000314 000097 000809 001207 004500 005857 001258 001608 003204 001345 002655 002600 005640 004460 001431 003468 005335 001071 006055 004452 005988 002375 005622 004659 005686 001707 002948 001844 003756 002877 002615 003218 "
     ]
    }
   ],
   "source": [
    "results = evaluate_filter(ARCS_DIR, 'ARCS')"
   ]
  },
  {
   "cell_type": "code",
   "execution_count": null,
   "id": "0f11e074-3ef1-421d-9c6b-5ebd161776eb",
   "metadata": {},
   "outputs": [],
   "source": [
    "filter_results = evaluate_filter(ARCS_FILTERED_DIR, 'Filtered ARCS')"
   ]
  },
  {
   "cell_type": "code",
   "execution_count": null,
   "id": "37e2efd9-b9a6-4de5-8e0a-a1e3f0889a83",
   "metadata": {},
   "outputs": [],
   "source": [
    "label_filter_results = evaluate_filter(ARCS_LABEL_FILTERED_DIR, 'Label Filtered ARCS')"
   ]
  },
  {
   "cell_type": "code",
   "execution_count": null,
   "id": "dabadc4f-9423-43e9-9ea9-e08c7cd25392",
   "metadata": {},
   "outputs": [],
   "source": [
    "results['percent_of_non_label_pts_retained'] = results['total_num_non_label_points'] / results['total_num_non_label_points']\n",
    "results['percent_of_label_pts_retained'] = results['total_num_label_points'] / results['total_num_label_points']\n",
    "results['percent_of_original_file_size'] = results['total_files_size'] / results['total_files_size']"
   ]
  },
  {
   "cell_type": "code",
   "execution_count": null,
   "id": "4bfec924-34cf-42d7-b8a7-0c2d26137bd9",
   "metadata": {},
   "outputs": [],
   "source": [
    "filter_results['percent_of_non_label_pts_retained'] = filter_results['total_num_non_label_points'] / results['total_num_non_label_points']\n",
    "filter_results['percent_of_label_pts_retained'] = filter_results['total_num_label_points'] / results['total_num_label_points']\n",
    "filter_results['percent_of_original_file_size'] = filter_results['total_files_size'] / results['total_files_size']"
   ]
  },
  {
   "cell_type": "code",
   "execution_count": null,
   "id": "a6022c7a-b2a6-4a25-a52f-636ce9b7225a",
   "metadata": {},
   "outputs": [],
   "source": [
    "label_filter_results['percent_of_non_label_pts_retained'] = label_filter_results['total_num_non_label_points'] / results['total_num_non_label_points']\n",
    "label_filter_results['percent_of_label_pts_retained'] = label_filter_results['total_num_label_points'] / results['total_num_label_points']\n",
    "label_filter_results['percent_of_original_file_size'] = label_filter_results['total_files_size'] / results['total_files_size']"
   ]
  },
  {
   "cell_type": "code",
   "execution_count": null,
   "id": "ae2972c3-0a3e-4c4d-8ae9-fda140541b8a",
   "metadata": {},
   "outputs": [],
   "source": [
    "results_df = pd.DataFrame([results, filter_results, label_filter_results])\n",
    "# results_df = pd.DataFrame([results, filter_results])\n",
    "columns_to_display = ['dataset_name',\n",
    "                      'avg_frame_non_label_pts',\n",
    "                      'avg_frame_label_pts',\n",
    "                      'percent_of_non_label_pts_retained',\n",
    "                      'percent_of_label_pts_retained',\n",
    "                      'percent_of_original_file_size']\n",
    "display(results_df[columns_to_display])"
   ]
  },
  {
   "cell_type": "code",
   "execution_count": null,
   "id": "036d63c1-247f-4d35-b4ae-797382f45352",
   "metadata": {},
   "outputs": [],
   "source": [
    "columns_to_display = ['dataset_name',\n",
    "                      'percent_of_non_label_pts_retained',\n",
    "                      'percent_of_label_pts_retained',\n",
    "                      'percent_of_original_file_size']\n",
    "display(results_df[columns_to_display])"
   ]
  },
  {
   "cell_type": "code",
   "execution_count": null,
   "id": "90830675-e0f7-4068-b05c-b14914a744cd",
   "metadata": {},
   "outputs": [],
   "source": [
    "# test_dir = '../../data/eval_data/test_folder'\n",
    "# results = evaluate_filter(test_dir, 'test')\n",
    "# print(results)"
   ]
  },
  {
   "cell_type": "code",
   "execution_count": null,
   "id": "334588a5-bb5b-44e9-a492-6fba8fff32a9",
   "metadata": {},
   "outputs": [],
   "source": [
    "import matplotlib.pyplot as plt\n",
    "# These tests were done with azimuth_resolution = 0.01, height_resolution = 0.25\n",
    "\n",
    "# Defining the parameter changes and their corresponding results\n",
    "parameters = ['+0.2', '0', '-0.1', '-0.2', '-0.5', '-1']\n",
    "non_label_points_retained = [0.888438, 0.690376, 0.195896, 0.165541, 0.142986, 0.136502]\n",
    "label_points_retained = [0.965184, 0.933963, 0.88492, 0.874891, 0.855174, 0.837658]\n",
    "\n",
    "# Creating the plot\n",
    "plt.figure(figsize=(10, 5))\n",
    "plt.plot(parameters, non_label_points_retained, label='Non-label Points Retained', marker='o')\n",
    "plt.plot(parameters, label_points_retained, label='Label Points Retained', marker='o')\n",
    "plt.title('Effect of Distance Parameter Adjustment on Point Retention')\n",
    "plt.xlabel('Parameter Adjustment')\n",
    "plt.ylabel('Retention Rate')\n",
    "plt.legend()\n",
    "plt.grid(True)\n",
    "plt.show()"
   ]
  }
 ],
 "metadata": {
  "kernelspec": {
   "display_name": "Python 3 (ipykernel)",
   "language": "python",
   "name": "python3"
  },
  "language_info": {
   "codemirror_mode": {
    "name": "ipython",
    "version": 3
   },
   "file_extension": ".py",
   "mimetype": "text/x-python",
   "name": "python",
   "nbconvert_exporter": "python",
   "pygments_lexer": "ipython3",
   "version": "3.11.9"
  }
 },
 "nbformat": 4,
 "nbformat_minor": 5
}
