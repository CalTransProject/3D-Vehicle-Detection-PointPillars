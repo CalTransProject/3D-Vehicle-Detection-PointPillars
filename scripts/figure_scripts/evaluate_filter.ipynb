{
 "cells": [
  {
   "cell_type": "markdown",
   "id": "ab610c9f-e9dd-4b37-802c-d23856c11999",
   "metadata": {},
   "source": [
    "# See how many points are inside and outside of the labels, before and after filtering"
   ]
  },
  {
   "cell_type": "code",
   "execution_count": 4,
   "id": "d9b26f9d-86fc-4aa8-b802-47f0fb6f95b5",
   "metadata": {},
   "outputs": [],
   "source": [
    "# Libraries\n",
    "import os\n",
    "import random\n",
    "import numpy as np\n",
    "import pandas as pd\n",
    "from pathlib import Path"
   ]
  },
  {
   "cell_type": "code",
   "execution_count": 5,
   "id": "aad3d564-08a7-45e9-ae01-f206c06624f6",
   "metadata": {},
   "outputs": [],
   "source": [
    "# List of paths to dataset\n",
    "BASE_DIR = '../../data/eval_data'\n",
    "ARCS_DIR = 'arcs'\n",
    "ARCS_FILTERED_DIR = 'arcs_azimuth_filtered'\n",
    "ARCS_LABEL_FILTERED_DIR = 'arcs_label_filtered'\n",
    "ARCS_LABEL_DIR = 'labels'"
   ]
  },
  {
   "cell_type": "code",
   "execution_count": 6,
   "id": "e3f70b32-0704-4168-bec4-34268dcf7c6f",
   "metadata": {},
   "outputs": [],
   "source": [
    "# Evaluate filter (before eval script)\n",
    "BASE_DIR = '../../data'\n",
    "ARCS_DIR = 'velodyne_points'\n",
    "ARCS_FILTERED_DIR = 'filtered_points'\n",
    "ARCS_LABEL_FILTERED_DIR = 'label_filtered_points'\n",
    "ARCS_LABEL_DIR = 'pillar_pred_format_labels'"
   ]
  },
  {
   "cell_type": "code",
   "execution_count": 7,
   "id": "09a98260-b6f4-4d33-86dc-bf8e1687cbe7",
   "metadata": {},
   "outputs": [],
   "source": [
    "def point_is_in_an_roi_box(point, roi_box_list):\n",
    "    # Extract the point coordinates\n",
    "    x, y, z = point\n",
    "    \n",
    "    for bbox in roi_box_list:\n",
    "        # Extract the box parameters\n",
    "        # dz, dy, dx, cx, cy, cz, yaw = bbox\n",
    "        cx, cy, cz, dx, dy, dz, yaw = bbox\n",
    "        \n",
    "        # Create the rotation matrix for the yaw angle\n",
    "        cos_yaw = np.cos(-yaw)  # Negative for the inverse rotation\n",
    "        sin_yaw = np.sin(-yaw)\n",
    "        \n",
    "        rotation_matrix = np.array([\n",
    "            [cos_yaw, -sin_yaw, 0],\n",
    "            [sin_yaw,  cos_yaw, 0],\n",
    "            [0,       0,       1]\n",
    "        ])\n",
    "        \n",
    "        # Translate the point to the box's coordinate frame\n",
    "        translated_point = np.array([x - cx, y - cy, z - cz])\n",
    "        \n",
    "        # Rotate the point to align with the box\n",
    "        rotated_point = rotation_matrix.dot(translated_point)\n",
    "        \n",
    "        # Check if the point is within the box dimensions\n",
    "        half_lengths = [dz / 2, dy / 2, dx / 2]\n",
    "        in_box = all([\n",
    "            -half_lengths[i] <= rotated_point[i] <= half_lengths[i] for i in range(3)\n",
    "        ])\n",
    "    \n",
    "        if in_box:\n",
    "            return True\n",
    "    \n",
    "    return False"
   ]
  },
  {
   "cell_type": "code",
   "execution_count": 8,
   "id": "fdfca667-33cf-4967-95c5-82f144a32633",
   "metadata": {},
   "outputs": [],
   "source": [
    "def get_roi_boxes(label_file):\n",
    "    bboxes = []\n",
    "    with open(label_file, 'r') as file:\n",
    "        for line in file:\n",
    "            parts = line.strip().split()\n",
    "            bbox = [float(value) for value in parts[8:15]]  # Extract the bounding box dimensions and location            \n",
    "            bboxes.append(bbox)\n",
    "    return np.array(bboxes)"
   ]
  },
  {
   "cell_type": "code",
   "execution_count": 9,
   "id": "69be1f69-1f93-406c-8c07-6e145c7e0cb3",
   "metadata": {},
   "outputs": [],
   "source": [
    "def is_label_point(point, label_file_path):\n",
    "    list_roi_boxes = get_roi_boxes(label_file_path)\n",
    "    if point_is_in_an_roi_box(point, list_roi_boxes):\n",
    "        return True\n",
    "    return False"
   ]
  },
  {
   "cell_type": "code",
   "execution_count": 10,
   "id": "adb86b46-c879-4fa0-bb5d-92caf53b67b0",
   "metadata": {},
   "outputs": [],
   "source": [
    "def convert_to_dataframe(bin_path):\n",
    "    pre_filtered_data = np.fromfile(bin_path, dtype=np.float32).reshape(-1, 4) \n",
    "    columns = ['x', 'y', 'z', 'intensity']\n",
    "    df = pd.DataFrame(pre_filtered_data, columns=columns)\n",
    "    return df"
   ]
  },
  {
   "cell_type": "code",
   "execution_count": 11,
   "id": "d812aba3-64d8-4b10-9d9c-e3c39d797125",
   "metadata": {},
   "outputs": [],
   "source": [
    "def get_frame_point_statistics(data_file_path, label_file_path):\n",
    "    # Running totals\n",
    "    total_points = 0\n",
    "    label_points = 0\n",
    "\n",
    "    points_df = convert_to_dataframe(data_file_path)\n",
    "    \n",
    "    # For each point in the data\n",
    "    for index, row in points_df.iterrows():\n",
    "    # for index, row in points_df.iloc[:100].iterrows():\n",
    "        # Increment the total\n",
    "        total_points += 1\n",
    "        point = (row['x'], row['y'], row['z'])\n",
    "        # If the point is a label point\n",
    "        if is_label_point(point, label_file_path):\n",
    "            # Increment the label total\n",
    "            label_points += 1\n",
    "\n",
    "    return total_points, label_points"
   ]
  },
  {
   "cell_type": "code",
   "execution_count": 12,
   "id": "e8934fa5-721f-4553-9200-8ad934e1454e",
   "metadata": {},
   "outputs": [
    {
     "name": "stdout",
     "output_type": "stream",
     "text": [
      "['000372.bin', '004798.bin', '000795.bin', '004569.bin', '000014.bin', '001938.bin', '004042.bin', '005372.bin', '002898.bin', '001764.bin', '002758.bin', '005913.bin', '004603.bin', '002442.bin', '005325.bin', '001282.bin', '001687.bin', '002830.bin', '003173.bin', '002804.bin', '004228.bin', '003460.bin', '001313.bin', '006113.bin', '005324.bin', '002837.bin', '004014.bin', '006288.bin', '004108.bin', '002075.bin', '003843.bin', '000706.bin', '000091.bin', '001421.bin', '002808.bin', '002720.bin', '000875.bin', '005002.bin', '006227.bin', '000783.bin', '004374.bin', '001965.bin', '002046.bin', '003418.bin', '003465.bin', '003849.bin', '002874.bin', '005241.bin', '001106.bin', '002239.bin', '003861.bin', '005718.bin', '004343.bin', '002482.bin', '001280.bin', '005464.bin', '005619.bin', '000167.bin', '002244.bin', '004596.bin', '002710.bin', '002264.bin', '002797.bin', '000156.bin', '002393.bin', '006281.bin', '002688.bin', '002844.bin', '000147.bin', '000674.bin', '001878.bin', '001707.bin', '004344.bin', '003819.bin', '004352.bin', '002850.bin', '002608.bin', '000270.bin', '000256.bin', '002975.bin', '002834.bin', '002711.bin', '005684.bin', '005659.bin', '002120.bin', '002363.bin', '005350.bin', '002434.bin', '001488.bin', '001227.bin', '001439.bin', '001553.bin', '004945.bin', '005960.bin', '004457.bin', '000106.bin', '002765.bin', '005818.bin', '000828.bin', '002123.bin']\n"
     ]
    }
   ],
   "source": [
    "test_files = Path(BASE_DIR, ARCS_FILTERED_DIR)\n",
    "files = [f for f in os.listdir(test_files) if f.endswith('.bin')]\n",
    "random.shuffle(files)\n",
    "files = files[:100]\n",
    "print(files)"
   ]
  },
  {
   "cell_type": "code",
   "execution_count": 13,
   "id": "9118ac78-ac27-4ac5-8779-ae97a07f7f9f",
   "metadata": {},
   "outputs": [],
   "source": [
    "def get_dataset_point_statistics(data_path, label_path):\n",
    "    # Running totals\n",
    "    num_frames = 0\n",
    "    total_num_points = 0\n",
    "    total_num_label_points = 0\n",
    "    \n",
    "    # Get just the file names\n",
    "    # files = [f for f in os.listdir(data_path) if f.endswith('.bin')]\n",
    "    \n",
    "    # for filename in files[:10]:\n",
    "    for filename in files:\n",
    "        # Get file index\n",
    "        file_id, extension = os.path.splitext(filename)\n",
    "        print(file_id, end=' ')\n",
    "        \n",
    "        # Append file name to locations\n",
    "        data_file_path = Path(data_path, filename)\n",
    "        label_filename = file_id + '.txt'\n",
    "        label_file_path = Path(label_path, label_filename)\n",
    "\n",
    "        # Get the number of points, and the number of points inside the labels\n",
    "        num_frame_points, num_frame_label_points = get_frame_point_statistics(data_file_path, label_file_path)\n",
    "        # Add to running total\n",
    "        num_frames += 1\n",
    "        total_num_points += num_frame_points\n",
    "        total_num_label_points += num_frame_label_points\n",
    "\n",
    "    # return total_num_points / num_frames, total_num_label_points / num_frames\n",
    "    return num_frames, total_num_points, total_num_label_points"
   ]
  },
  {
   "cell_type": "code",
   "execution_count": 14,
   "id": "9210ea51-7cc0-4c17-bb98-7bb94c1f5382",
   "metadata": {},
   "outputs": [],
   "source": [
    "def evaluate_filter(dir, dataset_name):\n",
    "    # Create directory path\n",
    "    data_path = Path(BASE_DIR, dir)\n",
    "    label_path = Path(BASE_DIR, ARCS_LABEL_DIR)\n",
    "    print(data_path)\n",
    "\n",
    "    # Get the dataset statistics\n",
    "    num_frames, total_num_points, total_num_label_points = get_dataset_point_statistics(data_path, label_path)\n",
    "\n",
    "    results = {\n",
    "        'dataset_name': dataset_name,\n",
    "        'num_frames': num_frames,\n",
    "        'total_num_points': total_num_points,\n",
    "        'total_num_label_points': total_num_label_points,\n",
    "        'total_num_non_label_points': total_num_points - total_num_label_points,\n",
    "        'avg_frame_pts': total_num_points / num_frames,\n",
    "        'avg_frame_label_pts': total_num_label_points / num_frames,\n",
    "        'avg_frame_non_label_pts': (total_num_points - total_num_label_points) / num_frames\n",
    "    }\n",
    "\n",
    "    return results"
   ]
  },
  {
   "cell_type": "markdown",
   "id": "88e8c946-5977-4cdb-82b5-a9cd2811d227",
   "metadata": {},
   "source": [
    "### Run datasets through filter evaluator, print results"
   ]
  },
  {
   "cell_type": "code",
   "execution_count": 16,
   "id": "8dc95bb7-463b-4d72-8327-61b06b765e2d",
   "metadata": {},
   "outputs": [
    {
     "name": "stdout",
     "output_type": "stream",
     "text": [
      "..\\..\\data\\velodyne_points\n",
      "000372 004798 000795 004569 000014 001938 004042 005372 002898 001764 002758 005913 004603 002442 005325 001282 001687 002830 003173 002804 004228 003460 001313 006113 005324 002837 004014 006288 004108 002075 003843 000706 000091 001421 002808 002720 000875 005002 006227 000783 004374 001965 002046 003418 003465 003849 002874 005241 001106 002239 003861 005718 004343 002482 001280 005464 005619 000167 002244 004596 002710 002264 002797 000156 002393 006281 002688 002844 000147 000674 001878 001707 004344 003819 004352 002850 002608 000270 000256 002975 002834 002711 005684 005659 002120 002363 005350 002434 001488 001227 001439 001553 004945 005960 004457 000106 002765 005818 000828 002123 "
     ]
    }
   ],
   "source": [
    "results = evaluate_filter(ARCS_DIR, 'ARCS')"
   ]
  },
  {
   "cell_type": "code",
   "execution_count": 17,
   "id": "0f11e074-3ef1-421d-9c6b-5ebd161776eb",
   "metadata": {},
   "outputs": [
    {
     "name": "stdout",
     "output_type": "stream",
     "text": [
      "..\\..\\data\\filtered_points\n",
      "000372 004798 000795 004569 000014 001938 004042 005372 002898 001764 002758 005913 004603 002442 005325 001282 001687 002830 003173 002804 004228 003460 001313 006113 005324 002837 004014 006288 004108 002075 003843 000706 000091 001421 002808 002720 000875 005002 006227 000783 004374 001965 002046 003418 003465 003849 002874 005241 001106 002239 003861 005718 004343 002482 001280 005464 005619 000167 002244 004596 002710 002264 002797 000156 002393 006281 002688 002844 000147 000674 001878 001707 004344 003819 004352 002850 002608 000270 000256 002975 002834 002711 005684 005659 002120 002363 005350 002434 001488 001227 001439 001553 004945 005960 004457 000106 002765 005818 000828 002123 "
     ]
    }
   ],
   "source": [
    "filter_results = evaluate_filter(ARCS_FILTERED_DIR, 'Filtered ARCS')"
   ]
  },
  {
   "cell_type": "code",
   "execution_count": 18,
   "id": "37e2efd9-b9a6-4de5-8e0a-a1e3f0889a83",
   "metadata": {},
   "outputs": [
    {
     "name": "stdout",
     "output_type": "stream",
     "text": [
      "..\\..\\data\\label_filtered_points\n",
      "000372 004798 000795 004569 000014 001938 004042 005372 002898 001764 002758 005913 004603 002442 005325 001282 001687 002830 003173 002804 004228 003460 001313 006113 005324 002837 004014 006288 004108 002075 003843 000706 000091 001421 002808 002720 000875 005002 006227 000783 004374 001965 002046 003418 003465 003849 002874 005241 001106 002239 003861 005718 004343 002482 001280 005464 005619 000167 002244 004596 002710 002264 002797 000156 002393 006281 002688 002844 000147 000674 001878 001707 004344 003819 004352 002850 002608 000270 000256 002975 002834 002711 005684 005659 002120 002363 005350 002434 001488 001227 001439 001553 004945 005960 004457 000106 002765 005818 000828 002123 "
     ]
    }
   ],
   "source": [
    "label_filter_results = evaluate_filter(ARCS_LABEL_FILTERED_DIR, 'Label Filtered ARCS')"
   ]
  },
  {
   "cell_type": "code",
   "execution_count": 19,
   "id": "dabadc4f-9423-43e9-9ea9-e08c7cd25392",
   "metadata": {},
   "outputs": [],
   "source": [
    "results['percent_of_non_label_pts_retained'] = results['total_num_non_label_points'] / results['total_num_non_label_points']\n",
    "results['percent_of_label_pts_retained'] = results['total_num_label_points'] / results['total_num_label_points']"
   ]
  },
  {
   "cell_type": "code",
   "execution_count": 20,
   "id": "4bfec924-34cf-42d7-b8a7-0c2d26137bd9",
   "metadata": {},
   "outputs": [],
   "source": [
    "filter_results['percent_of_non_label_pts_retained'] = filter_results['total_num_non_label_points'] / results['total_num_non_label_points']\n",
    "filter_results['percent_of_label_pts_retained'] = filter_results['total_num_label_points'] / results['total_num_label_points']"
   ]
  },
  {
   "cell_type": "code",
   "execution_count": 21,
   "id": "a6022c7a-b2a6-4a25-a52f-636ce9b7225a",
   "metadata": {},
   "outputs": [],
   "source": [
    "label_filter_results['percent_of_non_label_pts_retained'] = label_filter_results['total_num_non_label_points'] / results['total_num_non_label_points']\n",
    "label_filter_results['percent_of_label_pts_retained'] = label_filter_results['total_num_label_points'] / results['total_num_label_points']"
   ]
  },
  {
   "cell_type": "code",
   "execution_count": 41,
   "id": "ae2972c3-0a3e-4c4d-8ae9-fda140541b8a",
   "metadata": {},
   "outputs": [
    {
     "data": {
      "text/html": [
       "<div>\n",
       "<style scoped>\n",
       "    .dataframe tbody tr th:only-of-type {\n",
       "        vertical-align: middle;\n",
       "    }\n",
       "\n",
       "    .dataframe tbody tr th {\n",
       "        vertical-align: top;\n",
       "    }\n",
       "\n",
       "    .dataframe thead th {\n",
       "        text-align: right;\n",
       "    }\n",
       "</style>\n",
       "<table border=\"1\" class=\"dataframe\">\n",
       "  <thead>\n",
       "    <tr style=\"text-align: right;\">\n",
       "      <th></th>\n",
       "      <th>dataset_name</th>\n",
       "      <th>avg_frame_non_label_pts</th>\n",
       "      <th>avg_frame_label_pts</th>\n",
       "      <th>percent_of_non_label_pts_retained</th>\n",
       "      <th>percent_of_label_pts_retained</th>\n",
       "    </tr>\n",
       "  </thead>\n",
       "  <tbody>\n",
       "    <tr>\n",
       "      <th>0</th>\n",
       "      <td>ARCS</td>\n",
       "      <td>51683.86</td>\n",
       "      <td>856.40</td>\n",
       "      <td>1.00000</td>\n",
       "      <td>1.000000</td>\n",
       "    </tr>\n",
       "    <tr>\n",
       "      <th>1</th>\n",
       "      <td>Filtered ARCS</td>\n",
       "      <td>4364.72</td>\n",
       "      <td>557.72</td>\n",
       "      <td>0.08445</td>\n",
       "      <td>0.651238</td>\n",
       "    </tr>\n",
       "    <tr>\n",
       "      <th>2</th>\n",
       "      <td>Label Filtered ARCS</td>\n",
       "      <td>0.00</td>\n",
       "      <td>856.40</td>\n",
       "      <td>0.00000</td>\n",
       "      <td>1.000000</td>\n",
       "    </tr>\n",
       "  </tbody>\n",
       "</table>\n",
       "</div>"
      ],
      "text/plain": [
       "          dataset_name  avg_frame_non_label_pts  avg_frame_label_pts  \\\n",
       "0                 ARCS                 51683.86               856.40   \n",
       "1        Filtered ARCS                  4364.72               557.72   \n",
       "2  Label Filtered ARCS                     0.00               856.40   \n",
       "\n",
       "   percent_of_non_label_pts_retained  percent_of_label_pts_retained  \n",
       "0                            1.00000                       1.000000  \n",
       "1                            0.08445                       0.651238  \n",
       "2                            0.00000                       1.000000  "
      ]
     },
     "metadata": {},
     "output_type": "display_data"
    }
   ],
   "source": [
    "results_df = pd.DataFrame([results, filter_results, label_filter_results])\n",
    "columns_to_display = ['dataset_name',\n",
    "                      'avg_frame_non_label_pts',\n",
    "                      'avg_frame_label_pts',\n",
    "                      'percent_of_non_label_pts_retained',\n",
    "                      'percent_of_label_pts_retained']\n",
    "display(results_df[columns_to_display])"
   ]
  }
 ],
 "metadata": {
  "kernelspec": {
   "display_name": "Python 3 (ipykernel)",
   "language": "python",
   "name": "python3"
  },
  "language_info": {
   "codemirror_mode": {
    "name": "ipython",
    "version": 3
   },
   "file_extension": ".py",
   "mimetype": "text/x-python",
   "name": "python",
   "nbconvert_exporter": "python",
   "pygments_lexer": "ipython3",
   "version": "3.11.9"
  }
 },
 "nbformat": 4,
 "nbformat_minor": 5
}
