{
 "cells": [
  {
   "cell_type": "markdown",
   "id": "ab610c9f-e9dd-4b37-802c-d23856c11999",
   "metadata": {},
   "source": [
    "# See how many points are inside and outside of the labels, before and after filtering"
   ]
  },
  {
   "cell_type": "code",
   "execution_count": 132,
   "id": "d9b26f9d-86fc-4aa8-b802-47f0fb6f95b5",
   "metadata": {},
   "outputs": [],
   "source": [
    "# Libraries\n",
    "import os\n",
    "import random\n",
    "import numpy as np\n",
    "import pandas as pd\n",
    "from pathlib import Path"
   ]
  },
  {
   "cell_type": "code",
   "execution_count": 133,
   "id": "aad3d564-08a7-45e9-ae01-f206c06624f6",
   "metadata": {},
   "outputs": [],
   "source": [
    "# List of paths to dataset\n",
    "BASE_DIR = '../../data/eval_data'\n",
    "ARCS_DIR = 'arcs'\n",
    "ARCS_FILTERED_DIR = 'arcs_azimuth_filtered'\n",
    "ARCS_LABEL_FILTERED_DIR = 'arcs_label_filtered'\n",
    "ARCS_LABEL_DIR = 'labels'"
   ]
  },
  {
   "cell_type": "code",
   "execution_count": 134,
   "id": "a1c02bed-ed03-4bde-a604-a8d884f2e1cb",
   "metadata": {},
   "outputs": [],
   "source": [
    "evaluation_area = [21.0175, 11.717, -0.3925, 40.035, 55.9349, 7.535, 0.5]"
   ]
  },
  {
   "cell_type": "code",
   "execution_count": 135,
   "id": "e3f70b32-0704-4168-bec4-34268dcf7c6f",
   "metadata": {},
   "outputs": [],
   "source": [
    "# Evaluate filter (before eval script)\n",
    "BASE_DIR = '../../data'\n",
    "ARCS_DIR = 'velodyne_points'\n",
    "DIST_FILTERED_DIR = 'arcs_distance_filtered'\n",
    "HEIGHT_FILTERED_DIR = 'filtered_points'\n",
    "ARCS_LABEL_FILTERED_DIR = 'label_filtered_points'\n",
    "ARCS_LABEL_DIR = 'pillar_pred_format_labels'"
   ]
  },
  {
   "cell_type": "code",
   "execution_count": 136,
   "id": "51a508bd-b185-467d-94d6-9cada0fff9c4",
   "metadata": {},
   "outputs": [],
   "source": [
    "# test_dir = 'test_folder'"
   ]
  },
  {
   "cell_type": "code",
   "execution_count": 137,
   "id": "09a98260-b6f4-4d33-86dc-bf8e1687cbe7",
   "metadata": {},
   "outputs": [],
   "source": [
    "def point_is_in_an_roi_box(point, roi_box_list):\n",
    "    # Extract the point coordinates\n",
    "    x, y, z = point\n",
    "    \n",
    "    for bbox in roi_box_list:\n",
    "        # Extract the box parameters\n",
    "        # dz, dy, dx, cx, cy, cz, yaw = bbox\n",
    "        cx, cy, cz, dx, dy, dz, yaw = bbox\n",
    "        \n",
    "        # Create the rotation matrix for the yaw angle\n",
    "        cos_yaw = np.cos(-yaw)  # Negative for the inverse rotation\n",
    "        sin_yaw = np.sin(-yaw)\n",
    "        \n",
    "        rotation_matrix = np.array([\n",
    "            [cos_yaw, -sin_yaw, 0],\n",
    "            [sin_yaw,  cos_yaw, 0],\n",
    "            [0,       0,       1]\n",
    "        ])\n",
    "        \n",
    "        # Translate the point to the box's coordinate frame\n",
    "        translated_point = np.array([x - cx, y - cy, z - cz])\n",
    "        \n",
    "        # Rotate the point to align with the box\n",
    "        rotated_point = rotation_matrix.dot(translated_point)\n",
    "        \n",
    "        # Check if the point is within the box dimensions\n",
    "        half_lengths = [dz / 2, dy / 2, dx / 2]\n",
    "        in_box = all([\n",
    "            -half_lengths[i] <= rotated_point[i] <= half_lengths[i] for i in range(3)\n",
    "        ])\n",
    "    \n",
    "        if in_box:\n",
    "            return True\n",
    "    \n",
    "    return False"
   ]
  },
  {
   "cell_type": "code",
   "execution_count": 138,
   "id": "fdfca667-33cf-4967-95c5-82f144a32633",
   "metadata": {},
   "outputs": [],
   "source": [
    "def get_roi_boxes(label_file):\n",
    "    bboxes = []\n",
    "    with open(label_file, 'r') as file:\n",
    "        for line in file:\n",
    "            parts = line.strip().split()\n",
    "            bbox = [float(value) for value in parts[8:15]]  # Extract the bounding box dimensions and location            \n",
    "            bboxes.append(bbox)\n",
    "    return np.array(bboxes)"
   ]
  },
  {
   "cell_type": "code",
   "execution_count": 139,
   "id": "69be1f69-1f93-406c-8c07-6e145c7e0cb3",
   "metadata": {},
   "outputs": [],
   "source": [
    "def is_label_point(point, label_file_path):\n",
    "    list_roi_boxes = get_roi_boxes(label_file_path)\n",
    "    if point_is_in_an_roi_box(point, list_roi_boxes):\n",
    "        return True\n",
    "    return False"
   ]
  },
  {
   "cell_type": "code",
   "execution_count": 140,
   "id": "adb86b46-c879-4fa0-bb5d-92caf53b67b0",
   "metadata": {},
   "outputs": [],
   "source": [
    "def convert_to_dataframe(bin_path):\n",
    "    pre_filtered_data = np.fromfile(bin_path, dtype=np.float32).reshape(-1, 4) \n",
    "    columns = ['x', 'y', 'z', 'intensity']\n",
    "    df = pd.DataFrame(pre_filtered_data, columns=columns)\n",
    "    return df"
   ]
  },
  {
   "cell_type": "code",
   "execution_count": 141,
   "id": "d812aba3-64d8-4b10-9d9c-e3c39d797125",
   "metadata": {},
   "outputs": [],
   "source": [
    "def get_frame_point_statistics(data_file_path, label_file_path):\n",
    "    # Running totals\n",
    "    total_points = 0\n",
    "    label_points = 0\n",
    "\n",
    "    points_df = convert_to_dataframe(data_file_path)\n",
    "    \n",
    "    # For each point in the data\n",
    "    for index, row in points_df.iterrows():\n",
    "    # for index, row in points_df.iloc[:100].iterrows():\n",
    "        point = (row['x'], row['y'], row['z'])\n",
    "        if point_is_in_an_roi_box(point, [evaluation_area]):\n",
    "            # Increment the total\n",
    "            total_points += 1\n",
    "            \n",
    "            # If the point is a label point\n",
    "            if is_label_point(point, label_file_path):\n",
    "                # Increment the label total\n",
    "                label_points += 1\n",
    "\n",
    "    return total_points, label_points"
   ]
  },
  {
   "cell_type": "code",
   "execution_count": 142,
   "id": "e8934fa5-721f-4553-9200-8ad934e1454e",
   "metadata": {},
   "outputs": [
    {
     "name": "stdout",
     "output_type": "stream",
     "text": [
      "['001182.bin', '002793.bin', '005393.bin', '004071.bin', '006230.bin', '005686.bin', '000044.bin', '002442.bin', '004025.bin', '001716.bin', '001424.bin', '000197.bin', '001378.bin', '005798.bin', '006381.bin', '000528.bin', '004066.bin', '005456.bin', '003693.bin', '006099.bin', '002516.bin', '005878.bin', '000190.bin', '002861.bin', '003158.bin', '001348.bin', '003413.bin', '003668.bin', '002052.bin', '002719.bin', '004602.bin', '006187.bin', '006035.bin', '004121.bin', '000260.bin', '003186.bin', '001904.bin', '000284.bin', '002463.bin', '004633.bin', '000851.bin', '000548.bin', '001821.bin', '005244.bin', '000467.bin', '000108.bin', '001817.bin', '000706.bin', '001888.bin', '001153.bin', '000374.bin', '004572.bin', '006382.bin', '004679.bin', '003464.bin', '005826.bin', '004408.bin', '005256.bin', '000876.bin', '000819.bin', '004504.bin', '001240.bin', '003070.bin', '003410.bin', '001336.bin', '005245.bin', '001012.bin', '005420.bin', '006067.bin', '002629.bin', '006053.bin', '002969.bin', '003218.bin', '000134.bin', '004223.bin', '000855.bin', '000203.bin', '001095.bin', '001030.bin', '004497.bin', '001400.bin', '001866.bin', '006127.bin', '005169.bin', '002500.bin', '003178.bin', '005013.bin', '004798.bin', '005665.bin', '000052.bin', '003465.bin', '002665.bin', '000456.bin', '004586.bin', '006450.bin', '001516.bin', '005940.bin', '005670.bin', '005990.bin', '001595.bin']\n"
     ]
    }
   ],
   "source": [
    "# test_dir_path = Path(BASE_DIR, test_dir)\n",
    "test_dir_path = Path(BASE_DIR, DIST_FILTERED_DIR)\n",
    "files = [f for f in os.listdir(test_dir_path) if f.endswith('.bin')]\n",
    "random.shuffle(files)\n",
    "files = files[:100]\n",
    "print(files)"
   ]
  },
  {
   "cell_type": "code",
   "execution_count": 143,
   "id": "9118ac78-ac27-4ac5-8779-ae97a07f7f9f",
   "metadata": {},
   "outputs": [],
   "source": [
    "def get_dataset_point_statistics(data_path, label_path):\n",
    "    # Running totals\n",
    "    num_frames = 0\n",
    "    total_num_points = 0\n",
    "    total_num_label_points = 0\n",
    "    total_file_size = 0\n",
    "    \n",
    "    for filename in files:\n",
    "        # Get file index\n",
    "        file_id, extension = os.path.splitext(filename)\n",
    "        print(file_id, end=' ')\n",
    "        \n",
    "        # Append file name to locations\n",
    "        data_file_path = Path(data_path, filename)\n",
    "        label_filename = file_id + '.txt'\n",
    "        label_file_path = Path(label_path, label_filename)\n",
    "\n",
    "        # Get the number of points, and the number of points inside the labels\n",
    "        num_frame_points, num_frame_label_points = get_frame_point_statistics(data_file_path, label_file_path)\n",
    "\n",
    "        # Get the file size\n",
    "        size = os.path.getsize(data_file_path)\n",
    "        \n",
    "        # Add to running total\n",
    "        num_frames += 1\n",
    "        total_num_points += num_frame_points\n",
    "        total_num_label_points += num_frame_label_points\n",
    "        total_file_size += size\n",
    "\n",
    "    # return total_num_points / num_frames, total_num_label_points / num_frames\n",
    "    return num_frames, total_num_points, total_num_label_points, total_file_size"
   ]
  },
  {
   "cell_type": "code",
   "execution_count": 144,
   "id": "9210ea51-7cc0-4c17-bb98-7bb94c1f5382",
   "metadata": {},
   "outputs": [],
   "source": [
    "def evaluate_filter(dir, dataset_name):\n",
    "    # Create directory path\n",
    "    data_path = Path(BASE_DIR, dir)\n",
    "    label_path = Path(BASE_DIR, ARCS_LABEL_DIR)\n",
    "    print(data_path)\n",
    "\n",
    "    # Get the dataset statistics\n",
    "    num_frames, total_num_points, total_num_label_points, total_file_size = get_dataset_point_statistics(data_path, label_path)\n",
    "\n",
    "    results = {\n",
    "        'dataset_name': dataset_name,\n",
    "        'num_frames': num_frames,\n",
    "        'total_num_points': total_num_points,\n",
    "        'total_num_label_points': total_num_label_points,\n",
    "        'total_num_non_label_points': total_num_points - total_num_label_points,\n",
    "        'avg_frame_pts': total_num_points / num_frames,\n",
    "        'avg_frame_label_pts': total_num_label_points / num_frames,\n",
    "        'avg_frame_non_label_pts': (total_num_points - total_num_label_points) / num_frames,\n",
    "        'total_files_size': total_file_size\n",
    "    }\n",
    "\n",
    "    return results"
   ]
  },
  {
   "cell_type": "markdown",
   "id": "88e8c946-5977-4cdb-82b5-a9cd2811d227",
   "metadata": {},
   "source": [
    "### Run datasets through filter evaluator, print results"
   ]
  },
  {
   "cell_type": "code",
   "execution_count": 146,
   "id": "8dc95bb7-463b-4d72-8327-61b06b765e2d",
   "metadata": {},
   "outputs": [
    {
     "name": "stdout",
     "output_type": "stream",
     "text": [
      "..\\..\\data\\velodyne_points\n",
      "001182 002793 005393 004071 006230 005686 000044 002442 004025 001716 001424 000197 001378 005798 006381 000528 004066 005456 003693 006099 002516 005878 000190 002861 003158 001348 003413 003668 002052 002719 004602 006187 006035 004121 000260 003186 001904 000284 002463 004633 000851 000548 001821 005244 000467 000108 001817 000706 001888 001153 000374 004572 006382 004679 003464 005826 004408 005256 000876 000819 004504 001240 003070 003410 001336 005245 001012 005420 006067 002629 006053 002969 003218 000134 004223 000855 000203 001095 001030 004497 001400 001866 006127 005169 002500 003178 005013 004798 005665 000052 003465 002665 000456 004586 006450 001516 005940 005670 005990 001595 "
     ]
    }
   ],
   "source": [
    "results = evaluate_filter(ARCS_DIR, 'ARCS')"
   ]
  },
  {
   "cell_type": "code",
   "execution_count": 147,
   "id": "0f11e074-3ef1-421d-9c6b-5ebd161776eb",
   "metadata": {},
   "outputs": [
    {
     "name": "stdout",
     "output_type": "stream",
     "text": [
      "..\\..\\data\\arcs_distance_filtered\n",
      "001182 002793 005393 004071 006230 005686 000044 002442 004025 001716 001424 000197 001378 005798 006381 000528 004066 005456 003693 006099 002516 005878 000190 002861 003158 001348 003413 003668 002052 002719 004602 006187 006035 004121 000260 003186 001904 000284 002463 004633 000851 000548 001821 005244 000467 000108 001817 000706 001888 001153 000374 004572 006382 004679 003464 005826 004408 005256 000876 000819 004504 001240 003070 003410 001336 005245 001012 005420 006067 002629 006053 002969 003218 000134 004223 000855 000203 001095 001030 004497 001400 001866 006127 005169 002500 003178 005013 004798 005665 000052 003465 002665 000456 004586 006450 001516 005940 005670 005990 001595 "
     ]
    }
   ],
   "source": [
    "distance_filter_results = evaluate_filter(DIST_FILTERED_DIR, 'Height Filtered ARC')\n",
    "# filter_results = evaluate_filter(ARCS_FILTERED_DIR, 'Filtered ARCS')"
   ]
  },
  {
   "cell_type": "code",
   "execution_count": 148,
   "id": "a9f8fe04-8cc8-4b7b-ae58-e5ba911db796",
   "metadata": {},
   "outputs": [
    {
     "name": "stdout",
     "output_type": "stream",
     "text": [
      "..\\..\\data\\filtered_points\n",
      "001182 002793 005393 004071 006230 005686 000044 002442 004025 001716 001424 000197 001378 005798 006381 000528 004066 005456 003693 006099 002516 005878 000190 002861 003158 001348 003413 003668 002052 002719 004602 006187 006035 004121 000260 003186 001904 000284 002463 004633 000851 000548 001821 005244 000467 000108 001817 000706 001888 001153 000374 004572 006382 004679 003464 005826 004408 005256 000876 000819 004504 001240 003070 003410 001336 005245 001012 005420 006067 002629 006053 002969 003218 000134 004223 000855 000203 001095 001030 004497 001400 001866 006127 005169 002500 003178 005013 004798 005665 000052 003465 002665 000456 004586 006450 001516 005940 005670 005990 001595 "
     ]
    }
   ],
   "source": [
    "height_filter_results = evaluate_filter(HEIGHT_FILTERED_DIR, 'Distance Filtered ARC')"
   ]
  },
  {
   "cell_type": "code",
   "execution_count": 149,
   "id": "37e2efd9-b9a6-4de5-8e0a-a1e3f0889a83",
   "metadata": {},
   "outputs": [
    {
     "name": "stdout",
     "output_type": "stream",
     "text": [
      "..\\..\\data\\label_filtered_points\n",
      "001182 002793 005393 004071 006230 005686 000044 002442 004025 001716 001424 000197 001378 005798 006381 000528 004066 005456 003693 006099 002516 005878 000190 002861 003158 001348 003413 003668 002052 002719 004602 006187 006035 004121 000260 003186 001904 000284 002463 004633 000851 000548 001821 005244 000467 000108 001817 000706 001888 001153 000374 004572 006382 004679 003464 005826 004408 005256 000876 000819 004504 001240 003070 003410 001336 005245 001012 005420 006067 002629 006053 002969 003218 000134 004223 000855 000203 001095 001030 004497 001400 001866 006127 005169 002500 003178 005013 004798 005665 000052 003465 002665 000456 004586 006450 001516 005940 005670 005990 001595 "
     ]
    }
   ],
   "source": [
    "label_filter_results = evaluate_filter(ARCS_LABEL_FILTERED_DIR, 'Label Filtered ARCS')"
   ]
  },
  {
   "cell_type": "code",
   "execution_count": 150,
   "id": "dabadc4f-9423-43e9-9ea9-e08c7cd25392",
   "metadata": {},
   "outputs": [],
   "source": [
    "results['percent_of_non_label_pts_retained'] = results['total_num_non_label_points'] / results['total_num_non_label_points']\n",
    "results['percent_of_label_pts_retained'] = results['total_num_label_points'] / results['total_num_label_points']\n",
    "results['percent_of_original_file_size'] = results['total_files_size'] / results['total_files_size']"
   ]
  },
  {
   "cell_type": "code",
   "execution_count": 151,
   "id": "4bfec924-34cf-42d7-b8a7-0c2d26137bd9",
   "metadata": {},
   "outputs": [],
   "source": [
    "# filter_results['percent_of_non_label_pts_retained'] = filter_results['total_num_non_label_points'] / results['total_num_non_label_points']\n",
    "# filter_results['percent_of_label_pts_retained'] = filter_results['total_num_label_points'] / results['total_num_label_points']\n",
    "# filter_results['percent_of_original_file_size'] = filter_results['total_files_size'] / results['total_files_size']\n",
    "\n",
    "distance_filter_results['percent_of_non_label_pts_retained'] = distance_filter_results['total_num_non_label_points'] / results['total_num_non_label_points']\n",
    "distance_filter_results['percent_of_label_pts_retained'] = distance_filter_results['total_num_label_points'] / results['total_num_label_points']\n",
    "distance_filter_results['percent_of_original_file_size'] = distance_filter_results['total_files_size'] / results['total_files_size']"
   ]
  },
  {
   "cell_type": "code",
   "execution_count": 152,
   "id": "fa8cb28d-8575-432d-8328-460bd5b39596",
   "metadata": {},
   "outputs": [],
   "source": [
    "height_filter_results['percent_of_non_label_pts_retained'] = height_filter_results['total_num_non_label_points'] / results['total_num_non_label_points']\n",
    "height_filter_results['percent_of_label_pts_retained'] = height_filter_results['total_num_label_points'] / results['total_num_label_points']\n",
    "height_filter_results['percent_of_original_file_size'] = height_filter_results['total_files_size'] / results['total_files_size']"
   ]
  },
  {
   "cell_type": "code",
   "execution_count": 153,
   "id": "a6022c7a-b2a6-4a25-a52f-636ce9b7225a",
   "metadata": {},
   "outputs": [],
   "source": [
    "label_filter_results['percent_of_non_label_pts_retained'] = label_filter_results['total_num_non_label_points'] / results['total_num_non_label_points']\n",
    "label_filter_results['percent_of_label_pts_retained'] = label_filter_results['total_num_label_points'] / results['total_num_label_points']\n",
    "label_filter_results['percent_of_original_file_size'] = label_filter_results['total_files_size'] / results['total_files_size']"
   ]
  },
  {
   "cell_type": "code",
   "execution_count": 154,
   "id": "ae2972c3-0a3e-4c4d-8ae9-fda140541b8a",
   "metadata": {},
   "outputs": [
    {
     "data": {
      "text/html": [
       "<div>\n",
       "<style scoped>\n",
       "    .dataframe tbody tr th:only-of-type {\n",
       "        vertical-align: middle;\n",
       "    }\n",
       "\n",
       "    .dataframe tbody tr th {\n",
       "        vertical-align: top;\n",
       "    }\n",
       "\n",
       "    .dataframe thead th {\n",
       "        text-align: right;\n",
       "    }\n",
       "</style>\n",
       "<table border=\"1\" class=\"dataframe\">\n",
       "  <thead>\n",
       "    <tr style=\"text-align: right;\">\n",
       "      <th></th>\n",
       "      <th>dataset_name</th>\n",
       "      <th>avg_frame_non_label_pts</th>\n",
       "      <th>avg_frame_label_pts</th>\n",
       "      <th>percent_of_non_label_pts_retained</th>\n",
       "      <th>percent_of_label_pts_retained</th>\n",
       "      <th>percent_of_original_file_size</th>\n",
       "    </tr>\n",
       "  </thead>\n",
       "  <tbody>\n",
       "    <tr>\n",
       "      <th>0</th>\n",
       "      <td>ARCS</td>\n",
       "      <td>921.96</td>\n",
       "      <td>76.68</td>\n",
       "      <td>1.000000</td>\n",
       "      <td>1.000000</td>\n",
       "      <td>1.000000</td>\n",
       "    </tr>\n",
       "    <tr>\n",
       "      <th>1</th>\n",
       "      <td>Height Filtered ARC</td>\n",
       "      <td>90.26</td>\n",
       "      <td>67.05</td>\n",
       "      <td>0.097900</td>\n",
       "      <td>0.874413</td>\n",
       "      <td>0.166239</td>\n",
       "    </tr>\n",
       "    <tr>\n",
       "      <th>2</th>\n",
       "      <td>Height Filtered ARC</td>\n",
       "      <td>11.97</td>\n",
       "      <td>62.03</td>\n",
       "      <td>0.012983</td>\n",
       "      <td>0.808946</td>\n",
       "      <td>0.077163</td>\n",
       "    </tr>\n",
       "    <tr>\n",
       "      <th>3</th>\n",
       "      <td>Label Filtered ARCS</td>\n",
       "      <td>0.00</td>\n",
       "      <td>76.68</td>\n",
       "      <td>0.000000</td>\n",
       "      <td>1.000000</td>\n",
       "      <td>0.016941</td>\n",
       "    </tr>\n",
       "  </tbody>\n",
       "</table>\n",
       "</div>"
      ],
      "text/plain": [
       "          dataset_name  avg_frame_non_label_pts  avg_frame_label_pts  \\\n",
       "0                 ARCS                   921.96                76.68   \n",
       "1  Height Filtered ARC                    90.26                67.05   \n",
       "2  Height Filtered ARC                    11.97                62.03   \n",
       "3  Label Filtered ARCS                     0.00                76.68   \n",
       "\n",
       "   percent_of_non_label_pts_retained  percent_of_label_pts_retained  \\\n",
       "0                           1.000000                       1.000000   \n",
       "1                           0.097900                       0.874413   \n",
       "2                           0.012983                       0.808946   \n",
       "3                           0.000000                       1.000000   \n",
       "\n",
       "   percent_of_original_file_size  \n",
       "0                       1.000000  \n",
       "1                       0.166239  \n",
       "2                       0.077163  \n",
       "3                       0.016941  "
      ]
     },
     "metadata": {},
     "output_type": "display_data"
    }
   ],
   "source": [
    "results_df = pd.DataFrame([results, distance_filter_results, height_filter_results, label_filter_results])\n",
    "# results_df = pd.DataFrame([results, filter_results, label_filter_results])\n",
    "# results_df = pd.DataFrame([results, filter_results])\n",
    "columns_to_display = ['dataset_name',\n",
    "                      'avg_frame_non_label_pts',\n",
    "                      'avg_frame_label_pts',\n",
    "                      'percent_of_non_label_pts_retained',\n",
    "                      'percent_of_label_pts_retained',\n",
    "                      'percent_of_original_file_size']\n",
    "display(results_df[columns_to_display])"
   ]
  },
  {
   "cell_type": "code",
   "execution_count": 155,
   "id": "036d63c1-247f-4d35-b4ae-797382f45352",
   "metadata": {},
   "outputs": [
    {
     "data": {
      "text/html": [
       "<div>\n",
       "<style scoped>\n",
       "    .dataframe tbody tr th:only-of-type {\n",
       "        vertical-align: middle;\n",
       "    }\n",
       "\n",
       "    .dataframe tbody tr th {\n",
       "        vertical-align: top;\n",
       "    }\n",
       "\n",
       "    .dataframe thead th {\n",
       "        text-align: right;\n",
       "    }\n",
       "</style>\n",
       "<table border=\"1\" class=\"dataframe\">\n",
       "  <thead>\n",
       "    <tr style=\"text-align: right;\">\n",
       "      <th></th>\n",
       "      <th>dataset_name</th>\n",
       "      <th>percent_of_non_label_pts_retained</th>\n",
       "      <th>percent_of_label_pts_retained</th>\n",
       "      <th>percent_of_original_file_size</th>\n",
       "    </tr>\n",
       "  </thead>\n",
       "  <tbody>\n",
       "    <tr>\n",
       "      <th>0</th>\n",
       "      <td>ARCS</td>\n",
       "      <td>1.000000</td>\n",
       "      <td>1.000000</td>\n",
       "      <td>1.000000</td>\n",
       "    </tr>\n",
       "    <tr>\n",
       "      <th>1</th>\n",
       "      <td>Height Filtered ARC</td>\n",
       "      <td>0.097900</td>\n",
       "      <td>0.874413</td>\n",
       "      <td>0.166239</td>\n",
       "    </tr>\n",
       "    <tr>\n",
       "      <th>2</th>\n",
       "      <td>Height Filtered ARC</td>\n",
       "      <td>0.012983</td>\n",
       "      <td>0.808946</td>\n",
       "      <td>0.077163</td>\n",
       "    </tr>\n",
       "    <tr>\n",
       "      <th>3</th>\n",
       "      <td>Label Filtered ARCS</td>\n",
       "      <td>0.000000</td>\n",
       "      <td>1.000000</td>\n",
       "      <td>0.016941</td>\n",
       "    </tr>\n",
       "  </tbody>\n",
       "</table>\n",
       "</div>"
      ],
      "text/plain": [
       "          dataset_name  percent_of_non_label_pts_retained  \\\n",
       "0                 ARCS                           1.000000   \n",
       "1  Height Filtered ARC                           0.097900   \n",
       "2  Height Filtered ARC                           0.012983   \n",
       "3  Label Filtered ARCS                           0.000000   \n",
       "\n",
       "   percent_of_label_pts_retained  percent_of_original_file_size  \n",
       "0                       1.000000                       1.000000  \n",
       "1                       0.874413                       0.166239  \n",
       "2                       0.808946                       0.077163  \n",
       "3                       1.000000                       0.016941  "
      ]
     },
     "metadata": {},
     "output_type": "display_data"
    }
   ],
   "source": [
    "columns_to_display = ['dataset_name',\n",
    "                      'percent_of_non_label_pts_retained',\n",
    "                      'percent_of_label_pts_retained',\n",
    "                      'percent_of_original_file_size']\n",
    "display(results_df[columns_to_display])"
   ]
  },
  {
   "cell_type": "code",
   "execution_count": 156,
   "id": "90830675-e0f7-4068-b05c-b14914a744cd",
   "metadata": {},
   "outputs": [],
   "source": [
    "# test_dir = '../../data/eval_data/test_folder'\n",
    "# results = evaluate_filter(test_dir, 'test')\n",
    "# print(results)"
   ]
  },
  {
   "cell_type": "code",
   "execution_count": 157,
   "id": "334588a5-bb5b-44e9-a492-6fba8fff32a9",
   "metadata": {},
   "outputs": [],
   "source": [
    "# import matplotlib.pyplot as plt\n",
    "# # These tests were done with azimuth_resolution = 0.01, height_resolution = 0.25\n",
    "\n",
    "# # Defining the parameter changes and their corresponding results\n",
    "# parameters = ['+0.2', '0', '-0.1', '-0.2', '-0.5', '-1']\n",
    "# non_label_points_retained = [0.888438, 0.690376, 0.195896, 0.165541, 0.142986, 0.136502]\n",
    "# label_points_retained = [0.965184, 0.933963, 0.88492, 0.874891, 0.855174, 0.837658]\n",
    "\n",
    "# # Creating the plot\n",
    "# plt.figure(figsize=(10, 5))\n",
    "# plt.plot(parameters, non_label_points_retained, label='Non-label Points Retained', marker='o')\n",
    "# plt.plot(parameters, label_points_retained, label='Label Points Retained', marker='o')\n",
    "# plt.title('Effect of Distance Parameter Adjustment on Point Retention')\n",
    "# plt.xlabel('Parameter Adjustment')\n",
    "# plt.ylabel('Retention Rate')\n",
    "# plt.legend()\n",
    "# plt.grid(True)\n",
    "# plt.show()"
   ]
  }
 ],
 "metadata": {
  "kernelspec": {
   "display_name": "Python 3 (ipykernel)",
   "language": "python",
   "name": "python3"
  },
  "language_info": {
   "codemirror_mode": {
    "name": "ipython",
    "version": 3
   },
   "file_extension": ".py",
   "mimetype": "text/x-python",
   "name": "python",
   "nbconvert_exporter": "python",
   "pygments_lexer": "ipython3",
   "version": "3.11.9"
  }
 },
 "nbformat": 4,
 "nbformat_minor": 5
}
