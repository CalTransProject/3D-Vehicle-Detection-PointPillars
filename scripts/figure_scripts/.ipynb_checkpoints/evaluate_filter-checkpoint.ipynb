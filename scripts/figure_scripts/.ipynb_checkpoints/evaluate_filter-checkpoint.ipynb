{
 "cells": [
  {
   "cell_type": "markdown",
   "id": "ab610c9f-e9dd-4b37-802c-d23856c11999",
   "metadata": {},
   "source": [
    "# See how many points are inside and outside of the labels, before and after filtering"
   ]
  },
  {
   "cell_type": "code",
   "execution_count": 239,
   "id": "d9b26f9d-86fc-4aa8-b802-47f0fb6f95b5",
   "metadata": {},
   "outputs": [],
   "source": [
    "# Libraries\n",
    "import os\n",
    "import numpy as np\n",
    "import pandas as pd\n",
    "from pathlib import Path"
   ]
  },
  {
   "cell_type": "code",
   "execution_count": 240,
   "id": "aad3d564-08a7-45e9-ae01-f206c06624f6",
   "metadata": {},
   "outputs": [],
   "source": [
    "# List of paths to dataset\n",
    "BASE_DIR = '../../data/eval_data'\n",
    "ARCS_DIR = 'arcs'\n",
    "ARCS_FILTERED_DIR = 'arcs_azimuth_filtered'\n",
    "ARCS_LABEL_FILTERED_DIR = 'arcs_label_filtered'\n",
    "ARCS_LABEL_DIR = 'labels'"
   ]
  },
  {
   "cell_type": "code",
   "execution_count": null,
   "id": "4c737a67-99da-4801-ae60-17f2ac199d5c",
   "metadata": {},
   "outputs": [],
   "source": []
  },
  {
   "cell_type": "code",
   "execution_count": null,
   "id": "861f5014-e926-426d-9542-ef3b4a16f2a3",
   "metadata": {},
   "outputs": [],
   "source": []
  },
  {
   "cell_type": "code",
   "execution_count": null,
   "id": "da632e32-ed78-4c20-979e-4b097140835d",
   "metadata": {},
   "outputs": [],
   "source": []
  },
  {
   "cell_type": "code",
   "execution_count": 241,
   "id": "09a98260-b6f4-4d33-86dc-bf8e1687cbe7",
   "metadata": {},
   "outputs": [],
   "source": [
    "def point_is_in_an_roi_box(point, roi_box_list):\n",
    "    # Extract the point coordinates\n",
    "    x, y, z = point\n",
    "    \n",
    "    for bbox in roi_box_list:\n",
    "        # Extract the box parameters\n",
    "        # dz, dy, dx, cx, cy, cz, yaw = bbox\n",
    "        cx, cy, cz, dx, dy, dz, yaw = bbox\n",
    "        \n",
    "        \n",
    "        # Create the rotation matrix for the yaw angle\n",
    "        cos_yaw = np.cos(-yaw)  # Negative for the inverse rotation\n",
    "        sin_yaw = np.sin(-yaw)\n",
    "        \n",
    "        rotation_matrix = np.array([\n",
    "            [cos_yaw, -sin_yaw, 0],\n",
    "            [sin_yaw,  cos_yaw, 0],\n",
    "            [0,       0,       1]\n",
    "        ])\n",
    "        \n",
    "        # Translate the point to the box's coordinate frame\n",
    "        translated_point = np.array([x - cx, y - cy, z - cz])\n",
    "        \n",
    "        # Rotate the point to align with the box\n",
    "        rotated_point = rotation_matrix.dot(translated_point)\n",
    "        \n",
    "        # Check if the point is within the box dimensions\n",
    "        half_lengths = [dz / 2, dy / 2, dx / 2]\n",
    "        in_box = all([\n",
    "            -half_lengths[i] <= rotated_point[i] <= half_lengths[i] for i in range(3)\n",
    "        ])\n",
    "    \n",
    "        if in_box:\n",
    "            return True\n",
    "    \n",
    "    return False"
   ]
  },
  {
   "cell_type": "code",
   "execution_count": 242,
   "id": "fdfca667-33cf-4967-95c5-82f144a32633",
   "metadata": {},
   "outputs": [],
   "source": [
    "def get_roi_boxes(label_file):\n",
    "    bboxes = []\n",
    "    with open(label_file, 'r') as file:\n",
    "        for line in file:\n",
    "            parts = line.strip().split()\n",
    "            bbox = [float(value) for value in parts[8:15]]  # Extract the bounding box dimensions and location            \n",
    "            bboxes.append(bbox)\n",
    "    return np.array(bboxes)"
   ]
  },
  {
   "cell_type": "code",
   "execution_count": 243,
   "id": "69be1f69-1f93-406c-8c07-6e145c7e0cb3",
   "metadata": {},
   "outputs": [],
   "source": [
    "def is_label_point(point, label_file_path):\n",
    "    list_roi_boxes = get_roi_boxes(label_file_path)\n",
    "    if point_is_in_an_roi_box(point, list_roi_boxes):\n",
    "        return True\n",
    "    return False"
   ]
  },
  {
   "cell_type": "code",
   "execution_count": 244,
   "id": "adb86b46-c879-4fa0-bb5d-92caf53b67b0",
   "metadata": {},
   "outputs": [],
   "source": [
    "def convert_to_dataframe(bin_path):\n",
    "    pre_filtered_data = np.fromfile(bin_path, dtype=np.float32).reshape(-1, 4) \n",
    "    columns = ['x', 'y', 'z', 'intensity']\n",
    "    df = pd.DataFrame(pre_filtered_data, columns=columns)\n",
    "    return df"
   ]
  },
  {
   "cell_type": "code",
   "execution_count": 245,
   "id": "d812aba3-64d8-4b10-9d9c-e3c39d797125",
   "metadata": {},
   "outputs": [],
   "source": [
    "def get_frame_point_statistics(data_file_path, label_file_path):\n",
    "    # Running totals\n",
    "    total_points = 0\n",
    "    label_points = 0\n",
    "\n",
    "    points_df = convert_to_dataframe(data_file_path)\n",
    "    \n",
    "    # For each point in the data\n",
    "    # for index, row in input_df.iterrows():\n",
    "    for index, row in points_df.iloc[:100].iterrows():\n",
    "        # Increment the total\n",
    "        total_points += 1\n",
    "        point = (row['x'], row['y'], row['z'])\n",
    "        # If the point is a label point\n",
    "        if is_label_point(point, label_file_path):\n",
    "            # Increment the label total\n",
    "            label_points += 1\n",
    "\n",
    "    return total_points, label_points"
   ]
  },
  {
   "cell_type": "code",
   "execution_count": 246,
   "id": "9118ac78-ac27-4ac5-8779-ae97a07f7f9f",
   "metadata": {},
   "outputs": [],
   "source": [
    "def get_dataset_point_statistics(data_path, label_path):\n",
    "    # Running totals\n",
    "    num_frames = 0\n",
    "    total_num_points = 0\n",
    "    total_num_label_points = 0\n",
    "    \n",
    "    # Get just the file names\n",
    "    files = [f for f in os.listdir(data_path) if f.endswith('.bin')]\n",
    "    # For each file\n",
    "    for filename in files[:5]:\n",
    "        print('.', end='')\n",
    "        # Get file index\n",
    "        file_id, extension = os.path.splitext(filename)\n",
    "        \n",
    "        # Append file name to locations\n",
    "        data_file_path = Path(data_path, filename)\n",
    "        label_filename = file_id + '.txt'\n",
    "        label_file_path = Path(label_path, label_filename)\n",
    "\n",
    "        # Get the number of points, and the number of points inside the labels\n",
    "        num_frame_points, num_frame_label_points = get_frame_point_statistics(data_file_path, label_file_path)\n",
    "        # Add to running total\n",
    "        num_frames += 1\n",
    "        total_num_points += num_frame_points\n",
    "        total_num_label_points += num_frame_label_points\n",
    "\n",
    "    # return total_num_points / num_frames, total_num_label_points / num_frames\n",
    "    return num_frames, total_num_points, total_num_label_points"
   ]
  },
  {
   "cell_type": "code",
   "execution_count": 247,
   "id": "9210ea51-7cc0-4c17-bb98-7bb94c1f5382",
   "metadata": {},
   "outputs": [],
   "source": [
    "def evaluate_filter(dir, dataset_name):\n",
    "    # Create directory path\n",
    "    data_path = Path(BASE_DIR, dir)\n",
    "    label_path = Path(BASE_DIR, ARCS_LABEL_DIR)\n",
    "\n",
    "    # Get the dataset statistics\n",
    "    num_frames, total_num_points, total_num_label_points = get_dataset_point_statistics(data_path, label_path)\n",
    "\n",
    "    results = {\n",
    "        'dataset_name': dataset_name,\n",
    "        'num_frames': num_frames,\n",
    "        'total_num_points': total_num_points,\n",
    "        'total_num_label_points': total_num_label_points,\n",
    "        'total_num_non_label_points': total_num_points - total_num_label_points,\n",
    "        'avg_frame_pts': total_num_points / num_frames,\n",
    "        'avg_frame_label_pts': total_num_label_points / num_frames,\n",
    "        'avg_frame_non_label_pts': (total_num_points - total_num_label_points) / num_frames\n",
    "    }\n",
    "\n",
    "    return results"
   ]
  },
  {
   "cell_type": "markdown",
   "id": "88e8c946-5977-4cdb-82b5-a9cd2811d227",
   "metadata": {},
   "source": [
    "### Run datasets through filter evaluator, print results"
   ]
  },
  {
   "cell_type": "code",
   "execution_count": 249,
   "id": "8dc95bb7-463b-4d72-8327-61b06b765e2d",
   "metadata": {},
   "outputs": [
    {
     "name": "stdout",
     "output_type": "stream",
     "text": [
      "....."
     ]
    }
   ],
   "source": [
    "results = evaluate_filter(ARCS_DIR, 'ARCS')"
   ]
  },
  {
   "cell_type": "code",
   "execution_count": 250,
   "id": "0f11e074-3ef1-421d-9c6b-5ebd161776eb",
   "metadata": {},
   "outputs": [
    {
     "name": "stdout",
     "output_type": "stream",
     "text": [
      "....."
     ]
    }
   ],
   "source": [
    "filter_results = evaluate_filter(ARCS_FILTERED_DIR, 'Filtered ARCS')"
   ]
  },
  {
   "cell_type": "code",
   "execution_count": 251,
   "id": "37e2efd9-b9a6-4de5-8e0a-a1e3f0889a83",
   "metadata": {},
   "outputs": [
    {
     "name": "stdout",
     "output_type": "stream",
     "text": [
      "....."
     ]
    }
   ],
   "source": [
    "label_filter_results = evaluate_filter(ARCS_LABEL_FILTERED_DIR, 'Label Filtered ARCS')"
   ]
  },
  {
   "cell_type": "code",
   "execution_count": 252,
   "id": "ae2972c3-0a3e-4c4d-8ae9-fda140541b8a",
   "metadata": {},
   "outputs": [
    {
     "data": {
      "text/html": [
       "<div>\n",
       "<style scoped>\n",
       "    .dataframe tbody tr th:only-of-type {\n",
       "        vertical-align: middle;\n",
       "    }\n",
       "\n",
       "    .dataframe tbody tr th {\n",
       "        vertical-align: top;\n",
       "    }\n",
       "\n",
       "    .dataframe thead th {\n",
       "        text-align: right;\n",
       "    }\n",
       "</style>\n",
       "<table border=\"1\" class=\"dataframe\">\n",
       "  <thead>\n",
       "    <tr style=\"text-align: right;\">\n",
       "      <th></th>\n",
       "      <th>dataset_name</th>\n",
       "      <th>num_frames</th>\n",
       "      <th>avg_frame_pts</th>\n",
       "      <th>avg_frame_label_pts</th>\n",
       "      <th>avg_frame_non_label_pts</th>\n",
       "    </tr>\n",
       "  </thead>\n",
       "  <tbody>\n",
       "    <tr>\n",
       "      <th>0</th>\n",
       "      <td>ARCS</td>\n",
       "      <td>5</td>\n",
       "      <td>100.0</td>\n",
       "      <td>20.4</td>\n",
       "      <td>79.6</td>\n",
       "    </tr>\n",
       "    <tr>\n",
       "      <th>1</th>\n",
       "      <td>Filtered ARCS</td>\n",
       "      <td>5</td>\n",
       "      <td>100.0</td>\n",
       "      <td>44.4</td>\n",
       "      <td>55.6</td>\n",
       "    </tr>\n",
       "    <tr>\n",
       "      <th>2</th>\n",
       "      <td>Label Filtered ARCS</td>\n",
       "      <td>5</td>\n",
       "      <td>100.0</td>\n",
       "      <td>100.0</td>\n",
       "      <td>0.0</td>\n",
       "    </tr>\n",
       "  </tbody>\n",
       "</table>\n",
       "</div>"
      ],
      "text/plain": [
       "          dataset_name  num_frames  avg_frame_pts  avg_frame_label_pts  \\\n",
       "0                 ARCS           5          100.0                 20.4   \n",
       "1        Filtered ARCS           5          100.0                 44.4   \n",
       "2  Label Filtered ARCS           5          100.0                100.0   \n",
       "\n",
       "   avg_frame_non_label_pts  \n",
       "0                     79.6  \n",
       "1                     55.6  \n",
       "2                      0.0  "
      ]
     },
     "metadata": {},
     "output_type": "display_data"
    }
   ],
   "source": [
    "results_df = pd.DataFrame([results, filter_results, label_filter_results])\n",
    "display(results_df)"
   ]
  },
  {
   "cell_type": "code",
   "execution_count": 253,
   "id": "39e3afc8-0dce-4fcd-872e-5f20d26804e6",
   "metadata": {},
   "outputs": [],
   "source": [
    "# Number of remaining non label points (from Filtered ARCS)\n",
    "# Number of original non label points (from ARCS)\n",
    "# Percent of non label filtered out\n",
    "\n"
   ]
  },
  {
   "cell_type": "markdown",
   "id": "85626a84-445f-4a57-b634-d51b733c5e03",
   "metadata": {},
   "source": [
    "0.0"
   ]
  }
 ],
 "metadata": {
  "kernelspec": {
   "display_name": "Python 3 (ipykernel)",
   "language": "python",
   "name": "python3"
  },
  "language_info": {
   "codemirror_mode": {
    "name": "ipython",
    "version": 3
   },
   "file_extension": ".py",
   "mimetype": "text/x-python",
   "name": "python",
   "nbconvert_exporter": "python",
   "pygments_lexer": "ipython3",
   "version": "3.11.9"
  }
 },
 "nbformat": 4,
 "nbformat_minor": 5
}
