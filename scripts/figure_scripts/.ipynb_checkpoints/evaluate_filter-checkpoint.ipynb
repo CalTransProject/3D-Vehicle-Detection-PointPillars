{
 "cells": [
  {
   "cell_type": "markdown",
   "id": "ab610c9f-e9dd-4b37-802c-d23856c11999",
   "metadata": {},
   "source": [
    "# See how many points are inside and outside of the labels, before and after filtering"
   ]
  },
  {
   "cell_type": "code",
   "execution_count": 117,
   "id": "d9b26f9d-86fc-4aa8-b802-47f0fb6f95b5",
   "metadata": {},
   "outputs": [],
   "source": [
    "# Libraries\n",
    "import os\n",
    "import random\n",
    "import numpy as np\n",
    "import pandas as pd\n",
    "from pathlib import Path"
   ]
  },
  {
   "cell_type": "code",
   "execution_count": 118,
   "id": "aad3d564-08a7-45e9-ae01-f206c06624f6",
   "metadata": {},
   "outputs": [],
   "source": [
    "# List of paths to dataset\n",
    "BASE_DIR = '../../data/eval_data'\n",
    "ARCS_DIR = 'arcs'\n",
    "ARCS_FILTERED_DIR = 'arcs_azimuth_filtered'\n",
    "ARCS_LABEL_FILTERED_DIR = 'arcs_label_filtered'\n",
    "ARCS_LABEL_DIR = 'labels'"
   ]
  },
  {
   "cell_type": "code",
   "execution_count": 119,
   "id": "a1c02bed-ed03-4bde-a604-a8d884f2e1cb",
   "metadata": {},
   "outputs": [],
   "source": [
    "evaluation_area = [21.0175, 11.717, -0.3925, 40.035, 55.9349, 7.535, 0.5]"
   ]
  },
  {
   "cell_type": "code",
   "execution_count": 120,
   "id": "e3f70b32-0704-4168-bec4-34268dcf7c6f",
   "metadata": {},
   "outputs": [],
   "source": [
    "# Evaluate filter (before eval script)\n",
    "BASE_DIR = '../../data'\n",
    "ARCS_DIR = 'velodyne_points'\n",
    "DIST_FILTERED_DIR = 'arcs_distance_filtered'\n",
    "HEIGHT_FILTERED_DIR = 'filtered_points'\n",
    "ARCS_LABEL_FILTERED_DIR = 'label_filtered_points'\n",
    "ARCS_LABEL_DIR = 'pillar_pred_format_labels'"
   ]
  },
  {
   "cell_type": "code",
   "execution_count": 121,
   "id": "51a508bd-b185-467d-94d6-9cada0fff9c4",
   "metadata": {},
   "outputs": [],
   "source": [
    "# test_dir = 'test_folder'"
   ]
  },
  {
   "cell_type": "code",
   "execution_count": 122,
   "id": "09a98260-b6f4-4d33-86dc-bf8e1687cbe7",
   "metadata": {},
   "outputs": [],
   "source": [
    "def point_is_in_an_roi_box(point, roi_box_list):\n",
    "    # Extract the point coordinates\n",
    "    x, y, z = point\n",
    "    \n",
    "    for bbox in roi_box_list:\n",
    "        # Extract the box parameters\n",
    "        # dz, dy, dx, cx, cy, cz, yaw = bbox\n",
    "        cx, cy, cz, dx, dy, dz, yaw = bbox\n",
    "        \n",
    "        # Create the rotation matrix for the yaw angle\n",
    "        cos_yaw = np.cos(-yaw)  # Negative for the inverse rotation\n",
    "        sin_yaw = np.sin(-yaw)\n",
    "        \n",
    "        rotation_matrix = np.array([\n",
    "            [cos_yaw, -sin_yaw, 0],\n",
    "            [sin_yaw,  cos_yaw, 0],\n",
    "            [0,       0,       1]\n",
    "        ])\n",
    "        \n",
    "        # Translate the point to the box's coordinate frame\n",
    "        translated_point = np.array([x - cx, y - cy, z - cz])\n",
    "        \n",
    "        # Rotate the point to align with the box\n",
    "        rotated_point = rotation_matrix.dot(translated_point)\n",
    "        \n",
    "        # Check if the point is within the box dimensions\n",
    "        half_lengths = [dz / 2, dy / 2, dx / 2]\n",
    "        in_box = all([\n",
    "            -half_lengths[i] <= rotated_point[i] <= half_lengths[i] for i in range(3)\n",
    "        ])\n",
    "    \n",
    "        if in_box:\n",
    "            return True\n",
    "    \n",
    "    return False"
   ]
  },
  {
   "cell_type": "code",
   "execution_count": 123,
   "id": "fdfca667-33cf-4967-95c5-82f144a32633",
   "metadata": {},
   "outputs": [],
   "source": [
    "def get_roi_boxes(label_file):\n",
    "    bboxes = []\n",
    "    with open(label_file, 'r') as file:\n",
    "        for line in file:\n",
    "            parts = line.strip().split()\n",
    "            bbox = [float(value) for value in parts[8:15]]  # Extract the bounding box dimensions and location            \n",
    "            bboxes.append(bbox)\n",
    "    return np.array(bboxes)"
   ]
  },
  {
   "cell_type": "code",
   "execution_count": 124,
   "id": "69be1f69-1f93-406c-8c07-6e145c7e0cb3",
   "metadata": {},
   "outputs": [],
   "source": [
    "def is_label_point(point, label_file_path):\n",
    "    list_roi_boxes = get_roi_boxes(label_file_path)\n",
    "    if point_is_in_an_roi_box(point, list_roi_boxes):\n",
    "        return True\n",
    "    return False"
   ]
  },
  {
   "cell_type": "code",
   "execution_count": 125,
   "id": "adb86b46-c879-4fa0-bb5d-92caf53b67b0",
   "metadata": {},
   "outputs": [],
   "source": [
    "def convert_to_dataframe(bin_path):\n",
    "    pre_filtered_data = np.fromfile(bin_path, dtype=np.float32).reshape(-1, 4) \n",
    "    columns = ['x', 'y', 'z', 'intensity']\n",
    "    df = pd.DataFrame(pre_filtered_data, columns=columns)\n",
    "    return df"
   ]
  },
  {
   "cell_type": "code",
   "execution_count": 126,
   "id": "d812aba3-64d8-4b10-9d9c-e3c39d797125",
   "metadata": {},
   "outputs": [],
   "source": [
    "def get_frame_point_statistics(data_file_path, label_file_path):\n",
    "    # Running totals\n",
    "    total_points = 0\n",
    "    label_points = 0\n",
    "\n",
    "    points_df = convert_to_dataframe(data_file_path)\n",
    "    \n",
    "    # For each point in the data\n",
    "    for index, row in points_df.iterrows():\n",
    "    # for index, row in points_df.iloc[:100].iterrows():\n",
    "        point = (row['x'], row['y'], row['z'])\n",
    "        if point_is_in_an_roi_box(point, [evaluation_area]):\n",
    "            # Increment the total\n",
    "            total_points += 1\n",
    "            \n",
    "            # If the point is a label point\n",
    "            if is_label_point(point, label_file_path):\n",
    "                # Increment the label total\n",
    "                label_points += 1\n",
    "\n",
    "    return total_points, label_points"
   ]
  },
  {
   "cell_type": "code",
   "execution_count": 127,
   "id": "e8934fa5-721f-4553-9200-8ad934e1454e",
   "metadata": {},
   "outputs": [
    {
     "ename": "FileNotFoundError",
     "evalue": "[WinError 3] The system cannot find the path specified: '..\\\\..\\\\data\\\\arcs_azimuth_filtered'",
     "output_type": "error",
     "traceback": [
      "\u001b[1;31m---------------------------------------------------------------------------\u001b[0m",
      "\u001b[1;31mFileNotFoundError\u001b[0m                         Traceback (most recent call last)",
      "Cell \u001b[1;32mIn[127], line 3\u001b[0m\n\u001b[0;32m      1\u001b[0m \u001b[38;5;66;03m# test_dir_path = Path(BASE_DIR, test_dir)\u001b[39;00m\n\u001b[0;32m      2\u001b[0m test_dir_path \u001b[38;5;241m=\u001b[39m Path(BASE_DIR, ARCS_FILTERED_DIR)\n\u001b[1;32m----> 3\u001b[0m files \u001b[38;5;241m=\u001b[39m [f \u001b[38;5;28;01mfor\u001b[39;00m f \u001b[38;5;129;01min\u001b[39;00m os\u001b[38;5;241m.\u001b[39mlistdir(test_dir_path) \u001b[38;5;28;01mif\u001b[39;00m f\u001b[38;5;241m.\u001b[39mendswith(\u001b[38;5;124m'\u001b[39m\u001b[38;5;124m.bin\u001b[39m\u001b[38;5;124m'\u001b[39m)]\n\u001b[0;32m      4\u001b[0m random\u001b[38;5;241m.\u001b[39mshuffle(files)\n\u001b[0;32m      5\u001b[0m files \u001b[38;5;241m=\u001b[39m files[:\u001b[38;5;241m100\u001b[39m]\n",
      "\u001b[1;31mFileNotFoundError\u001b[0m: [WinError 3] The system cannot find the path specified: '..\\\\..\\\\data\\\\arcs_azimuth_filtered'"
     ]
    }
   ],
   "source": [
    "# test_dir_path = Path(BASE_DIR, test_dir)\n",
    "test_dir_path = Path(BASE_DIR, DIST_FILTERED_DIR)\n",
    "files = [f for f in os.listdir(test_dir_path) if f.endswith('.bin')]\n",
    "random.shuffle(files)\n",
    "files = files[:100]\n",
    "print(files)"
   ]
  },
  {
   "cell_type": "code",
   "execution_count": null,
   "id": "9118ac78-ac27-4ac5-8779-ae97a07f7f9f",
   "metadata": {},
   "outputs": [],
   "source": [
    "def get_dataset_point_statistics(data_path, label_path):\n",
    "    # Running totals\n",
    "    num_frames = 0\n",
    "    total_num_points = 0\n",
    "    total_num_label_points = 0\n",
    "    total_file_size = 0\n",
    "    \n",
    "    for filename in files:\n",
    "        # Get file index\n",
    "        file_id, extension = os.path.splitext(filename)\n",
    "        print(file_id, end=' ')\n",
    "        \n",
    "        # Append file name to locations\n",
    "        data_file_path = Path(data_path, filename)\n",
    "        label_filename = file_id + '.txt'\n",
    "        label_file_path = Path(label_path, label_filename)\n",
    "\n",
    "        # Get the number of points, and the number of points inside the labels\n",
    "        num_frame_points, num_frame_label_points = get_frame_point_statistics(data_file_path, label_file_path)\n",
    "\n",
    "        # Get the file size\n",
    "        size = os.path.getsize(data_file_path)\n",
    "        \n",
    "        # Add to running total\n",
    "        num_frames += 1\n",
    "        total_num_points += num_frame_points\n",
    "        total_num_label_points += num_frame_label_points\n",
    "        total_file_size += size\n",
    "\n",
    "    # return total_num_points / num_frames, total_num_label_points / num_frames\n",
    "    return num_frames, total_num_points, total_num_label_points, total_file_size"
   ]
  },
  {
   "cell_type": "code",
   "execution_count": null,
   "id": "9210ea51-7cc0-4c17-bb98-7bb94c1f5382",
   "metadata": {},
   "outputs": [],
   "source": [
    "def evaluate_filter(dir, dataset_name):\n",
    "    # Create directory path\n",
    "    data_path = Path(BASE_DIR, dir)\n",
    "    label_path = Path(BASE_DIR, ARCS_LABEL_DIR)\n",
    "    print(data_path)\n",
    "\n",
    "    # Get the dataset statistics\n",
    "    num_frames, total_num_points, total_num_label_points, total_file_size = get_dataset_point_statistics(data_path, label_path)\n",
    "\n",
    "    results = {\n",
    "        'dataset_name': dataset_name,\n",
    "        'num_frames': num_frames,\n",
    "        'total_num_points': total_num_points,\n",
    "        'total_num_label_points': total_num_label_points,\n",
    "        'total_num_non_label_points': total_num_points - total_num_label_points,\n",
    "        'avg_frame_pts': total_num_points / num_frames,\n",
    "        'avg_frame_label_pts': total_num_label_points / num_frames,\n",
    "        'avg_frame_non_label_pts': (total_num_points - total_num_label_points) / num_frames,\n",
    "        'total_files_size': total_file_size\n",
    "    }\n",
    "\n",
    "    return results"
   ]
  },
  {
   "cell_type": "markdown",
   "id": "88e8c946-5977-4cdb-82b5-a9cd2811d227",
   "metadata": {},
   "source": [
    "### Run datasets through filter evaluator, print results"
   ]
  },
  {
   "cell_type": "code",
   "execution_count": null,
   "id": "8dc95bb7-463b-4d72-8327-61b06b765e2d",
   "metadata": {},
   "outputs": [],
   "source": [
    "results = evaluate_filter(ARCS_DIR, 'ARCS')"
   ]
  },
  {
   "cell_type": "code",
   "execution_count": null,
   "id": "0f11e074-3ef1-421d-9c6b-5ebd161776eb",
   "metadata": {},
   "outputs": [],
   "source": [
    "distance_filter_results = evaluate_filter(DIST_FILTERED_DIR, 'Height Filtered ARC')\n",
    "# filter_results = evaluate_filter(ARCS_FILTERED_DIR, 'Filtered ARCS')"
   ]
  },
  {
   "cell_type": "code",
   "execution_count": null,
   "id": "a9f8fe04-8cc8-4b7b-ae58-e5ba911db796",
   "metadata": {},
   "outputs": [],
   "source": [
    "height_filter_results = evaluate_filter(HEIGHT_FILTERED_DIR, 'Height Filtered ARC')"
   ]
  },
  {
   "cell_type": "code",
   "execution_count": null,
   "id": "37e2efd9-b9a6-4de5-8e0a-a1e3f0889a83",
   "metadata": {},
   "outputs": [],
   "source": [
    "label_filter_results = evaluate_filter(ARCS_LABEL_FILTERED_DIR, 'Label Filtered ARCS')"
   ]
  },
  {
   "cell_type": "code",
   "execution_count": null,
   "id": "dabadc4f-9423-43e9-9ea9-e08c7cd25392",
   "metadata": {},
   "outputs": [],
   "source": [
    "results['percent_of_non_label_pts_retained'] = results['total_num_non_label_points'] / results['total_num_non_label_points']\n",
    "results['percent_of_label_pts_retained'] = results['total_num_label_points'] / results['total_num_label_points']\n",
    "results['percent_of_original_file_size'] = results['total_files_size'] / results['total_files_size']"
   ]
  },
  {
   "cell_type": "code",
   "execution_count": null,
   "id": "4bfec924-34cf-42d7-b8a7-0c2d26137bd9",
   "metadata": {},
   "outputs": [],
   "source": [
    "# filter_results['percent_of_non_label_pts_retained'] = filter_results['total_num_non_label_points'] / results['total_num_non_label_points']\n",
    "# filter_results['percent_of_label_pts_retained'] = filter_results['total_num_label_points'] / results['total_num_label_points']\n",
    "# filter_results['percent_of_original_file_size'] = filter_results['total_files_size'] / results['total_files_size']\n",
    "\n",
    "distance_filter_results['percent_of_non_label_pts_retained'] = distance_filter_results['total_num_non_label_points'] / results['total_num_non_label_points']\n",
    "distance_filter_results['percent_of_label_pts_retained'] = distance_filter_results['total_num_label_points'] / results['total_num_label_points']\n",
    "distance_filter_results['percent_of_original_file_size'] = distance_filter_results['total_files_size'] / results['total_files_size']"
   ]
  },
  {
   "cell_type": "code",
   "execution_count": null,
   "id": "fa8cb28d-8575-432d-8328-460bd5b39596",
   "metadata": {},
   "outputs": [],
   "source": [
    "height_filter_results['percent_of_non_label_pts_retained'] = height_filter_results['total_num_non_label_points'] / results['total_num_non_label_points']\n",
    "height_filter_results['percent_of_label_pts_retained'] = height_filter_results['total_num_label_points'] / results['total_num_label_points']\n",
    "height_filter_results['percent_of_original_file_size'] = height_filter_results['total_files_size'] / results['total_files_size']"
   ]
  },
  {
   "cell_type": "code",
   "execution_count": null,
   "id": "a6022c7a-b2a6-4a25-a52f-636ce9b7225a",
   "metadata": {},
   "outputs": [],
   "source": [
    "label_filter_results['percent_of_non_label_pts_retained'] = label_filter_results['total_num_non_label_points'] / results['total_num_non_label_points']\n",
    "label_filter_results['percent_of_label_pts_retained'] = label_filter_results['total_num_label_points'] / results['total_num_label_points']\n",
    "label_filter_results['percent_of_original_file_size'] = label_filter_results['total_files_size'] / results['total_files_size']"
   ]
  },
  {
   "cell_type": "code",
   "execution_count": null,
   "id": "ae2972c3-0a3e-4c4d-8ae9-fda140541b8a",
   "metadata": {},
   "outputs": [],
   "source": [
    "results_df = pd.DataFrame([results, distance_filter_results, height_filter_results, label_filter_results])\n",
    "# results_df = pd.DataFrame([results, filter_results, label_filter_results])\n",
    "# results_df = pd.DataFrame([results, filter_results])\n",
    "columns_to_display = ['dataset_name',\n",
    "                      'avg_frame_non_label_pts',\n",
    "                      'avg_frame_label_pts',\n",
    "                      'percent_of_non_label_pts_retained',\n",
    "                      'percent_of_label_pts_retained',\n",
    "                      'percent_of_original_file_size']\n",
    "display(results_df[columns_to_display])"
   ]
  },
  {
   "cell_type": "code",
   "execution_count": null,
   "id": "036d63c1-247f-4d35-b4ae-797382f45352",
   "metadata": {},
   "outputs": [],
   "source": [
    "columns_to_display = ['dataset_name',\n",
    "                      'percent_of_non_label_pts_retained',\n",
    "                      'percent_of_label_pts_retained',\n",
    "                      'percent_of_original_file_size']\n",
    "display(results_df[columns_to_display])"
   ]
  },
  {
   "cell_type": "code",
   "execution_count": null,
   "id": "90830675-e0f7-4068-b05c-b14914a744cd",
   "metadata": {},
   "outputs": [],
   "source": [
    "# test_dir = '../../data/eval_data/test_folder'\n",
    "# results = evaluate_filter(test_dir, 'test')\n",
    "# print(results)"
   ]
  },
  {
   "cell_type": "code",
   "execution_count": null,
   "id": "334588a5-bb5b-44e9-a492-6fba8fff32a9",
   "metadata": {},
   "outputs": [],
   "source": [
    "# import matplotlib.pyplot as plt\n",
    "# # These tests were done with azimuth_resolution = 0.01, height_resolution = 0.25\n",
    "\n",
    "# # Defining the parameter changes and their corresponding results\n",
    "# parameters = ['+0.2', '0', '-0.1', '-0.2', '-0.5', '-1']\n",
    "# non_label_points_retained = [0.888438, 0.690376, 0.195896, 0.165541, 0.142986, 0.136502]\n",
    "# label_points_retained = [0.965184, 0.933963, 0.88492, 0.874891, 0.855174, 0.837658]\n",
    "\n",
    "# # Creating the plot\n",
    "# plt.figure(figsize=(10, 5))\n",
    "# plt.plot(parameters, non_label_points_retained, label='Non-label Points Retained', marker='o')\n",
    "# plt.plot(parameters, label_points_retained, label='Label Points Retained', marker='o')\n",
    "# plt.title('Effect of Distance Parameter Adjustment on Point Retention')\n",
    "# plt.xlabel('Parameter Adjustment')\n",
    "# plt.ylabel('Retention Rate')\n",
    "# plt.legend()\n",
    "# plt.grid(True)\n",
    "# plt.show()"
   ]
  }
 ],
 "metadata": {
  "kernelspec": {
   "display_name": "Python 3 (ipykernel)",
   "language": "python",
   "name": "python3"
  },
  "language_info": {
   "codemirror_mode": {
    "name": "ipython",
    "version": 3
   },
   "file_extension": ".py",
   "mimetype": "text/x-python",
   "name": "python",
   "nbconvert_exporter": "python",
   "pygments_lexer": "ipython3",
   "version": "3.11.9"
  }
 },
 "nbformat": 4,
 "nbformat_minor": 5
}
