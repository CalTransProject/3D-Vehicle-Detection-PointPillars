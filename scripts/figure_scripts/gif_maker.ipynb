{
 "cells": [
  {
   "cell_type": "code",
   "execution_count": 1,
   "id": "a23a9006-597a-4b7d-b7a3-d40d78712793",
   "metadata": {},
   "outputs": [],
   "source": [
    "import ffmpeg\n",
    "import os"
   ]
  },
  {
   "cell_type": "code",
   "execution_count": 2,
   "id": "61fcd8f4-7db8-4c5d-a836-909049a34376",
   "metadata": {},
   "outputs": [
    {
     "name": "stdout",
     "output_type": "stream",
     "text": [
      "Current working directory: D:\\arcs\\scripts\\figure_scripts\n",
      "\n",
      "Files in directory:\n",
      ".ipynb_checkpoints\n",
      "arcs_vs_filtered_arcs.ipynb\n",
      "arcs_vs_filtered_arcs.png\n",
      "evaluate_filter.ipynb\n",
      "point_clouds_for_pillars_arch_fig.ipynb\n",
      "arcs_and_labeled.png\n",
      "calib_vid.mp4\n",
      "gif_maker.ipynb\n"
     ]
    }
   ],
   "source": [
    "# Print current working directory\n",
    "print(\"Current working directory:\", os.getcwd())\n",
    "\n",
    "# List all files in current directory\n",
    "print(\"\\nFiles in directory:\")\n",
    "for file in os.listdir():\n",
    "    print(file)"
   ]
  },
  {
   "cell_type": "code",
   "execution_count": 3,
   "id": "575f2589-941d-4a53-8afc-fa792e076b78",
   "metadata": {},
   "outputs": [],
   "source": [
    "def create_gif(input_path, output_path, start_time=0, duration=5, width=480):\n",
    "    \"\"\"\n",
    "    Convert a video segment to GIF using ffmpeg\n",
    "    \n",
    "    Parameters:\n",
    "    input_path (str): Path to input video file\n",
    "    output_path (str): Path for output GIF\n",
    "    start_time (int): Start time in seconds\n",
    "    duration (int): Duration of GIF in seconds\n",
    "    width (int): Width of output GIF in pixels (height will scale proportionally)\n",
    "    \"\"\"\n",
    "    try:\n",
    "        # Input stream\n",
    "        stream = ffmpeg.input(input_path, ss=start_time, t=duration)\n",
    "        \n",
    "        # Apply filters for better GIF quality\n",
    "        stream = ffmpeg.filter(stream, 'fps', fps=15)  # Reduce frames per second\n",
    "        stream = ffmpeg.filter(stream, 'scale', width=width, height=-1)  # Scale width, keep aspect ratio\n",
    "        \n",
    "        # Output stream with GIF-specific settings\n",
    "        stream = ffmpeg.output(\n",
    "            stream, \n",
    "            output_path,\n",
    "            vcodec='gif',  # Use GIF codec\n",
    "            loop=0,        # Loop forever\n",
    "        )\n",
    "        \n",
    "        # Run the conversion\n",
    "        ffmpeg.run(stream, overwrite_output=True)\n",
    "        print(f\"Successfully created GIF at {output_path}\")\n",
    "        \n",
    "    except ffmpeg.Error as e:\n",
    "        print(f\"An error occurred: {e.stderr.decode()}\")"
   ]
  },
  {
   "cell_type": "code",
   "execution_count": 4,
   "id": "3cb01294-04ad-4113-81f7-9bf5ed4e124c",
   "metadata": {},
   "outputs": [
    {
     "name": "stdout",
     "output_type": "stream",
     "text": [
      "Successfully created GIF at output.gif\n"
     ]
    }
   ],
   "source": [
    "create_gif(\n",
    "    input_path=\"calib_vid.mp4\",\n",
    "    output_path=\"output.gif\",\n",
    "    start_time=29,  # Start at 10 seconds\n",
    "    duration=6,     # 3 second GIF\n",
    "    width=480       # 480px wide\n",
    ")"
   ]
  }
 ],
 "metadata": {
  "kernelspec": {
   "display_name": "Python 3 (ipykernel)",
   "language": "python",
   "name": "python3"
  },
  "language_info": {
   "codemirror_mode": {
    "name": "ipython",
    "version": 3
   },
   "file_extension": ".py",
   "mimetype": "text/x-python",
   "name": "python",
   "nbconvert_exporter": "python",
   "pygments_lexer": "ipython3",
   "version": "3.11.9"
  }
 },
 "nbformat": 4,
 "nbformat_minor": 5
}
