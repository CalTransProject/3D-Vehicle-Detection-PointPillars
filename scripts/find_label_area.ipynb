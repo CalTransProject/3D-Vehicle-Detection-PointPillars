{
 "cells": [
  {
   "cell_type": "markdown",
   "id": "6b88a548-2f80-469e-8fdd-137e3dda3891",
   "metadata": {},
   "source": [
    "# Compare Area of Interest"
   ]
  },
  {
   "cell_type": "markdown",
   "id": "9ba02655-b3b2-4eac-99b4-55d473f97099",
   "metadata": {},
   "source": [
    "Only the area in front of the ego vehicle in the KITTI data is labeled. Because the configuration files for my model are so complicated, and I don't feel confident that I can write up a new one. I want to borrow heavily from the existing one. Whether or not I rotate the ARCS data so that our labels are in the same relative area that the KITTI labels are, I still will need to know where the labeled ARCS area is."
   ]
  },
  {
   "cell_type": "markdown",
   "id": "ff100c64-26f6-4497-bf09-bebd537cef87",
   "metadata": {},
   "source": [
    "KITTI label area is point_cloud_range = [0, -39.68, -3, 69.12, 39.68, 1]"
   ]
  },
  {
   "cell_type": "markdown",
   "id": "295c9289-8324-447a-9296-a6cf2b251632",
   "metadata": {},
   "source": [
    "How to see where the labels are.\n",
    "Keep track of the highest and lowest values for x, y, and x axis (more precise would be to keep track of highest x + dx/2 and lowest x - dx/2, etc. But I won't worry about that for now. Although. That would make a sort of rectangle that would include areas that are not covered. So maybe it makes sense to convert back to azimuth, height, distance and make a cone that way? "
   ]
  },
  {
   "cell_type": "code",
   "execution_count": 24,
   "id": "0e91ace2-2800-4193-81f9-ee57031fd595",
   "metadata": {},
   "outputs": [],
   "source": [
    "import os\n",
    "import numpy as np\n",
    "from pathlib import Path"
   ]
  },
  {
   "cell_type": "code",
   "execution_count": 25,
   "id": "c634d969-bce7-41e2-87b5-97ae40fb5a81",
   "metadata": {},
   "outputs": [],
   "source": [
    "# Go through each label file and each label to see where the label area is\n",
    "DATA_DIR_ROOT = '../data/corrected_labels'"
   ]
  },
  {
   "cell_type": "code",
   "execution_count": 26,
   "id": "a7f8208e-f019-40a3-b61d-3f6e4f29afe8",
   "metadata": {},
   "outputs": [],
   "source": [
    "def get_labels(label_path):\n",
    "    labels = []\n",
    "    with open(label_path, 'r') as file:\n",
    "        for line in file:\n",
    "            parts = line.strip().split()\n",
    "            dz, dy, dx, x, z, y = map(float, parts[8:14])\n",
    "            labels.append((dz, dy, dx, x, z, y))\n",
    "    return labels"
   ]
  },
  {
   "cell_type": "code",
   "execution_count": 27,
   "id": "89a2001a-be92-4a4b-b73b-709608277f66",
   "metadata": {},
   "outputs": [],
   "source": [
    "def update_extremes(labels, min_max):\n",
    "    for dz, dy, dx, x, z, y in labels:\n",
    "        min_x, max_x, min_y, max_y, min_z, max_z = min_max\n",
    "        # Update min and max values considering the corners of the bounding box\n",
    "        min_max = [\n",
    "            min(min_x, x - dx/2), max(max_x, x + dx/2),\n",
    "            min(min_y, y - dy/2), max(max_y, y + dy/2),\n",
    "            min(min_z, z - dz/2), max(max_z, z + dz/2)\n",
    "        ]\n",
    "    return min_max"
   ]
  },
  {
   "cell_type": "code",
   "execution_count": 28,
   "id": "c04dd7aa-3495-4094-93eb-1acfd1894b3c",
   "metadata": {},
   "outputs": [],
   "source": [
    "def analyze_labeling_area(label_dir):\n",
    "    min_max = [float('inf'), float('-inf'), float('inf'), float('-inf'), float('inf'), float('-inf')]\n",
    "    for filename in os.listdir(label_dir):\n",
    "        if filename.endswith('.txt'):  # Assuming the label files are .txt\n",
    "            file_path = os.path.join(label_dir, filename)\n",
    "            labels = get_labels(file_path)\n",
    "            min_max = update_extremes(labels, min_max)\n",
    "    return min_max"
   ]
  },
  {
   "cell_type": "code",
   "execution_count": 29,
   "id": "4a9ac0c1-7e1e-427b-85c9-c97455442269",
   "metadata": {},
   "outputs": [
    {
     "name": "stdout",
     "output_type": "stream",
     "text": [
      "Bounding box limits (min_x, max_x, min_y, max_y, min_z, max_z): [-51.955, 26.035, -16.25, 39.684999999999995, -4.16, 3.375]\n"
     ]
    }
   ],
   "source": [
    "bounding_box_limits = analyze_labeling_area(DATA_DIR_ROOT)\n",
    "print(\"Bounding box limits (min_x, max_x, min_y, max_y, min_z, max_z):\", bounding_box_limits)"
   ]
  },
  {
   "cell_type": "code",
   "execution_count": 42,
   "id": "944c53f4-6dd6-4150-a1e7-7c1289e9490a",
   "metadata": {},
   "outputs": [],
   "source": [
    "def calculate_center_and_dimensions(min_max):\n",
    "    min_x, max_x, min_y, max_y, min_z, max_z = min_max\n",
    "    \n",
    "    # Calculate the center coordinates\n",
    "    center_x = (min_x + max_x) / 2\n",
    "    center_y = (min_y + max_y) / 2\n",
    "    center_z = (min_z + max_z) / 2\n",
    "    \n",
    "    # Calculate dimensions\n",
    "    length = max_x - min_x\n",
    "    width = max_y - min_y\n",
    "    height = max_z - min_z\n",
    "    \n",
    "    return (center_x, center_y, center_z), (length, width, height)"
   ]
  },
  {
   "cell_type": "code",
   "execution_count": 44,
   "id": "da45d7a9-92ab-459b-9a7d-dac13686e96e",
   "metadata": {},
   "outputs": [
    {
     "name": "stdout",
     "output_type": "stream",
     "text": [
      "Center (x, y, z): (-12.959999999999999, 11.717499999999998, -0.39250000000000007)\n",
      "Dimensions (l, w, h): (77.99, 55.934999999999995, 7.535)\n"
     ]
    }
   ],
   "source": [
    "# min_max_values = [0, 69.12, -39.68, 39.68, -3, 1]  # Example values\n",
    "center, dimensions = calculate_center_and_dimensions(bounding_box_limits)\n",
    "print(\"Center (x, y, z):\", center)\n",
    "print(\"Dimensions (l, w, h):\", dimensions)"
   ]
  },
  {
   "cell_type": "code",
   "execution_count": null,
   "id": "7591e01e-046e-427f-849c-7997c431b128",
   "metadata": {},
   "outputs": [],
   "source": []
  },
  {
   "cell_type": "code",
   "execution_count": null,
   "id": "1404a5a4-3c16-4a39-8617-5f3c7dc59090",
   "metadata": {},
   "outputs": [],
   "source": []
  }
 ],
 "metadata": {
  "kernelspec": {
   "display_name": "Python 3 (ipykernel)",
   "language": "python",
   "name": "python3"
  },
  "language_info": {
   "codemirror_mode": {
    "name": "ipython",
    "version": 3
   },
   "file_extension": ".py",
   "mimetype": "text/x-python",
   "name": "python",
   "nbconvert_exporter": "python",
   "pygments_lexer": "ipython3",
   "version": "3.11.9"
  }
 },
 "nbformat": 4,
 "nbformat_minor": 5
}
