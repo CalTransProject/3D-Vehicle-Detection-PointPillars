{
 "cells": [
  {
   "cell_type": "code",
   "execution_count": 1,
   "id": "e98e3d68",
   "metadata": {},
   "outputs": [],
   "source": [
    "from scapy.all import rdpcap, wrpcap\n",
    "\n",
    "# Read the full pcap file\n",
    "packets = rdpcap('../../data/zelzah_plummer_intersection_12min_032023_lidar.pcap')"
   ]
  },
  {
   "cell_type": "code",
   "execution_count": 2,
   "id": "f7179ace",
   "metadata": {},
   "outputs": [],
   "source": [
    "# Slice the packets - for example, the first 5000 packets\n",
    "smaller_packets = packets[100000:105000]"
   ]
  },
  {
   "cell_type": "code",
   "execution_count": 3,
   "id": "b99c95c4",
   "metadata": {},
   "outputs": [],
   "source": [
    "# Write the sliced packets to a new pcap file\n",
    "wrpcap('../../data/late_z_and_p_test.pcap', smaller_packets)"
   ]
  }
 ],
 "metadata": {
  "kernelspec": {
   "display_name": "Python 3 (ipykernel)",
   "language": "python",
   "name": "python3"
  },
  "language_info": {
   "codemirror_mode": {
    "name": "ipython",
    "version": 3
   },
   "file_extension": ".py",
   "mimetype": "text/x-python",
   "name": "python",
   "nbconvert_exporter": "python",
   "pygments_lexer": "ipython3",
   "version": "3.8.18"
  }
 },
 "nbformat": 4,
 "nbformat_minor": 5
}
