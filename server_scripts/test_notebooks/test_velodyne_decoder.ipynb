{
 "cells": [
  {
   "cell_type": "markdown",
   "id": "f127d547",
   "metadata": {},
   "source": [
    "# See how the velodyne decoder library parses data"
   ]
  },
  {
   "cell_type": "code",
   "execution_count": 18,
   "id": "28f965b9",
   "metadata": {},
   "outputs": [],
   "source": [
    "import velodyne_decoder as vd\n",
    "import numpy as np"
   ]
  },
  {
   "cell_type": "code",
   "execution_count": 19,
   "id": "5b5b0af8",
   "metadata": {},
   "outputs": [],
   "source": [
    "pcap_file = '../../data/late_z_and_p_test.pcap'"
   ]
  },
  {
   "cell_type": "code",
   "execution_count": 20,
   "id": "4cf7ddfa",
   "metadata": {},
   "outputs": [],
   "source": [
    "frames = {}\n",
    "for stamp, points in vd.read_pcap(pcap_file):\n",
    "    if stamp not in frames:\n",
    "        frames[stamp] = []\n",
    "    frames[stamp].append(points)"
   ]
  },
  {
   "cell_type": "markdown",
   "id": "4c1e1d48",
   "metadata": {},
   "source": [
    "## See how the frames look"
   ]
  },
  {
   "cell_type": "code",
   "execution_count": 21,
   "id": "2be9b061",
   "metadata": {},
   "outputs": [
    {
     "name": "stdout",
     "output_type": "stream",
     "text": [
      "34\n"
     ]
    }
   ],
   "source": [
    "print(len(frames))"
   ]
  },
  {
   "cell_type": "code",
   "execution_count": 22,
   "id": "2be27c9c",
   "metadata": {},
   "outputs": [
    {
     "name": "stdout",
     "output_type": "stream",
     "text": [
      "TimePair(host=1679338160.527577, device=1679339449.829357)\n",
      "<class 'velodyne_decoder.velodyne_decoder_pylib.TimePair'>\n"
     ]
    }
   ],
   "source": [
    "print(list(frames)[0])\n",
    "print(type(list(frames)[0]))"
   ]
  },
  {
   "cell_type": "code",
   "execution_count": 23,
   "id": "19ec4db1",
   "metadata": {},
   "outputs": [
    {
     "name": "stdout",
     "output_type": "stream",
     "text": [
      "[array([[-1.3847604e+00, -3.0301673e+00, -1.5337733e+00, ...,\n",
      "         0.0000000e+00,  0.0000000e+00,  1.0000000e+00],\n",
      "       [-6.2203884e+00, -1.8106380e+01, -3.3343861e-01, ...,\n",
      "         0.0000000e+00,  1.7000000e+01,  1.0000000e+00],\n",
      "       [-7.3134022e+00, -1.5995981e+01, -5.1064312e-01, ...,\n",
      "         0.0000000e+00,  1.5000000e+01,  1.0000000e+00],\n",
      "       ...,\n",
      "       [-1.7173838e+01, -3.7235859e+01,  1.0976026e+01, ...,\n",
      "         1.8230000e+03,  3.1000000e+01,  1.0000000e+00],\n",
      "       [-1.9302170e+01, -3.6968773e+01,  7.5960751e+00, ...,\n",
      "         1.8230000e+03,  3.0000000e+01,  1.0000000e+00],\n",
      "       [-7.5881295e+00, -1.6444822e+01, -4.2044842e-01, ...,\n",
      "         1.8230000e+03,  1.6000000e+01,  1.0000000e+00]], dtype=float32)]\n"
     ]
    }
   ],
   "source": [
    "print(frames[list(frames)[0]])"
   ]
  },
  {
   "cell_type": "code",
   "execution_count": 24,
   "id": "0e07a2d8",
   "metadata": {},
   "outputs": [
    {
     "name": "stdout",
     "output_type": "stream",
     "text": [
      "52970\n"
     ]
    }
   ],
   "source": [
    "print(len(frames[list(frames)[0]][0]))"
   ]
  },
  {
   "cell_type": "markdown",
   "id": "eabb9260",
   "metadata": {},
   "source": [
    "## See how many columns there are\n",
    "Are these correlated with azimuth values at all?"
   ]
  },
  {
   "cell_type": "code",
   "execution_count": 25,
   "id": "3c3e9305",
   "metadata": {},
   "outputs": [],
   "source": [
    "cloud_arrays = []\n",
    "for stamp, points in vd.read_pcap(pcap_file):\n",
    "    cloud_arrays.append(points)"
   ]
  },
  {
   "cell_type": "code",
   "execution_count": 26,
   "id": "599b4a52",
   "metadata": {},
   "outputs": [
    {
     "name": "stdout",
     "output_type": "stream",
     "text": [
      "34\n"
     ]
    }
   ],
   "source": [
    "# Okay, so it's already separated into frames\n",
    "print(len(cloud_arrays))"
   ]
  },
  {
   "cell_type": "code",
   "execution_count": 27,
   "id": "ace95710",
   "metadata": {},
   "outputs": [],
   "source": [
    "# print(cloud_arrays)"
   ]
  },
  {
   "cell_type": "code",
   "execution_count": 28,
   "id": "9f5db012",
   "metadata": {},
   "outputs": [
    {
     "name": "stdout",
     "output_type": "stream",
     "text": [
      "Column 0: 1523525 unique values\n",
      "Column 1: 1521859 unique values\n",
      "Column 2: 296567 unique values\n",
      "Column 3: 226 unique values\n",
      "Column 4: 101447 unique values\n",
      "Column 5: 1824 unique values\n",
      "Column 6: 32 unique values\n",
      "Column 7: 1 unique values\n"
     ]
    }
   ],
   "source": [
    "# See how many unique values are in each column\n",
    "all_points = []\n",
    "\n",
    "# Read all frames and concatenate into a single array\n",
    "for _, points in vd.read_pcap(pcap_file):\n",
    "    all_points.append(points)\n",
    "\n",
    "# Convert the list of arrays to a single numpy array\n",
    "all_points = np.vstack(all_points)\n",
    "\n",
    "# Determine unique values in each column\n",
    "unique_counts = [np.unique(all_points[:, i]).size for i in range(all_points.shape[1])]\n",
    "\n",
    "# Print the unique counts for each column\n",
    "for index, count in enumerate(unique_counts):\n",
    "    print(f\"Column {index}: {count} unique values\")"
   ]
  }
 ],
 "metadata": {
  "kernelspec": {
   "display_name": "Python 3 (ipykernel)",
   "language": "python",
   "name": "python3"
  },
  "language_info": {
   "codemirror_mode": {
    "name": "ipython",
    "version": 3
   },
   "file_extension": ".py",
   "mimetype": "text/x-python",
   "name": "python",
   "nbconvert_exporter": "python",
   "pygments_lexer": "ipython3",
   "version": "3.8.18"
  }
 },
 "nbformat": 4,
 "nbformat_minor": 5
}
