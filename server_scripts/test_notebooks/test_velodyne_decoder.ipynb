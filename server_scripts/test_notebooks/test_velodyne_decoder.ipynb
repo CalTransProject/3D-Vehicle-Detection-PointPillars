{
 "cells": [
  {
   "cell_type": "markdown",
   "id": "f756f6ff",
   "metadata": {},
   "source": [
    "# See how the velodyne decoder library parses data"
   ]
  },
  {
   "cell_type": "code",
   "execution_count": 18,
   "id": "b982e7cf",
   "metadata": {},
   "outputs": [],
   "source": [
    "import velodyne_decoder as vd\n",
    "import numpy as np"
   ]
  },
  {
   "cell_type": "code",
   "execution_count": 19,
   "id": "2a704684",
   "metadata": {},
   "outputs": [],
   "source": [
    "pcap_file = '../../data/late_z_and_p_test.pcap'"
   ]
  },
  {
   "cell_type": "code",
   "execution_count": 45,
   "id": "55407666",
   "metadata": {},
   "outputs": [
    {
     "name": "stdout",
     "output_type": "stream",
     "text": [
      "TimePair(host=1679338160.527577, device=1679339449.829357)\n",
      "TimePair(host=1679338160.627699, device=1679339449.929553)\n",
      "TimePair(host=1679338160.727446, device=1679339450.029750)\n",
      "TimePair(host=1679338160.827773, device=1679339450.129946)\n",
      "TimePair(host=1679338160.927646, device=1679339450.230143)\n",
      "TimePair(host=1679338161.028762, device=1679339450.330339)\n",
      "TimePair(host=1679338161.128093, device=1679339450.430535)\n",
      "TimePair(host=1679338161.228963, device=1679339450.530732)\n",
      "TimePair(host=1679338161.328691, device=1679339450.630928)\n",
      "TimePair(host=1679338161.429458, device=1679339450.731124)\n",
      "TimePair(host=1679338161.528941, device=1679339450.831321)\n",
      "TimePair(host=1679338161.629417, device=1679339450.931517)\n",
      "TimePair(host=1679338161.729411, device=1679339451.031714)\n",
      "TimePair(host=1679338161.829680, device=1679339451.131910)\n",
      "TimePair(host=1679338161.930488, device=1679339451.232106)\n",
      "TimePair(host=1679338162.030595, device=1679339451.332303)\n",
      "TimePair(host=1679338162.130836, device=1679339451.432499)\n",
      "TimePair(host=1679338162.230769, device=1679339451.532695)\n",
      "TimePair(host=1679338162.330519, device=1679339451.632892)\n",
      "TimePair(host=1679338162.430855, device=1679339451.733088)\n",
      "TimePair(host=1679338162.530887, device=1679339451.833285)\n",
      "TimePair(host=1679338162.631421, device=1679339451.933481)\n",
      "TimePair(host=1679338162.732003, device=1679339452.033677)\n",
      "TimePair(host=1679338162.831538, device=1679339452.133874)\n",
      "TimePair(host=1679338162.932268, device=1679339452.234070)\n",
      "TimePair(host=1679338163.032523, device=1679339452.334266)\n",
      "TimePair(host=1679338163.132287, device=1679339452.434463)\n",
      "TimePair(host=1679338163.232958, device=1679339452.534659)\n",
      "TimePair(host=1679338163.333181, device=1679339452.634856)\n",
      "TimePair(host=1679338163.432606, device=1679339452.735052)\n",
      "TimePair(host=1679338163.532866, device=1679339452.835248)\n",
      "TimePair(host=1679338163.633048, device=1679339452.935445)\n",
      "TimePair(host=1679338163.733989, device=1679339453.035641)\n",
      "TimePair(host=1679338163.743827, device=1679339453.046258)\n"
     ]
    }
   ],
   "source": [
    "frames = {}\n",
    "for stamp, points in vd.read_pcap(pcap_file):\n",
    "    print(stamp)\n",
    "    if stamp not in frames:\n",
    "        frames[stamp] = []\n",
    "    frames[stamp].append(points)"
   ]
  },
  {
   "cell_type": "markdown",
   "id": "e6ecd5d7",
   "metadata": {},
   "source": [
    "## See how the frames look"
   ]
  },
  {
   "cell_type": "code",
   "execution_count": 21,
   "id": "ac869784",
   "metadata": {},
   "outputs": [
    {
     "name": "stdout",
     "output_type": "stream",
     "text": [
      "34\n"
     ]
    }
   ],
   "source": [
    "print(len(frames))"
   ]
  },
  {
   "cell_type": "code",
   "execution_count": 22,
   "id": "3a471289",
   "metadata": {},
   "outputs": [
    {
     "name": "stdout",
     "output_type": "stream",
     "text": [
      "TimePair(host=1679338160.527577, device=1679339449.829357)\n",
      "<class 'velodyne_decoder.velodyne_decoder_pylib.TimePair'>\n"
     ]
    }
   ],
   "source": [
    "print(list(frames)[0])\n",
    "print(type(list(frames)[0]))"
   ]
  },
  {
   "cell_type": "code",
   "execution_count": 23,
   "id": "c05c2884",
   "metadata": {},
   "outputs": [
    {
     "name": "stdout",
     "output_type": "stream",
     "text": [
      "[array([[-1.3847604e+00, -3.0301673e+00, -1.5337733e+00, ...,\n",
      "         0.0000000e+00,  0.0000000e+00,  1.0000000e+00],\n",
      "       [-6.2203884e+00, -1.8106380e+01, -3.3343861e-01, ...,\n",
      "         0.0000000e+00,  1.7000000e+01,  1.0000000e+00],\n",
      "       [-7.3134022e+00, -1.5995981e+01, -5.1064312e-01, ...,\n",
      "         0.0000000e+00,  1.5000000e+01,  1.0000000e+00],\n",
      "       ...,\n",
      "       [-1.7173838e+01, -3.7235859e+01,  1.0976026e+01, ...,\n",
      "         1.8230000e+03,  3.1000000e+01,  1.0000000e+00],\n",
      "       [-1.9302170e+01, -3.6968773e+01,  7.5960751e+00, ...,\n",
      "         1.8230000e+03,  3.0000000e+01,  1.0000000e+00],\n",
      "       [-7.5881295e+00, -1.6444822e+01, -4.2044842e-01, ...,\n",
      "         1.8230000e+03,  1.6000000e+01,  1.0000000e+00]], dtype=float32)]\n"
     ]
    }
   ],
   "source": [
    "print(frames[list(frames)[0]])"
   ]
  },
  {
   "cell_type": "code",
   "execution_count": 24,
   "id": "87df60a7",
   "metadata": {},
   "outputs": [
    {
     "name": "stdout",
     "output_type": "stream",
     "text": [
      "52970\n"
     ]
    }
   ],
   "source": [
    "print(len(frames[list(frames)[0]][0]))"
   ]
  },
  {
   "cell_type": "markdown",
   "id": "0027f3d3",
   "metadata": {},
   "source": [
    "## See how many columns there are\n",
    "Are these correlated with azimuth values at all?"
   ]
  },
  {
   "cell_type": "code",
   "execution_count": 25,
   "id": "ea849ad9",
   "metadata": {},
   "outputs": [],
   "source": [
    "cloud_arrays = []\n",
    "for stamp, points in vd.read_pcap(pcap_file):\n",
    "    cloud_arrays.append(points)"
   ]
  },
  {
   "cell_type": "code",
   "execution_count": 26,
   "id": "4ea1bd97",
   "metadata": {},
   "outputs": [
    {
     "name": "stdout",
     "output_type": "stream",
     "text": [
      "34\n"
     ]
    }
   ],
   "source": [
    "# Okay, so it's already separated into frames\n",
    "print(len(cloud_arrays))"
   ]
  },
  {
   "cell_type": "code",
   "execution_count": 27,
   "id": "31f83ade",
   "metadata": {},
   "outputs": [],
   "source": [
    "# print(cloud_arrays)"
   ]
  },
  {
   "cell_type": "code",
   "execution_count": 31,
   "id": "ccca217d",
   "metadata": {},
   "outputs": [
    {
     "name": "stdout",
     "output_type": "stream",
     "text": [
      "Column 0: 1523525 unique values\n",
      "Column 1: 1521859 unique values\n",
      "Column 2: 296567 unique values\n",
      "Column 3: 226 unique values\n",
      "Column 4: 101447 unique values\n",
      "Column 5: 1824 unique values\n",
      "Column 6: 32 unique values\n",
      "Column 7: 1 unique values\n",
      "\n",
      "Range for x: -139.5237274169922 to 189.49766540527344\n",
      "Range for y: -149.0363311767578 to 112.33954620361328\n",
      "Range for z: -13.328892707824707 to 26.640790939331055\n",
      "Range for intensity: 0.0 to 253.0\n",
      "Range for time: -0.10019588470458984 to 0.0006428160122595727\n",
      "Range for column: 0.0 to 1823.0\n",
      "Range for ring: 0.0 to 31.0\n",
      "Range for return_type: 1.0 to 1.0\n"
     ]
    }
   ],
   "source": [
    "# See how many unique values are in each column\n",
    "all_points = []\n",
    "\n",
    "# Read all frames and concatenate into a single array\n",
    "for _, points in vd.read_pcap(pcap_file):\n",
    "    all_points.append(points)\n",
    "\n",
    "# Convert the list of arrays to a single numpy array\n",
    "all_points = np.vstack(all_points)\n",
    "\n",
    "# Determine unique values in each column\n",
    "unique_counts = [np.unique(all_points[:, i]).size for i in range(all_points.shape[1])]\n",
    "\n",
    "# Print the unique counts for each column\n",
    "for index, count in enumerate(unique_counts):\n",
    "    print(f\"Column {index}: {count} unique values\")\n",
    "\n",
    "print()\n",
    "columns = ['x', 'y', 'z', 'intensity', 'time', 'column', 'ring', 'return_type']\n",
    "\n",
    "for i in range(len(columns)):\n",
    "    min_val = np.min(all_points[:, i])\n",
    "    max_val = np.max(all_points[:, i])\n",
    "    print(f\"Range for {columns[i]}: {min_val} to {max_val}\")"
   ]
  },
  {
   "cell_type": "markdown",
   "id": "e590cddb",
   "metadata": {},
   "source": [
    "## Can the column values be used as indices?"
   ]
  },
  {
   "cell_type": "code",
   "execution_count": 34,
   "id": "20af2e0b",
   "metadata": {},
   "outputs": [
    {
     "name": "stdout",
     "output_type": "stream",
     "text": [
      "Unique values in column 5 (column):\n",
      "0.0 1.0 2.0 3.0 4.0 5.0 6.0 7.0 8.0 9.0 10.0 11.0 12.0 13.0 14.0 15.0 16.0 17.0 18.0 19.0 20.0 21.0 22.0 23.0 24.0 25.0 26.0 27.0 28.0 29.0 30.0 31.0 32.0 33.0 34.0 35.0 36.0 37.0 38.0 39.0 40.0 41.0 42.0 43.0 44.0 45.0 46.0 47.0 48.0 49.0 50.0 51.0 52.0 53.0 54.0 55.0 56.0 57.0 58.0 59.0 60.0 61.0 62.0 63.0 64.0 65.0 66.0 67.0 68.0 69.0 70.0 71.0 72.0 73.0 74.0 75.0 76.0 77.0 78.0 79.0 80.0 81.0 82.0 83.0 84.0 85.0 86.0 87.0 88.0 89.0 90.0 91.0 92.0 93.0 94.0 95.0 96.0 97.0 98.0 99.0 "
     ]
    }
   ],
   "source": [
    "column_index = 5  # For column\n",
    "\n",
    "# Find unique values in the specified column\n",
    "unique_values = np.unique(all_points[:, column_index])\n",
    "\n",
    "# Print the unique values\n",
    "print(f\"Unique values in column {column_index} (column):\")\n",
    "for val in unique_values[:100]:\n",
    "    print(val, end=' ')"
   ]
  },
  {
   "cell_type": "code",
   "execution_count": 42,
   "id": "259404c3",
   "metadata": {},
   "outputs": [
    {
     "name": "stdout",
     "output_type": "stream",
     "text": [
      "0.000642816\n",
      "0.000642816\n",
      "0.000642816\n",
      "0.000642816\n",
      "0.000642816\n",
      "0.000642816\n",
      "0.000642816\n",
      "0.000642816\n",
      "0.000642816\n",
      "0.000642816\n",
      "0.000642816\n",
      "0.000642816\n",
      "0.000642816\n",
      "0.000642816\n",
      "0.000642816\n",
      "0.000642816\n",
      "0.000642816\n",
      "0.000642816\n",
      "0.000642816\n",
      "0.000642816\n",
      "0.000642816\n",
      "0.000642816\n",
      "0.000642816\n",
      "0.000642816\n",
      "0.000642816\n",
      "0.000642816\n",
      "0.000642816\n",
      "0.000642816\n",
      "0.000642816\n",
      "0.000642816\n",
      "0.000642816\n",
      "0.000642816\n",
      "0.000642816\n",
      "0.000642816\n"
     ]
    }
   ],
   "source": [
    "for arr in cloud_arrays:\n",
    "    print(arr[-1][4])"
   ]
  },
  {
   "cell_type": "markdown",
   "id": "7bf036de",
   "metadata": {},
   "source": [
    "## Get the last column from each frame"
   ]
  },
  {
   "cell_type": "code",
   "execution_count": 40,
   "id": "e08ffed5",
   "metadata": {},
   "outputs": [],
   "source": [
    "# for arr in cloud_arrays:\n",
    "#     print(arr[-1][5])"
   ]
  },
  {
   "cell_type": "code",
   "execution_count": null,
   "id": "b0e459df",
   "metadata": {},
   "outputs": [],
   "source": []
  }
 ],
 "metadata": {
  "kernelspec": {
   "display_name": "Python 3 (ipykernel)",
   "language": "python",
   "name": "python3"
  },
  "language_info": {
   "codemirror_mode": {
    "name": "ipython",
    "version": 3
   },
   "file_extension": ".py",
   "mimetype": "text/x-python",
   "name": "python",
   "nbconvert_exporter": "python",
   "pygments_lexer": "ipython3",
   "version": "3.8.18"
  }
 },
 "nbformat": 4,
 "nbformat_minor": 5
}
