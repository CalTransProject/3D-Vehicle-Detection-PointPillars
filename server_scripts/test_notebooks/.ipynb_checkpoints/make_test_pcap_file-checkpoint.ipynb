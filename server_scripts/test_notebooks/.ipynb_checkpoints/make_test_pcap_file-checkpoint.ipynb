{
 "cells": [
  {
   "cell_type": "code",
   "execution_count": 1,
   "id": "e98e3d68",
   "metadata": {},
   "outputs": [],
   "source": [
    "from scapy.all import rdpcap, wrpcap\n",
    "\n",
    "# Read the full pcap file\n",
    "packets = rdpcap('../../data/zelzah_plummer_intersection_12min_032023_lidar.pcap')\n",
    "\n",
    "# Slice the packets - for example, the first 5000 packets\n",
    "smaller_packets = packets[:5000]\n",
    "\n",
    "# Write the sliced packets to a new pcap file\n",
    "wrpcap('../../data/z_and_p_test.pcap', smaller_packets)"
   ]
  }
 ],
 "metadata": {
  "kernelspec": {
   "display_name": "Python 3 (ipykernel)",
   "language": "python",
   "name": "python3"
  },
  "language_info": {
   "codemirror_mode": {
    "name": "ipython",
    "version": 3
   },
   "file_extension": ".py",
   "mimetype": "text/x-python",
   "name": "python",
   "nbconvert_exporter": "python",
   "pygments_lexer": "ipython3",
   "version": "3.8.18"
  }
 },
 "nbformat": 4,
 "nbformat_minor": 5
}
