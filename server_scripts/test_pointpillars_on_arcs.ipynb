{
 "cells": [
  {
   "cell_type": "markdown",
   "id": "fa9501ae",
   "metadata": {},
   "source": [
    "# Test PointPillars on ARCS data"
   ]
  },
  {
   "cell_type": "code",
   "execution_count": 1,
   "id": "f9487a1d",
   "metadata": {},
   "outputs": [],
   "source": [
    "# Libraries\n",
    "import bbox\n",
    "import itertools\n",
    "import math\n",
    "import os\n",
    "import random\n",
    "import sys\n",
    "import time\n",
    "import numpy as np\n",
    "import pandas as pd\n",
    "from contextlib import redirect_stdout\n",
    "from mmdet3d.apis import LidarDet3DInferencer\n",
    "from pathlib import Path"
   ]
  },
  {
   "cell_type": "code",
   "execution_count": 2,
   "id": "df4d9c57",
   "metadata": {},
   "outputs": [
    {
     "name": "stderr",
     "output_type": "stream",
     "text": [
      "/home/rachel/mmdetection3d/mmdet3d/models/dense_heads/anchor3d_head.py:94: UserWarning: dir_offset and dir_limit_offset will be depressed and be incorporated into box coder in the future\n",
      "  warnings.warn(\n"
     ]
    },
    {
     "name": "stdout",
     "output_type": "stream",
     "text": [
      "Loads checkpoint by http backend from path: https://download.openmmlab.com/mmdetection3d/v1.0.0_models/pointpillars/hv_pointpillars_secfpn_6x8_160e_kitti-3d-3class/hv_pointpillars_secfpn_6x8_160e_kitti-3d-3class_20220301_150306-37dc2420.pth\n",
      "09/30 00:48:10 - mmengine - \u001b[5m\u001b[4m\u001b[33mWARNING\u001b[0m - Failed to search registry with scope \"mmdet3d\" in the \"function\" registry tree. As a workaround, the current \"function\" registry in \"mmengine\" is used to build instance. This may cause unexpected failure when running the built modules. Please check whether \"mmdet3d\" is a correct scope, or whether the registry is initialized.\n",
      "Jupyter environment detected. Enabling Open3D WebVisualizer.\n",
      "[Open3D INFO] WebRTC GUI backend enabled.\n",
      "[Open3D INFO] WebRTCWindowSystem: HTTP handshake server disabled.\n"
     ]
    },
    {
     "name": "stderr",
     "output_type": "stream",
     "text": [
      "/home/rachel/miniconda3/envs/openmm_mmvc/lib/python3.8/site-packages/mmengine/visualization/visualizer.py:196: UserWarning: Failed to add <class 'mmengine.visualization.vis_backend.LocalVisBackend'>, please provide the `save_dir` argument.\n",
      "  warnings.warn(f'Failed to add {vis_backend.__class__}, '\n"
     ]
    }
   ],
   "source": [
    "# Initialize inferencer\n",
    "inferencer = LidarDet3DInferencer('pointpillars_kitti-3class')"
   ]
  },
  {
   "cell_type": "code",
   "execution_count": 3,
   "id": "c83c863d",
   "metadata": {},
   "outputs": [],
   "source": [
    "# Directory paths\n",
    "ARCS_LABELS = '../data/eval_data/labels'\n",
    "ARCS_DATA_DIR = '../data/eval_data/arcs'\n",
    "PREV_ARCS_AZIMUTH_FILTERED_DATA_DIR = '../data/eval_data/arcs_azimuth_filtered_01'\n",
    "ARCS_AZIMUTH_FILTERED_DATA_DIR = '../data/eval_data/arcs_azimuth_filtered'\n",
    "ARCS_LABEL_FILTERED_DATA_DIR = '../data/eval_data/arcs_label_filtered'"
   ]
  },
  {
   "cell_type": "markdown",
   "id": "b0f14b46",
   "metadata": {},
   "source": [
    "## Evaluation functions"
   ]
  },
  {
   "cell_type": "code",
   "execution_count": 4,
   "id": "d48103d5",
   "metadata": {},
   "outputs": [],
   "source": [
    "# The 3D bbox object requires quaternion values. This function converts the yaw to these values\n",
    "def yaw_to_quaternion(yaw):\n",
    "    \"\"\"\n",
    "    Converts a yaw angle (rotation about the z-axis) to quaternion coordinates.\n",
    "    \n",
    "    Parameters:\n",
    "    - yaw (float): The yaw angle in radians.\n",
    "    \n",
    "    Returns:\n",
    "    - tuple of (rw, rx, ry, rz): The quaternion representation of the yaw.\n",
    "    \"\"\"\n",
    "    # Compute the components of the quaternion\n",
    "    rw = math.cos(yaw / 2.0)\n",
    "    rz = math.sin(yaw / 2.0)\n",
    "    \n",
    "    # rx and ry are zero because the rotation is only about the z-axis\n",
    "    return (rw, 0, 0, rz)"
   ]
  },
  {
   "cell_type": "code",
   "execution_count": 5,
   "id": "127142a5",
   "metadata": {},
   "outputs": [],
   "source": [
    "# This function takes x, y, z, dx, dy, dz, yaw and returns a 3D bbox object from the bbox package\n",
    "# Yaw is in radians\n",
    "def get3DBbox(x, y, z, dx, dy, dz, yaw):\n",
    "    # Example usage:\n",
    "    rw, rx, ry, rz = yaw_to_quaternion(yaw)\n",
    "    bbox_obj = bbox.BBox3D(x, y, z, length=dx, width=dy, height=dz, rw=rw, rx=rx, ry=ry, rz=rz)\n",
    "    return bbox_obj"
   ]
  },
  {
   "cell_type": "code",
   "execution_count": 6,
   "id": "c64892fb",
   "metadata": {},
   "outputs": [],
   "source": [
    "# Takes two bounding boxes, returns the IoU\n",
    "def calculate_iou(bbox1, bbox2):\n",
    "    bbox_obj1 = get3DBbox(*bbox1)\n",
    "    bbox_obj2 = get3DBbox(*bbox2)\n",
    "    return bbox.metrics.jaccard_index_3d(bbox_obj1, bbox_obj2)"
   ]
  },
  {
   "cell_type": "code",
   "execution_count": 7,
   "id": "306ec6c5",
   "metadata": {},
   "outputs": [],
   "source": [
    "evaluation_area = [21.0175, 11.717, -0.3925, 40.035, 55.9349, 7.535, 0.5]"
   ]
  },
  {
   "cell_type": "code",
   "execution_count": 8,
   "id": "dac43616",
   "metadata": {},
   "outputs": [],
   "source": [
    "# Returns true if the pending box overlaps the evaluation area\n",
    "def is_in_eval_area(pending_bbox):\n",
    "    iou = calculate_iou(evaluation_area, pending_bbox)\n",
    "    if iou > 0:\n",
    "        return True\n",
    "    return False\n",
    "#     return True"
   ]
  },
  {
   "cell_type": "code",
   "execution_count": 9,
   "id": "8ab78e44",
   "metadata": {},
   "outputs": [],
   "source": [
    "# _evaluate frame takes a prediction dictionary output by the model, and a list of ground truths\n",
    "# from the label file, and returns the TPs, FPs, and FNs for one lidar frame\n",
    "def _evaluate_frame(predictions, ground_truths, iou_threshold=0.25):\n",
    "    TPs, FPs, FNs = 0, 0, len(ground_truths)\n",
    "    used_gt = set()\n",
    "    confidence_labels = []\n",
    "    \n",
    "    for pred in predictions['predictions']:\n",
    "        for label, score, bbox in zip(pred['labels_3d'], pred['scores_3d'], pred['bboxes_3d']):\n",
    "            # Only count the prediction if it's within the evaluation area\n",
    "            if is_in_eval_area(bbox):\n",
    "                best_iou = 0\n",
    "                best_gt = None\n",
    "                for gt in ground_truths:\n",
    "                    iou = calculate_iou(bbox, gt[8:])\n",
    "                    if iou > best_iou:\n",
    "                        best_iou = iou\n",
    "                        best_gt = tuple(gt)\n",
    "\n",
    "                if best_iou > iou_threshold:\n",
    "                    if best_gt not in used_gt:\n",
    "                        used_gt.add(best_gt)\n",
    "                        TPs += 1\n",
    "                        FNs -= 1\n",
    "                        confidence_labels.append((score, 1))\n",
    "                    else:\n",
    "                        FPs += 1\n",
    "                        confidence_labels.append((score, 0))\n",
    "                else:\n",
    "                    FPs += 1\n",
    "    return TPs, FPs, FNs, confidence_labels"
   ]
  },
  {
   "cell_type": "code",
   "execution_count": 10,
   "id": "17acf892",
   "metadata": {},
   "outputs": [],
   "source": [
    "def parse_ground_truths(label_path):\n",
    "    labels = []\n",
    "    with open(label_path, 'r') as file:\n",
    "        for line in file:\n",
    "            parts = line.strip().split()\n",
    "            bbox = []\n",
    "            # Add the category as a string\n",
    "            bbox.append(parts[0])\n",
    "            # Extract the bounding box dimensions and location as \n",
    "            bbox = bbox + [float(value) for value in parts[1:15]]  \n",
    "            bbox[2] = int(bbox[2])\n",
    "            # Only include the bbox if it's in the evaluation area\n",
    "            if is_in_eval_area(bbox[8:]):\n",
    "                labels.append(bbox)\n",
    "    return labels"
   ]
  },
  {
   "cell_type": "code",
   "execution_count": 11,
   "id": "4d0c97d5",
   "metadata": {},
   "outputs": [],
   "source": [
    "generated_problem_file_list = []"
   ]
  },
  {
   "cell_type": "code",
   "execution_count": 12,
   "id": "2474084e",
   "metadata": {},
   "outputs": [],
   "source": [
    "# _evaluate frame takes a lidar and label file path and\n",
    "# and returns the TPs, FPs, and FNs for one lidar frame\n",
    "def evaluate_frame(lidar_file_path, label_file_path):\n",
    "    inputs = dict(points=str(lidar_file_path))\n",
    "    \n",
    "    # Get predictions\n",
    "    try:\n",
    "        predictions = inferencer(inputs)\n",
    "            # Get ground truths\n",
    "        ground_truths = parse_ground_truths(label_file_path)\n",
    "        num_ground_truths = len(ground_truths)\n",
    "\n",
    "        TPs, FPs, FNs, confidence_labels = _evaluate_frame(predictions, ground_truths)\n",
    "    except:\n",
    "        # Add file id to the problem file list\n",
    "        print(str(lidar_file_path))\n",
    "        lidar_filename = os.path.basename(lidar_file_path)\n",
    "        file_id, extension = os.path.splitext(lidar_filename)\n",
    "        generated_problem_file_list.append(file_id)\n",
    "        TPs, FPs, FNs, num_ground_truths, confidence_labels = 0, 0, 0, 0, []\n",
    "    \n",
    "    return TPs, FPs, FNs, num_ground_truths, confidence_labels"
   ]
  },
  {
   "cell_type": "code",
   "execution_count": 13,
   "id": "e35c8de6",
   "metadata": {},
   "outputs": [],
   "source": [
    "# Problem files. I'll find out why later\n",
    "problem_file_ids = ['000522', '003066', '000556', '004340', '001016', '004224', '005318', '004344', '001014', '000522',\n",
    "                    '003066', '000556', '004340', '001016', '004224', '005318', '004344', '001014', '001027', '006440',\n",
    "                    '001026', '000869', '001031', '000530', '004928', '000548', '000553', '004290', '006437', '000548',\n",
    "                    '000553', '004290', '006437', '000542', '001015', '006443', '005320', '000542', '001015', '006443', \n",
    "                    '005320']"
   ]
  },
  {
   "cell_type": "code",
   "execution_count": 14,
   "id": "6bb44482",
   "metadata": {},
   "outputs": [],
   "source": [
    "def print_summary(list_file_ids):\n",
    "    for id in list_file_ids:\n",
    "        print(f'\\n_____________________________________________________________')\n",
    "        \n",
    "        file_path = f'{ARCS_LABEL_FILTERED_DATA_DIR}/{id}.bin'\n",
    "        label_path = f'{ARCS_LABELS}/{id}.txt' \n",
    "\n",
    "        # Open point cloud file\n",
    "        points = np.fromfile(file_path, dtype=np.float32).reshape(-1, 4)\n",
    "        df_points = pd.DataFrame(points, columns=['x', 'y', 'z', 'intensity'])\n",
    "\n",
    "        # Print the DataFrame summary\n",
    "        print(f\"Summary for file ID {id}:\")\n",
    "        print('length: ' + str(len(df_points)))\n",
    "        print(\"DataFrame Info:\")\n",
    "        df_points.info()\n",
    "        print(\"\\nDataFrame Description:\")\n",
    "        print(df_points.describe())\n",
    "        print(f'\\nlabels:')\n",
    "        # Print labels\n",
    "        with open(label_path, 'r') as file:\n",
    "            for line in file:\n",
    "                print(line)"
   ]
  },
  {
   "cell_type": "markdown",
   "id": "1afe0d5c",
   "metadata": {},
   "source": [
    "## Metrics calculation functions"
   ]
  },
  {
   "cell_type": "code",
   "execution_count": 15,
   "id": "61392321",
   "metadata": {},
   "outputs": [],
   "source": [
    "def calculate_precision_recall(predictions, num_ground_truths):\n",
    "    # Sort by confidence score in descending order\n",
    "    predictions.sort(key=lambda x: x[0], reverse=True)\n",
    "    \n",
    "    tp = 0\n",
    "    fp = 0\n",
    "    total_positives = sum(is_tp for _, is_tp in predictions)\n",
    "    \n",
    "    precisions = []\n",
    "    recalls = []\n",
    "    \n",
    "    for conf, is_tp in predictions:\n",
    "        if is_tp:\n",
    "            tp += 1\n",
    "        else:\n",
    "            fp += 1\n",
    "        \n",
    "        precision = tp / (tp + fp)\n",
    "        recall = tp / num_ground_truths\n",
    "        \n",
    "        precisions.append(precision)\n",
    "        recalls.append(recall)\n",
    "    \n",
    "    return precisions, recalls"
   ]
  },
  {
   "cell_type": "code",
   "execution_count": 16,
   "id": "7e6eb127",
   "metadata": {},
   "outputs": [],
   "source": [
    "def calculate_ap(precisions, recalls):\n",
    "    # Calculate AP using the trapezoidal rule to compute the area under the curve\n",
    "    ap = 0\n",
    "    for i in range(1, len(recalls)):\n",
    "        ap += (recalls[i] - recalls[i-1]) * (precisions[i] + precisions[i-1]) / 2\n",
    "    return ap"
   ]
  },
  {
   "cell_type": "code",
   "execution_count": 17,
   "id": "492f341b",
   "metadata": {},
   "outputs": [
    {
     "name": "stdout",
     "output_type": "stream",
     "text": [
      "['005987.bin', '001420.bin', '000112.bin', '001102.bin', '006238.bin', '005802.bin', '000238.bin', '001371.bin', '002730.bin', '005706.bin', '006220.bin', '001575.bin', '004494.bin', '002584.bin', '002236.bin', '004954.bin', '002435.bin', '002149.bin', '001295.bin', '005403.bin', '004015.bin', '001265.bin', '004661.bin', '002610.bin', '000804.bin', '005408.bin', '002452.bin', '001520.bin', '002471.bin', '006366.bin', '005797.bin', '004468.bin', '001469.bin', '004933.bin', '003064.bin', '000698.bin', '005518.bin', '002914.bin', '002808.bin', '004060.bin', '002736.bin', '001078.bin', '001086.bin', '002027.bin', '001069.bin', '002403.bin', '000351.bin', '004352.bin', '004369.bin', '001205.bin', '006145.bin', '002955.bin', '004266.bin', '001252.bin', '002613.bin', '002092.bin', '002759.bin', '000337.bin', '000022.bin', '003698.bin', '004457.bin', '004412.bin', '001965.bin', '004806.bin', '000178.bin', '002475.bin', '004682.bin', '002850.bin', '000106.bin', '002534.bin', '002407.bin', '001503.bin', '002844.bin', '000521.bin', '001565.bin', '004106.bin', '004365.bin', '001653.bin', '002251.bin', '005629.bin', '001885.bin', '000463.bin', '000536.bin', '004463.bin', '001606.bin', '001713.bin', '005509.bin', '000871.bin', '006252.bin', '005597.bin', '005860.bin', '003850.bin', '001474.bin', '005635.bin', '000120.bin', '003144.bin', '001957.bin', '001200.bin', '001851.bin', '001678.bin', '002529.bin', '003813.bin', '000373.bin', '002974.bin', '002374.bin', '000103.bin', '006362.bin', '005677.bin', '002330.bin', '002463.bin', '006124.bin', '002583.bin', '006003.bin', '005235.bin', '000227.bin', '003671.bin', '005732.bin', '002392.bin', '002295.bin', '003079.bin', '002304.bin', '005476.bin', '005875.bin', '000045.bin', '000134.bin', '005352.bin', '004676.bin', '004239.bin', '000356.bin', '002428.bin', '001058.bin', '005008.bin', '002041.bin', '000070.bin', '001141.bin', '004720.bin', '002402.bin', '005231.bin', '001276.bin', '002074.bin', '003602.bin', '004593.bin', '004423.bin', '001345.bin', '002264.bin', '001358.bin', '002787.bin', '002220.bin', '001597.bin', '000301.bin', '002429.bin', '005847.bin', '002946.bin', '003806.bin', '002411.bin', '002068.bin', '000193.bin', '003177.bin', '005718.bin', '003420.bin', '000175.bin', '003599.bin', '001531.bin', '006073.bin', '001077.bin', '002967.bin', '001499.bin', '006369.bin', '000830.bin', '005893.bin', '005357.bin', '006341.bin', '002892.bin', '004665.bin', '004701.bin', '001743.bin', '000228.bin', '000774.bin', '005981.bin', '004103.bin', '002097.bin', '002516.bin', '003247.bin', '004599.bin', '006270.bin', '000124.bin', '001019.bin', '001902.bin', '002053.bin', '006450.bin', '001905.bin', '004123.bin', '001889.bin', '004256.bin', '002672.bin', '000667.bin', '005361.bin', '000039.bin', '002549.bin', '002380.bin', '005503.bin', '001640.bin', '000384.bin', '000559.bin', '004692.bin', '001652.bin', '003758.bin', '000779.bin', '001288.bin', '006040.bin', '006259.bin', '004492.bin', '002263.bin', '001326.bin', '000778.bin', '002226.bin', '004084.bin', '002589.bin', '000380.bin', '002098.bin', '001182.bin', '002417.bin', '004686.bin', '002058.bin', '005989.bin', '001583.bin', '001256.bin', '004684.bin', '004943.bin', '000303.bin', '004313.bin', '002655.bin', '000252.bin', '001973.bin', '001648.bin', '005698.bin', '001505.bin', '002649.bin', '002794.bin', '005401.bin', '006348.bin', '004608.bin', '003838.bin', '002391.bin', '004088.bin', '006377.bin', '000091.bin', '005812.bin', '003156.bin', '002212.bin', '001690.bin', '004427.bin', '005532.bin', '001546.bin', '000213.bin', '002481.bin', '004718.bin', '006191.bin', '005245.bin', '006334.bin', '000094.bin', '002535.bin', '001352.bin', '004990.bin', '003149.bin', '001643.bin', '000524.bin', '001963.bin', '000198.bin', '005158.bin', '004689.bin', '001331.bin', '002859.bin', '005155.bin', '001867.bin', '002853.bin', '002248.bin', '006051.bin', '001515.bin', '000210.bin', '004673.bin', '006068.bin', '001220.bin', '001636.bin', '000365.bin', '005420.bin', '001091.bin', '005725.bin', '001484.bin', '000470.bin', '001600.bin', '003732.bin', '001560.bin', '000703.bin', '002286.bin', '005494.bin', '006060.bin', '004674.bin', '002250.bin', '000540.bin', '004291.bin', '004078.bin', '001507.bin', '000000.bin', '004600.bin', '001616.bin', '005339.bin', '003807.bin', '002423.bin', '001495.bin', '005717.bin', '006001.bin', '000357.bin', '000043.bin', '001554.bin', '001165.bin', '005405.bin', '003691.bin', '004482.bin', '002654.bin', '001953.bin', '001784.bin', '003857.bin', '001183.bin', '001188.bin', '000840.bin', '004061.bin', '000473.bin', '000180.bin', '002950.bin', '006386.bin', '005605.bin', '001447.bin', '002393.bin', '000318.bin', '003450.bin', '002445.bin', '005688.bin', '001196.bin', '002700.bin', '003852.bin', '000444.bin', '001199.bin', '001737.bin', '004931.bin', '005656.bin', '006296.bin', '006444.bin', '005392.bin', '004225.bin', '001392.bin', '001868.bin', '006144.bin', '004941.bin', '001563.bin', '001577.bin', '001535.bin', '006352.bin', '001860.bin', '002687.bin', '001230.bin', '003749.bin', '002878.bin', '002427.bin', '005931.bin', '003676.bin', '004579.bin', '000223.bin', '004582.bin', '000233.bin', '005903.bin', '000706.bin', '004370.bin', '001853.bin', '004263.bin', '004565.bin', '000366.bin', '002466.bin', '005910.bin', '003820.bin', '000545.bin', '002289.bin', '005519.bin', '001309.bin', '005721.bin', '001646.bin', '005936.bin', '004609.bin', '006385.bin', '006278.bin', '006328.bin', '000054.bin', '004467.bin', '001637.bin', '006347.bin', '005385.bin', '001951.bin', '001409.bin', '000780.bin']\n"
     ]
    }
   ],
   "source": [
    "test_dir = Path(ARCS_DATA_DIR)\n",
    "files = [f for f in os.listdir(test_dir) if f.endswith('.bin')]\n",
    "random.shuffle(files)\n",
    "files = files[:400]\n",
    "files = [file for file in files if file[:-4] not in problem_file_ids]\n",
    "print(files)"
   ]
  },
  {
   "cell_type": "code",
   "execution_count": 18,
   "id": "bab7d039",
   "metadata": {},
   "outputs": [],
   "source": [
    "def evaluate_dataset(dataset_path, num_frames):\n",
    "    label_dir = Path(ARCS_LABELS)\n",
    "    dataset_dir = Path(dataset_path)\n",
    "    \n",
    "    total_TPs, total_FPs, total_FNs = 0, 0, 0\n",
    "    num_ground_truths = 0\n",
    "    confidence_labels = []\n",
    "\n",
    "    start = time.time()\n",
    "    for bin_file in files:\n",
    "#     for bin_file in itertools.islice(dataset_dir.iterdir(), num_frames):\n",
    "#     for bin_file in dataset_dir.iterdir():\n",
    "        if str(bin_file).endswith('.bin'):\n",
    "            print('.', end='')\n",
    "\n",
    "            lidar_filename = os.path.basename(bin_file)\n",
    "            # Split the filename from the extension ('006428', '.txt')\n",
    "            file_id, extension = os.path.splitext(lidar_filename)\n",
    "            if file_id not in problem_file_ids:\n",
    "                label_filename = file_id + '.txt'\n",
    "\n",
    "                # Make file paths\n",
    "                lidar_file_path = Path(dataset_dir, lidar_filename)\n",
    "                label_file_path = Path(label_dir, label_filename)\n",
    "                \n",
    "#                 print('evaluating: ' + str(lidar_file_path))\n",
    "                \n",
    "                TPs, FPs, FNs, num_frame_ground_truths, frame_confidence_labels = evaluate_frame(lidar_file_path, label_file_path)\n",
    "\n",
    "                total_TPs += TPs\n",
    "                total_FPs += FPs\n",
    "                total_FNs += FNs\n",
    "                num_ground_truths += num_frame_ground_truths\n",
    "                confidence_labels += frame_confidence_labels\n",
    "            else:\n",
    "                print('skipping ' + file_id)\n",
    "    end = time.time()\n",
    "        \n",
    "    return total_TPs, total_FPs, total_FNs, num_ground_truths, confidence_labels, (end - start) / num_frames"
   ]
  },
  {
   "cell_type": "code",
   "execution_count": 19,
   "id": "ea5180b6",
   "metadata": {},
   "outputs": [],
   "source": [
    "def test_pointpillars(dataset_path, dataset_name, num_frames=200):\n",
    "    print('Evaluating dataset: ' + dataset_path)\n",
    "    # Get all TP, FP, and FN in the dataset\n",
    "    TPs, FPs, FNs, num_ground_truths, confidence_labels, time_per_frame = evaluate_dataset(dataset_path, num_frames)\n",
    "    # Get metrics\n",
    "    precision = TPs / (TPs + FPs) if TPs + FPs > 0 else 0\n",
    "    recall = TPs / (TPs + FNs) if TPs + FNs > 0 else 0\n",
    "    f1_score = 2 * (precision * recall) / (precision + recall) if (precision + recall) > 0 else 0\n",
    "    \n",
    "    # Placeholder for average precision calculation\n",
    "    precisions, recalls = calculate_precision_recall(confidence_labels, num_ground_truths)\n",
    "    average_precision = calculate_ap(precisions, recalls)\n",
    "\n",
    "    # Organize results into a dictionary\n",
    "    results = {\n",
    "        'Dataset': dataset_name,\n",
    "        'Precision': precision,\n",
    "        'Recall': recall,\n",
    "        'F1 Score': f1_score,\n",
    "        'Average Precision': average_precision,\n",
    "        'time_per_frame': time_per_frame\n",
    "    }\n",
    "    print(results)\n",
    "\n",
    "    return results"
   ]
  },
  {
   "cell_type": "code",
   "execution_count": 20,
   "id": "47f30b41",
   "metadata": {},
   "outputs": [],
   "source": [
    "%%capture\n",
    "# Run tests on ARCS\n",
    "results = test_pointpillars(ARCS_DATA_DIR, 'ARCS')"
   ]
  },
  {
   "cell_type": "code",
   "execution_count": 21,
   "id": "b427d58a",
   "metadata": {},
   "outputs": [],
   "source": [
    "%%capture\n",
    "# Run tests on ARCS filtered\n",
    "azimuth_filter_results = test_pointpillars(PREV_ARCS_AZIMUTH_FILTERED_DATA_DIR, 'Azimuth Filtered ARCS')"
   ]
  },
  {
   "cell_type": "code",
   "execution_count": 22,
   "id": "9881124e",
   "metadata": {},
   "outputs": [],
   "source": [
    "%%capture\n",
    "# Run tests on ARCS filtered\n",
    "new_filter_results = test_pointpillars(ARCS_AZIMUTH_FILTERED_DATA_DIR, 'New Azimuth Filtered ARCS')"
   ]
  },
  {
   "cell_type": "code",
   "execution_count": 23,
   "id": "4159272f",
   "metadata": {},
   "outputs": [],
   "source": [
    "%%capture\n",
    "# Run tests on ARCS label filtered\n",
    "label_filter_results = test_pointpillars(ARCS_LABEL_FILTERED_DATA_DIR, 'Label Filtered ARCS')"
   ]
  },
  {
   "cell_type": "code",
   "execution_count": 24,
   "id": "b703498d",
   "metadata": {},
   "outputs": [
    {
     "name": "stdout",
     "output_type": "stream",
     "text": [
      "['004015', '003064', '000521', '000536', '003144', '001019', '000559', '000524', '005158', '005155', '000540', '004291', '000444', '006444', '004225', '000545']\n"
     ]
    }
   ],
   "source": [
    "print(generated_problem_file_list)"
   ]
  },
  {
   "cell_type": "markdown",
   "id": "f030e4b0",
   "metadata": {},
   "source": [
    "## Show results"
   ]
  },
  {
   "cell_type": "code",
   "execution_count": 25,
   "id": "cb79b3af",
   "metadata": {},
   "outputs": [],
   "source": [
    "# print(results)\n",
    "# print(filter_results)\n",
    "# print(label_filter_results)"
   ]
  },
  {
   "cell_type": "code",
   "execution_count": 26,
   "id": "a0dbad4b",
   "metadata": {},
   "outputs": [
    {
     "data": {
      "text/html": [
       "<div>\n",
       "<style scoped>\n",
       "    .dataframe tbody tr th:only-of-type {\n",
       "        vertical-align: middle;\n",
       "    }\n",
       "\n",
       "    .dataframe tbody tr th {\n",
       "        vertical-align: top;\n",
       "    }\n",
       "\n",
       "    .dataframe thead th {\n",
       "        text-align: right;\n",
       "    }\n",
       "</style>\n",
       "<table border=\"1\" class=\"dataframe\">\n",
       "  <thead>\n",
       "    <tr style=\"text-align: right;\">\n",
       "      <th></th>\n",
       "      <th>Dataset</th>\n",
       "      <th>Precision</th>\n",
       "      <th>Recall</th>\n",
       "      <th>F1 Score</th>\n",
       "      <th>Average Precision</th>\n",
       "      <th>time_per_frame</th>\n",
       "    </tr>\n",
       "  </thead>\n",
       "  <tbody>\n",
       "    <tr>\n",
       "      <th>0</th>\n",
       "      <td>ARCS</td>\n",
       "      <td>0.578856</td>\n",
       "      <td>0.711395</td>\n",
       "      <td>0.638318</td>\n",
       "      <td>0.710330</td>\n",
       "      <td>0.294780</td>\n",
       "    </tr>\n",
       "    <tr>\n",
       "      <th>1</th>\n",
       "      <td>Azimuth Filtered ARCS</td>\n",
       "      <td>0.494920</td>\n",
       "      <td>0.726305</td>\n",
       "      <td>0.588692</td>\n",
       "      <td>0.725240</td>\n",
       "      <td>0.221031</td>\n",
       "    </tr>\n",
       "    <tr>\n",
       "      <th>2</th>\n",
       "      <td>New Azimuth Filtered ARCS</td>\n",
       "      <td>0.417274</td>\n",
       "      <td>0.792332</td>\n",
       "      <td>0.546657</td>\n",
       "      <td>0.791267</td>\n",
       "      <td>0.253043</td>\n",
       "    </tr>\n",
       "    <tr>\n",
       "      <th>3</th>\n",
       "      <td>Label Filtered ARCS</td>\n",
       "      <td>0.829834</td>\n",
       "      <td>0.808396</td>\n",
       "      <td>0.818975</td>\n",
       "      <td>0.807320</td>\n",
       "      <td>0.211034</td>\n",
       "    </tr>\n",
       "  </tbody>\n",
       "</table>\n",
       "</div>"
      ],
      "text/plain": [
       "                     Dataset  Precision    Recall  F1 Score  \\\n",
       "0                       ARCS   0.578856  0.711395  0.638318   \n",
       "1      Azimuth Filtered ARCS   0.494920  0.726305  0.588692   \n",
       "2  New Azimuth Filtered ARCS   0.417274  0.792332  0.546657   \n",
       "3        Label Filtered ARCS   0.829834  0.808396  0.818975   \n",
       "\n",
       "   Average Precision  time_per_frame  \n",
       "0           0.710330        0.294780  \n",
       "1           0.725240        0.221031  \n",
       "2           0.791267        0.253043  \n",
       "3           0.807320        0.211034  "
      ]
     },
     "metadata": {},
     "output_type": "display_data"
    }
   ],
   "source": [
    "# Create DataFrame\n",
    "results_df = pd.DataFrame([results, azimuth_filter_results, new_filter_results, label_filter_results])\n",
    "display(results_df)"
   ]
  },
  {
   "cell_type": "code",
   "execution_count": 27,
   "id": "572182fc",
   "metadata": {},
   "outputs": [
    {
     "name": "stdout",
     "output_type": "stream",
     "text": [
      "                  Dataset  Precision   Recall  F1 Score  Average Precision  time_per_frame\n",
      "                     ARCS   0.578856 0.711395  0.638318           0.710330        0.294780\n",
      "    Azimuth Filtered ARCS   0.494920 0.726305  0.588692           0.725240        0.221031\n",
      "New Azimuth Filtered ARCS   0.417274 0.792332  0.546657           0.791267        0.253043\n",
      "      Label Filtered ARCS   0.829834 0.808396  0.818975           0.807320        0.211034\n"
     ]
    }
   ],
   "source": [
    "print(results_df.to_string(index=False))"
   ]
  }
 ],
 "metadata": {
  "kernelspec": {
   "display_name": "Python 3 (ipykernel)",
   "language": "python",
   "name": "python3"
  },
  "language_info": {
   "codemirror_mode": {
    "name": "ipython",
    "version": 3
   },
   "file_extension": ".py",
   "mimetype": "text/x-python",
   "name": "python",
   "nbconvert_exporter": "python",
   "pygments_lexer": "ipython3",
   "version": "3.8.18"
  }
 },
 "nbformat": 4,
 "nbformat_minor": 5
}
