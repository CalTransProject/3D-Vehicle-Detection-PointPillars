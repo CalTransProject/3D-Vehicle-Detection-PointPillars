{
 "cells": [
  {
   "cell_type": "markdown",
   "id": "0ca590e6",
   "metadata": {},
   "source": [
    "# Make gif of labeled/predicted boxes over point clouds"
   ]
  },
  {
   "cell_type": "code",
   "execution_count": 232,
   "id": "0857ad3a",
   "metadata": {},
   "outputs": [],
   "source": [
    "# Get series of frames\n",
    "# For each frame\n",
    "    # Run inference\n",
    "    # Generate a plot\n",
    "    # Save the plot to a folder\n",
    "# Using PIL, make gif (also crop?)\n",
    "\n",
    "# First try just regular with labels\n",
    "# Then cropped/zoomed with labels\n",
    "# Then inferences\n",
    "# Then filtered"
   ]
  },
  {
   "cell_type": "code",
   "execution_count": 233,
   "id": "1c9e8ac5",
   "metadata": {},
   "outputs": [],
   "source": [
    "import numpy as np\n",
    "import pandas as pd\n",
    "from PIL import Image\n",
    "import os"
   ]
  },
  {
   "cell_type": "code",
   "execution_count": 234,
   "id": "7da7ea4d",
   "metadata": {},
   "outputs": [],
   "source": [
    "label_dir = ''\n",
    "bin_dir = ''\n",
    "image_save_dir = 'gif_images'"
   ]
  },
  {
   "cell_type": "code",
   "execution_count": 235,
   "id": "a6a8fd73",
   "metadata": {},
   "outputs": [],
   "source": [
    "def set_axes_limited(ax, limit=50):\n",
    "    # Set axes to a fixed range around the origin to limit view to +/- 'limit' meters.\n",
    "    ax.set_xlim3d([-limit, limit])\n",
    "    ax.set_ylim3d([-limit, limit])\n",
    "    ax.set_zlim3d([-limit, limit])"
   ]
  },
  {
   "cell_type": "code",
   "execution_count": 236,
   "id": "23836c6e",
   "metadata": {},
   "outputs": [],
   "source": [
    "def set_axes_equal(ax):\n",
    "    \"\"\"Make axes of 3D plot have equal scale so that spheres appear as spheres, cubes as cubes, etc.\"\"\"\n",
    "    x_limits = ax.get_xlim3d()\n",
    "    y_limits = ax.get_ylim3d()\n",
    "    z_limits = ax.get_zlim3d()\n",
    "\n",
    "    x_range = abs(x_limits[1] - x_limits[0])\n",
    "    x_middle = np.mean(x_limits)\n",
    "    y_range = abs(y_limits[1] - y_limits[0])\n",
    "    y_middle = np.mean(y_limits)\n",
    "    z_range = abs(z_limits[1] - z_limits[0])\n",
    "    z_middle = np.mean(z_limits)\n",
    "\n",
    "    box_size = max([x_range, y_range, z_range]) / 2.0\n",
    "\n",
    "    ax.set_xlim3d([x_middle - box_size, x_middle + box_size])\n",
    "    ax.set_ylim3d([y_middle - box_size, y_middle + box_size])\n",
    "    ax.set_zlim3d([z_middle - box_size, z_middle + box_size])"
   ]
  },
  {
   "cell_type": "code",
   "execution_count": 237,
   "id": "f4f1598f",
   "metadata": {},
   "outputs": [],
   "source": [
    "def convert_to_dataframe(bin_path):\n",
    "    pre_filtered_data = np.fromfile(bin_path, dtype=np.float32).reshape(-1, 4) \n",
    "    columns = ['x', 'y', 'z', 'intensity']\n",
    "    df = pd.DataFrame(pre_filtered_data, columns=columns)\n",
    "    return df"
   ]
  },
  {
   "cell_type": "code",
   "execution_count": 238,
   "id": "45d9b2e4",
   "metadata": {},
   "outputs": [],
   "source": [
    "def read_kitti_labels(label_path):\n",
    "    bboxes = []\n",
    "    with open(label_path, 'r') as file:\n",
    "        for line in file:\n",
    "            parts = line.strip().split()\n",
    "            if parts[0] != 'DontCare':\n",
    "                bbox = [float(value) for value in parts[8:15]]  # Extract the bounding box dimensions and location\n",
    "                bboxes.append(bbox)\n",
    "    return np.array(bboxes)"
   ]
  },
  {
   "cell_type": "code",
   "execution_count": 239,
   "id": "906449b2",
   "metadata": {},
   "outputs": [],
   "source": [
    "# Function to plot the bounding box\n",
    "def plot_bbox(ax, bbox, color):\n",
    "    \n",
    "    x, y, z, dx, dy, dz, yaw = bbox\n",
    "\n",
    "    \n",
    "    corners = np.array([\n",
    "        [x - dx/2, y - dy/2, z - dz/2],\n",
    "        [x + dx/2, y - dy/2, z - dz/2],\n",
    "        [x + dx/2, y + dy/2, z - dz/2],\n",
    "        [x - dx/2, y + dy/2, z - dz/2],\n",
    "        [x - dx/2, y - dy/2, z + dz/2],\n",
    "        [x + dx/2, y - dy/2, z + dz/2],\n",
    "        [x + dx/2, y + dy/2, z + dz/2],\n",
    "        [x - dx/2, y + dy/2, z + dz/2]\n",
    "    ])\n",
    "    \n",
    "\n",
    "    # Rotate corners around the Z-axis (around their centers)\n",
    "    rotation_matrix = np.array([\n",
    "        [np.cos(yaw), -np.sin(yaw), 0],\n",
    "        [np.sin(yaw),  np.cos(yaw), 0],\n",
    "        [0,            0,           1]\n",
    "    ])\n",
    "\n",
    "    # # Adjust the corners to be about the origin for rotation, then add the [x, y, z] back after rotation\n",
    "    corners = corners - np.array([x, y, z])\n",
    "    corners = np.dot(corners, rotation_matrix.T)\n",
    "    corners += np.array([x, y, z])\n",
    "    \n",
    "    # Define the edges of the bounding box\n",
    "    edges = [\n",
    "        (0, 1), (1, 2), (2, 3), (3, 0),\n",
    "        (4, 5), (5, 6), (6, 7), (7, 4),\n",
    "        (0, 4), (1, 5), (2, 6), (3, 7)\n",
    "    ]\n",
    "    # Plot the edges\n",
    "    for edge in edges:\n",
    "        ax.plot3D(*zip(corners[edge[0]], corners[edge[1]]), color=color, linewidth=1)"
   ]
  },
  {
   "cell_type": "code",
   "execution_count": 240,
   "id": "3c5b6db4",
   "metadata": {},
   "outputs": [],
   "source": [
    "def plot_frame(bin_path, label_path, index, offset):\n",
    "    # Set up the plot\n",
    "    fig = plt.figure(figsize=(30, 30))\n",
    "\n",
    "    ax = fig.add_subplot(111, projection='3d')\n",
    "\n",
    "    points = convert_to_dataframe(bin_path)\n",
    "    ax.scatter(points['x'], points['y'], points['z'], s=0.1, c=points['intensity'], cmap='viridis', marker=',')\n",
    "\n",
    "    for bbox in read_kitti_labels(label_path):\n",
    "        plot_bbox(ax, bbox, 'b')\n",
    "\n",
    "    # Setting axes properties\n",
    "    ax.set_xlabel('X')\n",
    "    ax.set_ylabel('Y')\n",
    "    ax.set_zlabel('Z')\n",
    "    set_axes_equal(ax)\n",
    "\n",
    "    # Setting axes properties with a limited range\n",
    "    set_axes_limited(ax)\n",
    "\n",
    "    # Adjust the view angle if needed\n",
    "    ax.view_init(elev=45, azim=210)\n",
    "\n",
    "    \n",
    "\n",
    "    # Save the figure\n",
    "    fig.savefig(f'{image_save_dir}/{int(index) + offset:06d}.png', dpi=300)\n",
    "    plt.close()"
   ]
  },
  {
   "cell_type": "code",
   "execution_count": 241,
   "id": "56d02d1f",
   "metadata": {},
   "outputs": [],
   "source": [
    "def get_file_indices(start_index, until_index):\n",
    "    return [f'{i:06d}' for i in range(start_index, until_index)]"
   ]
  },
  {
   "cell_type": "code",
   "execution_count": 242,
   "id": "120ab0f4",
   "metadata": {},
   "outputs": [],
   "source": [
    "def create_and_save_plot(bin_path, label_path, index, offset=0):\n",
    "    plot_frame(bin_path, label_path, index, offset)"
   ]
  },
  {
   "cell_type": "code",
   "execution_count": 243,
   "id": "16361f49",
   "metadata": {},
   "outputs": [],
   "source": [
    "def assemble_gif(image_save_dir, output_path=\"output.gif\", duration=500, crop_box=None):\n",
    "    \"\"\"\n",
    "    Create a GIF from sequentially numbered PNG files.\n",
    "    \n",
    "    Args:\n",
    "        image_save_dir (str): Directory containing the numbered PNG files\n",
    "        output_path (str): Where to save the resulting GIF\n",
    "        duration (int): Duration for each frame in milliseconds\n",
    "    \"\"\"\n",
    "    # Get all png files and sort them numerically\n",
    "    files = [f for f in os.listdir(image_save_dir) if f.endswith('.png')]\n",
    "    # This will work because files are zero-padded\n",
    "    files.sort()  \n",
    "    \n",
    "    # Open all images\n",
    "    images = []\n",
    "    for filename in files:\n",
    "        file_path = os.path.join(image_save_dir, filename)\n",
    "        img = Image.open(file_path)\n",
    "        \n",
    "        # Crop if crop_box is specified\n",
    "        if crop_box is not None:\n",
    "            img = img.crop(crop_box)\n",
    "        \n",
    "        images.append(img)\n",
    "    \n",
    "    if images:\n",
    "        # Save the GIF\n",
    "        images[0].save(\n",
    "            output_path,\n",
    "            save_all=True,\n",
    "            append_images=images[1:],\n",
    "            duration=duration,\n",
    "            loop=0\n",
    "        )\n",
    "        print(f\"gif created successfully at: {output_path}\")\n",
    "    else:\n",
    "        print(\"No png files found in directory\")"
   ]
  },
  {
   "cell_type": "code",
   "execution_count": 244,
   "id": "6417862d",
   "metadata": {},
   "outputs": [],
   "source": [
    "def get_crop_box(image_path, crop_percentages):\n",
    "    \"\"\"\n",
    "    Calculate pixel coordinates for cropping based on percentages.\n",
    "    \n",
    "    Args:\n",
    "        image_path (str): Path to an image file to get dimensions from\n",
    "        crop_percentages (dict): Dictionary with percentages to crop from each edge\n",
    "            e.g., {'top': 10, 'bottom': 10, 'left': 20, 'right': 20}\n",
    "    \n",
    "    Returns:\n",
    "        tuple: (left, top, right, bottom) coordinates for PIL's crop function\n",
    "    \"\"\"\n",
    "    # Open image and get size\n",
    "    with Image.open(image_path) as img:\n",
    "        width, height = img.size\n",
    "    \n",
    "    # Calculate pixels to crop from each edge\n",
    "    left_crop = int(width * crop_percentages.get('left', 0) / 100)\n",
    "    right_crop = int(width * crop_percentages.get('right', 0) / 100)\n",
    "    top_crop = int(height * crop_percentages.get('top', 0) / 100)\n",
    "    bottom_crop = int(height * crop_percentages.get('bottom', 0) / 100)\n",
    "    \n",
    "    # Calculate final coordinates\n",
    "    left = left_crop\n",
    "    top = top_crop\n",
    "    right = width - right_crop\n",
    "    bottom = height - bottom_crop\n",
    "    \n",
    "    return (left, top, right, bottom)"
   ]
  },
  {
   "cell_type": "code",
   "execution_count": 245,
   "id": "b2862df0",
   "metadata": {},
   "outputs": [],
   "source": [
    "def make_gif(start_frame, until_frame):\n",
    "    # Make file indices\n",
    "    indices = get_file_indices(start_frame, until_frame)\n",
    "    # For each file index\n",
    "    for index in indices:\n",
    "        # Make bin path\n",
    "        bin_path = f'../../data/eval_data/arcs/{index}.bin'\n",
    "        # Make .txt path\n",
    "        label_path = f'../../data/eval_data/labels/{index}.txt'\n",
    "        # Make plot images\n",
    "        create_and_save_plot(bin_path, label_path, index)\n",
    "        \n",
    "    # Then add on filtered data\n",
    "    for index in indices:\n",
    "        # Make bin path\n",
    "        bin_path = f'../../data/eval_data/arcs_height_filtered/{index}.bin'\n",
    "        # Make .txt path\n",
    "        label_path = f'../../data/eval_data/labels/{index}.txt'\n",
    "        # Make plot images\n",
    "        create_and_save_plot(bin_path, label_path, index, offset=until_frame)\n",
    "        \n",
    "    first_image = os.path.join(image_save_dir, \"000000.png\")\n",
    "    crop_percentages = {\n",
    "        'top': 30,\n",
    "        'bottom': 45,\n",
    "        'left': 33,\n",
    "        'right': 33\n",
    "    }\n",
    "\n",
    "    assemble_gif(\n",
    "        image_save_dir,\n",
    "        output_path=\"cropped_animation.gif\",\n",
    "        duration=150,\n",
    "        crop_box=get_crop_box(first_image, crop_percentages)\n",
    "    )"
   ]
  },
  {
   "cell_type": "code",
   "execution_count": 246,
   "id": "53bfbe77",
   "metadata": {},
   "outputs": [
    {
     "name": "stdout",
     "output_type": "stream",
     "text": [
      "gif created successfully at: cropped_animation.gif\n"
     ]
    }
   ],
   "source": [
    "make_gif(0, 40)"
   ]
  }
 ],
 "metadata": {
  "kernelspec": {
   "display_name": "Python 3 (ipykernel)",
   "language": "python",
   "name": "python3"
  },
  "language_info": {
   "codemirror_mode": {
    "name": "ipython",
    "version": 3
   },
   "file_extension": ".py",
   "mimetype": "text/x-python",
   "name": "python",
   "nbconvert_exporter": "python",
   "pygments_lexer": "ipython3",
   "version": "3.8.18"
  }
 },
 "nbformat": 4,
 "nbformat_minor": 5
}
