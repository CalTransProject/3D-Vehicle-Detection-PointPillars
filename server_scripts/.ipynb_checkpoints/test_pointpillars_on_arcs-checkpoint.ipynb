{
 "cells": [
  {
   "cell_type": "markdown",
   "id": "fa9501ae",
   "metadata": {},
   "source": [
    "# Test PointPillars on ARCS data"
   ]
  },
  {
   "cell_type": "code",
   "execution_count": 219,
   "id": "f9487a1d",
   "metadata": {},
   "outputs": [],
   "source": [
    "# Libraries\n",
    "import bbox\n",
    "import itertools\n",
    "import math\n",
    "import os\n",
    "import random\n",
    "import sys\n",
    "import time\n",
    "import numpy as np\n",
    "import pandas as pd\n",
    "from contextlib import redirect_stdout\n",
    "from mmdet3d.apis import LidarDet3DInferencer\n",
    "from pathlib import Path"
   ]
  },
  {
   "cell_type": "code",
   "execution_count": 220,
   "id": "df4d9c57",
   "metadata": {},
   "outputs": [
    {
     "name": "stdout",
     "output_type": "stream",
     "text": [
      "Loads checkpoint by http backend from path: https://download.openmmlab.com/mmdetection3d/v1.0.0_models/pointpillars/hv_pointpillars_secfpn_6x8_160e_kitti-3d-3class/hv_pointpillars_secfpn_6x8_160e_kitti-3d-3class_20220301_150306-37dc2420.pth\n"
     ]
    },
    {
     "name": "stderr",
     "output_type": "stream",
     "text": [
      "/home/rachel/mmdetection3d/mmdet3d/models/dense_heads/anchor3d_head.py:94: UserWarning: dir_offset and dir_limit_offset will be depressed and be incorporated into box coder in the future\n",
      "  warnings.warn(\n",
      "/home/rachel/miniconda3/envs/openmm_mmvc/lib/python3.8/site-packages/mmengine/visualization/visualizer.py:196: UserWarning: Failed to add <class 'mmengine.visualization.vis_backend.LocalVisBackend'>, please provide the `save_dir` argument.\n",
      "  warnings.warn(f'Failed to add {vis_backend.__class__}, '\n"
     ]
    }
   ],
   "source": [
    "# Initialize inferencer\n",
    "inferencer = LidarDet3DInferencer('pointpillars_kitti-3class')"
   ]
  },
  {
   "cell_type": "code",
   "execution_count": 221,
   "id": "c83c863d",
   "metadata": {},
   "outputs": [],
   "source": [
    "# Directory paths\n",
    "ARCS_LABELS = '../data/eval_data/labels'\n",
    "ARCS_DATA_DIR = '../data/eval_data/arcs'\n",
    "ARCS_DISTANCE_FILTERED_DATA_DIR = '../data/eval_data/arcs_distance_filtered'\n",
    "ARCS_HEIGHT_FILTERED_DATA_DIR = '../data/eval_data/arcs_height_filtered'\n",
    "ARCS_LABEL_FILTERED_DATA_DIR = '../data/eval_data/arcs_label_filtered'"
   ]
  },
  {
   "cell_type": "code",
   "execution_count": 222,
   "id": "55e363c1",
   "metadata": {},
   "outputs": [],
   "source": [
    "# Directory paths\n",
    "# ARCS_LABELS = '../data/eval_data/labels'\n",
    "# ARCS_DATA_DIR = '../data/pcap_filter_data/arcs_pcap_unfiltered'\n",
    "# PREV_ARCS_AZIMUTH_FILTERED_DATA_DIR = '../data/pcap_filter_data/arcs_pcap_filter'\n",
    "# ARCS_AZIMUTH_FILTERED_DATA_DIR = '../data/eval_data/arcs_azimuth_filtered'\n",
    "# ARCS_LABEL_FILTERED_DATA_DIR = '../data/eval_data/arcs_label_filtered'"
   ]
  },
  {
   "cell_type": "markdown",
   "id": "b0f14b46",
   "metadata": {},
   "source": [
    "## Evaluation functions"
   ]
  },
  {
   "cell_type": "code",
   "execution_count": 223,
   "id": "d48103d5",
   "metadata": {},
   "outputs": [],
   "source": [
    "# The 3D bbox object requires quaternion values. This function converts the yaw to these values\n",
    "def yaw_to_quaternion(yaw):\n",
    "    \"\"\"\n",
    "    Converts a yaw angle (rotation about the z-axis) to quaternion coordinates.\n",
    "    \n",
    "    Parameters:\n",
    "    - yaw (float): The yaw angle in radians.\n",
    "    \n",
    "    Returns:\n",
    "    - tuple of (rw, rx, ry, rz): The quaternion representation of the yaw.\n",
    "    \"\"\"\n",
    "    # Compute the components of the quaternion\n",
    "    rw = math.cos(yaw / 2.0)\n",
    "    rz = math.sin(yaw / 2.0)\n",
    "    \n",
    "    # rx and ry are zero because the rotation is only about the z-axis\n",
    "    return (rw, 0, 0, rz)"
   ]
  },
  {
   "cell_type": "code",
   "execution_count": 224,
   "id": "127142a5",
   "metadata": {},
   "outputs": [],
   "source": [
    "# This function takes x, y, z, dx, dy, dz, yaw and returns a 3D bbox object from the bbox package\n",
    "# Yaw is in radians\n",
    "def get3DBbox(x, y, z, dx, dy, dz, yaw):\n",
    "    # Example usage:\n",
    "    rw, rx, ry, rz = yaw_to_quaternion(yaw)\n",
    "    bbox_obj = bbox.BBox3D(x, y, z, length=dx, width=dy, height=dz, rw=rw, rx=rx, ry=ry, rz=rz)\n",
    "    return bbox_obj"
   ]
  },
  {
   "cell_type": "code",
   "execution_count": 225,
   "id": "c64892fb",
   "metadata": {},
   "outputs": [],
   "source": [
    "# Takes two bounding boxes, returns the IoU\n",
    "def calculate_iou(bbox1, bbox2):\n",
    "    bbox_obj1 = get3DBbox(*bbox1)\n",
    "    bbox_obj2 = get3DBbox(*bbox2)\n",
    "    return bbox.metrics.jaccard_index_3d(bbox_obj1, bbox_obj2)"
   ]
  },
  {
   "cell_type": "code",
   "execution_count": 226,
   "id": "306ec6c5",
   "metadata": {},
   "outputs": [],
   "source": [
    "evaluation_area = [21.0175, 11.717, -0.3925, 40.035, 55.9349, 7.535, 0.5]"
   ]
  },
  {
   "cell_type": "code",
   "execution_count": 227,
   "id": "dac43616",
   "metadata": {},
   "outputs": [],
   "source": [
    "# Returns true if the pending box overlaps the evaluation area\n",
    "def is_in_eval_area(pending_bbox):\n",
    "    iou = calculate_iou(evaluation_area, pending_bbox)\n",
    "    if iou > 0:\n",
    "        return True\n",
    "    return False\n",
    "#     return True"
   ]
  },
  {
   "cell_type": "code",
   "execution_count": 228,
   "id": "8ab78e44",
   "metadata": {},
   "outputs": [],
   "source": [
    "# _evaluate frame takes a prediction dictionary output by the model, and a list of ground truths\n",
    "# from the label file, and returns the TPs, FPs, and FNs for one lidar frame\n",
    "def _evaluate_frame(predictions, ground_truths, iou_threshold=0.20):\n",
    "    TPs, FPs, FNs = 0, 0, len(ground_truths)\n",
    "    used_gt = set()\n",
    "    confidence_labels = []\n",
    "    \n",
    "    for pred in predictions['predictions']:\n",
    "        for label, score, bbox in zip(pred['labels_3d'], pred['scores_3d'], pred['bboxes_3d']):\n",
    "            # Only count the prediction if it's within the evaluation area\n",
    "            if is_in_eval_area(bbox):\n",
    "                best_iou = 0\n",
    "                best_gt = None\n",
    "                for gt in ground_truths:\n",
    "                    iou = calculate_iou(bbox, gt[8:])\n",
    "                    if iou > best_iou:\n",
    "                        best_iou = iou\n",
    "                        best_gt = tuple(gt)\n",
    "\n",
    "                if best_iou > iou_threshold:\n",
    "                    if best_gt not in used_gt:\n",
    "                        used_gt.add(best_gt)\n",
    "                        TPs += 1\n",
    "                        FNs -= 1\n",
    "                        confidence_labels.append((score, 1))\n",
    "                else:\n",
    "                    FPs += 1\n",
    "                    confidence_labels.append((score, 0))\n",
    "\n",
    "    return TPs, FPs, FNs, confidence_labels"
   ]
  },
  {
   "cell_type": "code",
   "execution_count": 229,
   "id": "17acf892",
   "metadata": {},
   "outputs": [],
   "source": [
    "def parse_ground_truths(label_path):\n",
    "    labels = []\n",
    "    with open(label_path, 'r') as file:\n",
    "        for line in file:\n",
    "            parts = line.strip().split()\n",
    "            bbox = []\n",
    "            # Add the category as a string\n",
    "            bbox.append(parts[0])\n",
    "            # Extract the bounding box dimensions and location as \n",
    "            bbox = bbox + [float(value) for value in parts[1:15]]  \n",
    "            bbox[2] = int(bbox[2])\n",
    "            # Only include the bbox if it's in the evaluation area\n",
    "            if is_in_eval_area(bbox[8:]):\n",
    "                labels.append(bbox)\n",
    "    return labels"
   ]
  },
  {
   "cell_type": "code",
   "execution_count": 230,
   "id": "4d0c97d5",
   "metadata": {},
   "outputs": [],
   "source": [
    "generated_problem_file_list = []"
   ]
  },
  {
   "cell_type": "code",
   "execution_count": 231,
   "id": "2474084e",
   "metadata": {},
   "outputs": [],
   "source": [
    "# _evaluate frame takes a lidar and label file path and\n",
    "# and returns the TPs, FPs, and FNs for one lidar frame\n",
    "def evaluate_frame(lidar_file_path, label_file_path):\n",
    "    inputs = dict(points=str(lidar_file_path))\n",
    "    \n",
    "    # Get predictions\n",
    "    try:\n",
    "        predictions = inferencer(inputs)\n",
    "            # Get ground truths\n",
    "        ground_truths = parse_ground_truths(label_file_path)\n",
    "        num_ground_truths = len(ground_truths)\n",
    "\n",
    "        TPs, FPs, FNs, confidence_labels = _evaluate_frame(predictions, ground_truths)\n",
    "    except:\n",
    "        # Add file id to the problem file list\n",
    "        print(str(lidar_file_path))\n",
    "        lidar_filename = os.path.basename(lidar_file_path)\n",
    "        file_id, extension = os.path.splitext(lidar_filename)\n",
    "        generated_problem_file_list.append(file_id)\n",
    "        TPs, FPs, FNs, num_ground_truths, confidence_labels = 0, 0, 0, 0, []\n",
    "    \n",
    "    return TPs, FPs, FNs, num_ground_truths, confidence_labels"
   ]
  },
  {
   "cell_type": "code",
   "execution_count": 232,
   "id": "e35c8de6",
   "metadata": {},
   "outputs": [],
   "source": [
    "# Problem files. I'll find out why later\n",
    "problem_file_ids = ['006437', '005158', '001010', '004928', '000522', '000444', '000863', '004251', \n",
    "                    '000523', '000443', '000530', '000520', '006436', '004344', '000535', '004223', \n",
    "                    '001016', '000552', '004287', '004226', '004289', '001032', '000767', '003395', \n",
    "                    '005319', '000554', '004227', '004012', '000445', '000524', '001023', '005317', \n",
    "                    '004346', '000548', '000558', '001026', '004345', '000537', '000531', '000526', \n",
    "                    '000549', '001022', '004926', '000664', '003438', '004229', '000553', '001027', \n",
    "                    '000532', '003399', '003066', '004930']"
   ]
  },
  {
   "cell_type": "code",
   "execution_count": 233,
   "id": "6bb44482",
   "metadata": {},
   "outputs": [],
   "source": [
    "def print_summary(list_file_ids):\n",
    "    for id in list_file_ids:\n",
    "        print(f'\\n_____________________________________________________________')\n",
    "        \n",
    "        file_path = f'{ARCS_LABEL_FILTERED_DATA_DIR}/{id}.bin'\n",
    "        label_path = f'{ARCS_LABELS}/{id}.txt' \n",
    "\n",
    "        # Open point cloud file\n",
    "        points = np.fromfile(file_path, dtype=np.float32).reshape(-1, 4)\n",
    "        df_points = pd.DataFrame(points, columns=['x', 'y', 'z', 'intensity'])\n",
    "\n",
    "        # Print the DataFrame summary\n",
    "        print(f\"Summary for file ID {id}:\")\n",
    "        print('length: ' + str(len(df_points)))\n",
    "        print(\"DataFrame Info:\")\n",
    "        df_points.info()\n",
    "        print(\"\\nDataFrame Description:\")\n",
    "        print(df_points.describe())\n",
    "        print(f'\\nlabels:')\n",
    "        # Print labels\n",
    "        with open(label_path, 'r') as file:\n",
    "            for line in file:\n",
    "                print(line)"
   ]
  },
  {
   "cell_type": "markdown",
   "id": "1afe0d5c",
   "metadata": {},
   "source": [
    "## Metrics calculation functions"
   ]
  },
  {
   "cell_type": "code",
   "execution_count": 234,
   "id": "61392321",
   "metadata": {},
   "outputs": [],
   "source": [
    "def calculate_precision_recall(predictions, num_ground_truths):\n",
    "    # Sort by confidence score in descending order\n",
    "    predictions.sort(key=lambda x: x[0], reverse=True)\n",
    "    \n",
    "    tp = 0\n",
    "    fp = 0\n",
    "    total_positives = sum(is_tp for _, is_tp in predictions)\n",
    "    \n",
    "    precisions = []\n",
    "    recalls = []\n",
    "    \n",
    "    for conf, is_tp in predictions:\n",
    "        if is_tp:\n",
    "            tp += 1\n",
    "        else:\n",
    "            fp += 1\n",
    "        \n",
    "        precision = tp / (tp + fp)\n",
    "        recall = tp / num_ground_truths\n",
    "        \n",
    "        precisions.append(precision)\n",
    "        recalls.append(recall)\n",
    "    \n",
    "    return precisions, recalls"
   ]
  },
  {
   "cell_type": "code",
   "execution_count": 235,
   "id": "7e6eb127",
   "metadata": {},
   "outputs": [],
   "source": [
    "def calculate_ap(precisions, recalls):\n",
    "    # Calculate AP using the trapezoidal rule to compute the area under the curve\n",
    "    ap = 0\n",
    "    for i in range(1, len(recalls)):\n",
    "        ap += (recalls[i] - recalls[i-1]) * (precisions[i] + precisions[i-1]) / 2\n",
    "    return ap"
   ]
  },
  {
   "cell_type": "code",
   "execution_count": 236,
   "id": "492f341b",
   "metadata": {},
   "outputs": [
    {
     "name": "stdout",
     "output_type": "stream",
     "text": [
      "['002528.bin', '001818.bin', '001622.bin', '001464.bin', '005480.bin', '003275.bin', '002541.bin', '002578.bin', '000877.bin', '006299.bin', '001767.bin', '000552.bin', '004996.bin', '002447.bin', '005813.bin', '004433.bin', '004287.bin', '005875.bin', '004297.bin', '003611.bin', '005700.bin', '002608.bin', '003682.bin', '000007.bin', '002491.bin', '002376.bin', '001318.bin', '001179.bin', '005932.bin', '001806.bin', '002560.bin', '004226.bin', '001371.bin', '002843.bin', '001061.bin', '000349.bin', '005455.bin', '005507.bin', '000834.bin', '001764.bin', '003150.bin', '004289.bin', '001125.bin', '002177.bin', '004427.bin', '002248.bin', '001956.bin', '004671.bin', '002213.bin', '002069.bin', '004675.bin', '000137.bin', '006093.bin', '001677.bin', '001757.bin', '002927.bin', '005953.bin', '001339.bin', '006057.bin', '006283.bin', '004405.bin', '004802.bin', '004076.bin', '006230.bin', '004811.bin', '001923.bin', '000690.bin', '002056.bin', '003402.bin', '001138.bin', '002115.bin', '001052.bin', '001503.bin', '001105.bin', '006161.bin', '002164.bin', '001612.bin', '006039.bin', '001261.bin', '006345.bin', '000790.bin', '002495.bin', '004611.bin', '001600.bin', '004028.bin', '003082.bin', '002772.bin', '002776.bin', '000814.bin', '004257.bin', '004954.bin', '002271.bin', '003176.bin', '004656.bin', '002362.bin', '000381.bin', '001032.bin', '005639.bin', '000785.bin', '005827.bin', '003084.bin', '005328.bin', '000680.bin', '005781.bin', '004606.bin', '001438.bin', '005759.bin', '001821.bin', '001171.bin', '004070.bin', '002915.bin', '001346.bin', '002604.bin', '003199.bin', '004066.bin', '005651.bin', '002914.bin', '002331.bin', '003743.bin', '000767.bin', '003408.bin', '002020.bin', '003819.bin', '002781.bin', '006052.bin', '002279.bin', '001288.bin', '002489.bin', '001320.bin', '003235.bin', '005941.bin', '002827.bin', '003229.bin', '006255.bin', '004734.bin', '006356.bin', '002669.bin', '001762.bin', '004797.bin', '004949.bin', '002815.bin', '005771.bin', '000245.bin', '004060.bin', '004267.bin', '000192.bin', '002203.bin', '003189.bin', '002473.bin', '005463.bin', '005534.bin', '001093.bin', '001224.bin', '001282.bin', '001200.bin', '003815.bin', '001687.bin', '002065.bin', '004303.bin', '005670.bin', '000892.bin', '005800.bin', '004019.bin', '003673.bin', '002877.bin', '001743.bin', '005343.bin', '005691.bin', '004368.bin', '002368.bin', '003679.bin', '001116.bin', '001312.bin', '004618.bin', '000467.bin', '001163.bin', '000802.bin', '000249.bin', '005244.bin', '004728.bin', '004381.bin', '002925.bin', '000686.bin', '003746.bin', '000697.bin', '001068.bin', '001433.bin', '003222.bin', '004260.bin', '005689.bin', '001936.bin', '002884.bin', '004085.bin', '000367.bin', '001449.bin', '002389.bin', '002600.bin', '002043.bin', '002957.bin', '000186.bin', '005664.bin', '001300.bin', '001864.bin', '003231.bin', '004410.bin', '004131.bin', '005370.bin', '003821.bin', '005683.bin', '001718.bin', '006268.bin', '004666.bin', '001327.bin', '006121.bin', '004952.bin', '004934.bin', '002209.bin', '000033.bin', '002130.bin', '002708.bin', '006026.bin', '006256.bin', '000341.bin', '005401.bin', '001379.bin', '002784.bin', '005335.bin', '000026.bin', '001749.bin', '001515.bin', '004422.bin', '006335.bin', '004097.bin', '002449.bin', '000072.bin', '003395.bin', '001333.bin', '004672.bin', '005319.bin', '006323.bin', '005918.bin', '000782.bin', '000096.bin', '006199.bin', '003421.bin', '000554.bin', '004402.bin', '002565.bin', '004596.bin', '003266.bin', '004577.bin', '002796.bin', '005971.bin', '003466.bin', '001169.bin', '000211.bin', '005359.bin', '001313.bin', '000693.bin', '004384.bin', '002078.bin', '001210.bin', '005952.bin', '005737.bin', '000789.bin', '000374.bin', '003424.bin', '000048.bin', '000462.bin', '001136.bin', '002694.bin', '004700.bin', '005675.bin', '003403.bin', '006197.bin', '003068.bin', '001959.bin', '002636.bin', '002030.bin', '000889.bin', '001735.bin', '005278.bin', '001121.bin', '006000.bin', '001234.bin', '001541.bin', '004992.bin', '001413.bin', '004383.bin', '003826.bin', '003417.bin', '003830.bin', '001321.bin', '000035.bin', '004024.bin', '002357.bin', '002149.bin', '006378.bin', '000151.bin', '004936.bin', '002283.bin', '003425.bin', '000014.bin', '002023.bin', '000846.bin', '004686.bin', '001317.bin', '006375.bin', '000832.bin', '006134.bin', '001686.bin', '000106.bin', '001646.bin', '001829.bin', '000031.bin', '004436.bin', '005291.bin', '001830.bin', '003152.bin', '002829.bin', '001769.bin', '002326.bin', '000873.bin', '000190.bin', '005621.bin', '002824.bin', '005496.bin', '004614.bin', '000842.bin', '001374.bin', '002753.bin', '003822.bin', '005785.bin', '006097.bin', '004735.bin', '001074.bin', '006187.bin', '002151.bin', '000355.bin', '004227.bin', '005608.bin', '006198.bin', '004673.bin', '001332.bin', '005346.bin', '000729.bin', '003458.bin', '004677.bin', '004445.bin', '002554.bin', '003851.bin', '005178.bin', '003853.bin', '000053.bin', '002771.bin', '006065.bin', '002147.bin', '005620.bin', '005925.bin', '002461.bin', '002351.bin', '000387.bin', '005992.bin', '002890.bin', '003164.bin', '004704.bin', '002096.bin', '005250.bin', '005720.bin', '005011.bin', '004630.bin', '000333.bin', '000144.bin', '005622.bin', '003257.bin', '004367.bin', '002841.bin', '003251.bin', '005743.bin', '003759.bin', '000202.bin', '002654.bin', '000009.bin', '000037.bin', '001671.bin', '005978.bin', '002872.bin', '005510.bin', '005702.bin', '000321.bin', '005253.bin', '005699.bin', '004244.bin', '004262.bin', '004707.bin', '004697.bin', '000020.bin', '003841.bin', '002653.bin', '003214.bin', '004012.bin', '000460.bin', '001279.bin', '001176.bin', '000080.bin', '001825.bin', '002245.bin', '002705.bin', '002531.bin', '002228.bin', '001723.bin', '001289.bin', '003736.bin', '002456.bin', '000354.bin', '005960.bin', '006365.bin', '005964.bin', '004140.bin', '006269.bin', '001432.bin', '004820.bin', '002396.bin', '003208.bin', '002232.bin', '003262.bin', '001482.bin', '005897.bin', '005811.bin', '004460.bin', '004993.bin', '001572.bin', '006297.bin', '006032.bin', '005704.bin', '005645.bin', '000042.bin', '001423.bin', '002098.bin', '001740.bin', '003843.bin', '003580.bin', '002853.bin', '004403.bin', '006324.bin', '002820.bin', '001196.bin', '001336.bin', '002573.bin', '002862.bin', '004261.bin', '003588.bin', '000673.bin', '002140.bin', '001102.bin', '000445.bin', '006017.bin', '002502.bin', '001448.bin', '006331.bin', '000352.bin', '000524.bin', '006322.bin', '000676.bin', '001023.bin', '006360.bin', '005631.bin', '000175.bin', '006363.bin', '001308.bin', '006047.bin', '000205.bin', '006290.bin', '002071.bin', '005598.bin', '004738.bin', '004546.bin', '006174.bin', '004548.bin', '004116.bin', '004487.bin', '005686.bin', '002184.bin', '003742.bin', '002809.bin', '000871.bin', '000225.bin', '002952.bin', '005871.bin', '005814.bin', '005317.bin', '001811.bin', '005860.bin', '002215.bin', '001709.bin', '002697.bin', '005728.bin', '001626.bin', '001323.bin', '002526.bin', '003807.bin', '002682.bin', '000272.bin', '004314.bin', '005826.bin', '006031.bin', '002680.bin', '004828.bin', '002240.bin', '002937.bin', '002109.bin', '000891.bin', '002328.bin', '001219.bin', '005832.bin', '004571.bin', '000299.bin', '000146.bin', '001962.bin', '002702.bin', '000274.bin', '004657.bin', '001249.bin', '001964.bin', '002445.bin', '006259.bin', '006112.bin', '001454.bin', '000252.bin', '001185.bin', '005329.bin', '004305.bin', '001390.bin', '005459.bin', '004088.bin', '001878.bin', '005285.bin', '001182.bin', '005012.bin', '003590.bin', '000056.bin', '004806.bin', '001672.bin', '005249.bin', '004119.bin', '002856.bin', '002041.bin', '005004.bin', '002594.bin', '002060.bin', '004346.bin', '004665.bin', '002837.bin', '000548.bin', '005605.bin', '003170.bin', '000222.bin', '001553.bin', '000344.bin', '001181.bin', '004451.bin', '000410.bin', '003149.bin', '004498.bin', '001708.bin', '002270.bin', '001509.bin', '000208.bin', '001134.bin', '006105.bin', '004989.bin', '001817.bin', '005243.bin', '002838.bin', '002157.bin', '003186.bin', '000804.bin', '001356.bin', '004660.bin', '001144.bin', '001465.bin', '004573.bin', '001511.bin', '000362.bin', '003842.bin', '004943.bin', '006157.bin', '001885.bin', '004375.bin', '003400.bin', '002097.bin', '004551.bin', '001372.bin', '001197.bin', '005806.bin', '000350.bin', '000308.bin', '000262.bin', '000283.bin', '001338.bin', '001256.bin', '001573.bin', '001405.bin', '000558.bin', '002207.bin', '004272.bin', '002106.bin', '004447.bin', '001026.bin', '001832.bin', '005325.bin', '001664.bin', '004345.bin', '003800.bin', '003868.bin', '004682.bin', '002867.bin', '005967.bin', '000120.bin', '005684.bin', '000236.bin', '001149.bin', '005754.bin', '005761.bin', '001596.bin', '000076.bin', '001387.bin', '001648.bin', '001559.bin', '004825.bin', '002487.bin', '001453.bin', '005498.bin', '002369.bin', '001839.bin', '006147.bin', '000537.bin', '004602.bin', '002332.bin', '000844.bin', '005911.bin', '000469.bin', '002172.bin', '001660.bin', '000284.bin', '001517.bin', '002803.bin', '006294.bin', '001284.bin', '003817.bin', '004607.bin', '002398.bin', '002042.bin', '004662.bin', '001530.bin', '006053.bin', '003839.bin', '002701.bin', '001715.bin', '000263.bin', '003267.bin', '001459.bin', '001047.bin', '005881.bin', '003085.bin', '002411.bin', '002756.bin', '000791.bin', '004414.bin', '000879.bin', '000820.bin', '000285.bin', '001571.bin', '002943.bin', '003790.bin', '002171.bin', '003182.bin', '003200.bin', '001694.bin', '006264.bin', '001184.bin', '005756.bin', '004095.bin', '002748.bin', '005705.bin', '003593.bin', '005900.bin', '004449.bin', '001067.bin', '001386.bin', '001652.bin', '005774.bin', '004576.bin', '002256.bin', '004597.bin', '004081.bin', '004726.bin', '005797.bin', '001407.bin', '001710.bin', '005709.bin', '000531.bin', '000150.bin', '003834.bin', '003838.bin', '006253.bin', '001567.bin', '001792.bin', '001207.bin', '002951.bin', '005327.bin', '005843.bin', '003737.bin', '002356.bin', '004475.bin', '005939.bin', '005922.bin', '001218.bin', '000197.bin', '002443.bin', '000826.bin', '001462.bin', '001397.bin', '000809.bin', '002236.bin', '003220.bin', '000083.bin', '002954.bin', '002821.bin', '003697.bin', '005837.bin', '002401.bin', '006030.bin', '000837.bin', '006146.bin', '001060.bin', '003802.bin', '002440.bin', '000371.bin', '004821.bin', '006013.bin', '005492.bin', '005257.bin', '005752.bin', '004138.bin', '000675.bin', '005777.bin', '000526.bin', '001951.bin', '001568.bin', '000549.bin', '001657.bin', '005628.bin', '004351.bin', '005877.bin', '005935.bin', '000145.bin', '001730.bin', '000141.bin', '004046.bin', '001280.bin', '006180.bin', '004947.bin', '000317.bin', '001716.bin', '002817.bin', '001241.bin', '001231.bin', '002559.bin', '005340.bin', '002813.bin', '002338.bin', '000812.bin', '004706.bin', '003793.bin', '003161.bin', '002077.bin', '005682.bin', '004239.bin', '004938.bin', '003179.bin', '001376.bin', '005642.bin', '000163.bin', '004369.bin', '006251.bin', '002373.bin', '001022.bin', '005975.bin', '004507.bin', '005497.bin', '000316.bin', '005169.bin', '001699.bin', '002733.bin', '005869.bin', '001790.bin', '002321.bin', '005475.bin', '002345.bin', '003236.bin', '002643.bin', '005784.bin', '001094.bin', '004808.bin', '002144.bin', '005523.bin', '000389.bin', '004926.bin', '005466.bin', '001961.bin', '003401.bin', '006289.bin', '002935.bin', '000664.bin', '001618.bin', '000095.bin', '001271.bin', '002267.bin', '001948.bin', '004705.bin', '001384.bin', '005345.bin', '002318.bin', '002974.bin', '001761.bin', '001353.bin', '005930.bin', '005731.bin', '002582.bin', '003438.bin', '002774.bin', '001501.bin', '004459.bin', '002591.bin', '005239.bin', '005474.bin', '002439.bin', '001483.bin', '001059.bin', '000188.bin', '005287.bin', '001388.bin', '005783.bin', '005652.bin', '002493.bin', '000454.bin', '006020.bin', '004653.bin', '002367.bin', '000210.bin', '006040.bin', '002146.bin', '004669.bin', '003230.bin', '002223.bin', '005770.bin', '005270.bin', '004107.bin', '002196.bin', '001957.bin', '000382.bin', '001966.bin', '004242.bin', '002075.bin', '004419.bin', '004021.bin', '002459.bin', '005248.bin', '005284.bin', '001747.bin', '002466.bin', '006355.bin', '004118.bin', '001099.bin', '005283.bin', '004609.bin', '003196.bin', '002018.bin', '004229.bin', '003255.bin', '001815.bin', '005908.bin', '001581.bin', '000059.bin', '001633.bin', '002871.bin', '001858.bin', '001944.bin', '001456.bin', '000278.bin', '001242.bin', '002725.bin', '005776.bin', '001653.bin', '001690.bin', '003454.bin', '005485.bin', '002408.bin', '001847.bin', '001691.bin', '000787.bin', '001707.bin', '000203.bin', '002721.bin', '006332.bin', '002251.bin', '002073.bin', '002156.bin', '003410.bin', '000553.bin', '005421.bin', '004240.bin', '002544.bin', '006333.bin', '005859.bin', '001531.bin', '001027.bin', '006060.bin', '001103.bin', '001461.bin', '000532.bin', '002329.bin', '006022.bin', '001828.bin', '002391.bin', '001400.bin', '001777.bin', '001416.bin', '000695.bin', '002610.bin', '002249.bin', '001808.bin', '006099.bin', '001665.bin', '002127.bin', '004462.bin', '001960.bin', '004309.bin', '000800.bin', '000050.bin', '002119.bin', '000335.bin', '005425.bin', '001897.bin', '005271.bin', '003605.bin', '006114.bin', '006364.bin', '003226.bin', '004231.bin', '000346.bin', '006329.bin', '004120.bin', '001887.bin', '004074.bin', '002955.bin', '005947.bin', '002562.bin', '003711.bin', '003399.bin', '005362.bin', '005793.bin', '004056.bin', '004717.bin', '005938.bin', '002506.bin', '006347.bin', '002453.bin', '006377.bin', '001899.bin', '005488.bin', '001870.bin', '000139.bin', '002847.bin', '002132.bin', '002125.bin', '000323.bin', '001688.bin', '001225.bin', '001198.bin', '004590.bin', '005506.bin', '000207.bin', '005863.bin', '001391.bin', '002463.bin', '002134.bin', '003066.bin', '001868.bin', '004930.bin', '002358.bin', '005695.bin', '001696.bin', '006352.bin', '001118.bin']\n"
     ]
    }
   ],
   "source": [
    "test_dir = Path(ARCS_DATA_DIR)\n",
    "files = [f for f in os.listdir(test_dir) if f.endswith('.bin')]\n",
    "random.shuffle(files)\n",
    "files = files[:1000]\n",
    "files = [file for file in files if file[:-4] not in problem_file_ids]\n",
    "# print(files)"
   ]
  },
  {
   "cell_type": "code",
   "execution_count": 237,
   "id": "bab7d039",
   "metadata": {},
   "outputs": [],
   "source": [
    "def evaluate_dataset(dataset_path):\n",
    "    label_dir = Path(ARCS_LABELS)\n",
    "    dataset_dir = Path(dataset_path)\n",
    "    \n",
    "    total_TPs, total_FPs, total_FNs = 0, 0, 0\n",
    "    num_ground_truths = 0\n",
    "    confidence_labels = []\n",
    "\n",
    "    start = time.time()\n",
    "    for bin_file in files:\n",
    "#     for bin_file in itertools.islice(dataset_dir.iterdir(), num_frames):\n",
    "#     for bin_file in dataset_dir.iterdir():\n",
    "        if str(bin_file).endswith('.bin'):\n",
    "            print('.', end='')\n",
    "\n",
    "            lidar_filename = os.path.basename(bin_file)\n",
    "            # Split the filename from the extension ('006428', '.txt')\n",
    "            file_id, extension = os.path.splitext(lidar_filename)\n",
    "            if file_id not in generated_problem_file_list and file_id not in problem_file_ids:\n",
    "                label_filename = file_id + '.txt'\n",
    "\n",
    "                # Make file paths\n",
    "                lidar_file_path = Path(dataset_dir, lidar_filename)\n",
    "                label_file_path = Path(label_dir, label_filename)\n",
    "                \n",
    "#                 print('evaluating: ' + str(lidar_file_path))\n",
    "                \n",
    "                TPs, FPs, FNs, num_frame_ground_truths, frame_confidence_labels = evaluate_frame(lidar_file_path, label_file_path)\n",
    "\n",
    "                total_TPs += TPs\n",
    "                total_FPs += FPs\n",
    "                total_FNs += FNs\n",
    "                num_ground_truths += num_frame_ground_truths\n",
    "                confidence_labels += frame_confidence_labels\n",
    "            else:\n",
    "                print('skipping ' + file_id)\n",
    "    end = time.time()\n",
    "        \n",
    "    return total_TPs, total_FPs, total_FNs, num_ground_truths, confidence_labels, (end - start) / len(files)"
   ]
  },
  {
   "cell_type": "code",
   "execution_count": 238,
   "id": "ea5180b6",
   "metadata": {},
   "outputs": [],
   "source": [
    "def test_pointpillars(dataset_path, dataset_name):\n",
    "    print('Evaluating dataset: ' + dataset_path)\n",
    "    # Get all TP, FP, and FN in the dataset\n",
    "    TPs, FPs, FNs, num_ground_truths, confidence_labels, time_per_frame = evaluate_dataset(dataset_path)\n",
    "    # Get metrics\n",
    "    precision = TPs / (TPs + FPs) if TPs + FPs > 0 else 0\n",
    "    recall = TPs / (TPs + FNs) if TPs + FNs > 0 else 0\n",
    "    f1_score = 2 * (precision * recall) / (precision + recall) if (precision + recall) > 0 else 0\n",
    "    \n",
    "    # Placeholder for average precision calculation\n",
    "    precisions, recalls = calculate_precision_recall(confidence_labels, num_ground_truths)\n",
    "    print(confidence_labels)\n",
    "    print(precisions)\n",
    "    print(recalls)\n",
    "    average_precision = calculate_ap(precisions, recalls)\n",
    "\n",
    "    # Organize results into a dictionary\n",
    "    results = {\n",
    "        'Dataset': dataset_name,\n",
    "        'Precision': precision,\n",
    "        'Recall': recall,\n",
    "        'F1 Score': f1_score,\n",
    "        'Average Precision': average_precision,\n",
    "        'time_per_frame': time_per_frame\n",
    "    }\n",
    "    print(results)\n",
    "\n",
    "    return results"
   ]
  },
  {
   "cell_type": "raw",
   "id": "1008ba05",
   "metadata": {},
   "source": [
    "ARCS_LABELS = '../data/eval_data/labels'\n",
    "ARCS_DATA_DIR = '../data/eval_data/arcs'\n",
    "ARCS_DISTANCE_FILTERED_DATA_DIR = '../data/eval_data/arcs_distance_filtered'\n",
    "ARCS_HEIGHT_FILTERED_DATA_DIR = '../data/eval_data/arcs_height_filtered'\n",
    "ARCS_LABEL_FILTERED_DATA_DIR = '../data/eval_data/arcs_label_filtered'"
   ]
  },
  {
   "cell_type": "code",
   "execution_count": 239,
   "id": "b427d58a",
   "metadata": {},
   "outputs": [],
   "source": [
    "%%capture\n",
    "# Run tests on ARCS filtered - this goes first if there's a problem file, it doesn't get evaluated for other sets\n",
    "height_filter_results = test_pointpillars(ARCS_HEIGHT_FILTERED_DATA_DIR, 'Height Filtered ARCS')"
   ]
  },
  {
   "cell_type": "code",
   "execution_count": 240,
   "id": "47f30b41",
   "metadata": {},
   "outputs": [],
   "source": [
    "%%capture\n",
    "# Run tests on ARCS\n",
    "results = test_pointpillars(ARCS_DATA_DIR, 'ARCS')"
   ]
  },
  {
   "cell_type": "code",
   "execution_count": 241,
   "id": "9881124e",
   "metadata": {},
   "outputs": [],
   "source": [
    "%%capture\n",
    "# Run tests on ARCS filtered\n",
    "distance_filter_results = test_pointpillars(ARCS_DISTANCE_FILTERED_DATA_DIR, 'Distance Filtered ARCS')"
   ]
  },
  {
   "cell_type": "code",
   "execution_count": 242,
   "id": "4159272f",
   "metadata": {},
   "outputs": [],
   "source": [
    "%%capture\n",
    "# Run tests on ARCS label filtered\n",
    "label_filter_results = test_pointpillars(ARCS_LABEL_FILTERED_DATA_DIR, 'Label Filtered ARCS')"
   ]
  },
  {
   "cell_type": "code",
   "execution_count": 243,
   "id": "b703498d",
   "metadata": {},
   "outputs": [
    {
     "name": "stdout",
     "output_type": "stream",
     "text": [
      "['000552', '004287', '004226', '004289', '001032', '000767', '003395', '005319', '000554', '004227', '004012', '000445', '000524', '001023', '005317', '004346', '000548', '000558', '001026', '004345', '000537', '000531', '000526', '000549', '001022', '004926', '000664', '003438', '004229', '000553', '001027', '000532', '003399', '003066', '004930']\n"
     ]
    }
   ],
   "source": [
    "print(generated_problem_file_list)"
   ]
  },
  {
   "cell_type": "markdown",
   "id": "f030e4b0",
   "metadata": {},
   "source": [
    "## Show results"
   ]
  },
  {
   "cell_type": "code",
   "execution_count": 244,
   "id": "cb79b3af",
   "metadata": {},
   "outputs": [],
   "source": [
    "# print(results)\n",
    "# print(filter_results)\n",
    "# print(label_filter_results)"
   ]
  },
  {
   "cell_type": "code",
   "execution_count": 245,
   "id": "a0dbad4b",
   "metadata": {},
   "outputs": [
    {
     "data": {
      "text/html": [
       "<div>\n",
       "<style scoped>\n",
       "    .dataframe tbody tr th:only-of-type {\n",
       "        vertical-align: middle;\n",
       "    }\n",
       "\n",
       "    .dataframe tbody tr th {\n",
       "        vertical-align: top;\n",
       "    }\n",
       "\n",
       "    .dataframe thead th {\n",
       "        text-align: right;\n",
       "    }\n",
       "</style>\n",
       "<table border=\"1\" class=\"dataframe\">\n",
       "  <thead>\n",
       "    <tr style=\"text-align: right;\">\n",
       "      <th></th>\n",
       "      <th>Dataset</th>\n",
       "      <th>Precision</th>\n",
       "      <th>Recall</th>\n",
       "      <th>F1 Score</th>\n",
       "      <th>Average Precision</th>\n",
       "      <th>time_per_frame</th>\n",
       "    </tr>\n",
       "  </thead>\n",
       "  <tbody>\n",
       "    <tr>\n",
       "      <th>0</th>\n",
       "      <td>ARCS</td>\n",
       "      <td>0.577271</td>\n",
       "      <td>0.750327</td>\n",
       "      <td>0.652520</td>\n",
       "      <td>0.648664</td>\n",
       "      <td>0.152224</td>\n",
       "    </tr>\n",
       "    <tr>\n",
       "      <th>1</th>\n",
       "      <td>Distance Filtered ARCS</td>\n",
       "      <td>0.416873</td>\n",
       "      <td>0.805229</td>\n",
       "      <td>0.549346</td>\n",
       "      <td>0.668284</td>\n",
       "      <td>0.130589</td>\n",
       "    </tr>\n",
       "    <tr>\n",
       "      <th>2</th>\n",
       "      <td>Height Filtered ARCS</td>\n",
       "      <td>0.593156</td>\n",
       "      <td>0.815686</td>\n",
       "      <td>0.686846</td>\n",
       "      <td>0.691712</td>\n",
       "      <td>0.113603</td>\n",
       "    </tr>\n",
       "    <tr>\n",
       "      <th>3</th>\n",
       "      <td>Label Filtered ARCS</td>\n",
       "      <td>0.817821</td>\n",
       "      <td>0.813872</td>\n",
       "      <td>0.815842</td>\n",
       "      <td>0.797822</td>\n",
       "      <td>0.107577</td>\n",
       "    </tr>\n",
       "  </tbody>\n",
       "</table>\n",
       "</div>"
      ],
      "text/plain": [
       "                  Dataset  Precision    Recall  F1 Score  Average Precision  \\\n",
       "0                    ARCS   0.577271  0.750327  0.652520           0.648664   \n",
       "1  Distance Filtered ARCS   0.416873  0.805229  0.549346           0.668284   \n",
       "2    Height Filtered ARCS   0.593156  0.815686  0.686846           0.691712   \n",
       "3     Label Filtered ARCS   0.817821  0.813872  0.815842           0.797822   \n",
       "\n",
       "   time_per_frame  \n",
       "0        0.152224  \n",
       "1        0.130589  \n",
       "2        0.113603  \n",
       "3        0.107577  "
      ]
     },
     "metadata": {},
     "output_type": "display_data"
    }
   ],
   "source": [
    "# Create DataFrame\n",
    "results_df = pd.DataFrame([results, distance_filter_results, height_filter_results, label_filter_results])\n",
    "# results_df = pd.DataFrame([results, azimuth_filter_results])\n",
    "display(results_df)"
   ]
  },
  {
   "cell_type": "code",
   "execution_count": 246,
   "id": "572182fc",
   "metadata": {},
   "outputs": [
    {
     "name": "stdout",
     "output_type": "stream",
     "text": [
      "               Dataset  Precision   Recall  F1 Score  Average Precision  time_per_frame\n",
      "                  ARCS   0.577271 0.750327  0.652520           0.648664        0.152224\n",
      "Distance Filtered ARCS   0.416873 0.805229  0.549346           0.668284        0.130589\n",
      "  Height Filtered ARCS   0.593156 0.815686  0.686846           0.691712        0.113603\n",
      "   Label Filtered ARCS   0.817821 0.813872  0.815842           0.797822        0.107577\n"
     ]
    }
   ],
   "source": [
    "print(results_df.to_string(index=False))"
   ]
  }
 ],
 "metadata": {
  "kernelspec": {
   "display_name": "Python 3 (ipykernel)",
   "language": "python",
   "name": "python3"
  },
  "language_info": {
   "codemirror_mode": {
    "name": "ipython",
    "version": 3
   },
   "file_extension": ".py",
   "mimetype": "text/x-python",
   "name": "python",
   "nbconvert_exporter": "python",
   "pygments_lexer": "ipython3",
   "version": "3.8.18"
  }
 },
 "nbformat": 4,
 "nbformat_minor": 5
}
