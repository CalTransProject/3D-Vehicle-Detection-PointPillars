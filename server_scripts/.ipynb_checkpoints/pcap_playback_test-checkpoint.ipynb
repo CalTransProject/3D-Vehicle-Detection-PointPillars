{
 "cells": [
  {
   "cell_type": "markdown",
   "id": "62833dfa",
   "metadata": {},
   "source": [
    "# .pcap Playback Test\n",
    "I need to test out playing back the .pcap file so I can practice receiving the data the way I would from the Velodyne sensor."
   ]
  },
  {
   "cell_type": "markdown",
   "id": "3f0e9c2a",
   "metadata": {},
   "source": [
    "### There's an issue with this scapy and Python 3.8\n",
    "I used a monkey patch because I can't update the Python library right now (getting it to work with CUDA and mmdetection3D was really difficult)."
   ]
  },
  {
   "cell_type": "code",
   "execution_count": 1,
   "id": "cbe45e67",
   "metadata": {},
   "outputs": [],
   "source": [
    "import ctypes.util\n",
    "\n",
    "# Save original find_library function\n",
    "_original_find_library = ctypes.util.find_library\n",
    "\n",
    "# Define a new find_library function\n",
    "def _patched_find_library(name):\n",
    "    if name == 'libc':\n",
    "        return _original_find_library('c')\n",
    "    return _original_find_library(name)\n",
    "\n",
    "# Monkey-patch ctypes.util.find_library\n",
    "ctypes.util.find_library = _patched_find_library\n",
    "\n",
    "# Now import Scapy modules\n",
    "from scapy.utils import rdpcap\n",
    "from scapy.sendrecv import send, sendp"
   ]
  },
  {
   "cell_type": "code",
   "execution_count": 2,
   "id": "c57e35ca",
   "metadata": {
    "scrolled": true
   },
   "outputs": [
    {
     "name": "stdout",
     "output_type": "stream",
     "text": [
      "libc.so.6\n",
      "libc.so.6\n"
     ]
    }
   ],
   "source": [
    "from ctypes.util import find_library\n",
    "print(find_library(\"c\"))\n",
    "print(find_library(\"libc\"))"
   ]
  },
  {
   "cell_type": "markdown",
   "id": "2df597d3",
   "metadata": {},
   "source": [
    "## Try replaying .pcap file"
   ]
  },
  {
   "cell_type": "code",
   "execution_count": 14,
   "id": "a4533d79",
   "metadata": {},
   "outputs": [],
   "source": [
    "from scapy.all import get_if_list, UDP, Raw\n",
    "import socket\n",
    "import time"
   ]
  },
  {
   "cell_type": "code",
   "execution_count": 4,
   "id": "166ab38d",
   "metadata": {},
   "outputs": [
    {
     "name": "stdout",
     "output_type": "stream",
     "text": [
      "['lo', 'eno1', 'eno2']\n"
     ]
    }
   ],
   "source": [
    "print(get_if_list())"
   ]
  },
  {
   "cell_type": "code",
   "execution_count": 5,
   "id": "85ad1369",
   "metadata": {},
   "outputs": [],
   "source": [
    "pcap_file_path = '../data/zelzah_plummer_intersection_12min_032023_lidar.pcap'"
   ]
  },
  {
   "cell_type": "code",
   "execution_count": 6,
   "id": "151002da",
   "metadata": {},
   "outputs": [],
   "source": [
    "def extract_udp_payloads_with_timing(pcap_file, packet_count=None):\n",
    "    payloads = []\n",
    "    timestamps = []\n",
    "\n",
    "    for i, packet in enumerate(packets):\n",
    "        if UDP in packet and Raw in packet:\n",
    "            payload = bytes(packet[Raw].load)\n",
    "            payloads.append(payload)\n",
    "            timestamps.append(packet.time)\n",
    "            if packet_count and i + 1 >= packet_count:\n",
    "                break\n",
    "    return payloads, timestamps"
   ]
  },
  {
   "cell_type": "code",
   "execution_count": 7,
   "id": "f1bd48d7",
   "metadata": {},
   "outputs": [],
   "source": [
    "def send_udp_payloads_with_timing(payloads, timestamps, dst_ip='127.0.0.1', dst_port=2368):\n",
    "    sock = socket.socket(socket.AF_INET, socket.SOCK_DGRAM)\n",
    "\n",
    "    start_time = timestamps[0]\n",
    "    for payload, pkt_time in zip(payloads, timestamps):\n",
    "        print('.', end='')\n",
    "        # Calculate sleep time to preserve timing\n",
    "        sleep_time = pkt_time - start_time\n",
    "        time.sleep(float(max(1, sleep_time)))\n",
    "        start_time = pkt_time\n",
    "\n",
    "        sock.sendto(payload, (dst_ip, dst_port))\n",
    "    sock.close()\n",
    "    print('Finished sending UDP payloads.')"
   ]
  },
  {
   "cell_type": "code",
   "execution_count": 8,
   "id": "a156ea2c",
   "metadata": {},
   "outputs": [],
   "source": [
    "def replay_pcap_over_udp_with_timing(pcap_file, dst_ip='127.0.0.1', dst_port=2368, packet_count=None):\n",
    "    payloads, timestamps = extract_udp_payloads_with_timing(pcap_file, packet_count)\n",
    "    send_udp_payloads_with_timing(payloads, timestamps, dst_ip, dst_port)"
   ]
  },
  {
   "cell_type": "code",
   "execution_count": 9,
   "id": "b401e0ed",
   "metadata": {},
   "outputs": [],
   "source": [
    "pcap_file_path = '../data/test.pcap'"
   ]
  },
  {
   "cell_type": "code",
   "execution_count": 10,
   "id": "3522c39b",
   "metadata": {},
   "outputs": [],
   "source": [
    "packets = rdpcap(pcap_file_path)"
   ]
  },
  {
   "cell_type": "code",
   "execution_count": 15,
   "id": "7173e730",
   "metadata": {},
   "outputs": [
    {
     "name": "stdout",
     "output_type": "stream",
     "text": [
      "..........Finished sending UDP payloads.\n"
     ]
    }
   ],
   "source": [
    "# Usage example\n",
    "replay_pcap_over_udp_with_timing(packets, packet_count=10)"
   ]
  }
 ],
 "metadata": {
  "kernelspec": {
   "display_name": "Python 3 (ipykernel)",
   "language": "python",
   "name": "python3"
  },
  "language_info": {
   "codemirror_mode": {
    "name": "ipython",
    "version": 3
   },
   "file_extension": ".py",
   "mimetype": "text/x-python",
   "name": "python",
   "nbconvert_exporter": "python",
   "pygments_lexer": "ipython3",
   "version": "3.8.18"
  }
 },
 "nbformat": 4,
 "nbformat_minor": 5
}
