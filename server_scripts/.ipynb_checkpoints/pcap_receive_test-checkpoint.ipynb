{
 "cells": [
  {
   "cell_type": "markdown",
   "id": "7f6f5753",
   "metadata": {},
   "source": [
    "# .pcap Receive Playback Test"
   ]
  },
  {
   "cell_type": "code",
   "execution_count": 1,
   "id": "f0b8b8bf",
   "metadata": {},
   "outputs": [],
   "source": [
    "import socket\n",
    "import select\n",
    "import time"
   ]
  },
  {
   "cell_type": "code",
   "execution_count": 2,
   "id": "52073cf0",
   "metadata": {},
   "outputs": [],
   "source": [
    "def receive_udp_payloads(port=2368, duration=30):\n",
    "    sock = socket.socket(socket.AF_INET, socket.SOCK_DGRAM)\n",
    "    sock.bind(('127.0.0.1', port))\n",
    "    sock.setblocking(0)  # Set socket to non-blocking mode\n",
    "    print(f\"Listening for UDP packets on port {port}\")\n",
    "\n",
    "    end_time = time.time() + duration  # Calculate end time\n",
    "    \n",
    "    while True:\n",
    "        remaining_time = end_time - time.time()\n",
    "        if remaining_time <= 0:\n",
    "            print(\"Time limit reached.\")\n",
    "            break\n",
    "\n",
    "        # Use select to wait for socket to be ready or timeout\n",
    "        ready = select.select([sock], [], [], remaining_time)\n",
    "        if ready[0]:\n",
    "            data, addr = sock.recvfrom(65535)\n",
    "            print(f\"Received {len(data)} bytes from {addr}\")\n",
    "        else:\n",
    "            print(\"Timeout waiting for data.\")\n",
    "            break\n",
    "\n",
    "    sock.close()"
   ]
  },
  {
   "cell_type": "code",
   "execution_count": 4,
   "id": "8c6d09d0",
   "metadata": {},
   "outputs": [
    {
     "name": "stdout",
     "output_type": "stream",
     "text": [
      "Listening for UDP packets on port 2368\n",
      "Received 1206 bytes from ('127.0.0.1', 46712)\n",
      "Received 1206 bytes from ('127.0.0.1', 46712)\n",
      "Received 1206 bytes from ('127.0.0.1', 46712)\n",
      "Received 1206 bytes from ('127.0.0.1', 46712)\n",
      "Received 1206 bytes from ('127.0.0.1', 46712)\n",
      "Received 1206 bytes from ('127.0.0.1', 46712)\n",
      "Received 1206 bytes from ('127.0.0.1', 46712)\n",
      "Received 1206 bytes from ('127.0.0.1', 46712)\n",
      "Received 1206 bytes from ('127.0.0.1', 46712)\n",
      "Received 1206 bytes from ('127.0.0.1', 46712)\n",
      "Timeout waiting for data.\n"
     ]
    }
   ],
   "source": [
    "# Example usage\n",
    "receive_udp_payloads(duration=60)  # Listen for 60 seconds"
   ]
  },
  {
   "cell_type": "code",
   "execution_count": null,
   "id": "2e99fe7d",
   "metadata": {},
   "outputs": [],
   "source": []
  },
  {
   "cell_type": "code",
   "execution_count": null,
   "id": "3ad9c9b6",
   "metadata": {},
   "outputs": [],
   "source": []
  },
  {
   "cell_type": "code",
   "execution_count": null,
   "id": "8cc92c31",
   "metadata": {},
   "outputs": [],
   "source": []
  },
  {
   "cell_type": "code",
   "execution_count": null,
   "id": "f65b8fab",
   "metadata": {},
   "outputs": [],
   "source": []
  },
  {
   "cell_type": "code",
   "execution_count": null,
   "id": "16cee2bc",
   "metadata": {},
   "outputs": [],
   "source": []
  },
  {
   "cell_type": "code",
   "execution_count": null,
   "id": "be8738e8",
   "metadata": {},
   "outputs": [],
   "source": []
  },
  {
   "cell_type": "code",
   "execution_count": null,
   "id": "60eeeeca",
   "metadata": {},
   "outputs": [],
   "source": []
  }
 ],
 "metadata": {
  "kernelspec": {
   "display_name": "Python 3 (ipykernel)",
   "language": "python",
   "name": "python3"
  },
  "language_info": {
   "codemirror_mode": {
    "name": "ipython",
    "version": 3
   },
   "file_extension": ".py",
   "mimetype": "text/x-python",
   "name": "python",
   "nbconvert_exporter": "python",
   "pygments_lexer": "ipython3",
   "version": "3.8.18"
  }
 },
 "nbformat": 4,
 "nbformat_minor": 5
}
