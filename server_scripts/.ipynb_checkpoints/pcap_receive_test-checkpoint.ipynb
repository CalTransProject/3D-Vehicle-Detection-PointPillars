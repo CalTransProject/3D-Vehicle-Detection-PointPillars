{
 "cells": [
  {
   "cell_type": "markdown",
   "id": "728bcd9d",
   "metadata": {},
   "source": [
    "# .pcap Receive Playback Test"
   ]
  },
  {
   "cell_type": "code",
   "execution_count": null,
   "id": "b3bdf09a",
   "metadata": {},
   "outputs": [],
   "source": [
    "import socket"
   ]
  },
  {
   "cell_type": "code",
   "execution_count": null,
   "id": "73388322",
   "metadata": {},
   "outputs": [],
   "source": [
    "def receive_udp_payloads(port=2368):\n",
    "    sock = socket.socket(socket.AF_INET, socket.SOCK_DGRAM)\n",
    "    sock.bind(('127.0.0.1', port))\n",
    "    print(f\"Listening for UDP packets on port {port}\")\n",
    "\n",
    "    while True:\n",
    "        data, addr = sock.recvfrom(65535)\n",
    "        print(f\"Received {len(data)} bytes from {addr}\")\n",
    "        # Process the data as needed\n",
    "        # For example, parse Velodyne packet data here"
   ]
  },
  {
   "cell_type": "code",
   "execution_count": null,
   "id": "5dc07541",
   "metadata": {},
   "outputs": [],
   "source": [
    "receive_udp_payloads()"
   ]
  },
  {
   "cell_type": "code",
   "execution_count": null,
   "id": "55938a20",
   "metadata": {},
   "outputs": [],
   "source": []
  },
  {
   "cell_type": "code",
   "execution_count": null,
   "id": "7a10c77e",
   "metadata": {},
   "outputs": [],
   "source": []
  },
  {
   "cell_type": "code",
   "execution_count": null,
   "id": "c1cb074c",
   "metadata": {},
   "outputs": [],
   "source": []
  },
  {
   "cell_type": "code",
   "execution_count": null,
   "id": "a8e16c41",
   "metadata": {},
   "outputs": [],
   "source": []
  },
  {
   "cell_type": "code",
   "execution_count": null,
   "id": "6fd18e6c",
   "metadata": {},
   "outputs": [],
   "source": []
  },
  {
   "cell_type": "code",
   "execution_count": null,
   "id": "cdb1fdb1",
   "metadata": {},
   "outputs": [],
   "source": []
  },
  {
   "cell_type": "code",
   "execution_count": null,
   "id": "8c5ff23b",
   "metadata": {},
   "outputs": [],
   "source": []
  }
 ],
 "metadata": {
  "kernelspec": {
   "display_name": "Python 3 (ipykernel)",
   "language": "python",
   "name": "python3"
  },
  "language_info": {
   "codemirror_mode": {
    "name": "ipython",
    "version": 3
   },
   "file_extension": ".py",
   "mimetype": "text/x-python",
   "name": "python",
   "nbconvert_exporter": "python",
   "pygments_lexer": "ipython3",
   "version": "3.8.18"
  }
 },
 "nbformat": 4,
 "nbformat_minor": 5
}
