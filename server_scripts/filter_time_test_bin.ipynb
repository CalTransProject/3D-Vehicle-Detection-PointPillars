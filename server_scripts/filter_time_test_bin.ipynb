{
 "cells": [
  {
   "cell_type": "markdown",
   "id": "841e6b10",
   "metadata": {},
   "source": [
    "# Test the filter time for binary files in azimuth, height, distance format"
   ]
  },
  {
   "cell_type": "code",
   "execution_count": 147,
   "id": "0a9bc96d",
   "metadata": {},
   "outputs": [],
   "source": [
    "import os\n",
    "import random\n",
    "import sys\n",
    "import time\n",
    "import numpy as np\n",
    "import pandas as pd\n",
    "from pathlib import Path\n",
    "from contextlib import redirect_stdout\n",
    "from mmdet3d.apis import LidarDet3DInferencer"
   ]
  },
  {
   "cell_type": "code",
   "execution_count": 148,
   "id": "c1c288f3",
   "metadata": {},
   "outputs": [
    {
     "name": "stdout",
     "output_type": "stream",
     "text": [
      "Loads checkpoint by http backend from path: https://download.openmmlab.com/mmdetection3d/v1.0.0_models/pointpillars/hv_pointpillars_secfpn_6x8_160e_kitti-3d-3class/hv_pointpillars_secfpn_6x8_160e_kitti-3d-3class_20220301_150306-37dc2420.pth\n"
     ]
    },
    {
     "name": "stderr",
     "output_type": "stream",
     "text": [
      "/home/rachel/mmdetection3d/mmdet3d/models/dense_heads/anchor3d_head.py:94: UserWarning: dir_offset and dir_limit_offset will be depressed and be incorporated into box coder in the future\n",
      "  warnings.warn(\n",
      "/home/rachel/miniconda3/envs/openmm_mmvc/lib/python3.8/site-packages/mmengine/visualization/visualizer.py:196: UserWarning: Failed to add <class 'mmengine.visualization.vis_backend.LocalVisBackend'>, please provide the `save_dir` argument.\n",
      "  warnings.warn(f'Failed to add {vis_backend.__class__}, '\n"
     ]
    }
   ],
   "source": [
    "# Initialize inferencer\n",
    "inferencer = LidarDet3DInferencer('pointpillars_kitti-3class')"
   ]
  },
  {
   "cell_type": "code",
   "execution_count": 149,
   "id": "5dab88b8",
   "metadata": {},
   "outputs": [],
   "source": [
    "azimuth_resolution = 0.05\n",
    "height_resolution = 0.25"
   ]
  },
  {
   "cell_type": "code",
   "execution_count": null,
   "id": "260f935b",
   "metadata": {},
   "outputs": [],
   "source": []
  },
  {
   "cell_type": "code",
   "execution_count": null,
   "id": "118a1df5",
   "metadata": {},
   "outputs": [],
   "source": []
  },
  {
   "cell_type": "code",
   "execution_count": null,
   "id": "9dbdeb07",
   "metadata": {},
   "outputs": [],
   "source": []
  },
  {
   "cell_type": "code",
   "execution_count": null,
   "id": "046f559a",
   "metadata": {},
   "outputs": [],
   "source": []
  },
  {
   "cell_type": "code",
   "execution_count": null,
   "id": "d0b850d3",
   "metadata": {},
   "outputs": [],
   "source": []
  },
  {
   "cell_type": "code",
   "execution_count": 150,
   "id": "9afa03d5",
   "metadata": {},
   "outputs": [],
   "source": [
    "def convert_to_dataframe(bin_path):\n",
    "    pre_filtered_data = np.fromfile(bin_path, dtype=np.float32).reshape(-1, 4) \n",
    "    columns = ['azimuth', 'height', 'distance', 'intensity']\n",
    "    df = pd.DataFrame(pre_filtered_data, columns=columns)\n",
    "    return df"
   ]
  },
  {
   "cell_type": "code",
   "execution_count": 151,
   "id": "ea54f172",
   "metadata": {},
   "outputs": [],
   "source": [
    "# Returns list of dataframes of LiDAR points\n",
    "def get_frames(source_dir, num_frames):\n",
    "    frame_list = []\n",
    "    \n",
    "    # Get frame names\n",
    "    files = [f for f in os.listdir(source_dir) if f.endswith('.bin')]\n",
    "    # Shuffle and take desired number of files\n",
    "    random.shuffle(files)\n",
    "    files = files[:num_frames]\n",
    "    \n",
    "    # For each frame\n",
    "    for file in files:\n",
    "        print('.', end='')\n",
    "        file_path = Path(source_dir, file)\n",
    "        # Load each frame\n",
    "        frame_list.append(convert_to_dataframe(file_path))\n",
    "        \n",
    "    return frame_list"
   ]
  },
  {
   "cell_type": "code",
   "execution_count": 152,
   "id": "ee8bb843",
   "metadata": {},
   "outputs": [],
   "source": [
    "# Unpickle background map dataframe and fill the empty values\n",
    "def get_filter(background_map_path):\n",
    "    background_distance_lookup_table = pd.read_pickle(background_map_path)\n",
    "    filled_lookup_table = background_distance_lookup_table.ffill(axis=0).bfill(axis=0)\n",
    "    filled_lookup_table = filled_lookup_table.ffill(axis=1).bfill(axis=1)\n",
    "    return filled_lookup_table"
   ]
  },
  {
   "cell_type": "code",
   "execution_count": 153,
   "id": "2b7ad565",
   "metadata": {},
   "outputs": [],
   "source": [
    "def add_lookup_coords_to_ahd(points_df):\n",
    "    # print(points_df)\n",
    "    # Calculate the distance, azimuth, and height using vectorized operations\n",
    "    azimuth, height, distance, intensity = points_df['azimuth'], points_df['height'], points_df['distance'], points_df['intensity']\n",
    "    \n",
    "    # Convert and scale\n",
    "    azimuth_idx = (np.floor((azimuth + 180) / azimuth_resolution) * azimuth_resolution * 100 - 18000).astype(int)\n",
    "    height_idx = (np.floor((height + 30) / height_resolution) * height_resolution * 100 - 3000).astype(int)\n",
    "\n",
    "    points_df['azimuth_idx'] = azimuth_idx\n",
    "    points_df['height_idx'] = height_idx\n",
    "    \n",
    "    return points_df"
   ]
  },
  {
   "cell_type": "code",
   "execution_count": 154,
   "id": "61728943",
   "metadata": {},
   "outputs": [],
   "source": [
    "def filter_frame(pre_filtered_points, lookup_table):\n",
    "    # Add lookup table coordinates\n",
    "    pre_filtered_grid_lookup = add_lookup_coords_to_ahd(pre_filtered_points)\n",
    "    \n",
    "    # Set index to ['height_idx', 'azimuth_idx']\n",
    "    pre_filtered_grid_lookup_indexed = pre_filtered_grid_lookup.set_index(['height_idx', 'azimuth_idx'])\n",
    "    \n",
    "    # Create a Series from the lookup table with a MultiIndex\n",
    "    lookup_series = lookup_table.stack()\n",
    "    \n",
    "    # Reindex the lookup values to align with the DataFrame's index\n",
    "    lookup_values = lookup_series.reindex(pre_filtered_grid_lookup_indexed.index)\n",
    "    \n",
    "    # Create a mask for indices that exist in the lookup_table\n",
    "    indices_in_lookup = lookup_values.index.isin(lookup_series.index)\n",
    "    \n",
    "    # Create the condition based on filtering criteria\n",
    "    condition = (\n",
    "        indices_in_lookup & (\n",
    "            lookup_values.isna() | \n",
    "            (pre_filtered_grid_lookup_indexed['distance'] < lookup_values)\n",
    "        )\n",
    "    )\n",
    "    \n",
    "    # Apply the condition to filter the DataFrame\n",
    "    filtered_df = pre_filtered_grid_lookup_indexed[condition].reset_index()\n",
    "    \n",
    "    return filtered_df"
   ]
  },
  {
   "cell_type": "code",
   "execution_count": 155,
   "id": "8bf903ea",
   "metadata": {},
   "outputs": [],
   "source": [
    "def convert_to_xyz(points_df):\n",
    "    azimuth, height, distance, intensity = points_df['azimuth'], points_df['height'], points_df['distance'], points_df['intensity']\n",
    "    \n",
    "    azimuth_rad = np.deg2rad(azimuth)\n",
    "    height_rad = np.deg2rad(height)\n",
    "    x = distance * np.cos(height_rad) * np.sin(azimuth_rad)\n",
    "    y = distance * np.cos(height_rad) * np.cos(azimuth_rad)\n",
    "    z = distance * np.sin(height_rad)\n",
    "    \n",
    "    # Stack the computed values into a numpy array\n",
    "    xyz_intensity_array = np.column_stack((x, y, z, intensity))\n",
    "    \n",
    "    return xyz_intensity_array"
   ]
  },
  {
   "cell_type": "code",
   "execution_count": 156,
   "id": "dcb02806",
   "metadata": {},
   "outputs": [],
   "source": [
    "def time_filter(lidar_frames_list, filter_df, filter_points=True):\n",
    "    # Start timer\n",
    "    start = time.time()\n",
    "    # For each frame\n",
    "    for frame_df in lidar_frames_list:\n",
    "        # Filter frame\n",
    "        if filter_points:\n",
    "            frame_df = filter_frame(frame_df, filter_df)\n",
    "        # Convert to x, y, z\n",
    "        xyz_frame = convert_to_xyz(frame_df)\n",
    "        \n",
    "        # Run Inferences\n",
    "        inferencer(dict(points=xyz_frame))\n",
    "    # Stop timer\n",
    "    end = time.time()\n",
    "    return end - start"
   ]
  },
  {
   "cell_type": "code",
   "execution_count": 157,
   "id": "1e65f9f5",
   "metadata": {},
   "outputs": [],
   "source": [
    "def run_test(data_dir, background_map_path, num_frames):\n",
    "    # Get dataframes\n",
    "    lidar_frames_list = get_frames(data_dir, num_frames)\n",
    "    filter_df = get_filter(background_map_path)\n",
    "    \n",
    "    total_time_filter = time_filter(lidar_frames_list, filter_df)\n",
    "    \n",
    "    total_time_no_filter = time_filter(lidar_frames_list, pd.DataFrame(), filter_points=False)\n",
    "    \n",
    "    results_filter = {\n",
    "        'type': 'filtered',\n",
    "        'num_frames': num_frames,\n",
    "        'total_time': total_time_filter,\n",
    "        'time_per_frame': total_time_filter / num_frames\n",
    "    }\n",
    "    \n",
    "    results_no_filter = {\n",
    "        'type': 'not filtered',\n",
    "        'num_frames': num_frames,\n",
    "        'total_time': total_time_no_filter,\n",
    "        'time_per_frame': total_time_no_filter / num_frames\n",
    "    }\n",
    "    return [results_filter, results_no_filter]"
   ]
  },
  {
   "cell_type": "code",
   "execution_count": 158,
   "id": "37c0cc05",
   "metadata": {},
   "outputs": [],
   "source": [
    "data_dir = '../data/az_height_dist_points'\n",
    "background_map_path = '../data/lookup_table.pkl'"
   ]
  },
  {
   "cell_type": "code",
   "execution_count": 159,
   "id": "3653ce60",
   "metadata": {},
   "outputs": [],
   "source": [
    "%%capture\n",
    "# Run time test and get results\n",
    "time_results = run_test(data_dir, background_map_path, 500)"
   ]
  },
  {
   "cell_type": "code",
   "execution_count": 160,
   "id": "c9e63dfb",
   "metadata": {},
   "outputs": [
    {
     "data": {
      "text/html": [
       "<div>\n",
       "<style scoped>\n",
       "    .dataframe tbody tr th:only-of-type {\n",
       "        vertical-align: middle;\n",
       "    }\n",
       "\n",
       "    .dataframe tbody tr th {\n",
       "        vertical-align: top;\n",
       "    }\n",
       "\n",
       "    .dataframe thead th {\n",
       "        text-align: right;\n",
       "    }\n",
       "</style>\n",
       "<table border=\"1\" class=\"dataframe\">\n",
       "  <thead>\n",
       "    <tr style=\"text-align: right;\">\n",
       "      <th></th>\n",
       "      <th>type</th>\n",
       "      <th>num_frames</th>\n",
       "      <th>total_time</th>\n",
       "      <th>time_per_frame</th>\n",
       "    </tr>\n",
       "  </thead>\n",
       "  <tbody>\n",
       "    <tr>\n",
       "      <th>0</th>\n",
       "      <td>filtered</td>\n",
       "      <td>500</td>\n",
       "      <td>98.566750</td>\n",
       "      <td>0.197134</td>\n",
       "    </tr>\n",
       "    <tr>\n",
       "      <th>1</th>\n",
       "      <td>not filtered</td>\n",
       "      <td>500</td>\n",
       "      <td>43.183662</td>\n",
       "      <td>0.086367</td>\n",
       "    </tr>\n",
       "  </tbody>\n",
       "</table>\n",
       "</div>"
      ],
      "text/plain": [
       "           type  num_frames  total_time  time_per_frame\n",
       "0      filtered         500   98.566750        0.197134\n",
       "1  not filtered         500   43.183662        0.086367"
      ]
     },
     "metadata": {},
     "output_type": "display_data"
    }
   ],
   "source": [
    "results_df = pd.DataFrame(time_results)\n",
    "display(results_df)"
   ]
  }
 ],
 "metadata": {
  "kernelspec": {
   "display_name": "Python 3 (ipykernel)",
   "language": "python",
   "name": "python3"
  },
  "language_info": {
   "codemirror_mode": {
    "name": "ipython",
    "version": 3
   },
   "file_extension": ".py",
   "mimetype": "text/x-python",
   "name": "python",
   "nbconvert_exporter": "python",
   "pygments_lexer": "ipython3",
   "version": "3.8.18"
  }
 },
 "nbformat": 4,
 "nbformat_minor": 5
}
