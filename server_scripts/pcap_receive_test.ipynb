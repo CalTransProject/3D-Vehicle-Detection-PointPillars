{
 "cells": [
  {
   "cell_type": "markdown",
   "id": "98cc1252",
   "metadata": {},
   "source": [
    "# .pcap Receive Playback Test"
   ]
  },
  {
   "cell_type": "code",
   "execution_count": 1,
   "id": "5a875f4b",
   "metadata": {},
   "outputs": [],
   "source": [
    "import socket\n",
    "import select\n",
    "import time"
   ]
  },
  {
   "cell_type": "code",
   "execution_count": 2,
   "id": "2d56a93f",
   "metadata": {},
   "outputs": [],
   "source": [
    "def receive_udp_payloads(port=2368, duration=30):\n",
    "    sock = socket.socket(socket.AF_INET, socket.SOCK_DGRAM)\n",
    "    sock.bind(('127.0.0.1', port))\n",
    "    sock.setblocking(0)  # Set socket to non-blocking mode\n",
    "    print(f\"Listening for UDP packets on port {port}\")\n",
    "\n",
    "    end_time = time.time() + duration  # Calculate end time\n",
    "    \n",
    "    while True:\n",
    "        remaining_time = end_time - time.time()\n",
    "        if remaining_time <= 0:\n",
    "            print(\"Time limit reached.\")\n",
    "            break\n",
    "\n",
    "        # Use select to wait for socket to be ready or timeout\n",
    "        ready = select.select([sock], [], [], remaining_time)\n",
    "        if ready[0]:\n",
    "            data, addr = sock.recvfrom(65535)\n",
    "            print(f\"Received {len(data)} bytes from {addr}\")\n",
    "        else:\n",
    "            print(\"Timeout waiting for data.\")\n",
    "            break\n",
    "\n",
    "    sock.close()"
   ]
  },
  {
   "cell_type": "code",
   "execution_count": null,
   "id": "5321c11d",
   "metadata": {},
   "outputs": [
    {
     "name": "stdout",
     "output_type": "stream",
     "text": [
      "Listening for UDP packets on port 2368\n",
      "Received 1206 bytes from ('127.0.0.1', 46712)\n",
      "Received 1206 bytes from ('127.0.0.1', 46712)\n",
      "Received 1206 bytes from ('127.0.0.1', 46712)\n",
      "Received 1206 bytes from ('127.0.0.1', 46712)\n",
      "Received 1206 bytes from ('127.0.0.1', 46712)\n",
      "Received 1206 bytes from ('127.0.0.1', 46712)\n",
      "Received 1206 bytes from ('127.0.0.1', 46712)\n",
      "Received 1206 bytes from ('127.0.0.1', 46712)\n",
      "Received 1206 bytes from ('127.0.0.1', 46712)\n",
      "Received 1206 bytes from ('127.0.0.1', 46712)\n"
     ]
    }
   ],
   "source": [
    "# Example usage\n",
    "receive_udp_payloads(duration=60)  # Listen for 60 seconds"
   ]
  },
  {
   "cell_type": "code",
   "execution_count": null,
   "id": "2bf1a32e",
   "metadata": {},
   "outputs": [],
   "source": []
  },
  {
   "cell_type": "code",
   "execution_count": null,
   "id": "dcbe96f9",
   "metadata": {},
   "outputs": [],
   "source": []
  },
  {
   "cell_type": "code",
   "execution_count": null,
   "id": "217d6ff5",
   "metadata": {},
   "outputs": [],
   "source": []
  },
  {
   "cell_type": "code",
   "execution_count": null,
   "id": "065d07a3",
   "metadata": {},
   "outputs": [],
   "source": []
  },
  {
   "cell_type": "code",
   "execution_count": null,
   "id": "da1aef7c",
   "metadata": {},
   "outputs": [],
   "source": []
  },
  {
   "cell_type": "code",
   "execution_count": null,
   "id": "84f00f36",
   "metadata": {},
   "outputs": [],
   "source": []
  },
  {
   "cell_type": "code",
   "execution_count": null,
   "id": "bbdf0738",
   "metadata": {},
   "outputs": [],
   "source": []
  }
 ],
 "metadata": {
  "kernelspec": {
   "display_name": "Python 3 (ipykernel)",
   "language": "python",
   "name": "python3"
  },
  "language_info": {
   "codemirror_mode": {
    "name": "ipython",
    "version": 3
   },
   "file_extension": ".py",
   "mimetype": "text/x-python",
   "name": "python",
   "nbconvert_exporter": "python",
   "pygments_lexer": "ipython3",
   "version": "3.8.18"
  }
 },
 "nbformat": 4,
 "nbformat_minor": 5
}
